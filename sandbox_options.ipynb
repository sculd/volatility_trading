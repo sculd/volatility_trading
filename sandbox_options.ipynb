{
 "cells": [
  {
   "cell_type": "markdown",
   "id": "4f5f6f05-6e44-4e2c-9085-f54bc6627c7b",
   "metadata": {
    "tags": []
   },
   "source": [
    "## imports"
   ]
  },
  {
   "cell_type": "code",
   "execution_count": 163,
   "id": "5d69bd9e-5d73-4d07-af54-ac04cad5649e",
   "metadata": {
    "execution": {
     "iopub.execute_input": "2024-07-10T22:54:24.177285Z",
     "iopub.status.busy": "2024-07-10T22:54:24.177005Z",
     "iopub.status.idle": "2024-07-10T22:54:24.183153Z",
     "shell.execute_reply": "2024-07-10T22:54:24.182690Z",
     "shell.execute_reply.started": "2024-07-10T22:54:24.177258Z"
    }
   },
   "outputs": [],
   "source": [
    "import requests\n",
    "import pandas as pd\n",
    "import numpy as np\n",
    "import mysql.connector\n",
    "import os\n",
    "import importlib\n",
    "\n",
    "import data.daily\n",
    "import sqlalchemy\n",
    "import matplotlib.pyplot as plt\n",
    "\n",
    "from datetime import datetime, timedelta\n",
    "from pandas_market_calendars import get_calendar"
   ]
  },
  {
   "cell_type": "code",
   "execution_count": 2,
   "id": "398603e7-ad0b-4219-8442-0f3c4e1f3ab4",
   "metadata": {
    "execution": {
     "iopub.execute_input": "2024-07-10T18:12:22.688814Z",
     "iopub.status.busy": "2024-07-10T18:12:22.688645Z",
     "iopub.status.idle": "2024-07-10T18:12:22.691806Z",
     "shell.execute_reply": "2024-07-10T18:12:22.691056Z",
     "shell.execute_reply.started": "2024-07-10T18:12:22.688803Z"
    }
   },
   "outputs": [],
   "source": [
    "import urllib.parse as urlparse\n",
    "from urllib.parse import urlencode"
   ]
  },
  {
   "cell_type": "code",
   "execution_count": 3,
   "id": "f2f09bae-5622-4903-8823-1a79744b42cc",
   "metadata": {
    "execution": {
     "iopub.execute_input": "2024-07-10T18:12:22.693132Z",
     "iopub.status.busy": "2024-07-10T18:12:22.692607Z",
     "iopub.status.idle": "2024-07-10T18:12:22.716824Z",
     "shell.execute_reply": "2024-07-10T18:12:22.715894Z",
     "shell.execute_reply.started": "2024-07-10T18:12:22.693100Z"
    }
   },
   "outputs": [],
   "source": [
    "polygon_api_key = os.getenv(\"QUANT_GALORE_POLYGON_API_KEY\")\n",
    "_POLYGON_V2_BASE_URL = \"https://api.polygon.io/v2\"\n",
    "_POLYGON_V3_BASE_URL = \"https://api.polygon.io/v3\""
   ]
  },
  {
   "cell_type": "code",
   "execution_count": 4,
   "id": "cdce5599-e5c5-465d-a6f2-1a4ff135b77e",
   "metadata": {
    "execution": {
     "iopub.execute_input": "2024-07-10T18:12:22.719380Z",
     "iopub.status.busy": "2024-07-10T18:12:22.718928Z",
     "iopub.status.idle": "2024-07-10T18:12:22.899867Z",
     "shell.execute_reply": "2024-07-10T18:12:22.899352Z",
     "shell.execute_reply.started": "2024-07-10T18:12:22.719352Z"
    }
   },
   "outputs": [],
   "source": [
    "calendar = get_calendar(\"NYSE\")\n",
    "trading_dates = calendar.schedule(\n",
    "    start_date = \"2023-05-01\", \n",
    "    end_date = \"2024-07-02\"\n",
    "    #end_date = (datetime.today()-timedelta(days = 1))\n",
    ").index.strftime(\"%Y-%m-%d\").values"
   ]
  },
  {
   "cell_type": "code",
   "execution_count": null,
   "id": "ca4d5840-726a-49b6-ac10-ca6ea49b3078",
   "metadata": {},
   "outputs": [],
   "source": []
  },
  {
   "cell_type": "code",
   "execution_count": 6,
   "id": "f9b88c11-767f-48d5-92a4-d354cc41093a",
   "metadata": {
    "execution": {
     "iopub.execute_input": "2024-07-10T18:12:24.661371Z",
     "iopub.status.busy": "2024-07-10T18:12:24.660894Z",
     "iopub.status.idle": "2024-07-10T18:12:24.668101Z",
     "shell.execute_reply": "2024-07-10T18:12:24.666890Z",
     "shell.execute_reply.started": "2024-07-10T18:12:24.661334Z"
    }
   },
   "outputs": [],
   "source": [
    "ticker_spy = \"SPY\"\n",
    "ticker_spx = \"I:SPX\"\n",
    "ticker_goog = \"GOOG\"\n",
    "ticker_sbux = \"SBUX\"\n",
    "ticker_vix1d = \"I:VIX1D\"\n",
    "options_ticker = \"SPX\"\n",
    "\n",
    "i = 2\n",
    "date = trading_dates[i]\n",
    "prior_day = trading_dates[i-1]\n",
    "\n",
    "trade_list = []\n",
    "times = []"
   ]
  },
  {
   "cell_type": "code",
   "execution_count": null,
   "id": "2ae10fbc-864c-4eb5-b8bd-c8135d2a091e",
   "metadata": {},
   "outputs": [],
   "source": []
  },
  {
   "cell_type": "code",
   "execution_count": 156,
   "id": "f1160961-bafb-4429-9c27-14b1ddac4b06",
   "metadata": {
    "execution": {
     "iopub.execute_input": "2024-07-10T22:05:34.295145Z",
     "iopub.status.busy": "2024-07-10T22:05:34.293576Z",
     "iopub.status.idle": "2024-07-10T22:05:34.477462Z",
     "shell.execute_reply": "2024-07-10T22:05:34.476958Z",
     "shell.execute_reply.started": "2024-07-10T22:05:34.295045Z"
    }
   },
   "outputs": [],
   "source": [
    "df_spy_daily_history = pd.read_pickle('market_data/df_spy_daily_history.pkl')\n",
    "df_spx_daily_history = pd.read_pickle('market_data/df_spx_daily_history.pkl')\n",
    "df_goog_daily_history = pd.read_pickle('market_data/df_goog_daily_history.pkl')\n",
    "df_sbux_daily_history = pd.read_pickle('market_data/df_sbux_daily_history.pkl')\n",
    "\n",
    "df_spy_intraday_history = pd.read_pickle('market_data/df_spy_intraday_history.pkl')\n",
    "df_vix1d_intraday_history = pd.read_pickle('market_data/df_vix1d_intraday_history.pkl')\n",
    "df_spx_intraday_history = pd.read_pickle('market_data/df_spx_intraday_history.pkl')\n",
    "df_goog_intraday_history = pd.read_pickle('market_data/df_goog_intraday_history.pkl')\n",
    "df_sbux_intraday_history = pd.read_pickle('market_data/df_sbux_intraday_history.pkl')\n",
    "\n",
    "df_spx_call_options_history = pd.read_pickle('market_data/df_spx_call_options_history.pkl')\n",
    "df_spx_put_options_history = pd.read_pickle('market_data/df_spx_put_options_history.pkl')"
   ]
  },
  {
   "cell_type": "code",
   "execution_count": null,
   "id": "81b7590e-70b0-4229-9185-08dd1ece29d2",
   "metadata": {},
   "outputs": [],
   "source": []
  },
  {
   "cell_type": "markdown",
   "id": "ccaa1616-6948-4f05-bb13-e4661cc8c1a6",
   "metadata": {
    "tags": []
   },
   "source": [
    "## cache history intraday data"
   ]
  },
  {
   "cell_type": "code",
   "execution_count": 16,
   "id": "916c48d1-00a6-4b8f-a20b-6f2872964b00",
   "metadata": {
    "execution": {
     "iopub.execute_input": "2024-07-10T18:14:54.172584Z",
     "iopub.status.busy": "2024-07-10T18:14:54.172194Z",
     "iopub.status.idle": "2024-07-10T18:14:54.176264Z",
     "shell.execute_reply": "2024-07-10T18:14:54.175721Z",
     "shell.execute_reply.started": "2024-07-10T18:14:54.172558Z"
    }
   },
   "outputs": [],
   "source": [
    "def get_df_intrady_history(ticker):\n",
    "    dfs = []\n",
    "    for date in trading_dates[1:]:\n",
    "        df_intraday = polygon_result_to_dataframe(get_polygon_result_dict(\n",
    "            get_polygon_intraday_query_url(ticker, date)))\n",
    "        dfs.append(df_intraday.reset_index())\n",
    "    df = pd.concat(dfs, ignore_index=True).set_index(\"t\")\n",
    "    return df"
   ]
  },
  {
   "cell_type": "code",
   "execution_count": 157,
   "id": "c3993764-03b0-429f-91ea-94441af9aa0b",
   "metadata": {
    "execution": {
     "iopub.execute_input": "2024-07-10T22:43:40.835986Z",
     "iopub.status.busy": "2024-07-10T22:43:40.835179Z",
     "iopub.status.idle": "2024-07-10T22:43:40.842985Z",
     "shell.execute_reply": "2024-07-10T22:43:40.841672Z",
     "shell.execute_reply.started": "2024-07-10T22:43:40.835913Z"
    }
   },
   "outputs": [],
   "source": [
    "df_spx_daily_history = pd.read_pickle('market_data/df_spx_daily_history.pkl')"
   ]
  },
  {
   "cell_type": "code",
   "execution_count": null,
   "id": "038056f7-5a38-4338-a426-05f8ad2465d5",
   "metadata": {},
   "outputs": [],
   "source": []
  },
  {
   "cell_type": "markdown",
   "id": "84ed1c52-c99d-4e68-a048-fc41daa37cc8",
   "metadata": {
    "tags": []
   },
   "source": [
    "## logic"
   ]
  },
  {
   "cell_type": "code",
   "execution_count": 35,
   "id": "c42c6ebf-76eb-4c98-b342-ba04f3914b23",
   "metadata": {
    "execution": {
     "iopub.execute_input": "2024-07-10T18:24:39.100313Z",
     "iopub.status.busy": "2024-07-10T18:24:39.099585Z",
     "iopub.status.idle": "2024-07-10T18:24:39.105910Z",
     "shell.execute_reply": "2024-07-10T18:24:39.104791Z",
     "shell.execute_reply.started": "2024-07-10T18:24:39.100256Z"
    }
   },
   "outputs": [],
   "source": [
    "df_spy = df_spy_daily_history[[\"c\"]].copy()"
   ]
  },
  {
   "cell_type": "code",
   "execution_count": 36,
   "id": "aa3c93ef-1241-476f-bd55-67ac7700f9e3",
   "metadata": {
    "execution": {
     "iopub.execute_input": "2024-07-10T18:24:39.410885Z",
     "iopub.status.busy": "2024-07-10T18:24:39.410650Z",
     "iopub.status.idle": "2024-07-10T18:24:39.434053Z",
     "shell.execute_reply": "2024-07-10T18:24:39.433168Z",
     "shell.execute_reply.started": "2024-07-10T18:24:39.410868Z"
    }
   },
   "outputs": [],
   "source": [
    "df_spy[\"1_mo_avg\"] = df_spy[\"c\"].rolling(window=20).mean()\n",
    "df_spy[\"3_mo_avg\"] = df_spy[\"c\"].rolling(window=60).mean()\n",
    "df_spy['regime'] = df_spy.apply(lambda row: 1 if (row['c'] > row['1_mo_avg']) else -1, axis=1)"
   ]
  },
  {
   "cell_type": "code",
   "execution_count": null,
   "id": "94e4eefd-0c46-448d-a50f-51a9635aea75",
   "metadata": {},
   "outputs": [],
   "source": []
  },
  {
   "cell_type": "code",
   "execution_count": 159,
   "id": "955f54f3-92a0-497f-b18a-de641e128428",
   "metadata": {
    "execution": {
     "iopub.execute_input": "2024-07-10T22:45:03.583671Z",
     "iopub.status.busy": "2024-07-10T22:45:03.583210Z",
     "iopub.status.idle": "2024-07-10T22:45:21.312737Z",
     "shell.execute_reply": "2024-07-10T22:45:21.311944Z",
     "shell.execute_reply.started": "2024-07-10T22:45:03.583636Z"
    }
   },
   "outputs": [],
   "source": [
    "df_spy_market_open_history = data.daily.get_df_market_open_or_close_history_from_intraday_history(df_spy_intraday_history, \"open\")\n",
    "df_vix1d_market_open_history = data.daily.get_df_market_open_or_close_history_from_intraday_history(df_vix1d_intraday_history, \"open\")\n",
    "df_spx_market_open_history = data.daily.get_df_market_open_or_close_history_from_intraday_history(df_spx_intraday_history, \"open\")"
   ]
  },
  {
   "cell_type": "code",
   "execution_count": null,
   "id": "cecd9488-ea30-4323-be38-a01c101becea",
   "metadata": {},
   "outputs": [],
   "source": []
  },
  {
   "cell_type": "code",
   "execution_count": null,
   "id": "710e0158-49c2-4bc6-8368-41dc982e8c59",
   "metadata": {},
   "outputs": [],
   "source": []
  },
  {
   "cell_type": "code",
   "execution_count": 40,
   "id": "9af8fb39-75cb-4b1c-87dc-cc154a635c22",
   "metadata": {
    "execution": {
     "iopub.execute_input": "2024-07-10T18:24:56.393225Z",
     "iopub.status.busy": "2024-07-10T18:24:56.393093Z",
     "iopub.status.idle": "2024-07-10T18:25:00.297764Z",
     "shell.execute_reply": "2024-07-10T18:25:00.296891Z",
     "shell.execute_reply.started": "2024-07-10T18:24:56.393212Z"
    }
   },
   "outputs": [],
   "source": [
    "df_spx_market_close_history = get_df_market_open_or_close_history_from_intraday_history(df_spx_intraday_history, \"close\")"
   ]
  },
  {
   "cell_type": "code",
   "execution_count": null,
   "id": "c16acda7-2914-4f8d-875e-1e0a6ff51142",
   "metadata": {},
   "outputs": [],
   "source": []
  },
  {
   "cell_type": "code",
   "execution_count": 46,
   "id": "3026ab06-cd0c-4054-94f3-c57ed503998c",
   "metadata": {
    "execution": {
     "iopub.execute_input": "2024-07-10T18:25:33.336132Z",
     "iopub.status.busy": "2024-07-10T18:25:33.335494Z",
     "iopub.status.idle": "2024-07-10T18:25:33.339974Z",
     "shell.execute_reply": "2024-07-10T18:25:33.339387Z",
     "shell.execute_reply.started": "2024-07-10T18:25:33.336105Z"
    }
   },
   "outputs": [],
   "source": [
    "df_spx_market_open_close_history = df_spx_market_open_history.join(df_spx_market_close_history, lsuffix=\"_open\", rsuffix=\"_close\")"
   ]
  },
  {
   "cell_type": "code",
   "execution_count": null,
   "id": "c0553a33-08c2-4189-b470-98958746b67f",
   "metadata": {},
   "outputs": [],
   "source": []
  },
  {
   "cell_type": "code",
   "execution_count": 47,
   "id": "e8cd97a7-e2a5-41b1-a1e0-b4382329f425",
   "metadata": {
    "execution": {
     "iopub.execute_input": "2024-07-10T18:25:34.101916Z",
     "iopub.status.busy": "2024-07-10T18:25:34.100650Z",
     "iopub.status.idle": "2024-07-10T18:25:34.107707Z",
     "shell.execute_reply": "2024-07-10T18:25:34.106877Z",
     "shell.execute_reply.started": "2024-07-10T18:25:34.101861Z"
    }
   },
   "outputs": [],
   "source": [
    "df_spx_market_open_close_history[\"actual_change\"] = df_spx_market_open_close_history.c_close - df_spx_market_open_close_history.c_open"
   ]
  },
  {
   "cell_type": "code",
   "execution_count": null,
   "id": "59e96eb2-8cef-43d8-b194-cd254cf0f2e6",
   "metadata": {},
   "outputs": [],
   "source": []
  },
  {
   "cell_type": "code",
   "execution_count": 49,
   "id": "d58b1e5e-f31a-4328-8246-d73cb4cf8238",
   "metadata": {
    "execution": {
     "iopub.execute_input": "2024-07-10T18:25:37.268946Z",
     "iopub.status.busy": "2024-07-10T18:25:37.268533Z",
     "iopub.status.idle": "2024-07-10T18:25:46.755737Z",
     "shell.execute_reply": "2024-07-10T18:25:46.754905Z",
     "shell.execute_reply.started": "2024-07-10T18:25:37.268929Z"
    }
   },
   "outputs": [],
   "source": [
    "df_goog_market_open_history = get_df_market_open_or_close_history_from_intraday_history(df_goog_intraday_history, \"open\")\n",
    "df_sbux_market_open_history = get_df_market_open_or_close_history_from_intraday_history(df_sbux_intraday_history, \"open\")"
   ]
  },
  {
   "cell_type": "code",
   "execution_count": 50,
   "id": "6d24753f-85c1-49e6-a39b-4698f0b45481",
   "metadata": {
    "execution": {
     "iopub.execute_input": "2024-07-10T18:25:46.756692Z",
     "iopub.status.busy": "2024-07-10T18:25:46.756568Z",
     "iopub.status.idle": "2024-07-10T18:25:46.759041Z",
     "shell.execute_reply": "2024-07-10T18:25:46.758597Z",
     "shell.execute_reply.started": "2024-07-10T18:25:46.756683Z"
    }
   },
   "outputs": [],
   "source": [
    "#df_algo = df_spx_daily_history[[\"c\"]].copy()\n",
    "#df_algo = df_algo.join(df_spx_market_open_history, lsuffix=\"_daily\", rsuffix=\"_market_open\")"
   ]
  },
  {
   "cell_type": "code",
   "execution_count": null,
   "id": "dc088f4b-9a29-4c3c-8abf-4ba54a881fe2",
   "metadata": {},
   "outputs": [],
   "source": []
  },
  {
   "cell_type": "code",
   "execution_count": 181,
   "id": "f387f655-a8e0-4f0d-8b56-dd7b48cb572d",
   "metadata": {
    "execution": {
     "iopub.execute_input": "2024-07-10T22:58:17.307386Z",
     "iopub.status.busy": "2024-07-10T22:58:17.306942Z",
     "iopub.status.idle": "2024-07-10T22:58:17.313198Z",
     "shell.execute_reply": "2024-07-10T22:58:17.312707Z",
     "shell.execute_reply.started": "2024-07-10T22:58:17.307353Z"
    }
   },
   "outputs": [
    {
     "data": {
      "text/plain": [
       "<module 'algo.expectation' from '/home/junlim/projects/volatility_trading/algo/expectation.py'>"
      ]
     },
     "execution_count": 181,
     "metadata": {},
     "output_type": "execute_result"
    }
   ],
   "source": [
    "import algo.expectation\n",
    "importlib.reload(algo.expectation)"
   ]
  },
  {
   "cell_type": "code",
   "execution_count": 192,
   "id": "66503b74-587b-48cc-83c7-58f8ec8e7dcc",
   "metadata": {
    "execution": {
     "iopub.execute_input": "2024-07-10T23:00:57.038520Z",
     "iopub.status.busy": "2024-07-10T23:00:57.036910Z",
     "iopub.status.idle": "2024-07-10T23:00:57.050953Z",
     "shell.execute_reply": "2024-07-10T23:00:57.050459Z",
     "shell.execute_reply.started": "2024-07-10T23:00:57.038444Z"
    }
   },
   "outputs": [],
   "source": [
    "df_spx_daily_expectation = algo.expectation.get_df_daily_expectation(df_spx_market_open_history, df_spy.regime, df_vix1d_market_open_history / 100, 0.5)"
   ]
  },
  {
   "cell_type": "code",
   "execution_count": null,
   "id": "df735c55-87f1-4084-81bd-4109355f937b",
   "metadata": {},
   "outputs": [],
   "source": []
  },
  {
   "cell_type": "code",
   "execution_count": null,
   "id": "fdf727af-fa1d-4adc-beb5-00fc73e41003",
   "metadata": {},
   "outputs": [],
   "source": []
  },
  {
   "cell_type": "code",
   "execution_count": null,
   "id": "483c2e36-de91-4707-b733-b118ef55c29f",
   "metadata": {},
   "outputs": [],
   "source": []
  },
  {
   "cell_type": "code",
   "execution_count": 194,
   "id": "a611b365-daed-4fc3-a286-fe64a442dec3",
   "metadata": {
    "execution": {
     "iopub.execute_input": "2024-07-10T23:01:36.726109Z",
     "iopub.status.busy": "2024-07-10T23:01:36.725084Z",
     "iopub.status.idle": "2024-07-10T23:01:36.731967Z",
     "shell.execute_reply": "2024-07-10T23:01:36.731386Z",
     "shell.execute_reply.started": "2024-07-10T23:01:36.725927Z"
    }
   },
   "outputs": [],
   "source": [
    "df_spx_daily_expectation_actual = df_spx_daily_expectation.join(df_spx_market_open_close_history[\"actual_change\"])"
   ]
  },
  {
   "cell_type": "code",
   "execution_count": 195,
   "id": "88cc409c-4864-4e17-be43-6697637c7276",
   "metadata": {
    "execution": {
     "iopub.execute_input": "2024-07-10T23:01:36.985871Z",
     "iopub.status.busy": "2024-07-10T23:01:36.985587Z",
     "iopub.status.idle": "2024-07-10T23:01:36.989805Z",
     "shell.execute_reply": "2024-07-10T23:01:36.989303Z",
     "shell.execute_reply.started": "2024-07-10T23:01:36.985849Z"
    }
   },
   "outputs": [],
   "source": [
    "df_spx_daily_expectation_actual[\"expected_change_size\"] = df_spx_daily_expectation_actual.upper_price - df_spx_daily_expectation_actual.lower_price"
   ]
  },
  {
   "cell_type": "code",
   "execution_count": 196,
   "id": "44ec3ff3-f907-430e-b122-a4ab3ca517e1",
   "metadata": {
    "execution": {
     "iopub.execute_input": "2024-07-10T23:01:37.471641Z",
     "iopub.status.busy": "2024-07-10T23:01:37.471382Z",
     "iopub.status.idle": "2024-07-10T23:01:37.485647Z",
     "shell.execute_reply": "2024-07-10T23:01:37.485124Z",
     "shell.execute_reply.started": "2024-07-10T23:01:37.471621Z"
    }
   },
   "outputs": [
    {
     "data": {
      "text/html": [
       "<div>\n",
       "<style scoped>\n",
       "    .dataframe tbody tr th:only-of-type {\n",
       "        vertical-align: middle;\n",
       "    }\n",
       "\n",
       "    .dataframe tbody tr th {\n",
       "        vertical-align: top;\n",
       "    }\n",
       "\n",
       "    .dataframe thead th {\n",
       "        text-align: right;\n",
       "    }\n",
       "</style>\n",
       "<table border=\"1\" class=\"dataframe\">\n",
       "  <thead>\n",
       "    <tr style=\"text-align: right;\">\n",
       "      <th></th>\n",
       "      <th>c_market_open</th>\n",
       "      <th>regime</th>\n",
       "      <th>expected_move</th>\n",
       "      <th>lower_price</th>\n",
       "      <th>upper_price</th>\n",
       "      <th>actual_change</th>\n",
       "      <th>expected_change_size</th>\n",
       "    </tr>\n",
       "    <tr>\n",
       "      <th>t</th>\n",
       "      <th></th>\n",
       "      <th></th>\n",
       "      <th></th>\n",
       "      <th></th>\n",
       "      <th></th>\n",
       "      <th></th>\n",
       "      <th></th>\n",
       "    </tr>\n",
       "  </thead>\n",
       "  <tbody>\n",
       "    <tr>\n",
       "      <th>2023-05-02</th>\n",
       "      <td>4153.26</td>\n",
       "      <td>-1</td>\n",
       "      <td>0.0030</td>\n",
       "      <td>4140.80</td>\n",
       "      <td>4165.72</td>\n",
       "      <td>-33.68</td>\n",
       "      <td>24.92</td>\n",
       "    </tr>\n",
       "    <tr>\n",
       "      <th>2023-05-03</th>\n",
       "      <td>4125.70</td>\n",
       "      <td>-1</td>\n",
       "      <td>0.0060</td>\n",
       "      <td>4100.95</td>\n",
       "      <td>4150.45</td>\n",
       "      <td>-34.95</td>\n",
       "      <td>49.50</td>\n",
       "    </tr>\n",
       "    <tr>\n",
       "      <th>2023-05-04</th>\n",
       "      <td>4081.20</td>\n",
       "      <td>-1</td>\n",
       "      <td>0.0047</td>\n",
       "      <td>4062.02</td>\n",
       "      <td>4100.38</td>\n",
       "      <td>-19.98</td>\n",
       "      <td>38.36</td>\n",
       "    </tr>\n",
       "    <tr>\n",
       "      <th>2023-05-05</th>\n",
       "      <td>4104.23</td>\n",
       "      <td>1</td>\n",
       "      <td>0.0041</td>\n",
       "      <td>4087.40</td>\n",
       "      <td>4121.06</td>\n",
       "      <td>32.02</td>\n",
       "      <td>33.66</td>\n",
       "    </tr>\n",
       "    <tr>\n",
       "      <th>2023-05-08</th>\n",
       "      <td>4137.65</td>\n",
       "      <td>1</td>\n",
       "      <td>0.0032</td>\n",
       "      <td>4124.41</td>\n",
       "      <td>4150.89</td>\n",
       "      <td>0.47</td>\n",
       "      <td>26.48</td>\n",
       "    </tr>\n",
       "    <tr>\n",
       "      <th>...</th>\n",
       "      <td>...</td>\n",
       "      <td>...</td>\n",
       "      <td>...</td>\n",
       "      <td>...</td>\n",
       "      <td>...</td>\n",
       "      <td>...</td>\n",
       "      <td>...</td>\n",
       "    </tr>\n",
       "    <tr>\n",
       "      <th>2024-06-26</th>\n",
       "      <td>5457.73</td>\n",
       "      <td>1</td>\n",
       "      <td>0.0024</td>\n",
       "      <td>5444.63</td>\n",
       "      <td>5470.83</td>\n",
       "      <td>20.17</td>\n",
       "      <td>26.20</td>\n",
       "    </tr>\n",
       "    <tr>\n",
       "      <th>2024-06-27</th>\n",
       "      <td>5483.08</td>\n",
       "      <td>1</td>\n",
       "      <td>0.0024</td>\n",
       "      <td>5469.92</td>\n",
       "      <td>5496.24</td>\n",
       "      <td>-0.21</td>\n",
       "      <td>26.32</td>\n",
       "    </tr>\n",
       "    <tr>\n",
       "      <th>2024-06-28</th>\n",
       "      <td>5496.61</td>\n",
       "      <td>1</td>\n",
       "      <td>0.0028</td>\n",
       "      <td>5481.22</td>\n",
       "      <td>5512.00</td>\n",
       "      <td>-36.13</td>\n",
       "      <td>30.78</td>\n",
       "    </tr>\n",
       "    <tr>\n",
       "      <th>2024-07-01</th>\n",
       "      <td>5475.76</td>\n",
       "      <td>1</td>\n",
       "      <td>0.0025</td>\n",
       "      <td>5462.07</td>\n",
       "      <td>5489.45</td>\n",
       "      <td>-0.67</td>\n",
       "      <td>27.38</td>\n",
       "    </tr>\n",
       "    <tr>\n",
       "      <th>2024-07-02</th>\n",
       "      <td>5465.69</td>\n",
       "      <td>1</td>\n",
       "      <td>0.0025</td>\n",
       "      <td>5452.03</td>\n",
       "      <td>5479.35</td>\n",
       "      <td>43.32</td>\n",
       "      <td>27.32</td>\n",
       "    </tr>\n",
       "  </tbody>\n",
       "</table>\n",
       "<p>293 rows × 7 columns</p>\n",
       "</div>"
      ],
      "text/plain": [
       "            c_market_open  regime  expected_move  lower_price  upper_price  \\\n",
       "t                                                                            \n",
       "2023-05-02        4153.26      -1         0.0030      4140.80      4165.72   \n",
       "2023-05-03        4125.70      -1         0.0060      4100.95      4150.45   \n",
       "2023-05-04        4081.20      -1         0.0047      4062.02      4100.38   \n",
       "2023-05-05        4104.23       1         0.0041      4087.40      4121.06   \n",
       "2023-05-08        4137.65       1         0.0032      4124.41      4150.89   \n",
       "...                   ...     ...            ...          ...          ...   \n",
       "2024-06-26        5457.73       1         0.0024      5444.63      5470.83   \n",
       "2024-06-27        5483.08       1         0.0024      5469.92      5496.24   \n",
       "2024-06-28        5496.61       1         0.0028      5481.22      5512.00   \n",
       "2024-07-01        5475.76       1         0.0025      5462.07      5489.45   \n",
       "2024-07-02        5465.69       1         0.0025      5452.03      5479.35   \n",
       "\n",
       "            actual_change  expected_change_size  \n",
       "t                                                \n",
       "2023-05-02         -33.68                 24.92  \n",
       "2023-05-03         -34.95                 49.50  \n",
       "2023-05-04         -19.98                 38.36  \n",
       "2023-05-05          32.02                 33.66  \n",
       "2023-05-08           0.47                 26.48  \n",
       "...                   ...                   ...  \n",
       "2024-06-26          20.17                 26.20  \n",
       "2024-06-27          -0.21                 26.32  \n",
       "2024-06-28         -36.13                 30.78  \n",
       "2024-07-01          -0.67                 27.38  \n",
       "2024-07-02          43.32                 27.32  \n",
       "\n",
       "[293 rows x 7 columns]"
      ]
     },
     "execution_count": 196,
     "metadata": {},
     "output_type": "execute_result"
    }
   ],
   "source": [
    "df_spx_daily_expectation_actual"
   ]
  },
  {
   "cell_type": "code",
   "execution_count": null,
   "id": "b39fbd20-3395-445c-b758-fd7d266db68c",
   "metadata": {},
   "outputs": [],
   "source": []
  },
  {
   "cell_type": "code",
   "execution_count": 197,
   "id": "bc2b9640-c844-4ab3-a3b8-ebd78bb83378",
   "metadata": {
    "execution": {
     "iopub.execute_input": "2024-07-10T23:01:40.552565Z",
     "iopub.status.busy": "2024-07-10T23:01:40.552182Z",
     "iopub.status.idle": "2024-07-10T23:01:40.701555Z",
     "shell.execute_reply": "2024-07-10T23:01:40.701139Z",
     "shell.execute_reply.started": "2024-07-10T23:01:40.552536Z"
    }
   },
   "outputs": [
    {
     "name": "stderr",
     "output_type": "stream",
     "text": [
      "/tmp/ipykernel_9519/4173563841.py:3: UserWarning: color is redundantly defined by the 'color' keyword argument and the fmt string \"k-\" (-> color='k'). The keyword argument will take precedence.\n",
      "  ax.plot([0, 50], [0, 50], 'k-', color = 'r')\n"
     ]
    },
    {
     "data": {
      "text/plain": [
       "[<matplotlib.lines.Line2D at 0x78701977ba30>]"
      ]
     },
     "execution_count": 197,
     "metadata": {},
     "output_type": "execute_result"
    },
    {
     "data": {
      "image/png": "[encoded data removed]",
      "text/plain": [
       "<Figure size 640x480 with 1 Axes>"
      ]
     },
     "metadata": {},
     "output_type": "display_data"
    }
   ],
   "source": [
    "fig, ax = plt.subplots()\n",
    "ax.scatter(df_spx_daily_expectation_actual[[\"expected_change_size\"]], df_spx_daily_expectation_actual[[\"actual_change\"]].abs())\n",
    "ax.plot([0, 50], [0, 50], 'k-', color = 'r')"
   ]
  },
  {
   "cell_type": "code",
   "execution_count": 68,
   "id": "73e5f419-3773-4434-bb6b-233e40067303",
   "metadata": {
    "execution": {
     "iopub.execute_input": "2024-07-10T18:33:21.484461Z",
     "iopub.status.busy": "2024-07-10T18:33:21.484148Z",
     "iopub.status.idle": "2024-07-10T18:33:21.573601Z",
     "shell.execute_reply": "2024-07-10T18:33:21.573064Z",
     "shell.execute_reply.started": "2024-07-10T18:33:21.484438Z"
    }
   },
   "outputs": [
    {
     "name": "stderr",
     "output_type": "stream",
     "text": [
      "/tmp/ipykernel_9519/3319082594.py:3: UserWarning: color is redundantly defined by the 'color' keyword argument and the fmt string \"k-\" (-> color='k'). The keyword argument will take precedence.\n",
      "  plt.plot([0, 50], [0, 50], 'k-', color = 'r')\n"
     ]
    },
    {
     "data": {
      "text/plain": [
       "[<matplotlib.lines.Line2D at 0x78701d8413c0>]"
      ]
     },
     "execution_count": 68,
     "metadata": {},
     "output_type": "execute_result"
    },
    {
     "data": {
      "image/png": "[encoded data removed]",
      "text/plain": [
       "<Figure size 640x480 with 1 Axes>"
      ]
     },
     "metadata": {},
     "output_type": "display_data"
    }
   ],
   "source": [
    "plt.figure()\n",
    "plt.scatter(df_spx_daily_expectation_actual[[\"expected_change_size\"]], df_spx_daily_expectation_actual[[\"actual_change\"]].abs())\n",
    "plt.plot([0, 50], [0, 50], 'k-', color = 'r')"
   ]
  },
  {
   "cell_type": "code",
   "execution_count": null,
   "id": "5218c95d-f8c8-46bc-a62c-5f2db0449710",
   "metadata": {},
   "outputs": [],
   "source": []
  },
  {
   "cell_type": "code",
   "execution_count": 697,
   "id": "2d0ee96f-0c4b-4da5-9878-39761dddb5e7",
   "metadata": {},
   "outputs": [
    {
     "data": {
      "text/plain": [
       "t\n",
       "2023-05-02   -24.92\n",
       "2023-05-03   -49.50\n",
       "2023-05-04   -37.96\n",
       "2023-05-05    33.66\n",
       "2023-05-08    26.48\n",
       "              ...  \n",
       "2024-06-26    25.66\n",
       "2024-06-27    26.32\n",
       "2024-06-28    30.78\n",
       "2024-07-01    27.92\n",
       "2024-07-02    27.32\n",
       "Length: 293, dtype: float64"
      ]
     },
     "execution_count": 697,
     "metadata": {},
     "output_type": "execute_result"
    }
   ],
   "source": [
    "df_spx_daily_expectation_actual[\"regime\"] * df_spx_daily_expectation_actual[\"expected_change_size\"]"
   ]
  },
  {
   "cell_type": "code",
   "execution_count": 700,
   "id": "eef19299-7086-40ef-ad54-34789bb7e0af",
   "metadata": {},
   "outputs": [
    {
     "data": {
      "text/plain": [
       "<matplotlib.collections.PathCollection at 0x7fdf648c1f70>"
      ]
     },
     "execution_count": 700,
     "metadata": {},
     "output_type": "execute_result"
    },
    {
     "data": {
      "image/png": "[encoded data removed]",
      "text/plain": [
       "<Figure size 640x480 with 1 Axes>"
      ]
     },
     "metadata": {},
     "output_type": "display_data"
    }
   ],
   "source": [
    "plt.scatter(df_spx_daily_expectation_actual[\"regime\"] * df_spx_daily_expectation_actual[\"expected_change_size\"], df_spx_daily_expectation_actual[[\"actual_change\"]])"
   ]
  },
  {
   "cell_type": "code",
   "execution_count": null,
   "id": "500636fc-a388-4ceb-a108-dcefa41f818c",
   "metadata": {},
   "outputs": [],
   "source": []
  },
  {
   "cell_type": "code",
   "execution_count": null,
   "id": "86aab3b0-9fe4-4211-82e7-2fa467220fdd",
   "metadata": {},
   "outputs": [],
   "source": []
  },
  {
   "cell_type": "code",
   "execution_count": null,
   "id": "73ea28ce-0bc2-48da-ac17-759d38114daa",
   "metadata": {},
   "outputs": [],
   "source": []
  },
  {
   "cell_type": "code",
   "execution_count": 92,
   "id": "71319b74-49b3-4111-a3f5-5d7905b50c00",
   "metadata": {
    "execution": {
     "iopub.execute_input": "2024-07-10T18:45:38.182439Z",
     "iopub.status.busy": "2024-07-10T18:45:38.182146Z",
     "iopub.status.idle": "2024-07-10T18:45:38.189270Z",
     "shell.execute_reply": "2024-07-10T18:45:38.188720Z",
     "shell.execute_reply.started": "2024-07-10T18:45:38.182417Z"
    }
   },
   "outputs": [],
   "source": [
    "df_goog_daily_expectation = get_df_daily_expectation(df_goog_market_open_history)"
   ]
  },
  {
   "cell_type": "code",
   "execution_count": 93,
   "id": "75bc5f70-fa1a-41ca-ba53-43e1a9e53ee1",
   "metadata": {
    "execution": {
     "iopub.execute_input": "2024-07-10T18:45:38.386891Z",
     "iopub.status.busy": "2024-07-10T18:45:38.386433Z",
     "iopub.status.idle": "2024-07-10T18:45:38.399098Z",
     "shell.execute_reply": "2024-07-10T18:45:38.398652Z",
     "shell.execute_reply.started": "2024-07-10T18:45:38.386856Z"
    }
   },
   "outputs": [
    {
     "data": {
      "text/html": [
       "<div>\n",
       "<style scoped>\n",
       "    .dataframe tbody tr th:only-of-type {\n",
       "        vertical-align: middle;\n",
       "    }\n",
       "\n",
       "    .dataframe tbody tr th {\n",
       "        vertical-align: top;\n",
       "    }\n",
       "\n",
       "    .dataframe thead th {\n",
       "        text-align: right;\n",
       "    }\n",
       "</style>\n",
       "<table border=\"1\" class=\"dataframe\">\n",
       "  <thead>\n",
       "    <tr style=\"text-align: right;\">\n",
       "      <th></th>\n",
       "      <th>c_market_open</th>\n",
       "      <th>regime</th>\n",
       "      <th>expected_move</th>\n",
       "      <th>lower_price</th>\n",
       "      <th>upper_price</th>\n",
       "    </tr>\n",
       "    <tr>\n",
       "      <th>t</th>\n",
       "      <th></th>\n",
       "      <th></th>\n",
       "      <th></th>\n",
       "      <th></th>\n",
       "      <th></th>\n",
       "    </tr>\n",
       "  </thead>\n",
       "  <tbody>\n",
       "    <tr>\n",
       "      <th>2023-05-02</th>\n",
       "      <td>107.590</td>\n",
       "      <td>-1</td>\n",
       "      <td>0.00300</td>\n",
       "      <td>107.27</td>\n",
       "      <td>107.91</td>\n",
       "    </tr>\n",
       "    <tr>\n",
       "      <th>2023-05-03</th>\n",
       "      <td>106.300</td>\n",
       "      <td>-1</td>\n",
       "      <td>0.00600</td>\n",
       "      <td>105.66</td>\n",
       "      <td>106.94</td>\n",
       "    </tr>\n",
       "    <tr>\n",
       "      <th>2023-05-04</th>\n",
       "      <td>105.555</td>\n",
       "      <td>-1</td>\n",
       "      <td>0.00465</td>\n",
       "      <td>105.06</td>\n",
       "      <td>106.05</td>\n",
       "    </tr>\n",
       "    <tr>\n",
       "      <th>2023-05-05</th>\n",
       "      <td>105.255</td>\n",
       "      <td>1</td>\n",
       "      <td>0.00410</td>\n",
       "      <td>104.82</td>\n",
       "      <td>105.69</td>\n",
       "    </tr>\n",
       "    <tr>\n",
       "      <th>2023-05-08</th>\n",
       "      <td>106.650</td>\n",
       "      <td>1</td>\n",
       "      <td>0.00320</td>\n",
       "      <td>106.31</td>\n",
       "      <td>106.99</td>\n",
       "    </tr>\n",
       "    <tr>\n",
       "      <th>...</th>\n",
       "      <td>...</td>\n",
       "      <td>...</td>\n",
       "      <td>...</td>\n",
       "      <td>...</td>\n",
       "      <td>...</td>\n",
       "    </tr>\n",
       "    <tr>\n",
       "      <th>2024-06-26</th>\n",
       "      <td>184.630</td>\n",
       "      <td>1</td>\n",
       "      <td>0.00235</td>\n",
       "      <td>184.20</td>\n",
       "      <td>185.06</td>\n",
       "    </tr>\n",
       "    <tr>\n",
       "      <th>2024-06-27</th>\n",
       "      <td>186.650</td>\n",
       "      <td>1</td>\n",
       "      <td>0.00240</td>\n",
       "      <td>186.20</td>\n",
       "      <td>187.10</td>\n",
       "    </tr>\n",
       "    <tr>\n",
       "      <th>2024-06-28</th>\n",
       "      <td>184.450</td>\n",
       "      <td>1</td>\n",
       "      <td>0.00280</td>\n",
       "      <td>183.93</td>\n",
       "      <td>184.97</td>\n",
       "    </tr>\n",
       "    <tr>\n",
       "      <th>2024-07-01</th>\n",
       "      <td>184.790</td>\n",
       "      <td>1</td>\n",
       "      <td>0.00255</td>\n",
       "      <td>184.32</td>\n",
       "      <td>185.26</td>\n",
       "    </tr>\n",
       "    <tr>\n",
       "      <th>2024-07-02</th>\n",
       "      <td>183.455</td>\n",
       "      <td>1</td>\n",
       "      <td>0.00250</td>\n",
       "      <td>183.00</td>\n",
       "      <td>183.91</td>\n",
       "    </tr>\n",
       "  </tbody>\n",
       "</table>\n",
       "<p>293 rows × 5 columns</p>\n",
       "</div>"
      ],
      "text/plain": [
       "            c_market_open  regime  expected_move  lower_price  upper_price\n",
       "t                                                                         \n",
       "2023-05-02        107.590      -1        0.00300       107.27       107.91\n",
       "2023-05-03        106.300      -1        0.00600       105.66       106.94\n",
       "2023-05-04        105.555      -1        0.00465       105.06       106.05\n",
       "2023-05-05        105.255       1        0.00410       104.82       105.69\n",
       "2023-05-08        106.650       1        0.00320       106.31       106.99\n",
       "...                   ...     ...            ...          ...          ...\n",
       "2024-06-26        184.630       1        0.00235       184.20       185.06\n",
       "2024-06-27        186.650       1        0.00240       186.20       187.10\n",
       "2024-06-28        184.450       1        0.00280       183.93       184.97\n",
       "2024-07-01        184.790       1        0.00255       184.32       185.26\n",
       "2024-07-02        183.455       1        0.00250       183.00       183.91\n",
       "\n",
       "[293 rows x 5 columns]"
      ]
     },
     "execution_count": 93,
     "metadata": {},
     "output_type": "execute_result"
    }
   ],
   "source": [
    "df_goog_daily_expectation"
   ]
  },
  {
   "cell_type": "code",
   "execution_count": null,
   "id": "d12727c2-0b6f-4628-8892-134de9614463",
   "metadata": {},
   "outputs": [],
   "source": [
    "df_goog_market_close_history = get_df_market_open_or_close_history_from_intraday_history(df_goog_intraday_history, \"close\")\n",
    "df_goog_market_open_close_history = df_goog_market_open_history.join(df_goog_market_close_history, lsuffix=\"_open\", rsuffix=\"_close\")"
   ]
  },
  {
   "cell_type": "code",
   "execution_count": null,
   "id": "819b8a0c-90e2-4be5-abde-c30d27e5d71f",
   "metadata": {},
   "outputs": [],
   "source": []
  },
  {
   "cell_type": "code",
   "execution_count": null,
   "id": "2a545147-96bd-4500-88c5-4962f7334897",
   "metadata": {},
   "outputs": [],
   "source": []
  },
  {
   "cell_type": "code",
   "execution_count": null,
   "id": "42491c28-0145-4910-ae8b-ec0befcfc638",
   "metadata": {},
   "outputs": [],
   "source": []
  },
  {
   "cell_type": "code",
   "execution_count": 94,
   "id": "0b2947f5-e4d1-4f4b-b267-eaeb7ba4ee62",
   "metadata": {
    "execution": {
     "iopub.execute_input": "2024-07-10T18:45:39.623556Z",
     "iopub.status.busy": "2024-07-10T18:45:39.622691Z",
     "iopub.status.idle": "2024-07-10T18:45:39.633381Z",
     "shell.execute_reply": "2024-07-10T18:45:39.632654Z",
     "shell.execute_reply.started": "2024-07-10T18:45:39.623508Z"
    }
   },
   "outputs": [],
   "source": [
    "df_sbux_daily_expectation = get_df_daily_expectation(df_sbux_market_open_history)"
   ]
  },
  {
   "cell_type": "code",
   "execution_count": null,
   "id": "91f08336-948c-4cd9-85aa-b8c1cc142014",
   "metadata": {},
   "outputs": [],
   "source": []
  },
  {
   "cell_type": "markdown",
   "id": "1239e5fa-e40a-4abf-8879-54aaa41777a0",
   "metadata": {
    "tags": []
   },
   "source": [
    "## cache intraday options data"
   ]
  },
  {
   "cell_type": "code",
   "execution_count": 160,
   "id": "171b1edd-890b-4123-804b-be93bd57c0de",
   "metadata": {
    "execution": {
     "iopub.execute_input": "2024-07-10T22:48:22.918506Z",
     "iopub.status.busy": "2024-07-10T22:48:22.917918Z",
     "iopub.status.idle": "2024-07-10T22:48:22.922453Z",
     "shell.execute_reply": "2024-07-10T22:48:22.921936Z",
     "shell.execute_reply.started": "2024-07-10T22:48:22.918480Z"
    }
   },
   "outputs": [],
   "source": [
    "df_spx_otm_call_options_spread_history = pd.read_pickle('market_data/df_spx_otm_call_options_spread_history.pkl')\n",
    "df_spx_otm_put_options_spread_history = pd.read_pickle('market_data/df_spx_otm_put_options_spread_history.pkl')"
   ]
  },
  {
   "cell_type": "code",
   "execution_count": null,
   "id": "6587f6be-30eb-4edf-b8ac-62e4a4e613b7",
   "metadata": {},
   "outputs": [],
   "source": []
  },
  {
   "cell_type": "markdown",
   "id": "e977f34f-dc15-442a-9d40-04575191a381",
   "metadata": {
    "tags": []
   },
   "source": [
    "## logic with options data"
   ]
  },
  {
   "cell_type": "code",
   "execution_count": 154,
   "id": "efe55471-5e5f-4e65-9810-77486e85ebea",
   "metadata": {},
   "outputs": [],
   "source": [
    "df_spx_algo = df_spx_daily_expectation.join(df_spx_otm_call_options_spread_history[[\"pnl\"]].add_suffix(\"_call\")).join(\n",
    "    df_spx_otm_put_options_spread_history[[\"pnl\"]].add_suffix(\"_put\")\n",
    ")\n",
    "df_spx_algo['pnl_c_n_reg'] = np.where(df_spx_algo.regime < 0, df_spx_algo.pnl_call, 0)\n",
    "df_spx_algo['pnl_p_p_reg'] = np.where(df_spx_algo.regime > 0, df_spx_algo.pnl_put, 0)"
   ]
  },
  {
   "cell_type": "code",
   "execution_count": 392,
   "id": "eb461120-840c-418c-bb63-4cbdda7d6b62",
   "metadata": {},
   "outputs": [
    {
     "data": {
      "text/html": [
       "<div>\n",
       "<style scoped>\n",
       "    .dataframe tbody tr th:only-of-type {\n",
       "        vertical-align: middle;\n",
       "    }\n",
       "\n",
       "    .dataframe tbody tr th {\n",
       "        vertical-align: top;\n",
       "    }\n",
       "\n",
       "    .dataframe thead th {\n",
       "        text-align: right;\n",
       "    }\n",
       "</style>\n",
       "<table border=\"1\" class=\"dataframe\">\n",
       "  <thead>\n",
       "    <tr style=\"text-align: right;\">\n",
       "      <th></th>\n",
       "      <th>c_market_open</th>\n",
       "      <th>regime</th>\n",
       "      <th>expected_move</th>\n",
       "      <th>lower_price</th>\n",
       "      <th>upper_price</th>\n",
       "      <th>pnl_call</th>\n",
       "      <th>pnl_put</th>\n",
       "      <th>pnl_c_n_reg</th>\n",
       "      <th>pnl_p_p_reg</th>\n",
       "    </tr>\n",
       "    <tr>\n",
       "      <th>t</th>\n",
       "      <th></th>\n",
       "      <th></th>\n",
       "      <th></th>\n",
       "      <th></th>\n",
       "      <th></th>\n",
       "      <th></th>\n",
       "      <th></th>\n",
       "      <th></th>\n",
       "      <th></th>\n",
       "    </tr>\n",
       "  </thead>\n",
       "  <tbody>\n",
       "    <tr>\n",
       "      <th>2023-05-02</th>\n",
       "      <td>4153.26</td>\n",
       "      <td>-1</td>\n",
       "      <td>0.00300</td>\n",
       "      <td>4140.80</td>\n",
       "      <td>4165.72</td>\n",
       "      <td>0.90</td>\n",
       "      <td>-2.16</td>\n",
       "      <td>0.90</td>\n",
       "      <td>0.00</td>\n",
       "    </tr>\n",
       "    <tr>\n",
       "      <th>2023-05-03</th>\n",
       "      <td>4125.70</td>\n",
       "      <td>-1</td>\n",
       "      <td>0.00600</td>\n",
       "      <td>4100.95</td>\n",
       "      <td>4150.45</td>\n",
       "      <td>1.31</td>\n",
       "      <td>-3.62</td>\n",
       "      <td>1.31</td>\n",
       "      <td>0.00</td>\n",
       "    </tr>\n",
       "    <tr>\n",
       "      <th>2023-05-04</th>\n",
       "      <td>4081.20</td>\n",
       "      <td>-1</td>\n",
       "      <td>0.00465</td>\n",
       "      <td>4062.22</td>\n",
       "      <td>4100.18</td>\n",
       "      <td>1.10</td>\n",
       "      <td>1.08</td>\n",
       "      <td>1.10</td>\n",
       "      <td>0.00</td>\n",
       "    </tr>\n",
       "    <tr>\n",
       "      <th>2023-05-05</th>\n",
       "      <td>4104.23</td>\n",
       "      <td>1</td>\n",
       "      <td>0.00410</td>\n",
       "      <td>4087.40</td>\n",
       "      <td>4121.06</td>\n",
       "      <td>-5.85</td>\n",
       "      <td>1.10</td>\n",
       "      <td>0.00</td>\n",
       "      <td>1.10</td>\n",
       "    </tr>\n",
       "    <tr>\n",
       "      <th>2023-05-08</th>\n",
       "      <td>4137.65</td>\n",
       "      <td>1</td>\n",
       "      <td>0.00320</td>\n",
       "      <td>4124.41</td>\n",
       "      <td>4150.89</td>\n",
       "      <td>0.83</td>\n",
       "      <td>0.85</td>\n",
       "      <td>0.00</td>\n",
       "      <td>0.85</td>\n",
       "    </tr>\n",
       "    <tr>\n",
       "      <th>...</th>\n",
       "      <td>...</td>\n",
       "      <td>...</td>\n",
       "      <td>...</td>\n",
       "      <td>...</td>\n",
       "      <td>...</td>\n",
       "      <td>...</td>\n",
       "      <td>...</td>\n",
       "      <td>...</td>\n",
       "      <td>...</td>\n",
       "    </tr>\n",
       "    <tr>\n",
       "      <th>2024-06-26</th>\n",
       "      <td>5457.73</td>\n",
       "      <td>1</td>\n",
       "      <td>0.00235</td>\n",
       "      <td>5444.90</td>\n",
       "      <td>5470.56</td>\n",
       "      <td>-2.13</td>\n",
       "      <td>0.90</td>\n",
       "      <td>0.00</td>\n",
       "      <td>0.90</td>\n",
       "    </tr>\n",
       "    <tr>\n",
       "      <th>2024-06-27</th>\n",
       "      <td>5483.08</td>\n",
       "      <td>1</td>\n",
       "      <td>0.00240</td>\n",
       "      <td>5469.92</td>\n",
       "      <td>5496.24</td>\n",
       "      <td>1.10</td>\n",
       "      <td>0.84</td>\n",
       "      <td>0.00</td>\n",
       "      <td>0.84</td>\n",
       "    </tr>\n",
       "    <tr>\n",
       "      <th>2024-06-28</th>\n",
       "      <td>5496.61</td>\n",
       "      <td>1</td>\n",
       "      <td>0.00280</td>\n",
       "      <td>5481.22</td>\n",
       "      <td>5512.00</td>\n",
       "      <td>1.25</td>\n",
       "      <td>-3.76</td>\n",
       "      <td>0.00</td>\n",
       "      <td>-3.76</td>\n",
       "    </tr>\n",
       "    <tr>\n",
       "      <th>2024-07-01</th>\n",
       "      <td>5475.76</td>\n",
       "      <td>1</td>\n",
       "      <td>0.00255</td>\n",
       "      <td>5461.80</td>\n",
       "      <td>5489.72</td>\n",
       "      <td>1.23</td>\n",
       "      <td>0.85</td>\n",
       "      <td>0.00</td>\n",
       "      <td>0.85</td>\n",
       "    </tr>\n",
       "    <tr>\n",
       "      <th>2024-07-02</th>\n",
       "      <td>5465.69</td>\n",
       "      <td>1</td>\n",
       "      <td>0.00250</td>\n",
       "      <td>5452.03</td>\n",
       "      <td>5479.35</td>\n",
       "      <td>-1.80</td>\n",
       "      <td>1.29</td>\n",
       "      <td>0.00</td>\n",
       "      <td>1.29</td>\n",
       "    </tr>\n",
       "  </tbody>\n",
       "</table>\n",
       "<p>293 rows × 9 columns</p>\n",
       "</div>"
      ],
      "text/plain": [
       "            c_market_open  regime  expected_move  lower_price  upper_price  \\\n",
       "t                                                                            \n",
       "2023-05-02        4153.26      -1        0.00300      4140.80      4165.72   \n",
       "2023-05-03        4125.70      -1        0.00600      4100.95      4150.45   \n",
       "2023-05-04        4081.20      -1        0.00465      4062.22      4100.18   \n",
       "2023-05-05        4104.23       1        0.00410      4087.40      4121.06   \n",
       "2023-05-08        4137.65       1        0.00320      4124.41      4150.89   \n",
       "...                   ...     ...            ...          ...          ...   \n",
       "2024-06-26        5457.73       1        0.00235      5444.90      5470.56   \n",
       "2024-06-27        5483.08       1        0.00240      5469.92      5496.24   \n",
       "2024-06-28        5496.61       1        0.00280      5481.22      5512.00   \n",
       "2024-07-01        5475.76       1        0.00255      5461.80      5489.72   \n",
       "2024-07-02        5465.69       1        0.00250      5452.03      5479.35   \n",
       "\n",
       "            pnl_call  pnl_put  pnl_c_n_reg  pnl_p_p_reg  \n",
       "t                                                        \n",
       "2023-05-02      0.90    -2.16         0.90         0.00  \n",
       "2023-05-03      1.31    -3.62         1.31         0.00  \n",
       "2023-05-04      1.10     1.08         1.10         0.00  \n",
       "2023-05-05     -5.85     1.10         0.00         1.10  \n",
       "2023-05-08      0.83     0.85         0.00         0.85  \n",
       "...              ...      ...          ...          ...  \n",
       "2024-06-26     -2.13     0.90         0.00         0.90  \n",
       "2024-06-27      1.10     0.84         0.00         0.84  \n",
       "2024-06-28      1.25    -3.76         0.00        -3.76  \n",
       "2024-07-01      1.23     0.85         0.00         0.85  \n",
       "2024-07-02     -1.80     1.29         0.00         1.29  \n",
       "\n",
       "[293 rows x 9 columns]"
      ]
     },
     "execution_count": 392,
     "metadata": {},
     "output_type": "execute_result"
    }
   ],
   "source": [
    "df_spx_algo"
   ]
  },
  {
   "cell_type": "code",
   "execution_count": 390,
   "id": "3d3d5429-3c4b-47a9-be3f-b95fddb3f4ec",
   "metadata": {},
   "outputs": [
    {
     "data": {
      "text/plain": [
       "<AxesSubplot:xlabel='t'>"
      ]
     },
     "execution_count": 390,
     "metadata": {},
     "output_type": "execute_result"
    },
    {
     "data": {
      "image/png": "[encoded data removed]",
      "text/plain": [
       "<Figure size 800x200 with 1 Axes>"
      ]
     },
     "metadata": {},
     "output_type": "display_data"
    }
   ],
   "source": [
    "df_spx_algo[[\"pnl_c_n_reg\", \"pnl_p_p_reg\"]].cumsum().plot(figsize=(8,2))"
   ]
  },
  {
   "cell_type": "code",
   "execution_count": null,
   "id": "f33e57ef-a250-422d-aa07-4e40f6fde369",
   "metadata": {},
   "outputs": [],
   "source": []
  },
  {
   "cell_type": "code",
   "execution_count": null,
   "id": "3c458e82-0df9-4eb0-aca1-0b0eef5de09a",
   "metadata": {},
   "outputs": [],
   "source": []
  },
  {
   "cell_type": "code",
   "execution_count": 388,
   "id": "8e2dfa7d-9b9d-40c8-a080-f3c07763d9ab",
   "metadata": {},
   "outputs": [
    {
     "data": {
      "text/html": [
       "<div>\n",
       "<style scoped>\n",
       "    .dataframe tbody tr th:only-of-type {\n",
       "        vertical-align: middle;\n",
       "    }\n",
       "\n",
       "    .dataframe tbody tr th {\n",
       "        vertical-align: top;\n",
       "    }\n",
       "\n",
       "    .dataframe thead th {\n",
       "        text-align: right;\n",
       "    }\n",
       "</style>\n",
       "<table border=\"1\" class=\"dataframe\">\n",
       "  <thead>\n",
       "    <tr style=\"text-align: right;\">\n",
       "      <th></th>\n",
       "      <th>pnl_call</th>\n",
       "      <th>pnl_put</th>\n",
       "    </tr>\n",
       "    <tr>\n",
       "      <th>regime</th>\n",
       "      <th></th>\n",
       "      <th></th>\n",
       "    </tr>\n",
       "  </thead>\n",
       "  <tbody>\n",
       "    <tr>\n",
       "      <th>-1</th>\n",
       "      <td>33.14</td>\n",
       "      <td>-74.90</td>\n",
       "    </tr>\n",
       "    <tr>\n",
       "      <th>1</th>\n",
       "      <td>-54.36</td>\n",
       "      <td>100.26</td>\n",
       "    </tr>\n",
       "  </tbody>\n",
       "</table>\n",
       "</div>"
      ],
      "text/plain": [
       "        pnl_call  pnl_put\n",
       "regime                   \n",
       "-1         33.14   -74.90\n",
       " 1        -54.36   100.26"
      ]
     },
     "execution_count": 388,
     "metadata": {},
     "output_type": "execute_result"
    }
   ],
   "source": [
    "df_spx_algo.groupby(\"regime\")[[\"pnl_call\", \"pnl_put\"]].sum()"
   ]
  },
  {
   "cell_type": "code",
   "execution_count": null,
   "id": "0929da42-bf4f-4838-b131-cd51729b5af0",
   "metadata": {},
   "outputs": [],
   "source": []
  },
  {
   "cell_type": "code",
   "execution_count": 157,
   "id": "f46d8533-811c-4f5f-98ce-29c12207fcbb",
   "metadata": {},
   "outputs": [
    {
     "name": "stderr",
     "output_type": "stream",
     "text": [
      "/var/folders/hh/x43xkncs2k7dm7t4vg3lt2cm0000gn/T/ipykernel_96764/2214457600.py:1: UserWarning: Boolean Series key will be reindexed to match DataFrame index.\n",
      "  df_spx_otm_call_options_spread_history[\n"
     ]
    },
    {
     "data": {
      "text/plain": [
       "c_market_o_s_call    323.67\n",
       "c_market_o_l_call    239.52\n",
       "market_o_spread       84.15\n",
       "c_market_c_s_call    196.58\n",
       "c_market_c_l_call    145.57\n",
       "market_c_spread       51.01\n",
       "pnl                   33.14\n",
       "dtype: float64"
      ]
     },
     "execution_count": 157,
     "metadata": {},
     "output_type": "execute_result"
    }
   ],
   "source": [
    "df_spx_otm_call_options_spread_history[\n",
    "    df_spx_algo[\"regime\"] < 0\n",
    "].sum()"
   ]
  },
  {
   "cell_type": "code",
   "execution_count": 158,
   "id": "204063f9-b7cd-4c83-b43c-51dd333272c0",
   "metadata": {},
   "outputs": [
    {
     "data": {
      "text/plain": [
       "c_market_o_s_call    1047.16\n",
       "c_market_o_l_call     732.10\n",
       "market_o_spread       315.06\n",
       "c_market_c_s_call    1132.63\n",
       "c_market_c_l_call     796.35\n",
       "market_c_spread       336.28\n",
       "pnl                   -21.22\n",
       "dtype: float64"
      ]
     },
     "execution_count": 158,
     "metadata": {},
     "output_type": "execute_result"
    }
   ],
   "source": [
    "df_spx_otm_call_options_spread_history.sum()"
   ]
  },
  {
   "cell_type": "code",
   "execution_count": null,
   "id": "1ce69efb-a545-4913-8283-ac54585d1ff0",
   "metadata": {},
   "outputs": [],
   "source": []
  },
  {
   "cell_type": "code",
   "execution_count": 159,
   "id": "bbaa8a37-4937-4f68-93b1-da349b156e65",
   "metadata": {},
   "outputs": [
    {
     "name": "stderr",
     "output_type": "stream",
     "text": [
      "/var/folders/hh/x43xkncs2k7dm7t4vg3lt2cm0000gn/T/ipykernel_96764/465159656.py:1: UserWarning: Boolean Series key will be reindexed to match DataFrame index.\n",
      "  df_spx_otm_put_options_spread_history[\n"
     ]
    },
    {
     "data": {
      "text/plain": [
       "c_market_o_s_put    896.91\n",
       "c_market_o_l_put    668.93\n",
       "market_o_spread     227.98\n",
       "c_market_c_s_put    478.88\n",
       "c_market_c_l_put    351.16\n",
       "market_c_spread     127.72\n",
       "pnl                 100.26\n",
       "dtype: float64"
      ]
     },
     "execution_count": 159,
     "metadata": {},
     "output_type": "execute_result"
    }
   ],
   "source": [
    "df_spx_otm_put_options_spread_history[\n",
    "    df_spx_algo[\"regime\"] > 0\n",
    "].sum()"
   ]
  },
  {
   "cell_type": "code",
   "execution_count": 160,
   "id": "2b8eb198-48cd-4638-a03e-a17aae3a5884",
   "metadata": {},
   "outputs": [
    {
     "data": {
      "text/plain": [
       "c_market_o_s_put    1306.32\n",
       "c_market_o_l_put     997.03\n",
       "market_o_spread      309.29\n",
       "c_market_c_s_put    1205.80\n",
       "c_market_c_l_put     921.87\n",
       "market_c_spread      283.93\n",
       "pnl                   25.36\n",
       "dtype: float64"
      ]
     },
     "execution_count": 160,
     "metadata": {},
     "output_type": "execute_result"
    }
   ],
   "source": [
    "df_spx_otm_put_options_spread_history.sum()"
   ]
  },
  {
   "cell_type": "code",
   "execution_count": null,
   "id": "f42ce38f-76b0-46f6-ada4-b016937631cc",
   "metadata": {},
   "outputs": [],
   "source": []
  },
  {
   "cell_type": "code",
   "execution_count": null,
   "id": "6348013f-c268-4c87-8706-b22ce922cdfa",
   "metadata": {},
   "outputs": [],
   "source": []
  },
  {
   "cell_type": "code",
   "execution_count": 394,
   "id": "730f9bc9-8062-4d33-ab59-41fa5889dece",
   "metadata": {},
   "outputs": [],
   "source": [
    "df_goog_algo = df_goog_daily_expectation.join(df_goog_otm_call_options_spread_history[[\"pnl\"]].add_suffix(\"_call\")).join(\n",
    "    df_goog_otm_put_options_spread_history[[\"pnl\"]].add_suffix(\"_put\")\n",
    ")\n",
    "df_goog_algo['pnl_c_n_reg'] = np.where(df_goog_algo.regime < 0, df_goog_algo.pnl_call, 0)\n",
    "df_goog_algo['pnl_p_p_reg'] = np.where(df_goog_algo.regime > 0, df_goog_algo.pnl_put, 0)"
   ]
  },
  {
   "cell_type": "code",
   "execution_count": 395,
   "id": "2a45631e-d4f5-4344-92be-33e4b385168a",
   "metadata": {},
   "outputs": [
    {
     "data": {
      "text/plain": [
       "<AxesSubplot:xlabel='t'>"
      ]
     },
     "execution_count": 395,
     "metadata": {},
     "output_type": "execute_result"
    },
    {
     "data": {
      "image/png": "[encoded data removed]",
      "text/plain": [
       "<Figure size 800x200 with 1 Axes>"
      ]
     },
     "metadata": {},
     "output_type": "display_data"
    }
   ],
   "source": [
    "df_goog_algo[[\"pnl_c_n_reg\", \"pnl_p_p_reg\"]].cumsum().plot(figsize=(8,2))"
   ]
  },
  {
   "cell_type": "code",
   "execution_count": 259,
   "id": "6367d8ed-8591-4ca0-b5e8-980936bc8be3",
   "metadata": {},
   "outputs": [
    {
     "data": {
      "text/html": [
       "<div>\n",
       "<style scoped>\n",
       "    .dataframe tbody tr th:only-of-type {\n",
       "        vertical-align: middle;\n",
       "    }\n",
       "\n",
       "    .dataframe tbody tr th {\n",
       "        vertical-align: top;\n",
       "    }\n",
       "\n",
       "    .dataframe thead th {\n",
       "        text-align: right;\n",
       "    }\n",
       "</style>\n",
       "<table border=\"1\" class=\"dataframe\">\n",
       "  <thead>\n",
       "    <tr style=\"text-align: right;\">\n",
       "      <th></th>\n",
       "      <th>pnl_call</th>\n",
       "      <th>pnl_put</th>\n",
       "    </tr>\n",
       "    <tr>\n",
       "      <th>regime</th>\n",
       "      <th></th>\n",
       "      <th></th>\n",
       "    </tr>\n",
       "  </thead>\n",
       "  <tbody>\n",
       "    <tr>\n",
       "      <th>-1</th>\n",
       "      <td>2.33</td>\n",
       "      <td>0.86</td>\n",
       "    </tr>\n",
       "    <tr>\n",
       "      <th>1</th>\n",
       "      <td>2.63</td>\n",
       "      <td>3.39</td>\n",
       "    </tr>\n",
       "  </tbody>\n",
       "</table>\n",
       "</div>"
      ],
      "text/plain": [
       "        pnl_call  pnl_put\n",
       "regime                   \n",
       "-1          2.33     0.86\n",
       " 1          2.63     3.39"
      ]
     },
     "execution_count": 259,
     "metadata": {},
     "output_type": "execute_result"
    }
   ],
   "source": [
    "df_goog_algo.groupby(\"regime\")[[\"pnl_call\", \"pnl_put\"]].sum()"
   ]
  },
  {
   "cell_type": "code",
   "execution_count": null,
   "id": "668c3f01-6ba6-4fb0-98d2-60301e39d99b",
   "metadata": {},
   "outputs": [],
   "source": []
  },
  {
   "cell_type": "code",
   "execution_count": 396,
   "id": "15b5e016-3978-485f-a4d8-5ca3c6d9a305",
   "metadata": {},
   "outputs": [],
   "source": [
    "df_sbux_algo = df_sbux_daily_expectation.join(df_sbux_otm_call_options_spread_history[[\"pnl\"]].add_suffix(\"_call\")).join(\n",
    "    df_sbux_otm_put_options_spread_history[[\"pnl\"]].add_suffix(\"_put\")\n",
    ")\n",
    "df_sbux_algo['pnl_c_n_reg'] = np.where(df_sbux_algo.regime < 0, df_sbux_algo.pnl_call, 0)\n",
    "df_sbux_algo['pnl_p_p_reg'] = np.where(df_sbux_algo.regime > 0, df_sbux_algo.pnl_put, 0)"
   ]
  },
  {
   "cell_type": "code",
   "execution_count": 397,
   "id": "a2031dd6-8dac-495e-ae55-1b0327ec8092",
   "metadata": {},
   "outputs": [
    {
     "data": {
      "text/plain": [
       "<AxesSubplot:xlabel='t'>"
      ]
     },
     "execution_count": 397,
     "metadata": {},
     "output_type": "execute_result"
    },
    {
     "data": {
      "image/png": "[encoded data removed]",
      "text/plain": [
       "<Figure size 800x200 with 1 Axes>"
      ]
     },
     "metadata": {},
     "output_type": "display_data"
    }
   ],
   "source": [
    "df_sbux_algo[[\"pnl_c_n_reg\", \"pnl_p_p_reg\"]].cumsum().plot(figsize=(8,2))"
   ]
  },
  {
   "cell_type": "code",
   "execution_count": 264,
   "id": "7a5f9d80-0428-490c-9cfc-ecbf57277412",
   "metadata": {},
   "outputs": [
    {
     "data": {
      "text/html": [
       "<div>\n",
       "<style scoped>\n",
       "    .dataframe tbody tr th:only-of-type {\n",
       "        vertical-align: middle;\n",
       "    }\n",
       "\n",
       "    .dataframe tbody tr th {\n",
       "        vertical-align: top;\n",
       "    }\n",
       "\n",
       "    .dataframe thead th {\n",
       "        text-align: right;\n",
       "    }\n",
       "</style>\n",
       "<table border=\"1\" class=\"dataframe\">\n",
       "  <thead>\n",
       "    <tr style=\"text-align: right;\">\n",
       "      <th></th>\n",
       "      <th>pnl_call</th>\n",
       "      <th>pnl_put</th>\n",
       "    </tr>\n",
       "    <tr>\n",
       "      <th>regime</th>\n",
       "      <th></th>\n",
       "      <th></th>\n",
       "    </tr>\n",
       "  </thead>\n",
       "  <tbody>\n",
       "    <tr>\n",
       "      <th>-1</th>\n",
       "      <td>0.90</td>\n",
       "      <td>-0.54</td>\n",
       "    </tr>\n",
       "    <tr>\n",
       "      <th>1</th>\n",
       "      <td>-0.14</td>\n",
       "      <td>-0.66</td>\n",
       "    </tr>\n",
       "  </tbody>\n",
       "</table>\n",
       "</div>"
      ],
      "text/plain": [
       "        pnl_call  pnl_put\n",
       "regime                   \n",
       "-1          0.90    -0.54\n",
       " 1         -0.14    -0.66"
      ]
     },
     "execution_count": 264,
     "metadata": {},
     "output_type": "execute_result"
    }
   ],
   "source": [
    "df_sbux_algo.groupby(\"regime\")[[\"pnl_call\", \"pnl_put\"]].sum()"
   ]
  },
  {
   "cell_type": "code",
   "execution_count": null,
   "id": "48bc3bd7-203d-47b4-afde-6eb75d9ad23a",
   "metadata": {},
   "outputs": [],
   "source": []
  },
  {
   "cell_type": "markdown",
   "id": "3a159fef-0888-46da-959a-7a37258e2e39",
   "metadata": {
    "tags": []
   },
   "source": [
    "## volatility calc"
   ]
  },
  {
   "cell_type": "code",
   "execution_count": 125,
   "id": "d220683f-9143-4a2b-ace5-a28f38ba9308",
   "metadata": {
    "execution": {
     "iopub.execute_input": "2024-07-10T19:52:41.885707Z",
     "iopub.status.busy": "2024-07-10T19:52:41.885453Z",
     "iopub.status.idle": "2024-07-10T19:52:41.893388Z",
     "shell.execute_reply": "2024-07-10T19:52:41.892815Z",
     "shell.execute_reply.started": "2024-07-10T19:52:41.885682Z"
    }
   },
   "outputs": [
    {
     "data": {
      "text/html": [
       "<div>\n",
       "<style scoped>\n",
       "    .dataframe tbody tr th:only-of-type {\n",
       "        vertical-align: middle;\n",
       "    }\n",
       "\n",
       "    .dataframe tbody tr th {\n",
       "        vertical-align: top;\n",
       "    }\n",
       "\n",
       "    .dataframe thead th {\n",
       "        text-align: right;\n",
       "    }\n",
       "</style>\n",
       "<table border=\"1\" class=\"dataframe\">\n",
       "  <thead>\n",
       "    <tr style=\"text-align: right;\">\n",
       "      <th></th>\n",
       "      <th>atm_call_vol</th>\n",
       "      <th>atm_put_vol</th>\n",
       "    </tr>\n",
       "    <tr>\n",
       "      <th>date</th>\n",
       "      <th></th>\n",
       "      <th></th>\n",
       "    </tr>\n",
       "  </thead>\n",
       "  <tbody>\n",
       "    <tr>\n",
       "      <th>2023-05-02</th>\n",
       "      <td>0.126841</td>\n",
       "      <td>0.467520</td>\n",
       "    </tr>\n",
       "    <tr>\n",
       "      <th>2023-05-03</th>\n",
       "      <td>0.245509</td>\n",
       "      <td>0.277453</td>\n",
       "    </tr>\n",
       "    <tr>\n",
       "      <th>2023-05-04</th>\n",
       "      <td>0.206451</td>\n",
       "      <td>0.318878</td>\n",
       "    </tr>\n",
       "    <tr>\n",
       "      <th>2023-05-08</th>\n",
       "      <td>0.466368</td>\n",
       "      <td>0.172826</td>\n",
       "    </tr>\n",
       "    <tr>\n",
       "      <th>2023-05-09</th>\n",
       "      <td>0.214586</td>\n",
       "      <td>0.505248</td>\n",
       "    </tr>\n",
       "    <tr>\n",
       "      <th>...</th>\n",
       "      <td>...</td>\n",
       "      <td>...</td>\n",
       "    </tr>\n",
       "    <tr>\n",
       "      <th>2024-06-25</th>\n",
       "      <td>0.500564</td>\n",
       "      <td>0.011800</td>\n",
       "    </tr>\n",
       "    <tr>\n",
       "      <th>2024-06-26</th>\n",
       "      <td>0.239714</td>\n",
       "      <td>0.117299</td>\n",
       "    </tr>\n",
       "    <tr>\n",
       "      <th>2024-06-27</th>\n",
       "      <td>0.214726</td>\n",
       "      <td>0.145308</td>\n",
       "    </tr>\n",
       "    <tr>\n",
       "      <th>2024-07-01</th>\n",
       "      <td>0.126260</td>\n",
       "      <td>0.165335</td>\n",
       "    </tr>\n",
       "    <tr>\n",
       "      <th>2024-07-02</th>\n",
       "      <td>0.510457</td>\n",
       "      <td>0.062218</td>\n",
       "    </tr>\n",
       "  </tbody>\n",
       "</table>\n",
       "<p>229 rows × 2 columns</p>\n",
       "</div>"
      ],
      "text/plain": [
       "            atm_call_vol  atm_put_vol\n",
       "date                                 \n",
       "2023-05-02      0.126841     0.467520\n",
       "2023-05-03      0.245509     0.277453\n",
       "2023-05-04      0.206451     0.318878\n",
       "2023-05-08      0.466368     0.172826\n",
       "2023-05-09      0.214586     0.505248\n",
       "...                  ...          ...\n",
       "2024-06-25      0.500564     0.011800\n",
       "2024-06-26      0.239714     0.117299\n",
       "2024-06-27      0.214726     0.145308\n",
       "2024-07-01      0.126260     0.165335\n",
       "2024-07-02      0.510457     0.062218\n",
       "\n",
       "[229 rows x 2 columns]"
      ]
     },
     "execution_count": 125,
     "metadata": {},
     "output_type": "execute_result"
    }
   ],
   "source": [
    "df_goog_atm_vol_history"
   ]
  },
  {
   "cell_type": "code",
   "execution_count": null,
   "id": "ce8185bc-3763-40d5-8a36-343711a85eb1",
   "metadata": {},
   "outputs": [],
   "source": []
  },
  {
   "cell_type": "code",
   "execution_count": 147,
   "id": "d08d8520-c1f3-491b-b05b-db0dd3809bb3",
   "metadata": {
    "execution": {
     "iopub.execute_input": "2024-07-10T20:11:00.875171Z",
     "iopub.status.busy": "2024-07-10T20:11:00.874985Z",
     "iopub.status.idle": "2024-07-10T20:11:00.883669Z",
     "shell.execute_reply": "2024-07-10T20:11:00.882245Z",
     "shell.execute_reply.started": "2024-07-10T20:11:00.875155Z"
    }
   },
   "outputs": [
    {
     "data": {
      "text/html": [
       "<div>\n",
       "<style scoped>\n",
       "    .dataframe tbody tr th:only-of-type {\n",
       "        vertical-align: middle;\n",
       "    }\n",
       "\n",
       "    .dataframe tbody tr th {\n",
       "        vertical-align: top;\n",
       "    }\n",
       "\n",
       "    .dataframe thead th {\n",
       "        text-align: right;\n",
       "    }\n",
       "</style>\n",
       "<table border=\"1\" class=\"dataframe\">\n",
       "  <thead>\n",
       "    <tr style=\"text-align: right;\">\n",
       "      <th></th>\n",
       "      <th>atm_call_vol</th>\n",
       "      <th>atm_put_vol</th>\n",
       "    </tr>\n",
       "    <tr>\n",
       "      <th>date</th>\n",
       "      <th></th>\n",
       "      <th></th>\n",
       "    </tr>\n",
       "  </thead>\n",
       "  <tbody>\n",
       "    <tr>\n",
       "      <th>2023-05-02</th>\n",
       "      <td>0.702781</td>\n",
       "      <td>0.485083</td>\n",
       "    </tr>\n",
       "    <tr>\n",
       "      <th>2023-05-03</th>\n",
       "      <td>0.044233</td>\n",
       "      <td>1.038099</td>\n",
       "    </tr>\n",
       "    <tr>\n",
       "      <th>2023-05-04</th>\n",
       "      <td>0.327851</td>\n",
       "      <td>0.185386</td>\n",
       "    </tr>\n",
       "    <tr>\n",
       "      <th>2023-05-08</th>\n",
       "      <td>0.073481</td>\n",
       "      <td>0.316931</td>\n",
       "    </tr>\n",
       "    <tr>\n",
       "      <th>2023-05-09</th>\n",
       "      <td>0.154371</td>\n",
       "      <td>0.234832</td>\n",
       "    </tr>\n",
       "    <tr>\n",
       "      <th>...</th>\n",
       "      <td>...</td>\n",
       "      <td>...</td>\n",
       "    </tr>\n",
       "    <tr>\n",
       "      <th>2024-06-25</th>\n",
       "      <td>0.068934</td>\n",
       "      <td>0.341830</td>\n",
       "    </tr>\n",
       "    <tr>\n",
       "      <th>2024-06-26</th>\n",
       "      <td>0.238235</td>\n",
       "      <td>0.185473</td>\n",
       "    </tr>\n",
       "    <tr>\n",
       "      <th>2024-06-27</th>\n",
       "      <td>0.314074</td>\n",
       "      <td>0.132033</td>\n",
       "    </tr>\n",
       "    <tr>\n",
       "      <th>2024-07-01</th>\n",
       "      <td>0.081939</td>\n",
       "      <td>0.307694</td>\n",
       "    </tr>\n",
       "    <tr>\n",
       "      <th>2024-07-02</th>\n",
       "      <td>0.119735</td>\n",
       "      <td>0.160666</td>\n",
       "    </tr>\n",
       "  </tbody>\n",
       "</table>\n",
       "<p>230 rows × 2 columns</p>\n",
       "</div>"
      ],
      "text/plain": [
       "            atm_call_vol  atm_put_vol\n",
       "date                                 \n",
       "2023-05-02      0.702781     0.485083\n",
       "2023-05-03      0.044233     1.038099\n",
       "2023-05-04      0.327851     0.185386\n",
       "2023-05-08      0.073481     0.316931\n",
       "2023-05-09      0.154371     0.234832\n",
       "...                  ...          ...\n",
       "2024-06-25      0.068934     0.341830\n",
       "2024-06-26      0.238235     0.185473\n",
       "2024-06-27      0.314074     0.132033\n",
       "2024-07-01      0.081939     0.307694\n",
       "2024-07-02      0.119735     0.160666\n",
       "\n",
       "[230 rows x 2 columns]"
      ]
     },
     "execution_count": 147,
     "metadata": {},
     "output_type": "execute_result"
    }
   ],
   "source": [
    "df_sbux_atm_vol_history"
   ]
  },
  {
   "cell_type": "code",
   "execution_count": null,
   "id": "578b4a9d-4a31-455c-85a0-9ad6724c8280",
   "metadata": {},
   "outputs": [],
   "source": []
  },
  {
   "cell_type": "code",
   "execution_count": 128,
   "id": "b9032cb0-8458-491e-9575-85a6f38d098a",
   "metadata": {
    "execution": {
     "iopub.execute_input": "2024-07-10T19:57:53.987686Z",
     "iopub.status.busy": "2024-07-10T19:57:53.986495Z",
     "iopub.status.idle": "2024-07-10T19:57:53.994446Z",
     "shell.execute_reply": "2024-07-10T19:57:53.994019Z",
     "shell.execute_reply.started": "2024-07-10T19:57:53.987626Z"
    }
   },
   "outputs": [],
   "source": [
    "df_goog_atm_vol_history[\"expected_move\"] = ((df_goog_atm_vol_history.atm_call_vol + df_goog_atm_vol_history.atm_put_vol) / 2 / np.sqrt(252))"
   ]
  },
  {
   "cell_type": "code",
   "execution_count": 149,
   "id": "761f4d4c-8e0c-4965-b4fc-2f381d1388b6",
   "metadata": {
    "execution": {
     "iopub.execute_input": "2024-07-10T20:11:42.510381Z",
     "iopub.status.busy": "2024-07-10T20:11:42.509651Z",
     "iopub.status.idle": "2024-07-10T20:11:42.515202Z",
     "shell.execute_reply": "2024-07-10T20:11:42.514392Z",
     "shell.execute_reply.started": "2024-07-10T20:11:42.510332Z"
    }
   },
   "outputs": [],
   "source": [
    "df_sbux_atm_vol_history[\"expected_move\"] = ((df_sbux_atm_vol_history.atm_call_vol + df_sbux_atm_vol_history.atm_put_vol) / 2 / np.sqrt(252))"
   ]
  },
  {
   "cell_type": "code",
   "execution_count": null,
   "id": "41244d29-403c-4897-a7c0-9b4182229abf",
   "metadata": {},
   "outputs": [],
   "source": []
  },
  {
   "cell_type": "code",
   "execution_count": null,
   "id": "847413fa-ee89-4e33-aa76-732750d16451",
   "metadata": {},
   "outputs": [],
   "source": []
  },
  {
   "cell_type": "code",
   "execution_count": 131,
   "id": "aa4927f5-3dab-45d1-9216-178cece9a682",
   "metadata": {
    "execution": {
     "iopub.execute_input": "2024-07-10T19:59:38.893655Z",
     "iopub.status.busy": "2024-07-10T19:59:38.892715Z",
     "iopub.status.idle": "2024-07-10T19:59:44.397759Z",
     "shell.execute_reply": "2024-07-10T19:59:44.397113Z",
     "shell.execute_reply.started": "2024-07-10T19:59:38.893623Z"
    }
   },
   "outputs": [],
   "source": [
    "df_goog_market_close_history = get_df_market_open_or_close_history_from_intraday_history(df_goog_intraday_history, \"close\")\n",
    "df_goog_market_open_close_history = df_goog_market_open_history.join(df_goog_market_close_history, lsuffix=\"_open\", rsuffix=\"_close\")\n",
    "df_goog_market_open_close_history[\"actual_change\"] = df_goog_market_open_close_history.c_close - df_goog_market_open_close_history.c_open"
   ]
  },
  {
   "cell_type": "code",
   "execution_count": 140,
   "id": "aa86013e-c726-4337-a45b-38a5e39f21ff",
   "metadata": {
    "execution": {
     "iopub.execute_input": "2024-07-10T20:03:10.154105Z",
     "iopub.status.busy": "2024-07-10T20:03:10.153840Z",
     "iopub.status.idle": "2024-07-10T20:03:10.159576Z",
     "shell.execute_reply": "2024-07-10T20:03:10.159041Z",
     "shell.execute_reply.started": "2024-07-10T20:03:10.154086Z"
    }
   },
   "outputs": [],
   "source": [
    "df_goog_daily_expectation_actual = df_goog_daily_expectation.join(df_goog_market_open_close_history[\"actual_change\"])\n",
    "df_goog_daily_expectation_actual[\"expected_change_size\"] = df_goog_daily_expectation_actual.upper_price - df_goog_daily_expectation_actual.lower_price"
   ]
  },
  {
   "cell_type": "code",
   "execution_count": 141,
   "id": "3a96b1f0-19e4-4b4b-a5b5-06843dac4687",
   "metadata": {
    "execution": {
     "iopub.execute_input": "2024-07-10T20:03:10.641322Z",
     "iopub.status.busy": "2024-07-10T20:03:10.641106Z",
     "iopub.status.idle": "2024-07-10T20:03:10.651943Z",
     "shell.execute_reply": "2024-07-10T20:03:10.651238Z",
     "shell.execute_reply.started": "2024-07-10T20:03:10.641307Z"
    }
   },
   "outputs": [
    {
     "data": {
      "text/html": [
       "<div>\n",
       "<style scoped>\n",
       "    .dataframe tbody tr th:only-of-type {\n",
       "        vertical-align: middle;\n",
       "    }\n",
       "\n",
       "    .dataframe tbody tr th {\n",
       "        vertical-align: top;\n",
       "    }\n",
       "\n",
       "    .dataframe thead th {\n",
       "        text-align: right;\n",
       "    }\n",
       "</style>\n",
       "<table border=\"1\" class=\"dataframe\">\n",
       "  <thead>\n",
       "    <tr style=\"text-align: right;\">\n",
       "      <th></th>\n",
       "      <th>c_open</th>\n",
       "      <th>c_close</th>\n",
       "      <th>actual_change</th>\n",
       "    </tr>\n",
       "    <tr>\n",
       "      <th>t</th>\n",
       "      <th></th>\n",
       "      <th></th>\n",
       "      <th></th>\n",
       "    </tr>\n",
       "  </thead>\n",
       "  <tbody>\n",
       "    <tr>\n",
       "      <th>2023-05-02</th>\n",
       "      <td>107.590</td>\n",
       "      <td>106.04</td>\n",
       "      <td>-1.550</td>\n",
       "    </tr>\n",
       "    <tr>\n",
       "      <th>2023-05-03</th>\n",
       "      <td>106.300</td>\n",
       "      <td>106.33</td>\n",
       "      <td>0.030</td>\n",
       "    </tr>\n",
       "    <tr>\n",
       "      <th>2023-05-04</th>\n",
       "      <td>105.555</td>\n",
       "      <td>105.28</td>\n",
       "      <td>-0.275</td>\n",
       "    </tr>\n",
       "    <tr>\n",
       "      <th>2023-05-05</th>\n",
       "      <td>105.255</td>\n",
       "      <td>105.94</td>\n",
       "      <td>0.685</td>\n",
       "    </tr>\n",
       "    <tr>\n",
       "      <th>2023-05-08</th>\n",
       "      <td>106.650</td>\n",
       "      <td>108.99</td>\n",
       "      <td>2.340</td>\n",
       "    </tr>\n",
       "    <tr>\n",
       "      <th>...</th>\n",
       "      <td>...</td>\n",
       "      <td>...</td>\n",
       "      <td>...</td>\n",
       "    </tr>\n",
       "    <tr>\n",
       "      <th>2024-06-26</th>\n",
       "      <td>184.630</td>\n",
       "      <td>184.95</td>\n",
       "      <td>0.320</td>\n",
       "    </tr>\n",
       "    <tr>\n",
       "      <th>2024-06-27</th>\n",
       "      <td>186.650</td>\n",
       "      <td>187.35</td>\n",
       "      <td>0.700</td>\n",
       "    </tr>\n",
       "    <tr>\n",
       "      <th>2024-06-28</th>\n",
       "      <td>184.450</td>\n",
       "      <td>183.95</td>\n",
       "      <td>-0.500</td>\n",
       "    </tr>\n",
       "    <tr>\n",
       "      <th>2024-07-01</th>\n",
       "      <td>184.790</td>\n",
       "      <td>184.19</td>\n",
       "      <td>-0.600</td>\n",
       "    </tr>\n",
       "    <tr>\n",
       "      <th>2024-07-02</th>\n",
       "      <td>183.455</td>\n",
       "      <td>186.61</td>\n",
       "      <td>3.155</td>\n",
       "    </tr>\n",
       "  </tbody>\n",
       "</table>\n",
       "<p>293 rows × 3 columns</p>\n",
       "</div>"
      ],
      "text/plain": [
       "             c_open  c_close  actual_change\n",
       "t                                          \n",
       "2023-05-02  107.590   106.04         -1.550\n",
       "2023-05-03  106.300   106.33          0.030\n",
       "2023-05-04  105.555   105.28         -0.275\n",
       "2023-05-05  105.255   105.94          0.685\n",
       "2023-05-08  106.650   108.99          2.340\n",
       "...             ...      ...            ...\n",
       "2024-06-26  184.630   184.95          0.320\n",
       "2024-06-27  186.650   187.35          0.700\n",
       "2024-06-28  184.450   183.95         -0.500\n",
       "2024-07-01  184.790   184.19         -0.600\n",
       "2024-07-02  183.455   186.61          3.155\n",
       "\n",
       "[293 rows x 3 columns]"
      ]
     },
     "execution_count": 141,
     "metadata": {},
     "output_type": "execute_result"
    }
   ],
   "source": [
    "df_goog_market_open_close_history"
   ]
  },
  {
   "cell_type": "code",
   "execution_count": 142,
   "id": "cbb2070f-4cba-4651-a4c8-def7dec3e231",
   "metadata": {
    "execution": {
     "iopub.execute_input": "2024-07-10T20:03:11.194093Z",
     "iopub.status.busy": "2024-07-10T20:03:11.193838Z",
     "iopub.status.idle": "2024-07-10T20:03:11.207853Z",
     "shell.execute_reply": "2024-07-10T20:03:11.207388Z",
     "shell.execute_reply.started": "2024-07-10T20:03:11.194076Z"
    }
   },
   "outputs": [
    {
     "data": {
      "text/html": [
       "<div>\n",
       "<style scoped>\n",
       "    .dataframe tbody tr th:only-of-type {\n",
       "        vertical-align: middle;\n",
       "    }\n",
       "\n",
       "    .dataframe tbody tr th {\n",
       "        vertical-align: top;\n",
       "    }\n",
       "\n",
       "    .dataframe thead th {\n",
       "        text-align: right;\n",
       "    }\n",
       "</style>\n",
       "<table border=\"1\" class=\"dataframe\">\n",
       "  <thead>\n",
       "    <tr style=\"text-align: right;\">\n",
       "      <th></th>\n",
       "      <th>c_market_open</th>\n",
       "      <th>regime</th>\n",
       "      <th>expected_move</th>\n",
       "      <th>lower_price</th>\n",
       "      <th>upper_price</th>\n",
       "      <th>actual_change</th>\n",
       "      <th>expected_change_size</th>\n",
       "    </tr>\n",
       "    <tr>\n",
       "      <th>t</th>\n",
       "      <th></th>\n",
       "      <th></th>\n",
       "      <th></th>\n",
       "      <th></th>\n",
       "      <th></th>\n",
       "      <th></th>\n",
       "      <th></th>\n",
       "    </tr>\n",
       "  </thead>\n",
       "  <tbody>\n",
       "    <tr>\n",
       "      <th>2023-05-02</th>\n",
       "      <td>107.590</td>\n",
       "      <td>-1</td>\n",
       "      <td>0.00300</td>\n",
       "      <td>107.27</td>\n",
       "      <td>107.91</td>\n",
       "      <td>-1.550</td>\n",
       "      <td>0.64</td>\n",
       "    </tr>\n",
       "    <tr>\n",
       "      <th>2023-05-03</th>\n",
       "      <td>106.300</td>\n",
       "      <td>-1</td>\n",
       "      <td>0.00600</td>\n",
       "      <td>105.66</td>\n",
       "      <td>106.94</td>\n",
       "      <td>0.030</td>\n",
       "      <td>1.28</td>\n",
       "    </tr>\n",
       "    <tr>\n",
       "      <th>2023-05-04</th>\n",
       "      <td>105.555</td>\n",
       "      <td>-1</td>\n",
       "      <td>0.00465</td>\n",
       "      <td>105.06</td>\n",
       "      <td>106.05</td>\n",
       "      <td>-0.275</td>\n",
       "      <td>0.99</td>\n",
       "    </tr>\n",
       "    <tr>\n",
       "      <th>2023-05-05</th>\n",
       "      <td>105.255</td>\n",
       "      <td>1</td>\n",
       "      <td>0.00410</td>\n",
       "      <td>104.82</td>\n",
       "      <td>105.69</td>\n",
       "      <td>0.685</td>\n",
       "      <td>0.87</td>\n",
       "    </tr>\n",
       "    <tr>\n",
       "      <th>2023-05-08</th>\n",
       "      <td>106.650</td>\n",
       "      <td>1</td>\n",
       "      <td>0.00320</td>\n",
       "      <td>106.31</td>\n",
       "      <td>106.99</td>\n",
       "      <td>2.340</td>\n",
       "      <td>0.68</td>\n",
       "    </tr>\n",
       "    <tr>\n",
       "      <th>...</th>\n",
       "      <td>...</td>\n",
       "      <td>...</td>\n",
       "      <td>...</td>\n",
       "      <td>...</td>\n",
       "      <td>...</td>\n",
       "      <td>...</td>\n",
       "      <td>...</td>\n",
       "    </tr>\n",
       "    <tr>\n",
       "      <th>2024-06-26</th>\n",
       "      <td>184.630</td>\n",
       "      <td>1</td>\n",
       "      <td>0.00235</td>\n",
       "      <td>184.20</td>\n",
       "      <td>185.06</td>\n",
       "      <td>0.320</td>\n",
       "      <td>0.86</td>\n",
       "    </tr>\n",
       "    <tr>\n",
       "      <th>2024-06-27</th>\n",
       "      <td>186.650</td>\n",
       "      <td>1</td>\n",
       "      <td>0.00240</td>\n",
       "      <td>186.20</td>\n",
       "      <td>187.10</td>\n",
       "      <td>0.700</td>\n",
       "      <td>0.90</td>\n",
       "    </tr>\n",
       "    <tr>\n",
       "      <th>2024-06-28</th>\n",
       "      <td>184.450</td>\n",
       "      <td>1</td>\n",
       "      <td>0.00280</td>\n",
       "      <td>183.93</td>\n",
       "      <td>184.97</td>\n",
       "      <td>-0.500</td>\n",
       "      <td>1.04</td>\n",
       "    </tr>\n",
       "    <tr>\n",
       "      <th>2024-07-01</th>\n",
       "      <td>184.790</td>\n",
       "      <td>1</td>\n",
       "      <td>0.00255</td>\n",
       "      <td>184.32</td>\n",
       "      <td>185.26</td>\n",
       "      <td>-0.600</td>\n",
       "      <td>0.94</td>\n",
       "    </tr>\n",
       "    <tr>\n",
       "      <th>2024-07-02</th>\n",
       "      <td>183.455</td>\n",
       "      <td>1</td>\n",
       "      <td>0.00250</td>\n",
       "      <td>183.00</td>\n",
       "      <td>183.91</td>\n",
       "      <td>3.155</td>\n",
       "      <td>0.91</td>\n",
       "    </tr>\n",
       "  </tbody>\n",
       "</table>\n",
       "<p>293 rows × 7 columns</p>\n",
       "</div>"
      ],
      "text/plain": [
       "            c_market_open  regime  expected_move  lower_price  upper_price  \\\n",
       "t                                                                            \n",
       "2023-05-02        107.590      -1        0.00300       107.27       107.91   \n",
       "2023-05-03        106.300      -1        0.00600       105.66       106.94   \n",
       "2023-05-04        105.555      -1        0.00465       105.06       106.05   \n",
       "2023-05-05        105.255       1        0.00410       104.82       105.69   \n",
       "2023-05-08        106.650       1        0.00320       106.31       106.99   \n",
       "...                   ...     ...            ...          ...          ...   \n",
       "2024-06-26        184.630       1        0.00235       184.20       185.06   \n",
       "2024-06-27        186.650       1        0.00240       186.20       187.10   \n",
       "2024-06-28        184.450       1        0.00280       183.93       184.97   \n",
       "2024-07-01        184.790       1        0.00255       184.32       185.26   \n",
       "2024-07-02        183.455       1        0.00250       183.00       183.91   \n",
       "\n",
       "            actual_change  expected_change_size  \n",
       "t                                                \n",
       "2023-05-02         -1.550                  0.64  \n",
       "2023-05-03          0.030                  1.28  \n",
       "2023-05-04         -0.275                  0.99  \n",
       "2023-05-05          0.685                  0.87  \n",
       "2023-05-08          2.340                  0.68  \n",
       "...                   ...                   ...  \n",
       "2024-06-26          0.320                  0.86  \n",
       "2024-06-27          0.700                  0.90  \n",
       "2024-06-28         -0.500                  1.04  \n",
       "2024-07-01         -0.600                  0.94  \n",
       "2024-07-02          3.155                  0.91  \n",
       "\n",
       "[293 rows x 7 columns]"
      ]
     },
     "execution_count": 142,
     "metadata": {},
     "output_type": "execute_result"
    }
   ],
   "source": [
    "df_goog_daily_expectation_actual"
   ]
  },
  {
   "cell_type": "code",
   "execution_count": 154,
   "id": "453ad49b-f719-4e73-a93c-23359bd39ef7",
   "metadata": {
    "execution": {
     "iopub.execute_input": "2024-07-10T20:13:59.454655Z",
     "iopub.status.busy": "2024-07-10T20:13:59.454398Z",
     "iopub.status.idle": "2024-07-10T20:13:59.585981Z",
     "shell.execute_reply": "2024-07-10T20:13:59.585429Z",
     "shell.execute_reply.started": "2024-07-10T20:13:59.454637Z"
    }
   },
   "outputs": [
    {
     "name": "stderr",
     "output_type": "stream",
     "text": [
      "/tmp/ipykernel_9519/4077352078.py:3: UserWarning: color is redundantly defined by the 'color' keyword argument and the fmt string \"k-\" (-> color='k'). The keyword argument will take precedence.\n",
      "  ax.plot([0, 2], [0, 2], 'k-', color = 'r')\n"
     ]
    },
    {
     "data": {
      "text/plain": [
       "[<matplotlib.lines.Line2D at 0x786ff6bb4970>]"
      ]
     },
     "execution_count": 154,
     "metadata": {},
     "output_type": "execute_result"
    },
    {
     "data": {
      "image/png": "[encoded data removed]",
      "text/plain": [
       "<Figure size 640x480 with 1 Axes>"
      ]
     },
     "metadata": {},
     "output_type": "display_data"
    }
   ],
   "source": [
    "fig, ax = plt.subplots()\n",
    "ax.scatter(df_goog_daily_expectation_actual[[\"expected_change_size\"]], df_goog_daily_expectation_actual[[\"actual_change\"]].abs(), s=1)\n",
    "ax.plot([0, 2], [0, 2], 'k-', color = 'r')"
   ]
  },
  {
   "cell_type": "code",
   "execution_count": null,
   "id": "653b560b-7cdb-468c-bd0b-f6498c174d2d",
   "metadata": {},
   "outputs": [],
   "source": []
  },
  {
   "cell_type": "code",
   "execution_count": null,
   "id": "e53ad263-8b01-4a55-97e9-1d029d4897e2",
   "metadata": {},
   "outputs": [],
   "source": []
  },
  {
   "cell_type": "code",
   "execution_count": 150,
   "id": "c74912ae-5e1d-437c-9a0c-60f338a262b9",
   "metadata": {
    "execution": {
     "iopub.execute_input": "2024-07-10T20:12:17.405906Z",
     "iopub.status.busy": "2024-07-10T20:12:17.405119Z",
     "iopub.status.idle": "2024-07-10T20:12:21.715060Z",
     "shell.execute_reply": "2024-07-10T20:12:21.714396Z",
     "shell.execute_reply.started": "2024-07-10T20:12:17.405850Z"
    }
   },
   "outputs": [],
   "source": [
    "df_sbux_market_close_history = get_df_market_open_or_close_history_from_intraday_history(df_sbux_intraday_history, \"close\")\n",
    "df_sbux_market_open_close_history = df_sbux_market_open_history.join(df_sbux_market_close_history, lsuffix=\"_open\", rsuffix=\"_close\")\n",
    "df_sbux_market_open_close_history[\"actual_change\"] = df_sbux_market_open_close_history.c_close - df_sbux_market_open_close_history.c_open"
   ]
  },
  {
   "cell_type": "code",
   "execution_count": 151,
   "id": "2af78837-1928-4406-b9cc-3ec8a40905ea",
   "metadata": {
    "execution": {
     "iopub.execute_input": "2024-07-10T20:12:46.116960Z",
     "iopub.status.busy": "2024-07-10T20:12:46.115656Z",
     "iopub.status.idle": "2024-07-10T20:12:46.122145Z",
     "shell.execute_reply": "2024-07-10T20:12:46.121665Z",
     "shell.execute_reply.started": "2024-07-10T20:12:46.116937Z"
    }
   },
   "outputs": [],
   "source": [
    "df_sbux_daily_expectation_actual = df_sbux_daily_expectation.join(df_sbux_market_open_close_history[\"actual_change\"])\n",
    "df_sbux_daily_expectation_actual[\"expected_change_size\"] = df_sbux_daily_expectation_actual.upper_price - df_sbux_daily_expectation_actual.lower_price"
   ]
  },
  {
   "cell_type": "code",
   "execution_count": 155,
   "id": "c1725d86-dbc4-40f5-bf93-5f2a350f2738",
   "metadata": {
    "execution": {
     "iopub.execute_input": "2024-07-10T20:14:07.810267Z",
     "iopub.status.busy": "2024-07-10T20:14:07.809729Z",
     "iopub.status.idle": "2024-07-10T20:14:07.926867Z",
     "shell.execute_reply": "2024-07-10T20:14:07.926425Z",
     "shell.execute_reply.started": "2024-07-10T20:14:07.810243Z"
    }
   },
   "outputs": [
    {
     "name": "stderr",
     "output_type": "stream",
     "text": [
      "/tmp/ipykernel_9519/55571123.py:3: UserWarning: color is redundantly defined by the 'color' keyword argument and the fmt string \"k-\" (-> color='k'). The keyword argument will take precedence.\n",
      "  ax.plot([0, 1.5], [0, 1.5], 'k-', color = 'r')\n"
     ]
    },
    {
     "data": {
      "text/plain": [
       "[<matplotlib.lines.Line2D at 0x786ff6abe0e0>]"
      ]
     },
     "execution_count": 155,
     "metadata": {},
     "output_type": "execute_result"
    },
    {
     "data": {
      "image/png": "[encoded data removed]",
      "text/plain": [
       "<Figure size 640x480 with 1 Axes>"
      ]
     },
     "metadata": {},
     "output_type": "display_data"
    }
   ],
   "source": [
    "fig, ax = plt.subplots()\n",
    "ax.scatter(df_sbux_daily_expectation_actual[[\"expected_change_size\"]], df_sbux_daily_expectation_actual[[\"actual_change\"]].abs(), s=1)\n",
    "ax.plot([0, 1.5], [0, 1.5], 'k-', color = 'r')"
   ]
  },
  {
   "cell_type": "code",
   "execution_count": null,
   "id": "0e628cbc-44e7-407c-99e0-058f404006d0",
   "metadata": {},
   "outputs": [],
   "source": []
  },
  {
   "cell_type": "code",
   "execution_count": null,
   "id": "eac558e7-adbf-495b-8581-503e11622a9e",
   "metadata": {},
   "outputs": [],
   "source": []
  },
  {
   "cell_type": "markdown",
   "id": "ce424b7e-dbd4-49bb-950d-51a259ae8d93",
   "metadata": {
    "jp-MarkdownHeadingCollapsed": true
   },
   "source": [
    "## debug"
   ]
  },
  {
   "cell_type": "code",
   "execution_count": 328,
   "id": "4e30ae03-51b5-4d3c-adc1-b362d761ce9b",
   "metadata": {},
   "outputs": [],
   "source": [
    "ticker = \"GOOG\"\n",
    "date = \"2024-06-11\"\n",
    "quote_timestamp = (pd.to_datetime(date).tz_localize(\"America/New_York\") + timedelta(hours = 15, minutes = 55)).value\n",
    "close_timestamp = (pd.to_datetime(date).tz_localize(\"America/New_York\") + timedelta(hours = 16, minutes = 0)).value"
   ]
  },
  {
   "cell_type": "code",
   "execution_count": 347,
   "id": "f905d9f1-1085-47e9-86df-cb6394e0bf3d",
   "metadata": {},
   "outputs": [],
   "source": [
    "price = df_goog_market_open_history.loc[date].c"
   ]
  },
  {
   "cell_type": "code",
   "execution_count": 423,
   "id": "e5b206db-656c-43e0-ba35-4f7bc732eaed",
   "metadata": {},
   "outputs": [],
   "source": [
    "calls = pd.json_normalize(requests.get(f\"https://api.polygon.io/v3/reference/options/contracts?underlying_ticker={ticker}&contract_type=call&as_of={date}&limit=1000&apiKey={polygon_api_key}\").json()[\"results\"])"
   ]
  },
  {
   "cell_type": "code",
   "execution_count": 424,
   "id": "8e440365-6212-483f-9b66-646ca21e017a",
   "metadata": {},
   "outputs": [],
   "source": [
    "calls[\"days_to_exp\"] = (pd.to_datetime(calls[\"expiration_date\"]) - pd.to_datetime(date)).dt.days\n",
    "#calls = calls[calls[\"days_to_exp\"] >= 5].copy()\n",
    "nearest_exp_date = calls[\"expiration_date\"].iloc[0]\n",
    "calls = calls[calls[\"expiration_date\"] == nearest_exp_date].copy()"
   ]
  },
  {
   "cell_type": "code",
   "execution_count": 425,
   "id": "e25e69af-e130-402f-9fb6-e6a75d9b788e",
   "metadata": {},
   "outputs": [
    {
     "data": {
      "text/plain": [
       "'2024-06-14'"
      ]
     },
     "execution_count": 425,
     "metadata": {},
     "output_type": "execute_result"
    }
   ],
   "source": [
    "nearest_exp_date"
   ]
  },
  {
   "cell_type": "code",
   "execution_count": 426,
   "id": "1d004cd0-3883-41ef-b8b5-65d29edda597",
   "metadata": {},
   "outputs": [],
   "source": [
    "calls[\"distance_from_price\"] = abs(round(((calls[\"strike_price\"] - price) / price)*100, 2))"
   ]
  },
  {
   "cell_type": "code",
   "execution_count": 444,
   "id": "7af8cccf-0ce6-4dba-b921-75226e4d18ed",
   "metadata": {},
   "outputs": [
    {
     "data": {
      "text/html": [
       "<div>\n",
       "<style scoped>\n",
       "    .dataframe tbody tr th:only-of-type {\n",
       "        vertical-align: middle;\n",
       "    }\n",
       "\n",
       "    .dataframe tbody tr th {\n",
       "        vertical-align: top;\n",
       "    }\n",
       "\n",
       "    .dataframe thead th {\n",
       "        text-align: right;\n",
       "    }\n",
       "</style>\n",
       "<table border=\"1\" class=\"dataframe\">\n",
       "  <thead>\n",
       "    <tr style=\"text-align: right;\">\n",
       "      <th></th>\n",
       "      <th>cfi</th>\n",
       "      <th>contract_type</th>\n",
       "      <th>exercise_style</th>\n",
       "      <th>expiration_date</th>\n",
       "      <th>primary_exchange</th>\n",
       "      <th>shares_per_contract</th>\n",
       "      <th>strike_price</th>\n",
       "      <th>ticker</th>\n",
       "      <th>underlying_ticker</th>\n",
       "      <th>days_to_exp</th>\n",
       "      <th>distance_from_price</th>\n",
       "    </tr>\n",
       "  </thead>\n",
       "  <tbody>\n",
       "    <tr>\n",
       "      <th>0</th>\n",
       "      <td>OCASPS</td>\n",
       "      <td>call</td>\n",
       "      <td>american</td>\n",
       "      <td>2024-06-14</td>\n",
       "      <td>BATO</td>\n",
       "      <td>100</td>\n",
       "      <td>85.0</td>\n",
       "      <td>O:GOOG240614C00085000</td>\n",
       "      <td>GOOG</td>\n",
       "      <td>3</td>\n",
       "      <td>52.15</td>\n",
       "    </tr>\n",
       "    <tr>\n",
       "      <th>1</th>\n",
       "      <td>OCASPS</td>\n",
       "      <td>call</td>\n",
       "      <td>american</td>\n",
       "      <td>2024-06-14</td>\n",
       "      <td>BATO</td>\n",
       "      <td>100</td>\n",
       "      <td>90.0</td>\n",
       "      <td>O:GOOG240614C00090000</td>\n",
       "      <td>GOOG</td>\n",
       "      <td>3</td>\n",
       "      <td>49.34</td>\n",
       "    </tr>\n",
       "    <tr>\n",
       "      <th>2</th>\n",
       "      <td>OCASPS</td>\n",
       "      <td>call</td>\n",
       "      <td>american</td>\n",
       "      <td>2024-06-14</td>\n",
       "      <td>BATO</td>\n",
       "      <td>100</td>\n",
       "      <td>95.0</td>\n",
       "      <td>O:GOOG240614C00095000</td>\n",
       "      <td>GOOG</td>\n",
       "      <td>3</td>\n",
       "      <td>46.52</td>\n",
       "    </tr>\n",
       "    <tr>\n",
       "      <th>3</th>\n",
       "      <td>OCASPS</td>\n",
       "      <td>call</td>\n",
       "      <td>american</td>\n",
       "      <td>2024-06-14</td>\n",
       "      <td>BATO</td>\n",
       "      <td>100</td>\n",
       "      <td>100.0</td>\n",
       "      <td>O:GOOG240614C00100000</td>\n",
       "      <td>GOOG</td>\n",
       "      <td>3</td>\n",
       "      <td>43.71</td>\n",
       "    </tr>\n",
       "    <tr>\n",
       "      <th>4</th>\n",
       "      <td>OCASPS</td>\n",
       "      <td>call</td>\n",
       "      <td>american</td>\n",
       "      <td>2024-06-14</td>\n",
       "      <td>BATO</td>\n",
       "      <td>100</td>\n",
       "      <td>105.0</td>\n",
       "      <td>O:GOOG240614C00105000</td>\n",
       "      <td>GOOG</td>\n",
       "      <td>3</td>\n",
       "      <td>40.89</td>\n",
       "    </tr>\n",
       "  </tbody>\n",
       "</table>\n",
       "</div>"
      ],
      "text/plain": [
       "      cfi contract_type exercise_style expiration_date primary_exchange  \\\n",
       "0  OCASPS          call       american      2024-06-14             BATO   \n",
       "1  OCASPS          call       american      2024-06-14             BATO   \n",
       "2  OCASPS          call       american      2024-06-14             BATO   \n",
       "3  OCASPS          call       american      2024-06-14             BATO   \n",
       "4  OCASPS          call       american      2024-06-14             BATO   \n",
       "\n",
       "   shares_per_contract  strike_price                 ticker underlying_ticker  \\\n",
       "0                  100          85.0  O:GOOG240614C00085000              GOOG   \n",
       "1                  100          90.0  O:GOOG240614C00090000              GOOG   \n",
       "2                  100          95.0  O:GOOG240614C00095000              GOOG   \n",
       "3                  100         100.0  O:GOOG240614C00100000              GOOG   \n",
       "4                  100         105.0  O:GOOG240614C00105000              GOOG   \n",
       "\n",
       "   days_to_exp  distance_from_price  \n",
       "0            3                52.15  \n",
       "1            3                49.34  \n",
       "2            3                46.52  \n",
       "3            3                43.71  \n",
       "4            3                40.89  "
      ]
     },
     "execution_count": 444,
     "metadata": {},
     "output_type": "execute_result"
    }
   ],
   "source": [
    "calls.head()"
   ]
  },
  {
   "cell_type": "code",
   "execution_count": 428,
   "id": "84f1375d-8704-41c3-a5e1-1f55f5947e45",
   "metadata": {},
   "outputs": [],
   "source": [
    "atm_call = calls.nsmallest(1, \"distance_from_price\")"
   ]
  },
  {
   "cell_type": "code",
   "execution_count": 429,
   "id": "d729c0fc-f1d2-4b53-83ff-35976be69c86",
   "metadata": {},
   "outputs": [
    {
     "data": {
      "text/html": [
       "<div>\n",
       "<style scoped>\n",
       "    .dataframe tbody tr th:only-of-type {\n",
       "        vertical-align: middle;\n",
       "    }\n",
       "\n",
       "    .dataframe tbody tr th {\n",
       "        vertical-align: top;\n",
       "    }\n",
       "\n",
       "    .dataframe thead th {\n",
       "        text-align: right;\n",
       "    }\n",
       "</style>\n",
       "<table border=\"1\" class=\"dataframe\">\n",
       "  <thead>\n",
       "    <tr style=\"text-align: right;\">\n",
       "      <th></th>\n",
       "      <th>cfi</th>\n",
       "      <th>contract_type</th>\n",
       "      <th>exercise_style</th>\n",
       "      <th>expiration_date</th>\n",
       "      <th>primary_exchange</th>\n",
       "      <th>shares_per_contract</th>\n",
       "      <th>strike_price</th>\n",
       "      <th>ticker</th>\n",
       "      <th>underlying_ticker</th>\n",
       "      <th>days_to_exp</th>\n",
       "      <th>distance_from_price</th>\n",
       "    </tr>\n",
       "  </thead>\n",
       "  <tbody>\n",
       "    <tr>\n",
       "      <th>27</th>\n",
       "      <td>OCASPS</td>\n",
       "      <td>call</td>\n",
       "      <td>american</td>\n",
       "      <td>2024-06-14</td>\n",
       "      <td>BATO</td>\n",
       "      <td>100</td>\n",
       "      <td>177.5</td>\n",
       "      <td>O:GOOG240614C00177500</td>\n",
       "      <td>GOOG</td>\n",
       "      <td>3</td>\n",
       "      <td>0.08</td>\n",
       "    </tr>\n",
       "  </tbody>\n",
       "</table>\n",
       "</div>"
      ],
      "text/plain": [
       "       cfi contract_type exercise_style expiration_date primary_exchange  \\\n",
       "27  OCASPS          call       american      2024-06-14             BATO   \n",
       "\n",
       "    shares_per_contract  strike_price                 ticker  \\\n",
       "27                  100         177.5  O:GOOG240614C00177500   \n",
       "\n",
       "   underlying_ticker  days_to_exp  distance_from_price  \n",
       "27              GOOG            3                 0.08  "
      ]
     },
     "execution_count": 429,
     "metadata": {},
     "output_type": "execute_result"
    }
   ],
   "source": [
    "atm_call"
   ]
  },
  {
   "cell_type": "code",
   "execution_count": 430,
   "id": "d83f8ccf-1930-4740-98ca-e52287161e48",
   "metadata": {},
   "outputs": [],
   "source": [
    "call_quotes = pd.json_normalize(requests.get(f\"https://api.polygon.io/v3/quotes/{atm_call['ticker'].iloc[0]}?timestamp.gte={quote_timestamp}&timestamp.lt={close_timestamp}&order=desc&limit=100&sort=timestamp&apiKey={polygon_api_key}\").json()[\"results\"]).set_index(\"sip_timestamp\")\n",
    "call_quotes.index = pd.to_datetime(call_quotes.index, unit = \"ns\", utc = True).tz_convert(\"America/New_York\")\n",
    "call_quotes[\"mid_price\"] = round((call_quotes[\"bid_price\"] + call_quotes[\"ask_price\"]) / 2, 2)"
   ]
  },
  {
   "cell_type": "code",
   "execution_count": 432,
   "id": "3af0809b-5578-4729-8d51-3e4a0684beaf",
   "metadata": {},
   "outputs": [],
   "source": [
    "time_to_expiration = atm_call.days_to_exp.values[0] / 252"
   ]
  },
  {
   "cell_type": "code",
   "execution_count": 433,
   "id": "233a8189-54b6-4276-9bfe-0d16f7192c44",
   "metadata": {},
   "outputs": [],
   "source": [
    "atm_call_vol = call_implied_vol(S=price, K=atm_call[\"strike_price\"].iloc[0], t=time_to_expiration, r=.045, option_price=call_quotes[\"mid_price\"].iloc[0])"
   ]
  },
  {
   "cell_type": "code",
   "execution_count": 434,
   "id": "f848cb71-fc46-4aee-a520-0d1af710dbd9",
   "metadata": {},
   "outputs": [
    {
     "data": {
      "text/plain": [
       "0.240868986287512"
      ]
     },
     "execution_count": 434,
     "metadata": {},
     "output_type": "execute_result"
    }
   ],
   "source": [
    "atm_call_vol"
   ]
  },
  {
   "cell_type": "code",
   "execution_count": null,
   "id": "fdd54e00-93ba-4923-a7e6-b25b0b7b9a35",
   "metadata": {},
   "outputs": [],
   "source": []
  },
  {
   "cell_type": "code",
   "execution_count": null,
   "id": "1bec91ed-e4c8-4481-b55f-373995ae25d4",
   "metadata": {},
   "outputs": [],
   "source": []
  },
  {
   "cell_type": "code",
   "execution_count": null,
   "id": "bb109466-7579-4a66-94fc-fa219f0e22db",
   "metadata": {},
   "outputs": [],
   "source": [
    "puts = pd.json_normalize(requests.get(f\"https://api.polygon.io/v3/reference/options/contracts?underlying_ticker={ticker}&contract_type=put&as_of={date}&limit=1000&apiKey={polygon_api_key}\").json()[\"results\"])\n",
    "puts[\"days_to_exp\"] = (pd.to_datetime(puts[\"expiration_date\"]) - pd.to_datetime(date)).dt.days\n",
    "puts = puts[puts[\"expiration_date\"] == nearest_exp_date].copy()\n",
    "puts[\"distance_from_price\"] = abs(round(((price - puts[\"strike_price\"]) / puts[\"strike_price\"])*100, 2))\n",
    "atm_put = puts.nsmallest(1, \"distance_from_price\")"
   ]
  },
  {
   "cell_type": "code",
   "execution_count": null,
   "id": "bdee9c5a-286f-44c0-93c9-11614fc3eb3c",
   "metadata": {},
   "outputs": [],
   "source": []
  },
  {
   "cell_type": "code",
   "execution_count": null,
   "id": "47473ff0-d430-4a3b-a3d0-38364c6121eb",
   "metadata": {},
   "outputs": [],
   "source": []
  },
  {
   "cell_type": "code",
   "execution_count": null,
   "id": "636bc768-8c7d-4a2c-a937-45acd8f90a69",
   "metadata": {},
   "outputs": [],
   "source": []
  },
  {
   "cell_type": "code",
   "execution_count": 435,
   "id": "ca0ebeb2-567a-4498-948f-d08cbb5384f2",
   "metadata": {},
   "outputs": [],
   "source": [
    "puts = pd.json_normalize(requests.get(f\"https://api.polygon.io/v3/reference/options/contracts?underlying_ticker={ticker}&contract_type=put&as_of={date}&limit=1000&apiKey={polygon_api_key}\").json()[\"results\"])"
   ]
  },
  {
   "cell_type": "code",
   "execution_count": 436,
   "id": "4a52c889-9f95-4b07-ba9e-0ddceba03ddf",
   "metadata": {},
   "outputs": [],
   "source": [
    "puts[\"days_to_exp\"] = (pd.to_datetime(puts[\"expiration_date\"]) - pd.to_datetime(date)).dt.days\n",
    "puts = puts[puts[\"expiration_date\"] == nearest_exp_date].copy()"
   ]
  },
  {
   "cell_type": "code",
   "execution_count": 437,
   "id": "a5e5f728-f421-4450-aef7-7c4448fd852a",
   "metadata": {},
   "outputs": [],
   "source": [
    "puts[\"distance_from_price\"] = abs(round(((price - puts[\"strike_price\"]) / puts[\"strike_price\"])*100, 2))"
   ]
  },
  {
   "cell_type": "code",
   "execution_count": 438,
   "id": "55113aab-1174-41a7-9a5b-3432f3f85980",
   "metadata": {},
   "outputs": [],
   "source": [
    "atm_put = puts.nsmallest(1, \"distance_from_price\")"
   ]
  },
  {
   "cell_type": "code",
   "execution_count": 439,
   "id": "4884f088-84e1-494c-85bf-d8c32edb5064",
   "metadata": {},
   "outputs": [
    {
     "data": {
      "text/html": [
       "<div>\n",
       "<style scoped>\n",
       "    .dataframe tbody tr th:only-of-type {\n",
       "        vertical-align: middle;\n",
       "    }\n",
       "\n",
       "    .dataframe tbody tr th {\n",
       "        vertical-align: top;\n",
       "    }\n",
       "\n",
       "    .dataframe thead th {\n",
       "        text-align: right;\n",
       "    }\n",
       "</style>\n",
       "<table border=\"1\" class=\"dataframe\">\n",
       "  <thead>\n",
       "    <tr style=\"text-align: right;\">\n",
       "      <th></th>\n",
       "      <th>cfi</th>\n",
       "      <th>contract_type</th>\n",
       "      <th>exercise_style</th>\n",
       "      <th>expiration_date</th>\n",
       "      <th>primary_exchange</th>\n",
       "      <th>shares_per_contract</th>\n",
       "      <th>strike_price</th>\n",
       "      <th>ticker</th>\n",
       "      <th>underlying_ticker</th>\n",
       "      <th>days_to_exp</th>\n",
       "      <th>distance_from_price</th>\n",
       "    </tr>\n",
       "  </thead>\n",
       "  <tbody>\n",
       "    <tr>\n",
       "      <th>27</th>\n",
       "      <td>OPASPS</td>\n",
       "      <td>put</td>\n",
       "      <td>american</td>\n",
       "      <td>2024-06-14</td>\n",
       "      <td>BATO</td>\n",
       "      <td>100</td>\n",
       "      <td>177.5</td>\n",
       "      <td>O:GOOG240614P00177500</td>\n",
       "      <td>GOOG</td>\n",
       "      <td>3</td>\n",
       "      <td>0.08</td>\n",
       "    </tr>\n",
       "  </tbody>\n",
       "</table>\n",
       "</div>"
      ],
      "text/plain": [
       "       cfi contract_type exercise_style expiration_date primary_exchange  \\\n",
       "27  OPASPS           put       american      2024-06-14             BATO   \n",
       "\n",
       "    shares_per_contract  strike_price                 ticker  \\\n",
       "27                  100         177.5  O:GOOG240614P00177500   \n",
       "\n",
       "   underlying_ticker  days_to_exp  distance_from_price  \n",
       "27              GOOG            3                 0.08  "
      ]
     },
     "execution_count": 439,
     "metadata": {},
     "output_type": "execute_result"
    }
   ],
   "source": [
    "atm_put"
   ]
  },
  {
   "cell_type": "code",
   "execution_count": 440,
   "id": "63eed408-038a-4064-a9f1-8b5bc0e4cc56",
   "metadata": {},
   "outputs": [],
   "source": [
    "put_quotes = pd.json_normalize(requests.get(f\"https://api.polygon.io/v3/quotes/{atm_put['ticker'].iloc[0]}?timestamp.gte={quote_timestamp}&timestamp.lt={close_timestamp}&order=desc&limit=100&sort=timestamp&apiKey={polygon_api_key}\").json()[\"results\"]).set_index(\"sip_timestamp\")\n",
    "put_quotes.index = pd.to_datetime(put_quotes.index, unit = \"ns\", utc = True).tz_convert(\"America/New_York\")\n",
    "put_quotes[\"mid_price\"] = round((put_quotes[\"bid_price\"] + put_quotes[\"ask_price\"]) / 2, 2)"
   ]
  },
  {
   "cell_type": "code",
   "execution_count": 441,
   "id": "4f8eb66d-bd35-4444-a5f5-d53593200419",
   "metadata": {},
   "outputs": [],
   "source": [
    "atm_put_vol = put_implied_vol(S=price, K=atm_put[\"strike_price\"].iloc[0], t=time_to_expiration, r=.045, option_price=put_quotes[\"mid_price\"].iloc[0])"
   ]
  },
  {
   "cell_type": "code",
   "execution_count": 442,
   "id": "591f11f3-ca34-431c-ba73-66000dcf272f",
   "metadata": {},
   "outputs": [
    {
     "data": {
      "text/plain": [
       "0.1921287338318709"
      ]
     },
     "execution_count": 442,
     "metadata": {},
     "output_type": "execute_result"
    }
   ],
   "source": [
    "atm_put_vol"
   ]
  },
  {
   "cell_type": "code",
   "execution_count": null,
   "id": "49c29a0e-2c2f-4b1a-92c3-c7afb0082b20",
   "metadata": {},
   "outputs": [],
   "source": []
  },
  {
   "cell_type": "code",
   "execution_count": 443,
   "id": "48261b07-03e9-4e91-9592-0e652b96120b",
   "metadata": {},
   "outputs": [],
   "source": [
    "atm_vol = round(((atm_call_vol + atm_put_vol) / 2)*100, 2)\n",
    "expected_move = (round((atm_vol / np.sqrt(252)), 2))"
   ]
  },
  {
   "cell_type": "code",
   "execution_count": null,
   "id": "b654e528-a498-4374-9e5b-f7e7dd7287fb",
   "metadata": {},
   "outputs": [],
   "source": []
  },
  {
   "cell_type": "code",
   "execution_count": null,
   "id": "9ef04eca-7e92-486f-acd1-6e9e6ae87524",
   "metadata": {},
   "outputs": [],
   "source": []
  },
  {
   "cell_type": "code",
   "execution_count": null,
   "id": "1ceed7bc-c7b3-47b9-8d90-93f5fc4f5811",
   "metadata": {},
   "outputs": [],
   "source": []
  },
  {
   "cell_type": "code",
   "execution_count": null,
   "id": "b99f45d0-01d9-4036-8a1d-bf9943687104",
   "metadata": {},
   "outputs": [],
   "source": [
    "\n",
    "end_time = datetime.now()\n",
    "seconds_to_complete = (end_time - start_time).total_seconds()\n",
    "times.append(seconds_to_complete)\n",
    "iteration = round((np.where(trading_dates==date)[0][0]/len(trading_dates))*100,2)\n",
    "iterations_remaining = len(trading_dates) - np.where(trading_dates==date)[0][0]\n",
    "average_time_to_complete = np.mean(times)\n",
    "estimated_completion_time = (datetime.now() + timedelta(seconds = int(average_time_to_complete*iterations_remaining)))\n",
    "time_remaining = estimated_completion_time - datetime.now()\n",
    "print(f\"{iteration}% complete, {time_remaining} left, ETA: {estimated_completion_time}\")\n"
   ]
  },
  {
   "cell_type": "code",
   "execution_count": null,
   "id": "6af53915-7661-41e0-b93e-0e8632f7caa6",
   "metadata": {},
   "outputs": [],
   "source": []
  }
 ],
 "metadata": {
  "kernelspec": {
   "display_name": "Python 3 (ipykernel)",
   "language": "python",
   "name": "python3"
  },
  "language_info": {
   "codemirror_mode": {
    "name": "ipython",
    "version": 3
   },
   "file_extension": ".py",
   "mimetype": "text/x-python",
   "name": "python",
   "nbconvert_exporter": "python",
   "pygments_lexer": "ipython3",
   "version": "3.10.12"
  }
 },
 "nbformat": 4,
 "nbformat_minor": 5
}
