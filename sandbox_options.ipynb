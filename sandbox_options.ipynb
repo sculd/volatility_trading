{
 "cells": [
  {
   "cell_type": "markdown",
   "id": "4f5f6f05-6e44-4e2c-9085-f54bc6627c7b",
   "metadata": {
    "jp-MarkdownHeadingCollapsed": true,
    "tags": []
   },
   "source": [
    "## imports"
   ]
  },
  {
   "cell_type": "code",
   "execution_count": 59,
   "id": "5d69bd9e-5d73-4d07-af54-ac04cad5649e",
   "metadata": {},
   "outputs": [],
   "source": [
    "import requests\n",
    "import pandas as pd\n",
    "import numpy as np\n",
    "import mysql.connector\n",
    "import os\n",
    "\n",
    "import sqlalchemy\n",
    "import matplotlib.pyplot as plt\n",
    "\n",
    "from datetime import datetime, timedelta\n",
    "from pandas_market_calendars import get_calendar"
   ]
  },
  {
   "cell_type": "code",
   "execution_count": 60,
   "id": "398603e7-ad0b-4219-8442-0f3c4e1f3ab4",
   "metadata": {},
   "outputs": [],
   "source": [
    "import urllib.parse as urlparse\n",
    "from urllib.parse import urlencode"
   ]
  },
  {
   "cell_type": "code",
   "execution_count": 61,
   "id": "f2f09bae-5622-4903-8823-1a79744b42cc",
   "metadata": {},
   "outputs": [],
   "source": [
    "polygon_api_key = os.getenv(\"QUANT_GALORE_POLYGON_API_KEY\")\n",
    "_POLYGON_V2_BASE_URL = \"https://api.polygon.io/v2\"\n",
    "_POLYGON_V3_BASE_URL = \"https://api.polygon.io/v3\""
   ]
  },
  {
   "cell_type": "code",
   "execution_count": 64,
   "id": "cdce5599-e5c5-465d-a6f2-1a4ff135b77e",
   "metadata": {},
   "outputs": [
    {
     "name": "stderr",
     "output_type": "stream",
     "text": [
      "/var/folders/hh/x43xkncs2k7dm7t4vg3lt2cm0000gn/T/ipykernel_96764/1965267071.py:2: FutureWarning: DatetimeIndex.union_many is deprecated and will be removed in a future version. Use obj.union instead.\n",
      "  trading_dates = calendar.schedule(\n",
      "/var/folders/hh/x43xkncs2k7dm7t4vg3lt2cm0000gn/T/ipykernel_96764/1965267071.py:2: FutureWarning: DatetimeIndex.union_many is deprecated and will be removed in a future version. Use obj.union instead.\n",
      "  trading_dates = calendar.schedule(\n",
      "/var/folders/hh/x43xkncs2k7dm7t4vg3lt2cm0000gn/T/ipykernel_96764/1965267071.py:2: FutureWarning: DatetimeIndex.union_many is deprecated and will be removed in a future version. Use obj.union instead.\n",
      "  trading_dates = calendar.schedule(\n"
     ]
    }
   ],
   "source": [
    "calendar = get_calendar(\"NYSE\")\n",
    "trading_dates = calendar.schedule(\n",
    "    start_date = \"2023-05-01\", \n",
    "    end_date = \"2024-07-02\"\n",
    "    #end_date = (datetime.today()-timedelta(days = 1))\n",
    ").index.strftime(\"%Y-%m-%d\").values"
   ]
  },
  {
   "cell_type": "code",
   "execution_count": null,
   "id": "ca4d5840-726a-49b6-ac10-ca6ea49b3078",
   "metadata": {},
   "outputs": [],
   "source": []
  },
  {
   "cell_type": "code",
   "execution_count": 65,
   "id": "6f8815d6-fcfd-402a-b8e8-3c72216ce5bb",
   "metadata": {},
   "outputs": [],
   "source": [
    "def add_params_to_url(url, params):\n",
    "    url_parts = list(urlparse.urlparse(url))\n",
    "    query = dict(urlparse.parse_qsl(url_parts[4]))\n",
    "    query.update(params)\n",
    "    url_parts[4] = urlencode(query)\n",
    "    return urlparse.urlunparse(url_parts)\n",
    "\n",
    "def add_default_ticker_params_to_polygon_url(url, additional_params = None):\n",
    "    params = {\n",
    "        'adjusted': 'true',\n",
    "        'sort': 'asc',\n",
    "        'limit': '50000',\n",
    "        'apiKey': polygon_api_key,\n",
    "    }\n",
    "    if additional_params is not None:\n",
    "        params.update(additional_params)\n",
    "    return add_params_to_url(url, params)\n",
    "\n",
    "def add_default_options_params_to_polygon_url(url, additional_params = None):\n",
    "    params = {\n",
    "        'limit': '1000',\n",
    "        'apiKey': polygon_api_key,\n",
    "    }\n",
    "    if additional_params is not None:\n",
    "        params.update(additional_params)\n",
    "    return add_params_to_url(url, params)\n",
    "\n",
    "def get_polygon_range_query_url(ticker, date_str_begin, date_str_end):\n",
    "    return add_default_ticker_params_to_polygon_url(f\"{_POLYGON_V2_BASE_URL}/aggs/ticker/{ticker}/range/1/day/{date_str_begin}/{date_str_end}\")\n",
    "\n",
    "def get_polygon_intraday_query_url(ticker, date_str):\n",
    "    return add_default_ticker_params_to_polygon_url(f\"{_POLYGON_V2_BASE_URL}/aggs/ticker/{ticker}/range/1/minute/{date_str}/{date_str}\")\n",
    "\n",
    "def get_polygon_options_contracts_query_url(underlying_ticker, option_type, date_str, exp_date_str):\n",
    "    params = {\n",
    "        \"underlying_ticker\": underlying_ticker,\n",
    "        \"contract_type\": option_type,\n",
    "        \"as_of\": date_str,\n",
    "        \"expiration_date\": exp_date_str,        \n",
    "    }\n",
    "    return add_default_options_params_to_polygon_url(f\"{_POLYGON_V3_BASE_URL}/reference/options/contracts\", additional_params = params)\n",
    "\n",
    "def get_polygon_result_dict(url):\n",
    "    js = requests.get(url).json()\n",
    "    if \"results\" not in js:\n",
    "        return {}\n",
    "    return js[\"results\"]\n",
    "\n",
    "def polygon_result_to_dataframe(result):\n",
    "    df = pd.json_normalize(result)\n",
    "    if df.empty:\n",
    "        return df\n",
    "    if \"t\" in df.columns:\n",
    "        df = df.set_index(\"t\")\n",
    "        df.index = pd.to_datetime(df.index, unit=\"ms\", utc=True).tz_convert(\"America/New_York\")\n",
    "        #df['date'] = df.index.strftime('%Y-%m-%d')\n",
    "    return df\n",
    "\n",
    "def polygon_url_to_dataframe(url):\n",
    "    return polygon_result_to_dataframe(get_polygon_result_dict(url))    "
   ]
  },
  {
   "cell_type": "code",
   "execution_count": null,
   "id": "bc6ebc0c-c8f1-44fd-8940-652f5c88da25",
   "metadata": {},
   "outputs": [],
   "source": []
  },
  {
   "cell_type": "code",
   "execution_count": null,
   "id": "3e9bd9dd-a0ea-4702-bb2b-50fb8ed6a379",
   "metadata": {},
   "outputs": [],
   "source": []
  },
  {
   "cell_type": "code",
   "execution_count": 66,
   "id": "f9b88c11-767f-48d5-92a4-d354cc41093a",
   "metadata": {},
   "outputs": [],
   "source": [
    "ticker_spy = \"SPY\"\n",
    "ticker_spx = \"I:SPX\"\n",
    "ticker_goog = \"GOOG\"\n",
    "ticker_sbux = \"SBUX\"\n",
    "ticker_vix1d = \"I:VIX1D\"\n",
    "options_ticker = \"SPX\"\n",
    "\n",
    "i = 2\n",
    "date = trading_dates[i]\n",
    "prior_day = trading_dates[i-1]\n",
    "\n",
    "trade_list = []\n",
    "times = []"
   ]
  },
  {
   "cell_type": "code",
   "execution_count": null,
   "id": "2ae10fbc-864c-4eb5-b8bd-c8135d2a091e",
   "metadata": {},
   "outputs": [],
   "source": []
  },
  {
   "cell_type": "code",
   "execution_count": null,
   "id": "81b7590e-70b0-4229-9185-08dd1ece29d2",
   "metadata": {},
   "outputs": [],
   "source": []
  },
  {
   "cell_type": "markdown",
   "id": "24f2f54f-ee5e-473c-a478-6bd1d7f85074",
   "metadata": {
    "jp-MarkdownHeadingCollapsed": true,
    "tags": []
   },
   "source": [
    "## cache history daily data"
   ]
  },
  {
   "cell_type": "markdown",
   "id": "56281cea-b32f-4724-b1c6-f5a627c48b88",
   "metadata": {},
   "source": [
    "### spy"
   ]
  },
  {
   "cell_type": "code",
   "execution_count": null,
   "id": "282be505-3036-4eda-8aab-cf47445d231e",
   "metadata": {},
   "outputs": [],
   "source": [
    "df_spy_daily_history = polygon_result_to_dataframe(get_polygon_result_dict(\n",
    "    get_polygon_range_query_url(ticker_spy, \"2020-01-01\", trading_dates[-1])))\n",
    "df_spy_daily_history.index = df_spy_daily_history.index.strftime(\"%Y-%m-%d\")"
   ]
  },
  {
   "cell_type": "code",
   "execution_count": null,
   "id": "194303f6-3283-4982-9441-ef0a0195a077",
   "metadata": {},
   "outputs": [],
   "source": [
    "df_spy_daily_history.to_pickle('market_data/df_spy_daily_history.pkl')"
   ]
  },
  {
   "cell_type": "code",
   "execution_count": null,
   "id": "f771e834-95d5-4fe1-a34e-f5f6038f0295",
   "metadata": {},
   "outputs": [],
   "source": []
  },
  {
   "cell_type": "markdown",
   "id": "7250d2fe-7936-4561-97ef-206039741838",
   "metadata": {},
   "source": [
    "### individual tickers"
   ]
  },
  {
   "cell_type": "code",
   "execution_count": 349,
   "id": "09d7d850-3a90-486c-9305-5e6395357d4b",
   "metadata": {},
   "outputs": [],
   "source": [
    "df_spx_daily_history = polygon_result_to_dataframe(get_polygon_result_dict(\n",
    "    get_polygon_range_query_url(ticker_spx, \"2020-01-01\", trading_dates[-1])))\n",
    "df_spx_daily_history.index = df_spx_daily_history.index.strftime(\"%Y-%m-%d\")"
   ]
  },
  {
   "cell_type": "code",
   "execution_count": 350,
   "id": "1c0fc3c8-be45-4f19-b685-385131b510c5",
   "metadata": {},
   "outputs": [],
   "source": [
    "df_spx_daily_history.to_pickle('market_data/df_spx_daily_history.pkl')"
   ]
  },
  {
   "cell_type": "code",
   "execution_count": null,
   "id": "0bd10eb9-023e-4004-bb9f-2b4a61c9dc3c",
   "metadata": {},
   "outputs": [],
   "source": []
  },
  {
   "cell_type": "code",
   "execution_count": 68,
   "id": "e040dde4-8cd9-421a-a1a3-bcd088f3c455",
   "metadata": {},
   "outputs": [],
   "source": [
    "df_goog_daily_history = polygon_result_to_dataframe(get_polygon_result_dict(\n",
    "    get_polygon_range_query_url(ticker_goog, \"2020-01-01\", trading_dates[-1])))\n",
    "df_goog_daily_history.index = df_goog_daily_history.index.strftime(\"%Y-%m-%d\")"
   ]
  },
  {
   "cell_type": "code",
   "execution_count": 69,
   "id": "407c0261-cd3c-45e1-9713-6dad1b76e347",
   "metadata": {},
   "outputs": [],
   "source": [
    "df_goog_daily_history.to_pickle('market_data/df_goog_daily_history.pkl')"
   ]
  },
  {
   "cell_type": "code",
   "execution_count": null,
   "id": "c710a819-3d4b-46b5-bb65-775c0342b7f3",
   "metadata": {},
   "outputs": [],
   "source": []
  },
  {
   "cell_type": "code",
   "execution_count": 70,
   "id": "31689349-6521-41cb-a68a-0ace9ff89001",
   "metadata": {},
   "outputs": [],
   "source": [
    "df_sbux_daily_history = polygon_result_to_dataframe(get_polygon_result_dict(\n",
    "    get_polygon_range_query_url(ticker_sbux, \"2020-01-01\", trading_dates[-1])))\n",
    "df_sbux_daily_history.index = df_sbux_daily_history.index.strftime(\"%Y-%m-%d\")"
   ]
  },
  {
   "cell_type": "code",
   "execution_count": 71,
   "id": "bc10ef25-cd03-4091-b71d-ec05734ee0e9",
   "metadata": {},
   "outputs": [],
   "source": [
    "df_sbux_daily_history.to_pickle('market_data/df_sbux_daily_history.pkl')"
   ]
  },
  {
   "cell_type": "code",
   "execution_count": null,
   "id": "9bc5a5ac-cd4b-4c0a-9c97-80a97db89e9a",
   "metadata": {},
   "outputs": [],
   "source": []
  },
  {
   "cell_type": "markdown",
   "id": "ccaa1616-6948-4f05-bb13-e4661cc8c1a6",
   "metadata": {
    "jp-MarkdownHeadingCollapsed": true,
    "tags": []
   },
   "source": [
    "## cache history intraday data"
   ]
  },
  {
   "cell_type": "code",
   "execution_count": 74,
   "id": "916c48d1-00a6-4b8f-a20b-6f2872964b00",
   "metadata": {},
   "outputs": [],
   "source": [
    "def get_df_intrady_history(ticker):\n",
    "    dfs = []\n",
    "    for date in trading_dates[1:]:\n",
    "        df_intraday = polygon_result_to_dataframe(get_polygon_result_dict(\n",
    "            get_polygon_intraday_query_url(ticker, date)))\n",
    "        dfs.append(df_intraday.reset_index())\n",
    "    df = pd.concat(dfs, ignore_index=True).set_index(\"t\")\n",
    "    return df"
   ]
  },
  {
   "cell_type": "code",
   "execution_count": null,
   "id": "c3993764-03b0-429f-91ea-94441af9aa0b",
   "metadata": {},
   "outputs": [],
   "source": []
  },
  {
   "cell_type": "markdown",
   "id": "e4555b5f-e735-4a60-aa78-abd30823e5cb",
   "metadata": {
    "jp-MarkdownHeadingCollapsed": true,
    "tags": []
   },
   "source": [
    "### spy"
   ]
  },
  {
   "cell_type": "code",
   "execution_count": null,
   "id": "e6cbb61b-5846-4a92-b987-dae4f4f61d4c",
   "metadata": {},
   "outputs": [],
   "source": [
    "df_spy_intraday_history = get_df_intrady_history(ticker_spy)"
   ]
  },
  {
   "cell_type": "code",
   "execution_count": null,
   "id": "1588afb6-3d06-40ad-81af-7b970d9c200b",
   "metadata": {},
   "outputs": [],
   "source": [
    "df_spy_intraday_history = df_spy_intraday_history.drop(columns=[\"index\"])"
   ]
  },
  {
   "cell_type": "code",
   "execution_count": null,
   "id": "bcef8e04-4922-4856-9c5f-85176f05731f",
   "metadata": {},
   "outputs": [],
   "source": [
    "df_spy_intraday_history.to_pickle('market_data/df_spy_intraday_history.pkl')"
   ]
  },
  {
   "cell_type": "code",
   "execution_count": null,
   "id": "7eadbe6a-11c5-41ba-b423-6fd82078f320",
   "metadata": {},
   "outputs": [],
   "source": []
  },
  {
   "cell_type": "markdown",
   "id": "db38ed53-ee43-4859-ab9e-b98a47d61f01",
   "metadata": {
    "jp-MarkdownHeadingCollapsed": true,
    "tags": []
   },
   "source": [
    "### vix"
   ]
  },
  {
   "cell_type": "code",
   "execution_count": null,
   "id": "1a8abf8d-3102-4eea-8c37-9f21d93da8fe",
   "metadata": {},
   "outputs": [],
   "source": [
    "df_vix1d_intraday_history = get_df_intrady_history(ticker_vix1d)"
   ]
  },
  {
   "cell_type": "code",
   "execution_count": null,
   "id": "13ce2980-1706-4af1-8d4a-4767488ba4a7",
   "metadata": {},
   "outputs": [],
   "source": [
    "df_vix1d_intraday_history = df_vix1d_intraday_history.drop(columns=[\"index\"])"
   ]
  },
  {
   "cell_type": "code",
   "execution_count": null,
   "id": "921347b8-d25b-43ff-adfd-4e14b3c61767",
   "metadata": {},
   "outputs": [],
   "source": [
    "df_vix1d_intraday_history.to_pickle('market_data/df_vix1d_intraday_history.pkl')"
   ]
  },
  {
   "cell_type": "code",
   "execution_count": null,
   "id": "038056f7-5a38-4338-a426-05f8ad2465d5",
   "metadata": {},
   "outputs": [],
   "source": []
  },
  {
   "cell_type": "markdown",
   "id": "971c553f-8dcc-4527-8bca-36bc19ada707",
   "metadata": {},
   "source": [
    "### individual tickers"
   ]
  },
  {
   "cell_type": "code",
   "execution_count": 272,
   "id": "7de748e9-ac62-4ae0-b355-b4bbf7ea7ea0",
   "metadata": {
    "collapsed": true,
    "jupyter": {
     "outputs_hidden": true
    },
    "tags": []
   },
   "outputs": [
    {
     "name": "stdout",
     "output_type": "stream",
     "text": [
      "date='2023-05-02'\n",
      "date='2023-05-03'\n",
      "date='2023-05-04'\n",
      "date='2023-05-05'\n",
      "date='2023-05-08'\n",
      "date='2023-05-09'\n",
      "date='2023-05-10'\n",
      "date='2023-05-11'\n",
      "date='2023-05-12'\n",
      "date='2023-05-15'\n",
      "date='2023-05-16'\n",
      "date='2023-05-17'\n",
      "date='2023-05-18'\n",
      "date='2023-05-19'\n",
      "date='2023-05-22'\n",
      "date='2023-05-23'\n",
      "date='2023-05-24'\n",
      "date='2023-05-25'\n",
      "date='2023-05-26'\n",
      "date='2023-05-30'\n",
      "date='2023-05-31'\n",
      "date='2023-06-01'\n",
      "date='2023-06-02'\n",
      "date='2023-06-05'\n",
      "date='2023-06-06'\n",
      "date='2023-06-07'\n",
      "date='2023-06-08'\n",
      "date='2023-06-09'\n",
      "date='2023-06-12'\n",
      "date='2023-06-13'\n",
      "date='2023-06-14'\n",
      "date='2023-06-15'\n",
      "date='2023-06-16'\n",
      "date='2023-06-19'\n",
      "date='2023-06-20'\n",
      "date='2023-06-21'\n",
      "date='2023-06-22'\n",
      "date='2023-06-23'\n",
      "date='2023-06-26'\n",
      "date='2023-06-27'\n",
      "date='2023-06-28'\n",
      "date='2023-06-29'\n",
      "date='2023-06-30'\n",
      "date='2023-07-03'\n",
      "date='2023-07-05'\n",
      "date='2023-07-06'\n",
      "date='2023-07-07'\n",
      "date='2023-07-10'\n",
      "date='2023-07-11'\n",
      "date='2023-07-12'\n",
      "date='2023-07-13'\n",
      "date='2023-07-14'\n",
      "date='2023-07-17'\n",
      "date='2023-07-18'\n",
      "date='2023-07-19'\n",
      "date='2023-07-20'\n",
      "date='2023-07-21'\n",
      "date='2023-07-24'\n",
      "date='2023-07-25'\n",
      "date='2023-07-26'\n",
      "date='2023-07-27'\n",
      "date='2023-07-28'\n",
      "date='2023-07-31'\n",
      "date='2023-08-01'\n",
      "date='2023-08-02'\n",
      "date='2023-08-03'\n",
      "date='2023-08-04'\n",
      "date='2023-08-07'\n",
      "date='2023-08-08'\n",
      "date='2023-08-09'\n",
      "date='2023-08-10'\n",
      "date='2023-08-11'\n",
      "date='2023-08-14'\n",
      "date='2023-08-15'\n",
      "date='2023-08-16'\n",
      "date='2023-08-17'\n",
      "date='2023-08-18'\n",
      "date='2023-08-21'\n",
      "date='2023-08-22'\n",
      "date='2023-08-23'\n",
      "date='2023-08-24'\n",
      "date='2023-08-25'\n",
      "date='2023-08-28'\n",
      "date='2023-08-29'\n",
      "date='2023-08-30'\n",
      "date='2023-08-31'\n",
      "date='2023-09-01'\n",
      "date='2023-09-05'\n",
      "date='2023-09-06'\n",
      "date='2023-09-07'\n",
      "date='2023-09-08'\n",
      "date='2023-09-11'\n",
      "date='2023-09-12'\n",
      "date='2023-09-13'\n",
      "date='2023-09-14'\n",
      "date='2023-09-15'\n",
      "date='2023-09-18'\n",
      "date='2023-09-19'\n",
      "date='2023-09-20'\n",
      "date='2023-09-21'\n",
      "date='2023-09-22'\n",
      "date='2023-09-25'\n",
      "date='2023-09-26'\n",
      "date='2023-09-27'\n",
      "date='2023-09-28'\n",
      "date='2023-09-29'\n",
      "date='2023-10-02'\n",
      "date='2023-10-03'\n",
      "date='2023-10-04'\n",
      "date='2023-10-05'\n",
      "date='2023-10-06'\n",
      "date='2023-10-09'\n",
      "date='2023-10-10'\n",
      "date='2023-10-11'\n",
      "date='2023-10-12'\n",
      "date='2023-10-13'\n",
      "date='2023-10-16'\n",
      "date='2023-10-17'\n",
      "date='2023-10-18'\n",
      "date='2023-10-19'\n",
      "date='2023-10-20'\n",
      "date='2023-10-23'\n",
      "date='2023-10-24'\n",
      "date='2023-10-25'\n",
      "date='2023-10-26'\n",
      "date='2023-10-27'\n",
      "date='2023-10-30'\n",
      "date='2023-10-31'\n",
      "date='2023-11-01'\n",
      "date='2023-11-02'\n",
      "date='2023-11-03'\n",
      "date='2023-11-06'\n",
      "date='2023-11-07'\n",
      "date='2023-11-08'\n",
      "date='2023-11-09'\n",
      "date='2023-11-10'\n",
      "date='2023-11-13'\n",
      "date='2023-11-14'\n",
      "date='2023-11-15'\n",
      "date='2023-11-16'\n",
      "date='2023-11-17'\n",
      "date='2023-11-20'\n",
      "date='2023-11-21'\n",
      "date='2023-11-22'\n",
      "date='2023-11-24'\n",
      "date='2023-11-27'\n",
      "date='2023-11-28'\n",
      "date='2023-11-29'\n",
      "date='2023-11-30'\n",
      "date='2023-12-01'\n",
      "date='2023-12-04'\n",
      "date='2023-12-05'\n",
      "date='2023-12-06'\n",
      "date='2023-12-07'\n",
      "date='2023-12-08'\n",
      "date='2023-12-11'\n",
      "date='2023-12-12'\n",
      "date='2023-12-13'\n",
      "date='2023-12-14'\n",
      "date='2023-12-15'\n",
      "date='2023-12-18'\n",
      "date='2023-12-19'\n",
      "date='2023-12-20'\n",
      "date='2023-12-21'\n",
      "date='2023-12-22'\n",
      "date='2023-12-26'\n",
      "date='2023-12-27'\n",
      "date='2023-12-28'\n",
      "date='2023-12-29'\n",
      "date='2024-01-02'\n",
      "date='2024-01-03'\n",
      "date='2024-01-04'\n",
      "date='2024-01-05'\n",
      "date='2024-01-08'\n",
      "date='2024-01-09'\n",
      "date='2024-01-10'\n",
      "date='2024-01-11'\n",
      "date='2024-01-12'\n",
      "date='2024-01-16'\n",
      "date='2024-01-17'\n",
      "date='2024-01-18'\n",
      "date='2024-01-19'\n",
      "date='2024-01-22'\n",
      "date='2024-01-23'\n",
      "date='2024-01-24'\n",
      "date='2024-01-25'\n",
      "date='2024-01-26'\n",
      "date='2024-01-29'\n",
      "date='2024-01-30'\n",
      "date='2024-01-31'\n",
      "date='2024-02-01'\n",
      "date='2024-02-02'\n",
      "date='2024-02-05'\n",
      "date='2024-02-06'\n",
      "date='2024-02-07'\n",
      "date='2024-02-08'\n",
      "date='2024-02-09'\n",
      "date='2024-02-12'\n",
      "date='2024-02-13'\n",
      "date='2024-02-14'\n",
      "date='2024-02-15'\n",
      "date='2024-02-16'\n",
      "date='2024-02-20'\n",
      "date='2024-02-21'\n",
      "date='2024-02-22'\n",
      "date='2024-02-23'\n",
      "date='2024-02-26'\n",
      "date='2024-02-27'\n",
      "date='2024-02-28'\n",
      "date='2024-02-29'\n",
      "date='2024-03-01'\n",
      "date='2024-03-04'\n",
      "date='2024-03-05'\n",
      "date='2024-03-06'\n",
      "date='2024-03-07'\n",
      "date='2024-03-08'\n",
      "date='2024-03-11'\n",
      "date='2024-03-12'\n",
      "date='2024-03-13'\n",
      "date='2024-03-14'\n",
      "date='2024-03-15'\n",
      "date='2024-03-18'\n",
      "date='2024-03-19'\n",
      "date='2024-03-20'\n",
      "date='2024-03-21'\n",
      "date='2024-03-22'\n",
      "date='2024-03-25'\n",
      "date='2024-03-26'\n",
      "date='2024-03-27'\n",
      "date='2024-03-28'\n",
      "date='2024-04-01'\n",
      "date='2024-04-02'\n",
      "date='2024-04-03'\n",
      "date='2024-04-04'\n",
      "date='2024-04-05'\n",
      "date='2024-04-08'\n",
      "date='2024-04-09'\n",
      "date='2024-04-10'\n",
      "date='2024-04-11'\n",
      "date='2024-04-12'\n",
      "date='2024-04-15'\n",
      "date='2024-04-16'\n",
      "date='2024-04-17'\n",
      "date='2024-04-18'\n",
      "date='2024-04-19'\n",
      "date='2024-04-22'\n",
      "date='2024-04-23'\n",
      "date='2024-04-24'\n",
      "date='2024-04-25'\n",
      "date='2024-04-26'\n",
      "date='2024-04-29'\n",
      "date='2024-04-30'\n",
      "date='2024-05-01'\n",
      "date='2024-05-02'\n",
      "date='2024-05-03'\n",
      "date='2024-05-06'\n",
      "date='2024-05-07'\n",
      "date='2024-05-08'\n",
      "date='2024-05-09'\n",
      "date='2024-05-10'\n",
      "date='2024-05-13'\n",
      "date='2024-05-14'\n",
      "date='2024-05-15'\n",
      "date='2024-05-16'\n",
      "date='2024-05-17'\n",
      "date='2024-05-20'\n",
      "date='2024-05-21'\n",
      "date='2024-05-22'\n",
      "date='2024-05-23'\n",
      "date='2024-05-24'\n",
      "date='2024-05-28'\n",
      "date='2024-05-29'\n",
      "date='2024-05-30'\n",
      "date='2024-05-31'\n",
      "date='2024-06-03'\n",
      "date='2024-06-04'\n",
      "date='2024-06-05'\n",
      "date='2024-06-06'\n",
      "date='2024-06-07'\n",
      "date='2024-06-10'\n",
      "date='2024-06-11'\n",
      "date='2024-06-12'\n",
      "date='2024-06-13'\n",
      "date='2024-06-14'\n",
      "date='2024-06-17'\n",
      "date='2024-06-18'\n",
      "date='2024-06-19'\n",
      "date='2024-06-20'\n",
      "date='2024-06-21'\n",
      "date='2024-06-24'\n",
      "date='2024-06-25'\n",
      "date='2024-06-26'\n",
      "date='2024-06-27'\n",
      "date='2024-06-28'\n",
      "date='2024-07-01'\n",
      "date='2024-07-02'\n"
     ]
    }
   ],
   "source": [
    "df_spx_intraday_history = get_df_intrady_history(ticker_spx)"
   ]
  },
  {
   "cell_type": "code",
   "execution_count": 290,
   "id": "6d1dc50c-369f-4b48-89dd-b063c2212e83",
   "metadata": {},
   "outputs": [],
   "source": [
    "df_spx_intraday_history = df_spx_intraday_history.drop(columns=[\"index\"])\n",
    "df_spx_intraday_history.to_pickle('market_data/df_spx_intraday_history.pkl')"
   ]
  },
  {
   "cell_type": "code",
   "execution_count": null,
   "id": "1a674b99-7d5e-48fb-856a-73cc1d51e55f",
   "metadata": {},
   "outputs": [],
   "source": []
  },
  {
   "cell_type": "code",
   "execution_count": 75,
   "id": "f91a9d87-df7d-4762-bb87-4fae767a0b13",
   "metadata": {},
   "outputs": [],
   "source": [
    "df_goog_intraday_history = get_df_intrady_history(ticker_goog)"
   ]
  },
  {
   "cell_type": "code",
   "execution_count": 76,
   "id": "d9d92c58-e034-4445-82b9-4bef6ef83c8f",
   "metadata": {},
   "outputs": [],
   "source": [
    "df_goog_intraday_history = df_goog_intraday_history.drop(columns=[\"index\"])\n",
    "df_goog_intraday_history.to_pickle('market_data/df_goog_intraday_history.pkl')"
   ]
  },
  {
   "cell_type": "code",
   "execution_count": null,
   "id": "07c58fa3-b811-4937-a17d-87625da54ec4",
   "metadata": {},
   "outputs": [],
   "source": []
  },
  {
   "cell_type": "code",
   "execution_count": 77,
   "id": "6ecde4f9-24dc-484e-bd16-3e31daf66d2e",
   "metadata": {},
   "outputs": [],
   "source": [
    "df_sbux_intraday_history = get_df_intrady_history(ticker_sbux)"
   ]
  },
  {
   "cell_type": "code",
   "execution_count": 78,
   "id": "c550a9e5-815e-4bec-bc53-c33a86d9a31d",
   "metadata": {},
   "outputs": [],
   "source": [
    "df_sbux_intraday_history = df_sbux_intraday_history.drop(columns=[\"index\"])\n",
    "df_sbux_intraday_history.to_pickle('market_data/df_sbux_intraday_history.pkl')"
   ]
  },
  {
   "cell_type": "code",
   "execution_count": null,
   "id": "6b13e059-b302-4fa6-91b8-d6c169940159",
   "metadata": {},
   "outputs": [],
   "source": []
  },
  {
   "cell_type": "markdown",
   "id": "ca5eb500-0cc3-4c21-adea-41c4d780319d",
   "metadata": {
    "jp-MarkdownHeadingCollapsed": true,
    "tags": []
   },
   "source": [
    "## read cached data"
   ]
  },
  {
   "cell_type": "code",
   "execution_count": 72,
   "id": "af0c1013-abe3-461d-91af-bc44742c877e",
   "metadata": {},
   "outputs": [],
   "source": [
    "df_spy_daily_history = pd.read_pickle('market_data/df_spy_daily_history.pkl')\n",
    "\n",
    "df_spx_daily_history = pd.read_pickle('market_data/df_spx_daily_history.pkl')\n",
    "df_goog_daily_history = pd.read_pickle('market_data/df_goog_daily_history.pkl')\n",
    "df_sbux_daily_history = pd.read_pickle('market_data/df_sbux_daily_history.pkl')"
   ]
  },
  {
   "cell_type": "code",
   "execution_count": null,
   "id": "689764dd-971c-4a8d-8b0d-882ed41e5deb",
   "metadata": {},
   "outputs": [],
   "source": [
    "df_spy_intraday_history = pd.read_pickle('market_data/df_spy_intraday_history.pkl')\n",
    "df_vix1d_intraday_history = pd.read_pickle('market_data/df_vix1d_intraday_history.pkl')\n",
    "\n",
    "df_spx_intraday_history = pd.read_pickle('market_data/df_spx_intraday_history.pkl')\n",
    "df_goog_intraday_history.to_pickle('market_data/df_goog_intraday_history.pkl')\n",
    "df_sbux_intraday_history.to_pickle('market_data/df_sbux_intraday_history.pkl')"
   ]
  },
  {
   "cell_type": "markdown",
   "id": "84ed1c52-c99d-4e68-a048-fc41daa37cc8",
   "metadata": {
    "tags": []
   },
   "source": [
    "## logic"
   ]
  },
  {
   "cell_type": "code",
   "execution_count": 56,
   "id": "c42c6ebf-76eb-4c98-b342-ba04f3914b23",
   "metadata": {},
   "outputs": [],
   "source": [
    "df_spy = df_spy_daily_history[[\"c\"]].copy()"
   ]
  },
  {
   "cell_type": "code",
   "execution_count": 57,
   "id": "aa3c93ef-1241-476f-bd55-67ac7700f9e3",
   "metadata": {},
   "outputs": [],
   "source": [
    "df_spy[\"1_mo_avg\"] = df_spy[\"c\"].rolling(window=20).mean()\n",
    "df_spy[\"3_mo_avg\"] = df_spy[\"c\"].rolling(window=60).mean()\n",
    "df_spy['regime'] = df_spy.apply(lambda row: 1 if (row['c'] > row['1_mo_avg']) else -1, axis=1)"
   ]
  },
  {
   "cell_type": "code",
   "execution_count": null,
   "id": "94e4eefd-0c46-448d-a50f-51a9635aea75",
   "metadata": {},
   "outputs": [],
   "source": []
  },
  {
   "cell_type": "code",
   "execution_count": 51,
   "id": "4a27867d-7144-4d1e-90b4-d425fad41a6e",
   "metadata": {},
   "outputs": [],
   "source": [
    "def get_df_market_open_from_intraday(df_intraday):\n",
    "    df_market_open = df_intraday[df_intraday.index.time == pd.Timestamp(\"09:35\").time()][[\"c\"]]\n",
    "    df_market_open.index = df_market_open.index.strftime(\"%Y-%m-%d\")     \n",
    "    return df_market_open\n",
    "\n",
    "def get_df_market_close_from_intraday(df_intraday):\n",
    "    df_market_close = df_intraday.tail(1)[[\"c\"]]\n",
    "    df_market_close.index = df_market_close.index.strftime(\"%Y-%m-%d\")\n",
    "    return df_market_close"
   ]
  },
  {
   "cell_type": "code",
   "execution_count": 52,
   "id": "91d2db04-b0e4-4551-a177-990b261255c3",
   "metadata": {},
   "outputs": [],
   "source": [
    "df_spy_market_open_history = get_df_market_open_from_intraday(df_spy_intraday_history)\n",
    "df_vix1d_market_open_history = get_df_market_open_from_intraday(df_vix1d_intraday_history)\n",
    "df_spx_market_open_history = get_df_market_open_from_intraday(df_spx_intraday_history)"
   ]
  },
  {
   "cell_type": "code",
   "execution_count": 164,
   "id": "d58b1e5e-f31a-4328-8246-d73cb4cf8238",
   "metadata": {},
   "outputs": [],
   "source": [
    "df_goog_market_open_history = get_df_market_open_from_intraday(df_goog_intraday_history)\n",
    "df_sbux_market_open_history = get_df_market_open_from_intraday(df_sbux_intraday_history)"
   ]
  },
  {
   "cell_type": "code",
   "execution_count": 20,
   "id": "6d24753f-85c1-49e6-a39b-4698f0b45481",
   "metadata": {},
   "outputs": [],
   "source": [
    "#df_algo = df_spx_daily_history[[\"c\"]].copy()\n",
    "#df_algo = df_algo.join(df_spx_market_open_history, lsuffix=\"_daily\", rsuffix=\"_market_open\")"
   ]
  },
  {
   "cell_type": "code",
   "execution_count": null,
   "id": "dc088f4b-9a29-4c3c-8abf-4ba54a881fe2",
   "metadata": {},
   "outputs": [],
   "source": []
  },
  {
   "cell_type": "code",
   "execution_count": 88,
   "id": "e570bd60-159c-4dca-8482-31df964dc596",
   "metadata": {},
   "outputs": [],
   "source": [
    "def get_df_daily_expectation(df_market_open_history):\n",
    "    df_algo = df_market_open_history.add_suffix(\"_market_open\").copy()\n",
    "    df_algo['regime'] = df_spy['regime']\n",
    "    df_algo[\"expected_move\"] = (round(df_vix1d_market_open_history / np.sqrt(252), 2) / 100) * 0.5\n",
    "    df_algo[\"lower_price\"] = round(df_algo['c_market_open'] * (1.0 - df_algo['expected_move']), 2)\n",
    "    df_algo[\"upper_price\"] = round(df_algo['c_market_open'] * (1.0 + df_algo['expected_move']), 2)\n",
    "    return df_algo"
   ]
  },
  {
   "cell_type": "code",
   "execution_count": 109,
   "id": "319cbae2-2a2b-41a5-8f95-0dc22adfc755",
   "metadata": {},
   "outputs": [],
   "source": [
    "df_spx_daily_expectation = get_df_daily_expectation(df_spx_market_open_history)"
   ]
  },
  {
   "cell_type": "code",
   "execution_count": 110,
   "id": "67728dbd-6936-475f-bb65-eaf68c237722",
   "metadata": {},
   "outputs": [
    {
     "data": {
      "text/html": [
       "<div>\n",
       "<style scoped>\n",
       "    .dataframe tbody tr th:only-of-type {\n",
       "        vertical-align: middle;\n",
       "    }\n",
       "\n",
       "    .dataframe tbody tr th {\n",
       "        vertical-align: top;\n",
       "    }\n",
       "\n",
       "    .dataframe thead th {\n",
       "        text-align: right;\n",
       "    }\n",
       "</style>\n",
       "<table border=\"1\" class=\"dataframe\">\n",
       "  <thead>\n",
       "    <tr style=\"text-align: right;\">\n",
       "      <th></th>\n",
       "      <th>c_market_open</th>\n",
       "      <th>regime</th>\n",
       "      <th>expected_move</th>\n",
       "      <th>lower_price</th>\n",
       "      <th>upper_price</th>\n",
       "    </tr>\n",
       "    <tr>\n",
       "      <th>t</th>\n",
       "      <th></th>\n",
       "      <th></th>\n",
       "      <th></th>\n",
       "      <th></th>\n",
       "      <th></th>\n",
       "    </tr>\n",
       "  </thead>\n",
       "  <tbody>\n",
       "    <tr>\n",
       "      <th>2023-05-02</th>\n",
       "      <td>4153.26</td>\n",
       "      <td>-1</td>\n",
       "      <td>0.00300</td>\n",
       "      <td>4140.80</td>\n",
       "      <td>4165.72</td>\n",
       "    </tr>\n",
       "    <tr>\n",
       "      <th>2023-05-03</th>\n",
       "      <td>4125.70</td>\n",
       "      <td>-1</td>\n",
       "      <td>0.00600</td>\n",
       "      <td>4100.95</td>\n",
       "      <td>4150.45</td>\n",
       "    </tr>\n",
       "    <tr>\n",
       "      <th>2023-05-04</th>\n",
       "      <td>4081.20</td>\n",
       "      <td>-1</td>\n",
       "      <td>0.00465</td>\n",
       "      <td>4062.22</td>\n",
       "      <td>4100.18</td>\n",
       "    </tr>\n",
       "    <tr>\n",
       "      <th>2023-05-05</th>\n",
       "      <td>4104.23</td>\n",
       "      <td>1</td>\n",
       "      <td>0.00410</td>\n",
       "      <td>4087.40</td>\n",
       "      <td>4121.06</td>\n",
       "    </tr>\n",
       "    <tr>\n",
       "      <th>2023-05-08</th>\n",
       "      <td>4137.65</td>\n",
       "      <td>1</td>\n",
       "      <td>0.00320</td>\n",
       "      <td>4124.41</td>\n",
       "      <td>4150.89</td>\n",
       "    </tr>\n",
       "    <tr>\n",
       "      <th>...</th>\n",
       "      <td>...</td>\n",
       "      <td>...</td>\n",
       "      <td>...</td>\n",
       "      <td>...</td>\n",
       "      <td>...</td>\n",
       "    </tr>\n",
       "    <tr>\n",
       "      <th>2024-06-26</th>\n",
       "      <td>5457.73</td>\n",
       "      <td>1</td>\n",
       "      <td>0.00235</td>\n",
       "      <td>5444.90</td>\n",
       "      <td>5470.56</td>\n",
       "    </tr>\n",
       "    <tr>\n",
       "      <th>2024-06-27</th>\n",
       "      <td>5483.08</td>\n",
       "      <td>1</td>\n",
       "      <td>0.00240</td>\n",
       "      <td>5469.92</td>\n",
       "      <td>5496.24</td>\n",
       "    </tr>\n",
       "    <tr>\n",
       "      <th>2024-06-28</th>\n",
       "      <td>5496.61</td>\n",
       "      <td>1</td>\n",
       "      <td>0.00280</td>\n",
       "      <td>5481.22</td>\n",
       "      <td>5512.00</td>\n",
       "    </tr>\n",
       "    <tr>\n",
       "      <th>2024-07-01</th>\n",
       "      <td>5475.76</td>\n",
       "      <td>1</td>\n",
       "      <td>0.00255</td>\n",
       "      <td>5461.80</td>\n",
       "      <td>5489.72</td>\n",
       "    </tr>\n",
       "    <tr>\n",
       "      <th>2024-07-02</th>\n",
       "      <td>5465.69</td>\n",
       "      <td>1</td>\n",
       "      <td>0.00250</td>\n",
       "      <td>5452.03</td>\n",
       "      <td>5479.35</td>\n",
       "    </tr>\n",
       "  </tbody>\n",
       "</table>\n",
       "<p>293 rows × 5 columns</p>\n",
       "</div>"
      ],
      "text/plain": [
       "            c_market_open  regime  expected_move  lower_price  upper_price\n",
       "t                                                                         \n",
       "2023-05-02        4153.26      -1        0.00300      4140.80      4165.72\n",
       "2023-05-03        4125.70      -1        0.00600      4100.95      4150.45\n",
       "2023-05-04        4081.20      -1        0.00465      4062.22      4100.18\n",
       "2023-05-05        4104.23       1        0.00410      4087.40      4121.06\n",
       "2023-05-08        4137.65       1        0.00320      4124.41      4150.89\n",
       "...                   ...     ...            ...          ...          ...\n",
       "2024-06-26        5457.73       1        0.00235      5444.90      5470.56\n",
       "2024-06-27        5483.08       1        0.00240      5469.92      5496.24\n",
       "2024-06-28        5496.61       1        0.00280      5481.22      5512.00\n",
       "2024-07-01        5475.76       1        0.00255      5461.80      5489.72\n",
       "2024-07-02        5465.69       1        0.00250      5452.03      5479.35\n",
       "\n",
       "[293 rows x 5 columns]"
      ]
     },
     "execution_count": 110,
     "metadata": {},
     "output_type": "execute_result"
    }
   ],
   "source": [
    "df_spx_daily_expectation"
   ]
  },
  {
   "cell_type": "code",
   "execution_count": null,
   "id": "b7c4b191-c69c-45b8-9923-eb15c6cd847a",
   "metadata": {},
   "outputs": [],
   "source": []
  },
  {
   "cell_type": "code",
   "execution_count": 165,
   "id": "71319b74-49b3-4111-a3f5-5d7905b50c00",
   "metadata": {},
   "outputs": [],
   "source": [
    "df_goog_daily_expectation = get_df_daily_expectation(df_goog_market_open_history)"
   ]
  },
  {
   "cell_type": "code",
   "execution_count": 166,
   "id": "0b2947f5-e4d1-4f4b-b267-eaeb7ba4ee62",
   "metadata": {},
   "outputs": [],
   "source": [
    "df_sbux_daily_expectation = get_df_daily_expectation(df_sbux_market_open_history)"
   ]
  },
  {
   "cell_type": "code",
   "execution_count": null,
   "id": "91f08336-948c-4cd9-85aa-b8c1cc142014",
   "metadata": {},
   "outputs": [],
   "source": []
  },
  {
   "cell_type": "markdown",
   "id": "99715830-835b-4286-be26-0a3ac2b907cc",
   "metadata": {
    "jp-MarkdownHeadingCollapsed": true,
    "tags": []
   },
   "source": [
    "## cache options data"
   ]
  },
  {
   "cell_type": "code",
   "execution_count": 13,
   "id": "bb5b63a4-14f0-4ecf-b84b-2c675fbffa13",
   "metadata": {},
   "outputs": [],
   "source": [
    "def get_df_options_history(ticker, side):\n",
    "    dfs = []\n",
    "    for date in trading_dates[1:]:\n",
    "        df = polygon_url_to_dataframe(get_polygon_options_contracts_query_url(\n",
    "            ticker, side, date, date))\n",
    "        df['date'] = date\n",
    "        dfs.append(df)\n",
    "    df = pd.concat(dfs, ignore_index=True)\n",
    "    return df"
   ]
  },
  {
   "cell_type": "code",
   "execution_count": 14,
   "id": "6951421c-e405-4c2b-b778-4c2a8c8cb932",
   "metadata": {},
   "outputs": [],
   "source": [
    "df_spx_call_options_history = get_df_options_history(\"SPX\", \"call\")\n",
    "df_spx_put_options_history = get_df_options_history(\"SPX\", \"put\")\n",
    "df_spx_call_options_history.to_pickle('market_data/df_spx_call_options_history.pkl')\n",
    "df_spx_put_options_history.to_pickle('market_data/df_spx_put_options_history.pkl')"
   ]
  },
  {
   "cell_type": "code",
   "execution_count": null,
   "id": "73c909de-b6c6-44a5-b230-3f52b94eef44",
   "metadata": {},
   "outputs": [],
   "source": []
  },
  {
   "cell_type": "code",
   "execution_count": 82,
   "id": "f5ce9f18-714a-4e4f-bd55-44555eb6e1ea",
   "metadata": {},
   "outputs": [],
   "source": [
    "df_goog_call_options_history = get_df_options_history(ticker_goog, \"call\")\n",
    "df_goog_put_options_history = get_df_options_history(ticker_goog, \"put\")\n",
    "df_goog_call_options_history.to_pickle('market_data/df_goog_call_options_history.pkl')\n",
    "df_goog_put_options_history.to_pickle('market_data/df_goog_put_options_history.pkl')"
   ]
  },
  {
   "cell_type": "code",
   "execution_count": null,
   "id": "1aaf8d3f-d477-468e-9c91-0993b8d8da0c",
   "metadata": {},
   "outputs": [],
   "source": []
  },
  {
   "cell_type": "code",
   "execution_count": 83,
   "id": "509e3467-bad3-4e72-b5a8-921f3797746c",
   "metadata": {},
   "outputs": [],
   "source": [
    "df_sbux_call_options_history = get_df_options_history(ticker_sbux, \"call\")\n",
    "df_sbux_put_options_history = get_df_options_history(ticker_sbux, \"put\")\n",
    "df_sbux_call_options_history.to_pickle('market_data/df_sbux_call_options_history.pkl')\n",
    "df_sbux_put_options_history.to_pickle('market_data/df_sbux_put_options_history.pkl')"
   ]
  },
  {
   "cell_type": "code",
   "execution_count": null,
   "id": "b90edd4b-0d38-4630-a854-55e1eff70200",
   "metadata": {},
   "outputs": [],
   "source": []
  },
  {
   "cell_type": "markdown",
   "id": "1239e5fa-e40a-4abf-8879-54aaa41777a0",
   "metadata": {
    "jp-MarkdownHeadingCollapsed": true,
    "tags": []
   },
   "source": [
    "## cache intraday options data"
   ]
  },
  {
   "cell_type": "code",
   "execution_count": 17,
   "id": "e3410b17-7e6b-419b-a214-cf1dbd4d25a1",
   "metadata": {},
   "outputs": [],
   "source": [
    "def concat_otm_short_long(df_otm_short, df_otm_long, o_or_c, option_type):\n",
    "    df_otm_options = pd.concat([\n",
    "        df_otm_short.add_suffix(f\"_market_{o_or_c}_s_{option_type}\"), \n",
    "        df_otm_long.add_suffix(f\"_market_{o_or_c}_l_{option_type}\")], axis = 1)\n",
    "    df_otm_options[f\"market_{o_or_c}_spread\"] = df_otm_options[f\"c_market_{o_or_c}_s_{option_type}\"] - \\\n",
    "        df_otm_options[f\"c_market_{o_or_c}_l_{option_type}\"]\n",
    "    return df_otm_options"
   ]
  },
  {
   "cell_type": "code",
   "execution_count": null,
   "id": "96ed0457-5c50-4e23-a2cd-c0a137ba41cd",
   "metadata": {},
   "outputs": [],
   "source": []
  },
  {
   "cell_type": "code",
   "execution_count": 150,
   "id": "ab907751-7ee5-4f1b-9ae0-117dadbdc0f1",
   "metadata": {},
   "outputs": [],
   "source": [
    "def get_df_otm_options_spread(date_str, df_otm_options_history, option_type):\n",
    "    df_otm_options_daily = df_otm_options_history[df_otm_options_history.expiration_date == date_str]\n",
    "    if df_otm_options_daily.empty:\n",
    "        return None\n",
    "\n",
    "    if option_type == \"call\":\n",
    "        otm_short_ticker = df_otm_options_daily.head(1).ticker.values[0]\n",
    "        otm_long_ticker = df_otm_options_daily.head(2).tail(1).ticker.values[0]\n",
    "    else:\n",
    "        otm_short_ticker = df_otm_options_daily.tail(1).ticker.values[0]\n",
    "        otm_long_ticker = df_otm_options_daily.tail(2).head(1).ticker.values[0]\n",
    "\n",
    "    df_otm_short_option_intraday = polygon_url_to_dataframe(get_polygon_intraday_query_url(otm_short_ticker, date_str))\n",
    "    df_otm_long_option_intraday = polygon_url_to_dataframe(get_polygon_intraday_query_url(otm_long_ticker, date_str))\n",
    "    if df_otm_short_option_intraday.empty or df_otm_long_option_intraday.empty:\n",
    "        return None\n",
    "    \n",
    "    df_otm_short_option_market_open = get_df_market_open_from_intraday(df_otm_short_option_intraday)\n",
    "    df_otm_long_option_market_open = get_df_market_open_from_intraday(df_otm_long_option_intraday)\n",
    "    df_otm_options_market_open = concat_otm_short_long(\n",
    "        df_otm_short_option_market_open, df_otm_long_option_market_open,\n",
    "        \"o\", \"put\"\n",
    "    )\n",
    "\n",
    "    df_otm_short_option_market_close = get_df_market_close_from_intraday(df_otm_short_option_intraday)\n",
    "    df_otm_long_option_market_close = get_df_market_close_from_intraday(df_otm_long_option_intraday)\n",
    "    df_otm_options_market_close = concat_otm_short_long(\n",
    "        df_otm_short_option_market_close, df_otm_long_option_market_close,\n",
    "        \"c\", \"put\"\n",
    "    )    \n",
    "    \n",
    "    df_otm_options = df_otm_options_market_open.join(df_otm_options_market_close)\n",
    "    df_otm_options[\"pnl\"] = df_otm_options[\"market_o_spread\"] - df_otm_options[\"market_c_spread\"]\n",
    "    \n",
    "    return df_otm_options"
   ]
  },
  {
   "cell_type": "code",
   "execution_count": 153,
   "id": "845bd8b7-8fdb-4270-a38d-6da613813315",
   "metadata": {},
   "outputs": [],
   "source": [
    "def get_df_otm_options_spread_history(df_daily_expectation, df_options_history, option_type):\n",
    "    df_otm_options_history = df_options_history.join(df_daily_expectation, on='expiration_date')\n",
    "\n",
    "    if option_type == \"call\":\n",
    "        df_otm_options_history = df_otm_options_history[\n",
    "            df_otm_options_history.strike_price > df_otm_options_history.upper_price\n",
    "        ]    \n",
    "    else:\n",
    "        df_otm_options_history = df_otm_options_history[\n",
    "            df_otm_options_history.strike_price < df_otm_options_history.lower_price\n",
    "        ]\n",
    "    \n",
    "    dfs = []\n",
    "    for date in trading_dates[1:]:\n",
    "        df_date = get_df_otm_options_spread(date, df_otm_options_history, option_type)\n",
    "        if df_date is None:\n",
    "            continue\n",
    "        dfs.append(df_date)\n",
    "    df = pd.concat(dfs, ignore_index=False)\n",
    "    return df"
   ]
  },
  {
   "cell_type": "code",
   "execution_count": null,
   "id": "171b1edd-890b-4123-804b-be93bd57c0de",
   "metadata": {},
   "outputs": [],
   "source": [
    "df_spx_otm_call_options_spread_history = get_df_otm_options_spread_history(df_spx_daily_expectation, df_spx_call_options_history, \"call\")"
   ]
  },
  {
   "cell_type": "code",
   "execution_count": 34,
   "id": "e0ad9006-0413-4438-9e21-f5345b811295",
   "metadata": {},
   "outputs": [],
   "source": [
    "df_spx_otm_call_options_spread_history.to_pickle('market_data/df_spx_otm_call_options_spread_history.pkl')"
   ]
  },
  {
   "cell_type": "code",
   "execution_count": 38,
   "id": "d2cfcf65-b7cb-45fe-a6ae-2fe6af13ebc2",
   "metadata": {},
   "outputs": [],
   "source": [
    "df_spx_otm_put_options_spread_history = get_df_otm_options_spread_history(df_spx_daily_expectation, df_spx_put_options_history, \"put\")"
   ]
  },
  {
   "cell_type": "code",
   "execution_count": 39,
   "id": "3c32c7c4-9dbe-4b51-9309-9a4d78ebe071",
   "metadata": {},
   "outputs": [],
   "source": [
    "df_spx_otm_put_options_spread_history.to_pickle('market_data/df_spx_otm_put_options_spread_history.pkl')"
   ]
  },
  {
   "cell_type": "code",
   "execution_count": null,
   "id": "703cf6f5-59a5-48e6-83bc-fd6d573e6886",
   "metadata": {},
   "outputs": [],
   "source": []
  },
  {
   "cell_type": "code",
   "execution_count": 170,
   "id": "a8809088-3c51-4122-90a7-c068acefad08",
   "metadata": {},
   "outputs": [],
   "source": [
    "df_goog_otm_call_options_spread_history = get_df_otm_options_spread_history(df_goog_daily_expectation, df_goog_call_options_history, \"call\")"
   ]
  },
  {
   "cell_type": "code",
   "execution_count": 171,
   "id": "a5193062-16e3-41ad-be48-8dc604123641",
   "metadata": {},
   "outputs": [],
   "source": [
    "df_goog_otm_call_options_spread_history.to_pickle('market_data/df_goog_otm_call_options_spread_history.pkl')"
   ]
  },
  {
   "cell_type": "code",
   "execution_count": 172,
   "id": "ac491fed-4469-4f40-b9b5-4d20fe1437e0",
   "metadata": {},
   "outputs": [],
   "source": [
    "df_goog_otm_put_options_spread_history = get_df_otm_options_spread_history(df_goog_daily_expectation, df_goog_put_options_history, \"put\")"
   ]
  },
  {
   "cell_type": "code",
   "execution_count": 173,
   "id": "9d3d8ecb-378b-4f2e-9438-aefce32a2d0d",
   "metadata": {},
   "outputs": [],
   "source": [
    "df_goog_otm_put_options_spread_history.to_pickle('market_data/df_goog_otm_put_options_spread_history.pkl')"
   ]
  },
  {
   "cell_type": "code",
   "execution_count": null,
   "id": "060731e8-0bc9-4a29-a06d-edda36306616",
   "metadata": {},
   "outputs": [],
   "source": []
  },
  {
   "cell_type": "code",
   "execution_count": 176,
   "id": "6e74a054-9d98-4b17-940c-79e206f4cec9",
   "metadata": {},
   "outputs": [],
   "source": [
    "df_sbux_otm_call_options_spread_history = get_df_otm_options_spread_history(df_sbux_daily_expectation, df_sbux_call_options_history, \"call\")"
   ]
  },
  {
   "cell_type": "code",
   "execution_count": 177,
   "id": "8669523e-d1f5-46bf-a257-92d53af6c877",
   "metadata": {},
   "outputs": [],
   "source": [
    "df_sbux_otm_call_options_spread_history.to_pickle('market_data/df_sbux_otm_call_options_spread_history.pkl')"
   ]
  },
  {
   "cell_type": "code",
   "execution_count": 178,
   "id": "ff61652c-dbf4-4e0e-a11e-c6340a7c7c30",
   "metadata": {},
   "outputs": [],
   "source": [
    "df_sbux_otm_put_options_spread_history = get_df_otm_options_spread_history(df_sbux_daily_expectation, df_sbux_put_options_history, \"put\")"
   ]
  },
  {
   "cell_type": "code",
   "execution_count": 179,
   "id": "8362de68-4260-4df2-a69e-05d9766d36b2",
   "metadata": {},
   "outputs": [],
   "source": [
    "df_sbux_otm_put_options_spread_history.to_pickle('market_data/df_sbux_otm_put_options_spread_history.pkl')"
   ]
  },
  {
   "cell_type": "code",
   "execution_count": null,
   "id": "f3010418-2e64-4e83-8bb3-a2079de73d11",
   "metadata": {},
   "outputs": [],
   "source": []
  },
  {
   "cell_type": "code",
   "execution_count": null,
   "id": "9986ef7f-6cbd-45ae-a0c1-a4d669982fb1",
   "metadata": {},
   "outputs": [],
   "source": []
  },
  {
   "cell_type": "markdown",
   "id": "61ac84e9-ed5d-45da-a6ea-5c2e9e43e7ed",
   "metadata": {
    "jp-MarkdownHeadingCollapsed": true,
    "tags": []
   },
   "source": [
    "## read cached options data"
   ]
  },
  {
   "cell_type": "code",
   "execution_count": null,
   "id": "7613c989-e92e-491b-8372-cf1a9ccbb092",
   "metadata": {},
   "outputs": [],
   "source": [
    "df_spx_call_options_history = pd.read_pickle('market_data/df_spx_call_options_history.pkl')\n",
    "df_spx_put_options_history = pd.read_pickle('market_data/df_spx_put_options_history.pkl')"
   ]
  },
  {
   "cell_type": "code",
   "execution_count": null,
   "id": "5e4fd4c8-9bb6-47a3-9479-5c0bcdc36ebf",
   "metadata": {},
   "outputs": [],
   "source": [
    "df_spx_otm_call_options_spread_history = pd.read_pickle('market_data/df_spx_otm_call_options_spread_history.pkl')\n",
    "df_spx_otm_put_options_spread_history = pd.read_pickle('market_data/df_spx_otm_put_options_spread_history.pkl')"
   ]
  },
  {
   "cell_type": "code",
   "execution_count": null,
   "id": "21a5049e-212b-40b7-83ef-1f9972fd839e",
   "metadata": {},
   "outputs": [],
   "source": []
  },
  {
   "cell_type": "code",
   "execution_count": null,
   "id": "977a59f6-a628-4f43-a9dd-2835dace2c77",
   "metadata": {},
   "outputs": [],
   "source": [
    "df_goog_call_options_history = pd.read_pickle('market_data/df_goog_call_options_history.pkl')\n",
    "df_goog_put_options_history = pd.read_pickle('market_data/df_goog_put_options_history.pkl')"
   ]
  },
  {
   "cell_type": "code",
   "execution_count": null,
   "id": "4041108c-46c4-46dd-82cb-cda8dcd5afd0",
   "metadata": {},
   "outputs": [],
   "source": [
    "df_goog_otm_call_options_spread_history = pd.read_pickle('market_data/df_goog_otm_call_options_spread_history.pkl')\n",
    "df_goog_otm_put_options_spread_history = pd.read_pickle('market_data/df_goog_otm_put_options_spread_history.pkl')"
   ]
  },
  {
   "cell_type": "code",
   "execution_count": null,
   "id": "f1e71bdc-981f-41ab-9353-d802fcc56e58",
   "metadata": {},
   "outputs": [],
   "source": []
  },
  {
   "cell_type": "code",
   "execution_count": null,
   "id": "b338dcc6-ad3c-4914-ae2d-ce86ee092ed4",
   "metadata": {},
   "outputs": [],
   "source": [
    "df_sbux_call_options_history = pd.read_pickle('market_data/df_sbux_call_options_history.pkl')\n",
    "df_sbux_put_options_history = pd.read_pickle('market_data/df_sbux_put_options_history.pkl')"
   ]
  },
  {
   "cell_type": "code",
   "execution_count": null,
   "id": "2488dee1-38a9-4da0-ac5a-49e52025748a",
   "metadata": {},
   "outputs": [],
   "source": [
    "df_sbux_otm_call_options_spread_history = pd.read_pickle('market_data/df_sbux_otm_call_options_spread_history.pkl')\n",
    "df_sbux_otm_put_options_spread_history = pd.read_pickle('market_data/df_sbux_otm_put_options_spread_history.pkl')"
   ]
  },
  {
   "cell_type": "code",
   "execution_count": null,
   "id": "b42eddc4-9277-447c-b149-5a14db2a45c4",
   "metadata": {},
   "outputs": [],
   "source": []
  },
  {
   "cell_type": "markdown",
   "id": "e977f34f-dc15-442a-9d40-04575191a381",
   "metadata": {
    "tags": []
   },
   "source": [
    "## logic with options data"
   ]
  },
  {
   "cell_type": "code",
   "execution_count": 154,
   "id": "efe55471-5e5f-4e65-9810-77486e85ebea",
   "metadata": {},
   "outputs": [],
   "source": [
    "df_spx_algo = df_spx_daily_expectation.join(df_spx_otm_call_options_spread_history[[\"pnl\"]].add_suffix(\"_call\")).join(\n",
    "    df_spx_otm_put_options_spread_history[[\"pnl\"]].add_suffix(\"_put\")\n",
    ")"
   ]
  },
  {
   "cell_type": "code",
   "execution_count": 155,
   "id": "85c7c5ed-bdc7-4aa0-84ce-2c9d19fe53dd",
   "metadata": {},
   "outputs": [
    {
     "data": {
      "text/html": [
       "<div>\n",
       "<style scoped>\n",
       "    .dataframe tbody tr th:only-of-type {\n",
       "        vertical-align: middle;\n",
       "    }\n",
       "\n",
       "    .dataframe tbody tr th {\n",
       "        vertical-align: top;\n",
       "    }\n",
       "\n",
       "    .dataframe thead th {\n",
       "        text-align: right;\n",
       "    }\n",
       "</style>\n",
       "<table border=\"1\" class=\"dataframe\">\n",
       "  <thead>\n",
       "    <tr style=\"text-align: right;\">\n",
       "      <th></th>\n",
       "      <th>c_market_open</th>\n",
       "      <th>regime</th>\n",
       "      <th>expected_move</th>\n",
       "      <th>lower_price</th>\n",
       "      <th>upper_price</th>\n",
       "      <th>pnl_call</th>\n",
       "      <th>pnl_put</th>\n",
       "    </tr>\n",
       "    <tr>\n",
       "      <th>t</th>\n",
       "      <th></th>\n",
       "      <th></th>\n",
       "      <th></th>\n",
       "      <th></th>\n",
       "      <th></th>\n",
       "      <th></th>\n",
       "      <th></th>\n",
       "    </tr>\n",
       "  </thead>\n",
       "  <tbody>\n",
       "    <tr>\n",
       "      <th>2023-05-02</th>\n",
       "      <td>4153.26</td>\n",
       "      <td>-1</td>\n",
       "      <td>0.00300</td>\n",
       "      <td>4140.80</td>\n",
       "      <td>4165.72</td>\n",
       "      <td>0.90</td>\n",
       "      <td>-2.16</td>\n",
       "    </tr>\n",
       "    <tr>\n",
       "      <th>2023-05-03</th>\n",
       "      <td>4125.70</td>\n",
       "      <td>-1</td>\n",
       "      <td>0.00600</td>\n",
       "      <td>4100.95</td>\n",
       "      <td>4150.45</td>\n",
       "      <td>1.31</td>\n",
       "      <td>-3.62</td>\n",
       "    </tr>\n",
       "    <tr>\n",
       "      <th>2023-05-04</th>\n",
       "      <td>4081.20</td>\n",
       "      <td>-1</td>\n",
       "      <td>0.00465</td>\n",
       "      <td>4062.22</td>\n",
       "      <td>4100.18</td>\n",
       "      <td>1.10</td>\n",
       "      <td>1.08</td>\n",
       "    </tr>\n",
       "    <tr>\n",
       "      <th>2023-05-05</th>\n",
       "      <td>4104.23</td>\n",
       "      <td>1</td>\n",
       "      <td>0.00410</td>\n",
       "      <td>4087.40</td>\n",
       "      <td>4121.06</td>\n",
       "      <td>-5.85</td>\n",
       "      <td>1.10</td>\n",
       "    </tr>\n",
       "    <tr>\n",
       "      <th>2023-05-08</th>\n",
       "      <td>4137.65</td>\n",
       "      <td>1</td>\n",
       "      <td>0.00320</td>\n",
       "      <td>4124.41</td>\n",
       "      <td>4150.89</td>\n",
       "      <td>0.83</td>\n",
       "      <td>0.85</td>\n",
       "    </tr>\n",
       "    <tr>\n",
       "      <th>...</th>\n",
       "      <td>...</td>\n",
       "      <td>...</td>\n",
       "      <td>...</td>\n",
       "      <td>...</td>\n",
       "      <td>...</td>\n",
       "      <td>...</td>\n",
       "      <td>...</td>\n",
       "    </tr>\n",
       "    <tr>\n",
       "      <th>2024-06-26</th>\n",
       "      <td>5457.73</td>\n",
       "      <td>1</td>\n",
       "      <td>0.00235</td>\n",
       "      <td>5444.90</td>\n",
       "      <td>5470.56</td>\n",
       "      <td>-2.13</td>\n",
       "      <td>0.90</td>\n",
       "    </tr>\n",
       "    <tr>\n",
       "      <th>2024-06-27</th>\n",
       "      <td>5483.08</td>\n",
       "      <td>1</td>\n",
       "      <td>0.00240</td>\n",
       "      <td>5469.92</td>\n",
       "      <td>5496.24</td>\n",
       "      <td>1.10</td>\n",
       "      <td>0.84</td>\n",
       "    </tr>\n",
       "    <tr>\n",
       "      <th>2024-06-28</th>\n",
       "      <td>5496.61</td>\n",
       "      <td>1</td>\n",
       "      <td>0.00280</td>\n",
       "      <td>5481.22</td>\n",
       "      <td>5512.00</td>\n",
       "      <td>1.25</td>\n",
       "      <td>-3.76</td>\n",
       "    </tr>\n",
       "    <tr>\n",
       "      <th>2024-07-01</th>\n",
       "      <td>5475.76</td>\n",
       "      <td>1</td>\n",
       "      <td>0.00255</td>\n",
       "      <td>5461.80</td>\n",
       "      <td>5489.72</td>\n",
       "      <td>1.23</td>\n",
       "      <td>0.85</td>\n",
       "    </tr>\n",
       "    <tr>\n",
       "      <th>2024-07-02</th>\n",
       "      <td>5465.69</td>\n",
       "      <td>1</td>\n",
       "      <td>0.00250</td>\n",
       "      <td>5452.03</td>\n",
       "      <td>5479.35</td>\n",
       "      <td>-1.80</td>\n",
       "      <td>1.29</td>\n",
       "    </tr>\n",
       "  </tbody>\n",
       "</table>\n",
       "<p>293 rows × 7 columns</p>\n",
       "</div>"
      ],
      "text/plain": [
       "            c_market_open  regime  expected_move  lower_price  upper_price  \\\n",
       "t                                                                            \n",
       "2023-05-02        4153.26      -1        0.00300      4140.80      4165.72   \n",
       "2023-05-03        4125.70      -1        0.00600      4100.95      4150.45   \n",
       "2023-05-04        4081.20      -1        0.00465      4062.22      4100.18   \n",
       "2023-05-05        4104.23       1        0.00410      4087.40      4121.06   \n",
       "2023-05-08        4137.65       1        0.00320      4124.41      4150.89   \n",
       "...                   ...     ...            ...          ...          ...   \n",
       "2024-06-26        5457.73       1        0.00235      5444.90      5470.56   \n",
       "2024-06-27        5483.08       1        0.00240      5469.92      5496.24   \n",
       "2024-06-28        5496.61       1        0.00280      5481.22      5512.00   \n",
       "2024-07-01        5475.76       1        0.00255      5461.80      5489.72   \n",
       "2024-07-02        5465.69       1        0.00250      5452.03      5479.35   \n",
       "\n",
       "            pnl_call  pnl_put  \n",
       "t                              \n",
       "2023-05-02      0.90    -2.16  \n",
       "2023-05-03      1.31    -3.62  \n",
       "2023-05-04      1.10     1.08  \n",
       "2023-05-05     -5.85     1.10  \n",
       "2023-05-08      0.83     0.85  \n",
       "...              ...      ...  \n",
       "2024-06-26     -2.13     0.90  \n",
       "2024-06-27      1.10     0.84  \n",
       "2024-06-28      1.25    -3.76  \n",
       "2024-07-01      1.23     0.85  \n",
       "2024-07-02     -1.80     1.29  \n",
       "\n",
       "[293 rows x 7 columns]"
      ]
     },
     "execution_count": 155,
     "metadata": {},
     "output_type": "execute_result"
    }
   ],
   "source": [
    "df_spx_algo"
   ]
  },
  {
   "cell_type": "code",
   "execution_count": null,
   "id": "26b4933b-82e1-4351-814f-a75e1500ebee",
   "metadata": {},
   "outputs": [],
   "source": []
  },
  {
   "cell_type": "code",
   "execution_count": 156,
   "id": "8e2dfa7d-9b9d-40c8-a080-f3c07763d9ab",
   "metadata": {},
   "outputs": [
    {
     "data": {
      "text/html": [
       "<div>\n",
       "<style scoped>\n",
       "    .dataframe tbody tr th:only-of-type {\n",
       "        vertical-align: middle;\n",
       "    }\n",
       "\n",
       "    .dataframe tbody tr th {\n",
       "        vertical-align: top;\n",
       "    }\n",
       "\n",
       "    .dataframe thead th {\n",
       "        text-align: right;\n",
       "    }\n",
       "</style>\n",
       "<table border=\"1\" class=\"dataframe\">\n",
       "  <thead>\n",
       "    <tr style=\"text-align: right;\">\n",
       "      <th></th>\n",
       "      <th>pnl_call</th>\n",
       "      <th>pnl_put</th>\n",
       "    </tr>\n",
       "    <tr>\n",
       "      <th>regime</th>\n",
       "      <th></th>\n",
       "      <th></th>\n",
       "    </tr>\n",
       "  </thead>\n",
       "  <tbody>\n",
       "    <tr>\n",
       "      <th>-1</th>\n",
       "      <td>33.14</td>\n",
       "      <td>-74.90</td>\n",
       "    </tr>\n",
       "    <tr>\n",
       "      <th>1</th>\n",
       "      <td>-54.36</td>\n",
       "      <td>100.26</td>\n",
       "    </tr>\n",
       "  </tbody>\n",
       "</table>\n",
       "</div>"
      ],
      "text/plain": [
       "        pnl_call  pnl_put\n",
       "regime                   \n",
       "-1         33.14   -74.90\n",
       " 1        -54.36   100.26"
      ]
     },
     "execution_count": 156,
     "metadata": {},
     "output_type": "execute_result"
    }
   ],
   "source": [
    "df_spx_algo.groupby(\"regime\")[[\"pnl_call\", \"pnl_put\"]].sum()"
   ]
  },
  {
   "cell_type": "code",
   "execution_count": null,
   "id": "0929da42-bf4f-4838-b131-cd51729b5af0",
   "metadata": {},
   "outputs": [],
   "source": []
  },
  {
   "cell_type": "code",
   "execution_count": 157,
   "id": "f46d8533-811c-4f5f-98ce-29c12207fcbb",
   "metadata": {},
   "outputs": [
    {
     "name": "stderr",
     "output_type": "stream",
     "text": [
      "/var/folders/hh/x43xkncs2k7dm7t4vg3lt2cm0000gn/T/ipykernel_96764/2214457600.py:1: UserWarning: Boolean Series key will be reindexed to match DataFrame index.\n",
      "  df_spx_otm_call_options_spread_history[\n"
     ]
    },
    {
     "data": {
      "text/plain": [
       "c_market_o_s_call    323.67\n",
       "c_market_o_l_call    239.52\n",
       "market_o_spread       84.15\n",
       "c_market_c_s_call    196.58\n",
       "c_market_c_l_call    145.57\n",
       "market_c_spread       51.01\n",
       "pnl                   33.14\n",
       "dtype: float64"
      ]
     },
     "execution_count": 157,
     "metadata": {},
     "output_type": "execute_result"
    }
   ],
   "source": [
    "df_spx_otm_call_options_spread_history[\n",
    "    df_spx_algo[\"regime\"] < 0\n",
    "].sum()"
   ]
  },
  {
   "cell_type": "code",
   "execution_count": 158,
   "id": "204063f9-b7cd-4c83-b43c-51dd333272c0",
   "metadata": {},
   "outputs": [
    {
     "data": {
      "text/plain": [
       "c_market_o_s_call    1047.16\n",
       "c_market_o_l_call     732.10\n",
       "market_o_spread       315.06\n",
       "c_market_c_s_call    1132.63\n",
       "c_market_c_l_call     796.35\n",
       "market_c_spread       336.28\n",
       "pnl                   -21.22\n",
       "dtype: float64"
      ]
     },
     "execution_count": 158,
     "metadata": {},
     "output_type": "execute_result"
    }
   ],
   "source": [
    "df_spx_otm_call_options_spread_history.sum()"
   ]
  },
  {
   "cell_type": "code",
   "execution_count": null,
   "id": "1ce69efb-a545-4913-8283-ac54585d1ff0",
   "metadata": {},
   "outputs": [],
   "source": []
  },
  {
   "cell_type": "code",
   "execution_count": 159,
   "id": "bbaa8a37-4937-4f68-93b1-da349b156e65",
   "metadata": {},
   "outputs": [
    {
     "name": "stderr",
     "output_type": "stream",
     "text": [
      "/var/folders/hh/x43xkncs2k7dm7t4vg3lt2cm0000gn/T/ipykernel_96764/465159656.py:1: UserWarning: Boolean Series key will be reindexed to match DataFrame index.\n",
      "  df_spx_otm_put_options_spread_history[\n"
     ]
    },
    {
     "data": {
      "text/plain": [
       "c_market_o_s_put    896.91\n",
       "c_market_o_l_put    668.93\n",
       "market_o_spread     227.98\n",
       "c_market_c_s_put    478.88\n",
       "c_market_c_l_put    351.16\n",
       "market_c_spread     127.72\n",
       "pnl                 100.26\n",
       "dtype: float64"
      ]
     },
     "execution_count": 159,
     "metadata": {},
     "output_type": "execute_result"
    }
   ],
   "source": [
    "df_spx_otm_put_options_spread_history[\n",
    "    df_spx_algo[\"regime\"] > 0\n",
    "].sum()"
   ]
  },
  {
   "cell_type": "code",
   "execution_count": 160,
   "id": "2b8eb198-48cd-4638-a03e-a17aae3a5884",
   "metadata": {},
   "outputs": [
    {
     "data": {
      "text/plain": [
       "c_market_o_s_put    1306.32\n",
       "c_market_o_l_put     997.03\n",
       "market_o_spread      309.29\n",
       "c_market_c_s_put    1205.80\n",
       "c_market_c_l_put     921.87\n",
       "market_c_spread      283.93\n",
       "pnl                   25.36\n",
       "dtype: float64"
      ]
     },
     "execution_count": 160,
     "metadata": {},
     "output_type": "execute_result"
    }
   ],
   "source": [
    "df_spx_otm_put_options_spread_history.sum()"
   ]
  },
  {
   "cell_type": "code",
   "execution_count": null,
   "id": "f42ce38f-76b0-46f6-ada4-b016937631cc",
   "metadata": {},
   "outputs": [],
   "source": []
  },
  {
   "cell_type": "code",
   "execution_count": 180,
   "id": "730f9bc9-8062-4d33-ab59-41fa5889dece",
   "metadata": {},
   "outputs": [],
   "source": [
    "df_goog_algo = df_goog_daily_expectation.join(df_goog_otm_call_options_spread_history[[\"pnl\"]].add_suffix(\"_call\")).join(\n",
    "    df_goog_otm_put_options_spread_history[[\"pnl\"]].add_suffix(\"_put\")\n",
    ")"
   ]
  },
  {
   "cell_type": "code",
   "execution_count": 181,
   "id": "6367d8ed-8591-4ca0-b5e8-980936bc8be3",
   "metadata": {},
   "outputs": [
    {
     "data": {
      "text/html": [
       "<div>\n",
       "<style scoped>\n",
       "    .dataframe tbody tr th:only-of-type {\n",
       "        vertical-align: middle;\n",
       "    }\n",
       "\n",
       "    .dataframe tbody tr th {\n",
       "        vertical-align: top;\n",
       "    }\n",
       "\n",
       "    .dataframe thead th {\n",
       "        text-align: right;\n",
       "    }\n",
       "</style>\n",
       "<table border=\"1\" class=\"dataframe\">\n",
       "  <thead>\n",
       "    <tr style=\"text-align: right;\">\n",
       "      <th></th>\n",
       "      <th>pnl_call</th>\n",
       "      <th>pnl_put</th>\n",
       "    </tr>\n",
       "    <tr>\n",
       "      <th>regime</th>\n",
       "      <th></th>\n",
       "      <th></th>\n",
       "    </tr>\n",
       "  </thead>\n",
       "  <tbody>\n",
       "    <tr>\n",
       "      <th>-1</th>\n",
       "      <td>2.13</td>\n",
       "      <td>0.86</td>\n",
       "    </tr>\n",
       "    <tr>\n",
       "      <th>1</th>\n",
       "      <td>2.38</td>\n",
       "      <td>3.14</td>\n",
       "    </tr>\n",
       "  </tbody>\n",
       "</table>\n",
       "</div>"
      ],
      "text/plain": [
       "        pnl_call  pnl_put\n",
       "regime                   \n",
       "-1          2.13     0.86\n",
       " 1          2.38     3.14"
      ]
     },
     "execution_count": 181,
     "metadata": {},
     "output_type": "execute_result"
    }
   ],
   "source": [
    "df_goog_algo.groupby(\"regime\")[[\"pnl_call\", \"pnl_put\"]].sum()"
   ]
  },
  {
   "cell_type": "code",
   "execution_count": null,
   "id": "668c3f01-6ba6-4fb0-98d2-60301e39d99b",
   "metadata": {},
   "outputs": [],
   "source": []
  },
  {
   "cell_type": "code",
   "execution_count": 182,
   "id": "15b5e016-3978-485f-a4d8-5ca3c6d9a305",
   "metadata": {},
   "outputs": [],
   "source": [
    "df_sbux_algo = df_goog_daily_expectation.join(df_sbux_otm_call_options_spread_history[[\"pnl\"]].add_suffix(\"_call\")).join(\n",
    "    df_sbux_otm_put_options_spread_history[[\"pnl\"]].add_suffix(\"_put\")\n",
    ")"
   ]
  },
  {
   "cell_type": "code",
   "execution_count": 183,
   "id": "7a5f9d80-0428-490c-9cfc-ecbf57277412",
   "metadata": {},
   "outputs": [
    {
     "data": {
      "text/html": [
       "<div>\n",
       "<style scoped>\n",
       "    .dataframe tbody tr th:only-of-type {\n",
       "        vertical-align: middle;\n",
       "    }\n",
       "\n",
       "    .dataframe tbody tr th {\n",
       "        vertical-align: top;\n",
       "    }\n",
       "\n",
       "    .dataframe thead th {\n",
       "        text-align: right;\n",
       "    }\n",
       "</style>\n",
       "<table border=\"1\" class=\"dataframe\">\n",
       "  <thead>\n",
       "    <tr style=\"text-align: right;\">\n",
       "      <th></th>\n",
       "      <th>pnl_call</th>\n",
       "      <th>pnl_put</th>\n",
       "    </tr>\n",
       "    <tr>\n",
       "      <th>regime</th>\n",
       "      <th></th>\n",
       "      <th></th>\n",
       "    </tr>\n",
       "  </thead>\n",
       "  <tbody>\n",
       "    <tr>\n",
       "      <th>-1</th>\n",
       "      <td>0.58</td>\n",
       "      <td>-0.62</td>\n",
       "    </tr>\n",
       "    <tr>\n",
       "      <th>1</th>\n",
       "      <td>0.51</td>\n",
       "      <td>-0.94</td>\n",
       "    </tr>\n",
       "  </tbody>\n",
       "</table>\n",
       "</div>"
      ],
      "text/plain": [
       "        pnl_call  pnl_put\n",
       "regime                   \n",
       "-1          0.58    -0.62\n",
       " 1          0.51    -0.94"
      ]
     },
     "execution_count": 183,
     "metadata": {},
     "output_type": "execute_result"
    }
   ],
   "source": [
    "df_sbux_algo.groupby(\"regime\")[[\"pnl_call\", \"pnl_put\"]].sum()"
   ]
  },
  {
   "cell_type": "code",
   "execution_count": null,
   "id": "48bc3bd7-203d-47b4-afde-6eb75d9ad23a",
   "metadata": {},
   "outputs": [],
   "source": []
  },
  {
   "cell_type": "code",
   "execution_count": null,
   "id": "65ccba45-8185-4fa3-ba5f-03b905280cb3",
   "metadata": {},
   "outputs": [],
   "source": []
  }
 ],
 "metadata": {
  "kernelspec": {
   "display_name": "Python 3 (ipykernel)",
   "language": "python",
   "name": "python3"
  },
  "language_info": {
   "codemirror_mode": {
    "name": "ipython",
    "version": 3
   },
   "file_extension": ".py",
   "mimetype": "text/x-python",
   "name": "python",
   "nbconvert_exporter": "python",
   "pygments_lexer": "ipython3",
   "version": "3.9.6"
  }
 },
 "nbformat": 4,
 "nbformat_minor": 5
}
