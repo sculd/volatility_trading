{
 "cells": [
  {
   "cell_type": "markdown",
   "id": "4f5f6f05-6e44-4e2c-9085-f54bc6627c7b",
   "metadata": {
    "tags": []
   },
   "source": [
    "## imports"
   ]
  },
  {
   "cell_type": "code",
   "execution_count": 1182,
   "id": "5d69bd9e-5d73-4d07-af54-ac04cad5649e",
   "metadata": {
    "tags": []
   },
   "outputs": [],
   "source": [
    "import requests\n",
    "import pandas as pd\n",
    "import numpy as np\n",
    "import mysql.connector\n",
    "import os\n",
    "import importlib\n",
    "\n",
    "import data.daily\n",
    "import sqlalchemy\n",
    "import matplotlib.pyplot as plt\n",
    "\n",
    "from datetime import datetime, timedelta\n",
    "from pandas_market_calendars import get_calendar"
   ]
  },
  {
   "cell_type": "code",
   "execution_count": 1183,
   "id": "49ddd853-12fd-49cd-ab0e-d1c1651fd9d0",
   "metadata": {
    "tags": []
   },
   "outputs": [
    {
     "data": {
      "text/plain": [
       "<module 'algo.option_spread' from '/Users/junlim/projects/volatility_trading/algo/option_spread.py'>"
      ]
     },
     "execution_count": 1183,
     "metadata": {},
     "output_type": "execute_result"
    }
   ],
   "source": [
    "import data.daily\n",
    "import algo.option_spread\n",
    "importlib.reload(algo.option_spread)"
   ]
  },
  {
   "cell_type": "code",
   "execution_count": 1184,
   "id": "398603e7-ad0b-4219-8442-0f3c4e1f3ab4",
   "metadata": {
    "tags": []
   },
   "outputs": [],
   "source": [
    "import urllib.parse as urlparse\n",
    "from urllib.parse import urlencode"
   ]
  },
  {
   "cell_type": "code",
   "execution_count": 1185,
   "id": "8678b50b-bdab-4fdf-b74b-2b7bfff5c2eb",
   "metadata": {
    "tags": []
   },
   "outputs": [
    {
     "data": {
      "text/plain": [
       "<module 'algo.expectation' from '/Users/junlim/projects/volatility_trading/algo/expectation.py'>"
      ]
     },
     "execution_count": 1185,
     "metadata": {},
     "output_type": "execute_result"
    }
   ],
   "source": [
    "import algo.expectation\n",
    "importlib.reload(algo.expectation)"
   ]
  },
  {
   "cell_type": "code",
   "execution_count": 1186,
   "id": "f2f09bae-5622-4903-8823-1a79744b42cc",
   "metadata": {
    "tags": []
   },
   "outputs": [],
   "source": [
    "polygon_api_key = os.getenv(\"QUANT_GALORE_POLYGON_API_KEY\")\n",
    "_POLYGON_V2_BASE_URL = \"https://api.polygon.io/v2\"\n",
    "_POLYGON_V3_BASE_URL = \"https://api.polygon.io/v3\""
   ]
  },
  {
   "cell_type": "code",
   "execution_count": 1187,
   "id": "cdce5599-e5c5-465d-a6f2-1a4ff135b77e",
   "metadata": {
    "tags": []
   },
   "outputs": [
    {
     "name": "stderr",
     "output_type": "stream",
     "text": [
      "/var/folders/hh/x43xkncs2k7dm7t4vg3lt2cm0000gn/T/ipykernel_96764/1965267071.py:2: FutureWarning: DatetimeIndex.union_many is deprecated and will be removed in a future version. Use obj.union instead.\n",
      "  trading_dates = calendar.schedule(\n",
      "/var/folders/hh/x43xkncs2k7dm7t4vg3lt2cm0000gn/T/ipykernel_96764/1965267071.py:2: FutureWarning: DatetimeIndex.union_many is deprecated and will be removed in a future version. Use obj.union instead.\n",
      "  trading_dates = calendar.schedule(\n",
      "/var/folders/hh/x43xkncs2k7dm7t4vg3lt2cm0000gn/T/ipykernel_96764/1965267071.py:2: FutureWarning: DatetimeIndex.union_many is deprecated and will be removed in a future version. Use obj.union instead.\n",
      "  trading_dates = calendar.schedule(\n"
     ]
    }
   ],
   "source": [
    "calendar = get_calendar(\"NYSE\")\n",
    "trading_dates = calendar.schedule(\n",
    "    start_date = \"2023-05-01\", \n",
    "    end_date = \"2024-07-02\"\n",
    "    #end_date = (datetime.today()-timedelta(days = 1))\n",
    ").index.strftime(\"%Y-%m-%d\").values"
   ]
  },
  {
   "cell_type": "code",
   "execution_count": null,
   "id": "ca4d5840-726a-49b6-ac10-ca6ea49b3078",
   "metadata": {},
   "outputs": [],
   "source": []
  },
  {
   "cell_type": "code",
   "execution_count": 1188,
   "id": "f9b88c11-767f-48d5-92a4-d354cc41093a",
   "metadata": {
    "tags": []
   },
   "outputs": [],
   "source": [
    "ticker_spy = \"SPY\"\n",
    "ticker_spx = \"I:SPX\"\n",
    "ticker_goog = \"GOOG\"\n",
    "ticker_sbux = \"SBUX\"\n",
    "ticker_vix1d = \"I:VIX1D\"\n",
    "options_ticker = \"SPX\"\n",
    "\n",
    "i = 2\n",
    "date = trading_dates[i]\n",
    "prior_day = trading_dates[i-1]\n",
    "\n",
    "trade_list = []\n",
    "times = []"
   ]
  },
  {
   "cell_type": "code",
   "execution_count": null,
   "id": "2ae10fbc-864c-4eb5-b8bd-c8135d2a091e",
   "metadata": {},
   "outputs": [],
   "source": []
  },
  {
   "cell_type": "code",
   "execution_count": 1189,
   "id": "f1160961-bafb-4429-9c27-14b1ddac4b06",
   "metadata": {
    "tags": []
   },
   "outputs": [],
   "source": [
    "df_spy_daily_history = pd.read_pickle('market_data/df_spy_daily_history.pkl')\n",
    "df_spx_daily_history = pd.read_pickle('market_data/df_spx_daily_history.pkl')\n",
    "df_goog_daily_history = pd.read_pickle('market_data/df_goog_daily_history.pkl')\n",
    "df_sbux_daily_history = pd.read_pickle('market_data/df_sbux_daily_history.pkl')\n",
    "\n",
    "df_spy_intraday_history = pd.read_pickle('market_data/df_spy_intraday_history.pkl')\n",
    "df_vix1d_intraday_history = pd.read_pickle('market_data/df_vix1d_intraday_history.pkl')\n",
    "df_spx_intraday_history = pd.read_pickle('market_data/df_spx_intraday_history.pkl')\n",
    "df_goog_intraday_history = pd.read_pickle('market_data/df_goog_intraday_history.pkl')\n",
    "df_sbux_intraday_history = pd.read_pickle('market_data/df_sbux_intraday_history.pkl')\n",
    "\n",
    "df_spx_call_options_history = pd.read_pickle('market_data/df_spx_call_options_history.pkl')\n",
    "df_spx_put_options_history = pd.read_pickle('market_data/df_spx_put_options_history.pkl')"
   ]
  },
  {
   "cell_type": "code",
   "execution_count": 1190,
   "id": "e427fb92-a601-4b72-836a-b7bfab11b4f3",
   "metadata": {
    "tags": []
   },
   "outputs": [],
   "source": [
    "df_goog_call_options_history = pd.read_pickle('market_data/df_goog_call_options_history.pkl')"
   ]
  },
  {
   "cell_type": "code",
   "execution_count": 1191,
   "id": "7754cc3d-ecc2-47f1-a5a3-311692975adc",
   "metadata": {
    "tags": []
   },
   "outputs": [],
   "source": [
    "df_spx_otm_call_options_spread_history = pd.read_pickle('market_data/df_spx_otm_call_options_spread_history.pkl')\n",
    "df_spx_otm_put_options_spread_history = pd.read_pickle('market_data/df_spx_otm_put_options_spread_history.pkl')\n",
    "df_goog_otm_call_options_spread_history = pd.read_pickle('market_data/df_goog_otm_call_options_spread_history.pkl')\n",
    "df_goog_otm_put_options_spread_history = pd.read_pickle('market_data/df_goog_otm_put_options_spread_history.pkl')\n",
    "df_sbux_otm_call_options_spread_history = pd.read_pickle('market_data/df_sbux_otm_call_options_spread_history.pkl')\n",
    "df_sbux_otm_put_options_spread_history = pd.read_pickle('market_data/df_sbux_otm_put_options_spread_history.pkl')"
   ]
  },
  {
   "cell_type": "code",
   "execution_count": 1192,
   "id": "81b7590e-70b0-4229-9185-08dd1ece29d2",
   "metadata": {
    "tags": []
   },
   "outputs": [],
   "source": [
    "df_goog_atm_vol_history = pd.read_pickle('market_data/df_goog_atm_vol_history.pkl')\n",
    "df_sbux_atm_vol_history = pd.read_pickle('market_data/df_sbux_atm_vol_history.pkl')"
   ]
  },
  {
   "cell_type": "code",
   "execution_count": null,
   "id": "0f33f6bd-0dcb-45a8-bd1e-cf19a73ce99c",
   "metadata": {},
   "outputs": [],
   "source": []
  },
  {
   "cell_type": "code",
   "execution_count": null,
   "id": "19d6f7c0-7656-432a-8eb3-6cfa72a2eb1a",
   "metadata": {},
   "outputs": [],
   "source": []
  },
  {
   "cell_type": "markdown",
   "id": "7aee5d19-4c5f-4288-a720-c55205d3b4ff",
   "metadata": {},
   "source": [
    "## debug"
   ]
  },
  {
   "cell_type": "code",
   "execution_count": 1193,
   "id": "2e76d9cc-3a26-497a-8f7b-d2e67063cb42",
   "metadata": {
    "tags": []
   },
   "outputs": [
    {
     "data": {
      "text/plain": [
       "<module 'algo.volatility' from '/Users/junlim/projects/volatility_trading/algo/volatility.py'>"
      ]
     },
     "execution_count": 1193,
     "metadata": {},
     "output_type": "execute_result"
    }
   ],
   "source": [
    "import algo.volatility\n",
    "importlib.reload(algo.volatility)"
   ]
  },
  {
   "cell_type": "code",
   "execution_count": null,
   "id": "0acd4a51-ac5b-4438-9c1d-0f033ba831b7",
   "metadata": {},
   "outputs": [],
   "source": []
  },
  {
   "cell_type": "code",
   "execution_count": 1279,
   "id": "4564a184-8c9e-495e-a3c7-fb9da13930ef",
   "metadata": {
    "tags": []
   },
   "outputs": [
    {
     "data": {
      "text/plain": [
       "<module 'data.option_contracts' from '/Users/junlim/projects/volatility_trading/data/option_contracts.py'>"
      ]
     },
     "execution_count": 1279,
     "metadata": {},
     "output_type": "execute_result"
    }
   ],
   "source": [
    "import data.polygon\n",
    "import data.option_contracts\n",
    "importlib.reload(data.option_contracts)"
   ]
  },
  {
   "cell_type": "code",
   "execution_count": null,
   "id": "4c55b369-80aa-419a-a56a-2f92f845f236",
   "metadata": {},
   "outputs": [],
   "source": []
  },
  {
   "cell_type": "code",
   "execution_count": 1259,
   "id": "dc85ab3a-3110-4027-b6db-26c5e2225c18",
   "metadata": {
    "scrolled": true,
    "tags": []
   },
   "outputs": [],
   "source": [
    "df_options_history = df_goog_call_options_history.copy()\n",
    "df_daily_expectation = df_goog_daily_expectation.copy()\n",
    "df_otm_options_history = df_options_history.join(df_daily_expectation, on='date')\n",
    "date_str, option_type = \"2024-06-26\", \"call\""
   ]
  },
  {
   "cell_type": "code",
   "execution_count": 1260,
   "id": "62487c0a-6825-4552-9c52-3954fd756b11",
   "metadata": {
    "tags": []
   },
   "outputs": [],
   "source": [
    "df_otm_options_history = df_otm_options_history[\n",
    "    df_otm_options_history.strike_price > df_otm_options_history.upper_price\n",
    "]    "
   ]
  },
  {
   "cell_type": "code",
   "execution_count": null,
   "id": "c99a4c4b-43f3-4623-915c-835a8cf42b4e",
   "metadata": {},
   "outputs": [],
   "source": []
  },
  {
   "cell_type": "code",
   "execution_count": null,
   "id": "170e719b-902c-4923-bca4-5147e6cba07c",
   "metadata": {},
   "outputs": [],
   "source": []
  },
  {
   "cell_type": "code",
   "execution_count": 1280,
   "id": "eb4ff99f-de0f-4917-a896-5977d1543502",
   "metadata": {
    "tags": []
   },
   "outputs": [
    {
     "data": {
      "text/plain": [
       "<module 'algo.option_spread' from '/Users/junlim/projects/volatility_trading/algo/option_spread.py'>"
      ]
     },
     "execution_count": 1280,
     "metadata": {},
     "output_type": "execute_result"
    }
   ],
   "source": [
    "import algo.option_spread\n",
    "importlib.reload(algo.option_spread)"
   ]
  },
  {
   "cell_type": "code",
   "execution_count": null,
   "id": "ba1f55c4-b413-485b-bcb3-7be21ed08541",
   "metadata": {},
   "outputs": [],
   "source": []
  },
  {
   "cell_type": "code",
   "execution_count": 1290,
   "id": "4d0fcd1b-5d9d-4057-948d-714a65109f56",
   "metadata": {},
   "outputs": [
    {
     "data": {
      "text/html": [
       "<div>\n",
       "<style scoped>\n",
       "    .dataframe tbody tr th:only-of-type {\n",
       "        vertical-align: middle;\n",
       "    }\n",
       "\n",
       "    .dataframe tbody tr th {\n",
       "        vertical-align: top;\n",
       "    }\n",
       "\n",
       "    .dataframe thead th {\n",
       "        text-align: right;\n",
       "    }\n",
       "</style>\n",
       "<table border=\"1\" class=\"dataframe\">\n",
       "  <thead>\n",
       "    <tr style=\"text-align: right;\">\n",
       "      <th></th>\n",
       "      <th>c_market_o_s_put</th>\n",
       "      <th>ticker_market_o_s_put</th>\n",
       "      <th>c_market_o_l_put</th>\n",
       "      <th>ticker_market_o_l_put</th>\n",
       "      <th>market_o_spread</th>\n",
       "      <th>c_market_c_s_put</th>\n",
       "      <th>c_market_c_l_put</th>\n",
       "      <th>market_c_spread</th>\n",
       "      <th>pnl</th>\n",
       "    </tr>\n",
       "    <tr>\n",
       "      <th>t</th>\n",
       "      <th></th>\n",
       "      <th></th>\n",
       "      <th></th>\n",
       "      <th></th>\n",
       "      <th></th>\n",
       "      <th></th>\n",
       "      <th></th>\n",
       "      <th></th>\n",
       "      <th></th>\n",
       "    </tr>\n",
       "  </thead>\n",
       "  <tbody>\n",
       "    <tr>\n",
       "      <th>2023-06-14</th>\n",
       "      <td>3.7</td>\n",
       "      <td>O:GOOG230616C00119000</td>\n",
       "      <td>4.65</td>\n",
       "      <td>O:GOOG230616C00118000</td>\n",
       "      <td>-0.95</td>\n",
       "      <td>5.65</td>\n",
       "      <td>5.08</td>\n",
       "      <td>0.57</td>\n",
       "      <td>-1.52</td>\n",
       "    </tr>\n",
       "  </tbody>\n",
       "</table>\n",
       "</div>"
      ],
      "text/plain": [
       "            c_market_o_s_put  ticker_market_o_s_put  c_market_o_l_put  \\\n",
       "t                                                                       \n",
       "2023-06-14               3.7  O:GOOG230616C00119000              4.65   \n",
       "\n",
       "            ticker_market_o_l_put  market_o_spread  c_market_c_s_put  \\\n",
       "t                                                                      \n",
       "2023-06-14  O:GOOG230616C00118000            -0.95              5.65   \n",
       "\n",
       "            c_market_c_l_put  market_c_spread   pnl  \n",
       "t                                                    \n",
       "2023-06-14              5.08             0.57 -1.52  "
      ]
     },
     "execution_count": 1290,
     "metadata": {},
     "output_type": "execute_result"
    }
   ],
   "source": [
    "algo.option_spread.get_df_otm_options_spread_history(df_daily_expectation, df_options_history, \"put\", [\"2023-06-14\"], tolerance_days=5)"
   ]
  },
  {
   "cell_type": "code",
   "execution_count": 1289,
   "id": "33280aed-b245-4d6c-883c-4318ed4c506c",
   "metadata": {
    "tags": []
   },
   "outputs": [],
   "source": [
    "algo.option_spread.get_df_otm_options_spread(\"2024-05-21\", df_otm_options_history, \"put\", tolerance_days=5)"
   ]
  },
  {
   "cell_type": "code",
   "execution_count": 1284,
   "id": "a832d2ef-1cec-46c1-a88a-051be7b1b352",
   "metadata": {
    "scrolled": true,
    "tags": []
   },
   "outputs": [
    {
     "data": {
      "text/html": [
       "<div>\n",
       "<style scoped>\n",
       "    .dataframe tbody tr th:only-of-type {\n",
       "        vertical-align: middle;\n",
       "    }\n",
       "\n",
       "    .dataframe tbody tr th {\n",
       "        vertical-align: top;\n",
       "    }\n",
       "\n",
       "    .dataframe thead th {\n",
       "        text-align: right;\n",
       "    }\n",
       "</style>\n",
       "<table border=\"1\" class=\"dataframe\">\n",
       "  <thead>\n",
       "    <tr style=\"text-align: right;\">\n",
       "      <th></th>\n",
       "      <th>c_market_o_s_put</th>\n",
       "      <th>ticker_market_o_s_put</th>\n",
       "      <th>c_market_o_l_put</th>\n",
       "      <th>ticker_market_o_l_put</th>\n",
       "      <th>market_o_spread</th>\n",
       "      <th>c_market_c_s_put</th>\n",
       "      <th>c_market_c_l_put</th>\n",
       "      <th>market_c_spread</th>\n",
       "      <th>pnl</th>\n",
       "    </tr>\n",
       "    <tr>\n",
       "      <th>t</th>\n",
       "      <th></th>\n",
       "      <th></th>\n",
       "      <th></th>\n",
       "      <th></th>\n",
       "      <th></th>\n",
       "      <th></th>\n",
       "      <th></th>\n",
       "      <th></th>\n",
       "      <th></th>\n",
       "    </tr>\n",
       "  </thead>\n",
       "  <tbody>\n",
       "    <tr>\n",
       "      <th>2024-05-20</th>\n",
       "      <td>4.40</td>\n",
       "      <td>O:GOOG240524C00175000</td>\n",
       "      <td>6.54</td>\n",
       "      <td>O:GOOG240524C00172500</td>\n",
       "      <td>-2.14</td>\n",
       "      <td>4.21</td>\n",
       "      <td>6.35</td>\n",
       "      <td>-2.14</td>\n",
       "      <td>0.00</td>\n",
       "    </tr>\n",
       "    <tr>\n",
       "      <th>2024-05-21</th>\n",
       "      <td>3.55</td>\n",
       "      <td>O:GOOG240524C00175000</td>\n",
       "      <td>5.65</td>\n",
       "      <td>O:GOOG240524C00172500</td>\n",
       "      <td>-2.10</td>\n",
       "      <td>5.10</td>\n",
       "      <td>7.60</td>\n",
       "      <td>-2.50</td>\n",
       "      <td>0.40</td>\n",
       "    </tr>\n",
       "    <tr>\n",
       "      <th>2024-05-22</th>\n",
       "      <td>3.14</td>\n",
       "      <td>O:GOOG240524C00175000</td>\n",
       "      <td>5.65</td>\n",
       "      <td>O:GOOG240524C00172500</td>\n",
       "      <td>-2.51</td>\n",
       "      <td>3.50</td>\n",
       "      <td>5.25</td>\n",
       "      <td>-1.75</td>\n",
       "      <td>-0.76</td>\n",
       "    </tr>\n",
       "    <tr>\n",
       "      <th>2024-05-23</th>\n",
       "      <td>7.10</td>\n",
       "      <td>O:GOOG240524C00172500</td>\n",
       "      <td>9.71</td>\n",
       "      <td>O:GOOG240524C00170000</td>\n",
       "      <td>-2.61</td>\n",
       "      <td>2.79</td>\n",
       "      <td>5.00</td>\n",
       "      <td>-2.21</td>\n",
       "      <td>-0.40</td>\n",
       "    </tr>\n",
       "  </tbody>\n",
       "</table>\n",
       "</div>"
      ],
      "text/plain": [
       "            c_market_o_s_put  ticker_market_o_s_put  c_market_o_l_put  \\\n",
       "t                                                                       \n",
       "2024-05-20              4.40  O:GOOG240524C00175000              6.54   \n",
       "2024-05-21              3.55  O:GOOG240524C00175000              5.65   \n",
       "2024-05-22              3.14  O:GOOG240524C00175000              5.65   \n",
       "2024-05-23              7.10  O:GOOG240524C00172500              9.71   \n",
       "\n",
       "            ticker_market_o_l_put  market_o_spread  c_market_c_s_put  \\\n",
       "t                                                                      \n",
       "2024-05-20  O:GOOG240524C00172500            -2.14              4.21   \n",
       "2024-05-21  O:GOOG240524C00172500            -2.10              5.10   \n",
       "2024-05-22  O:GOOG240524C00172500            -2.51              3.50   \n",
       "2024-05-23  O:GOOG240524C00170000            -2.61              2.79   \n",
       "\n",
       "            c_market_c_l_put  market_c_spread   pnl  \n",
       "t                                                    \n",
       "2024-05-20              6.35            -2.14  0.00  \n",
       "2024-05-21              7.60            -2.50  0.40  \n",
       "2024-05-22              5.25            -1.75 -0.76  \n",
       "2024-05-23              5.00            -2.21 -0.40  "
      ]
     },
     "execution_count": 1284,
     "metadata": {},
     "output_type": "execute_result"
    }
   ],
   "source": [
    "algo.option_spread.get_df_otm_options_spread_history(df_daily_expectation, df_options_history, \"put\", [\"2024-05-20\", \"2024-05-21\", \"2024-05-22\", \"2024-05-23\"], tolerance_days=5)"
   ]
  },
  {
   "cell_type": "code",
   "execution_count": 1264,
   "id": "15375a4d-d0b3-48c8-9460-968ac2815f07",
   "metadata": {
    "scrolled": true,
    "tags": []
   },
   "outputs": [],
   "source": [
    "df_goog_otm_call_options_spread_history = algo.option_spread.get_df_otm_options_spread_history(df_daily_expectation, df_options_history, \"call\", trading_dates, tolerance_days=5)"
   ]
  },
  {
   "cell_type": "code",
   "execution_count": 1265,
   "id": "cec37b1a-e61a-419e-8862-4357b1c327c9",
   "metadata": {
    "tags": []
   },
   "outputs": [],
   "source": [
    "df_goog_otm_put_options_spread_history = algo.option_spread.get_df_otm_options_spread_history(df_daily_expectation, df_options_history, \"put\", trading_dates, tolerance_days=5)"
   ]
  },
  {
   "cell_type": "code",
   "execution_count": null,
   "id": "031c2835-1376-4a87-a79d-2ca3eebec447",
   "metadata": {},
   "outputs": [],
   "source": [
    "df_goog_otm_call_options_spread_history.to_pickle('market_data/df_goog_otm_call_options_spread_history.pkl')\n",
    "df_goog_otm_put_options_spread_history.to_pickle('market_data/df_goog_otm_put_options_spread_history.pkl')"
   ]
  },
  {
   "cell_type": "code",
   "execution_count": null,
   "id": "4f4d3dc4-eff2-4273-b1a8-342ffad4a891",
   "metadata": {
    "tags": []
   },
   "outputs": [],
   "source": []
  },
  {
   "cell_type": "code",
   "execution_count": 1269,
   "id": "508a4cc8-d359-4ac5-91d0-237cf5603353",
   "metadata": {},
   "outputs": [
    {
     "data": {
      "text/html": [
       "<div>\n",
       "<style scoped>\n",
       "    .dataframe tbody tr th:only-of-type {\n",
       "        vertical-align: middle;\n",
       "    }\n",
       "\n",
       "    .dataframe tbody tr th {\n",
       "        vertical-align: top;\n",
       "    }\n",
       "\n",
       "    .dataframe thead th {\n",
       "        text-align: right;\n",
       "    }\n",
       "</style>\n",
       "<table border=\"1\" class=\"dataframe\">\n",
       "  <thead>\n",
       "    <tr style=\"text-align: right;\">\n",
       "      <th></th>\n",
       "      <th>c_market_open</th>\n",
       "      <th>regime</th>\n",
       "      <th>expected_move</th>\n",
       "      <th>lower_price</th>\n",
       "      <th>upper_price</th>\n",
       "    </tr>\n",
       "    <tr>\n",
       "      <th>t</th>\n",
       "      <th></th>\n",
       "      <th></th>\n",
       "      <th></th>\n",
       "      <th></th>\n",
       "      <th></th>\n",
       "    </tr>\n",
       "  </thead>\n",
       "  <tbody>\n",
       "    <tr>\n",
       "      <th>2023-05-26</th>\n",
       "      <td>123.79</td>\n",
       "      <td>1</td>\n",
       "      <td>NaN</td>\n",
       "      <td>NaN</td>\n",
       "      <td>NaN</td>\n",
       "    </tr>\n",
       "  </tbody>\n",
       "</table>\n",
       "</div>"
      ],
      "text/plain": [
       "            c_market_open  regime  expected_move  lower_price  upper_price\n",
       "t                                                                         \n",
       "2023-05-26         123.79       1            NaN          NaN          NaN"
      ]
     },
     "execution_count": 1269,
     "metadata": {},
     "output_type": "execute_result"
    }
   ],
   "source": [
    "df_goog_daily_expectation[df_goog_daily_expectation.index == \"2023-05-26\"]"
   ]
  },
  {
   "cell_type": "code",
   "execution_count": 1270,
   "id": "a35c5547-3e39-40da-a243-b667512b220c",
   "metadata": {},
   "outputs": [],
   "source": [
    "df_goog_market_open_close_put_spread_history = df_goog_market_open_close_history.join(df_goog_otm_put_options_spread_history).join(df_goog_daily_expectation[['regime', 'expected_move', 'lower_price', 'upper_price']])"
   ]
  },
  {
   "cell_type": "code",
   "execution_count": 1278,
   "id": "f2c423ed-c73b-412c-8279-f5e73597fafc",
   "metadata": {},
   "outputs": [
    {
     "data": {
      "text/html": [
       "<div>\n",
       "<style scoped>\n",
       "    .dataframe tbody tr th:only-of-type {\n",
       "        vertical-align: middle;\n",
       "    }\n",
       "\n",
       "    .dataframe tbody tr th {\n",
       "        vertical-align: top;\n",
       "    }\n",
       "\n",
       "    .dataframe thead th {\n",
       "        text-align: right;\n",
       "    }\n",
       "</style>\n",
       "<table border=\"1\" class=\"dataframe\">\n",
       "  <thead>\n",
       "    <tr style=\"text-align: right;\">\n",
       "      <th></th>\n",
       "      <th>c_open</th>\n",
       "      <th>c_close</th>\n",
       "      <th>actual_change</th>\n",
       "      <th>c_market_o_s_put</th>\n",
       "      <th>c_market_o_l_put</th>\n",
       "      <th>market_o_spread</th>\n",
       "      <th>c_market_c_s_put</th>\n",
       "      <th>c_market_c_l_put</th>\n",
       "      <th>market_c_spread</th>\n",
       "      <th>pnl</th>\n",
       "      <th>regime</th>\n",
       "      <th>expected_move</th>\n",
       "      <th>lower_price</th>\n",
       "      <th>upper_price</th>\n",
       "    </tr>\n",
       "    <tr>\n",
       "      <th>t</th>\n",
       "      <th></th>\n",
       "      <th></th>\n",
       "      <th></th>\n",
       "      <th></th>\n",
       "      <th></th>\n",
       "      <th></th>\n",
       "      <th></th>\n",
       "      <th></th>\n",
       "      <th></th>\n",
       "      <th></th>\n",
       "      <th></th>\n",
       "      <th></th>\n",
       "      <th></th>\n",
       "      <th></th>\n",
       "    </tr>\n",
       "  </thead>\n",
       "  <tbody>\n",
       "    <tr>\n",
       "      <th>2023-06-14</th>\n",
       "      <td>122.5000</td>\n",
       "      <td>124.31</td>\n",
       "      <td>1.8100</td>\n",
       "      <td>3.70</td>\n",
       "      <td>4.65</td>\n",
       "      <td>-0.95</td>\n",
       "      <td>5.65</td>\n",
       "      <td>5.08</td>\n",
       "      <td>0.57</td>\n",
       "      <td>-1.52</td>\n",
       "      <td>1</td>\n",
       "      <td>0.0207</td>\n",
       "      <td>119.96</td>\n",
       "      <td>125.04</td>\n",
       "    </tr>\n",
       "    <tr>\n",
       "      <th>2023-10-09</th>\n",
       "      <td>137.0050</td>\n",
       "      <td>139.63</td>\n",
       "      <td>2.6250</td>\n",
       "      <td>4.25</td>\n",
       "      <td>5.98</td>\n",
       "      <td>-1.73</td>\n",
       "      <td>6.01</td>\n",
       "      <td>6.55</td>\n",
       "      <td>-0.54</td>\n",
       "      <td>-1.19</td>\n",
       "      <td>1</td>\n",
       "      <td>0.0179</td>\n",
       "      <td>134.55</td>\n",
       "      <td>139.46</td>\n",
       "    </tr>\n",
       "    <tr>\n",
       "      <th>2023-10-19</th>\n",
       "      <td>140.1359</td>\n",
       "      <td>138.60</td>\n",
       "      <td>-1.5359</td>\n",
       "      <td>3.15</td>\n",
       "      <td>4.52</td>\n",
       "      <td>-1.37</td>\n",
       "      <td>2.45</td>\n",
       "      <td>2.95</td>\n",
       "      <td>-0.50</td>\n",
       "      <td>-0.87</td>\n",
       "      <td>1</td>\n",
       "      <td>0.0182</td>\n",
       "      <td>137.59</td>\n",
       "      <td>142.69</td>\n",
       "    </tr>\n",
       "    <tr>\n",
       "      <th>2024-05-06</th>\n",
       "      <td>169.1800</td>\n",
       "      <td>169.65</td>\n",
       "      <td>0.4700</td>\n",
       "      <td>5.20</td>\n",
       "      <td>7.25</td>\n",
       "      <td>-2.05</td>\n",
       "      <td>5.44</td>\n",
       "      <td>6.65</td>\n",
       "      <td>-1.21</td>\n",
       "      <td>-0.84</td>\n",
       "      <td>1</td>\n",
       "      <td>0.0149</td>\n",
       "      <td>166.66</td>\n",
       "      <td>171.70</td>\n",
       "    </tr>\n",
       "    <tr>\n",
       "      <th>2023-09-06</th>\n",
       "      <td>136.3000</td>\n",
       "      <td>135.58</td>\n",
       "      <td>-0.7200</td>\n",
       "      <td>2.65</td>\n",
       "      <td>4.30</td>\n",
       "      <td>-1.65</td>\n",
       "      <td>1.83</td>\n",
       "      <td>2.65</td>\n",
       "      <td>-0.82</td>\n",
       "      <td>-0.83</td>\n",
       "      <td>1</td>\n",
       "      <td>0.0119</td>\n",
       "      <td>134.68</td>\n",
       "      <td>137.92</td>\n",
       "    </tr>\n",
       "  </tbody>\n",
       "</table>\n",
       "</div>"
      ],
      "text/plain": [
       "              c_open  c_close  actual_change  c_market_o_s_put  \\\n",
       "t                                                                \n",
       "2023-06-14  122.5000   124.31         1.8100              3.70   \n",
       "2023-10-09  137.0050   139.63         2.6250              4.25   \n",
       "2023-10-19  140.1359   138.60        -1.5359              3.15   \n",
       "2024-05-06  169.1800   169.65         0.4700              5.20   \n",
       "2023-09-06  136.3000   135.58        -0.7200              2.65   \n",
       "\n",
       "            c_market_o_l_put  market_o_spread  c_market_c_s_put  \\\n",
       "t                                                                 \n",
       "2023-06-14              4.65            -0.95              5.65   \n",
       "2023-10-09              5.98            -1.73              6.01   \n",
       "2023-10-19              4.52            -1.37              2.45   \n",
       "2024-05-06              7.25            -2.05              5.44   \n",
       "2023-09-06              4.30            -1.65              1.83   \n",
       "\n",
       "            c_market_c_l_put  market_c_spread   pnl  regime  expected_move  \\\n",
       "t                                                                            \n",
       "2023-06-14              5.08             0.57 -1.52       1         0.0207   \n",
       "2023-10-09              6.55            -0.54 -1.19       1         0.0179   \n",
       "2023-10-19              2.95            -0.50 -0.87       1         0.0182   \n",
       "2024-05-06              6.65            -1.21 -0.84       1         0.0149   \n",
       "2023-09-06              2.65            -0.82 -0.83       1         0.0119   \n",
       "\n",
       "            lower_price  upper_price  \n",
       "t                                     \n",
       "2023-06-14       119.96       125.04  \n",
       "2023-10-09       134.55       139.46  \n",
       "2023-10-19       137.59       142.69  \n",
       "2024-05-06       166.66       171.70  \n",
       "2023-09-06       134.68       137.92  "
      ]
     },
     "execution_count": 1278,
     "metadata": {},
     "output_type": "execute_result"
    }
   ],
   "source": [
    "df_goog_market_open_close_put_spread_history[\n",
    "    (df_goog_market_open_close_put_spread_history.regime > 0) &\n",
    "    (df_goog_market_open_close_put_spread_history.pnl < -0.05)\n",
    "].sort_values('pnl').head()"
   ]
  },
  {
   "cell_type": "code",
   "execution_count": 1276,
   "id": "1caf4f03-1dce-4806-9863-61bab47399ed",
   "metadata": {},
   "outputs": [
    {
     "data": {
      "text/plain": [
       "<AxesSubplot:xlabel='t'>"
      ]
     },
     "execution_count": 1276,
     "metadata": {},
     "output_type": "execute_result"
    },
    {
     "data": {
      "image/png": "[encoded data removed]",
      "text/plain": [
       "<Figure size 800x200 with 1 Axes>"
      ]
     },
     "metadata": {},
     "output_type": "display_data"
    }
   ],
   "source": [
    "df_goog_market_open_close_put_spread_history[[\"pnl\"]].cumsum().plot(figsize=(8,2))"
   ]
  },
  {
   "cell_type": "code",
   "execution_count": null,
   "id": "4a603c8b-11c4-4a2b-962b-c6b58a14bbab",
   "metadata": {},
   "outputs": [],
   "source": []
  },
  {
   "cell_type": "code",
   "execution_count": null,
   "id": "d4686891-a971-4e55-b9aa-582847e233ff",
   "metadata": {},
   "outputs": [],
   "source": []
  },
  {
   "cell_type": "code",
   "execution_count": null,
   "id": "15f20463-a4af-4f87-a231-6434a2455cb4",
   "metadata": {},
   "outputs": [],
   "source": []
  },
  {
   "cell_type": "markdown",
   "id": "84ed1c52-c99d-4e68-a048-fc41daa37cc8",
   "metadata": {
    "jp-MarkdownHeadingCollapsed": true,
    "tags": []
   },
   "source": [
    "## logic"
   ]
  },
  {
   "cell_type": "code",
   "execution_count": 709,
   "id": "aa3c93ef-1241-476f-bd55-67ac7700f9e3",
   "metadata": {
    "tags": []
   },
   "outputs": [],
   "source": [
    "df_spy = df_spy_daily_history[[\"c\"]].copy()\n",
    "df_spy[\"1_mo_avg\"] = df_spy[\"c\"].rolling(window=20).mean()\n",
    "df_spy[\"3_mo_avg\"] = df_spy[\"c\"].rolling(window=60).mean()\n",
    "df_spy['regime'] = df_spy.apply(lambda row: 1 if (row['c'] > row['1_mo_avg']) else -1, axis=1)"
   ]
  },
  {
   "cell_type": "code",
   "execution_count": null,
   "id": "94e4eefd-0c46-448d-a50f-51a9635aea75",
   "metadata": {},
   "outputs": [],
   "source": []
  },
  {
   "cell_type": "code",
   "execution_count": 710,
   "id": "955f54f3-92a0-497f-b18a-de641e128428",
   "metadata": {
    "tags": []
   },
   "outputs": [],
   "source": [
    "df_spy_market_open_history = data.daily.get_df_market_open_or_close_history_from_intraday_history(df_spy_intraday_history, \"open\")\n",
    "df_vix1d_market_open_history = data.daily.get_df_market_open_or_close_history_from_intraday_history(df_vix1d_intraday_history, \"open\")\n",
    "df_spx_market_open_history = data.daily.get_df_market_open_or_close_history_from_intraday_history(df_spx_intraday_history, \"open\")"
   ]
  },
  {
   "cell_type": "code",
   "execution_count": null,
   "id": "710e0158-49c2-4bc6-8368-41dc982e8c59",
   "metadata": {},
   "outputs": [],
   "source": []
  },
  {
   "cell_type": "code",
   "execution_count": 711,
   "id": "9af8fb39-75cb-4b1c-87dc-cc154a635c22",
   "metadata": {
    "tags": []
   },
   "outputs": [],
   "source": [
    "df_spx_market_close_history = get_df_market_open_or_close_history_from_intraday_history(df_spx_intraday_history, \"close\")"
   ]
  },
  {
   "cell_type": "code",
   "execution_count": 712,
   "id": "3026ab06-cd0c-4054-94f3-c57ed503998c",
   "metadata": {
    "tags": []
   },
   "outputs": [],
   "source": [
    "df_spx_market_open_close_history = df_spx_market_open_history.join(df_spx_market_close_history, lsuffix=\"_open\", rsuffix=\"_close\")\n",
    "df_spx_market_open_close_history[\"actual_change\"] = df_spx_market_open_close_history.c_close - df_spx_market_open_close_history.c_open"
   ]
  },
  {
   "cell_type": "code",
   "execution_count": null,
   "id": "dc088f4b-9a29-4c3c-8abf-4ba54a881fe2",
   "metadata": {},
   "outputs": [],
   "source": []
  },
  {
   "cell_type": "code",
   "execution_count": 716,
   "id": "66503b74-587b-48cc-83c7-58f8ec8e7dcc",
   "metadata": {
    "tags": []
   },
   "outputs": [],
   "source": [
    "df_spx_daily_expectation = algo.expectation.get_df_daily_expectation(df_spx_market_open_history, df_spy.regime, df_vix1d_market_open_history / 100, 0.5)"
   ]
  },
  {
   "cell_type": "code",
   "execution_count": 717,
   "id": "a611b365-daed-4fc3-a286-fe64a442dec3",
   "metadata": {
    "tags": []
   },
   "outputs": [],
   "source": [
    "df_spx_daily_expectation_actual = df_spx_daily_expectation.join(df_spx_market_open_close_history[\"actual_change\"])\n",
    "df_spx_daily_expectation_actual[\"expected_change_size\"] = df_spx_daily_expectation_actual.upper_price - df_spx_daily_expectation_actual.lower_price"
   ]
  },
  {
   "cell_type": "code",
   "execution_count": 721,
   "id": "44ec3ff3-f907-430e-b122-a4ab3ca517e1",
   "metadata": {
    "tags": []
   },
   "outputs": [
    {
     "data": {
      "text/html": [
       "<div>\n",
       "<style scoped>\n",
       "    .dataframe tbody tr th:only-of-type {\n",
       "        vertical-align: middle;\n",
       "    }\n",
       "\n",
       "    .dataframe tbody tr th {\n",
       "        vertical-align: top;\n",
       "    }\n",
       "\n",
       "    .dataframe thead th {\n",
       "        text-align: right;\n",
       "    }\n",
       "</style>\n",
       "<table border=\"1\" class=\"dataframe\">\n",
       "  <thead>\n",
       "    <tr style=\"text-align: right;\">\n",
       "      <th></th>\n",
       "      <th>c_market_open</th>\n",
       "      <th>regime</th>\n",
       "      <th>expected_move</th>\n",
       "      <th>lower_price</th>\n",
       "      <th>upper_price</th>\n",
       "      <th>actual_change</th>\n",
       "      <th>expected_change_size</th>\n",
       "    </tr>\n",
       "    <tr>\n",
       "      <th>t</th>\n",
       "      <th></th>\n",
       "      <th></th>\n",
       "      <th></th>\n",
       "      <th></th>\n",
       "      <th></th>\n",
       "      <th></th>\n",
       "      <th></th>\n",
       "    </tr>\n",
       "  </thead>\n",
       "  <tbody>\n",
       "    <tr>\n",
       "      <th>2023-05-02</th>\n",
       "      <td>4153.26</td>\n",
       "      <td>-1</td>\n",
       "      <td>0.0030</td>\n",
       "      <td>4140.80</td>\n",
       "      <td>4165.72</td>\n",
       "      <td>-33.68</td>\n",
       "      <td>24.92</td>\n",
       "    </tr>\n",
       "    <tr>\n",
       "      <th>2023-05-03</th>\n",
       "      <td>4125.70</td>\n",
       "      <td>-1</td>\n",
       "      <td>0.0060</td>\n",
       "      <td>4100.95</td>\n",
       "      <td>4150.45</td>\n",
       "      <td>-34.95</td>\n",
       "      <td>49.50</td>\n",
       "    </tr>\n",
       "    <tr>\n",
       "      <th>2023-05-04</th>\n",
       "      <td>4081.20</td>\n",
       "      <td>-1</td>\n",
       "      <td>0.0047</td>\n",
       "      <td>4062.02</td>\n",
       "      <td>4100.38</td>\n",
       "      <td>-19.98</td>\n",
       "      <td>38.36</td>\n",
       "    </tr>\n",
       "    <tr>\n",
       "      <th>2023-05-05</th>\n",
       "      <td>4104.23</td>\n",
       "      <td>1</td>\n",
       "      <td>0.0041</td>\n",
       "      <td>4087.40</td>\n",
       "      <td>4121.06</td>\n",
       "      <td>32.02</td>\n",
       "      <td>33.66</td>\n",
       "    </tr>\n",
       "    <tr>\n",
       "      <th>2023-05-08</th>\n",
       "      <td>4137.65</td>\n",
       "      <td>1</td>\n",
       "      <td>0.0032</td>\n",
       "      <td>4124.41</td>\n",
       "      <td>4150.89</td>\n",
       "      <td>0.47</td>\n",
       "      <td>26.48</td>\n",
       "    </tr>\n",
       "    <tr>\n",
       "      <th>...</th>\n",
       "      <td>...</td>\n",
       "      <td>...</td>\n",
       "      <td>...</td>\n",
       "      <td>...</td>\n",
       "      <td>...</td>\n",
       "      <td>...</td>\n",
       "      <td>...</td>\n",
       "    </tr>\n",
       "    <tr>\n",
       "      <th>2024-06-26</th>\n",
       "      <td>5457.73</td>\n",
       "      <td>1</td>\n",
       "      <td>0.0024</td>\n",
       "      <td>5444.63</td>\n",
       "      <td>5470.83</td>\n",
       "      <td>20.17</td>\n",
       "      <td>26.20</td>\n",
       "    </tr>\n",
       "    <tr>\n",
       "      <th>2024-06-27</th>\n",
       "      <td>5483.08</td>\n",
       "      <td>1</td>\n",
       "      <td>0.0024</td>\n",
       "      <td>5469.92</td>\n",
       "      <td>5496.24</td>\n",
       "      <td>-0.21</td>\n",
       "      <td>26.32</td>\n",
       "    </tr>\n",
       "    <tr>\n",
       "      <th>2024-06-28</th>\n",
       "      <td>5496.61</td>\n",
       "      <td>1</td>\n",
       "      <td>0.0028</td>\n",
       "      <td>5481.22</td>\n",
       "      <td>5512.00</td>\n",
       "      <td>-36.13</td>\n",
       "      <td>30.78</td>\n",
       "    </tr>\n",
       "    <tr>\n",
       "      <th>2024-07-01</th>\n",
       "      <td>5475.76</td>\n",
       "      <td>1</td>\n",
       "      <td>0.0025</td>\n",
       "      <td>5462.07</td>\n",
       "      <td>5489.45</td>\n",
       "      <td>-0.67</td>\n",
       "      <td>27.38</td>\n",
       "    </tr>\n",
       "    <tr>\n",
       "      <th>2024-07-02</th>\n",
       "      <td>5465.69</td>\n",
       "      <td>1</td>\n",
       "      <td>0.0025</td>\n",
       "      <td>5452.03</td>\n",
       "      <td>5479.35</td>\n",
       "      <td>43.32</td>\n",
       "      <td>27.32</td>\n",
       "    </tr>\n",
       "  </tbody>\n",
       "</table>\n",
       "<p>293 rows × 7 columns</p>\n",
       "</div>"
      ],
      "text/plain": [
       "            c_market_open  regime  expected_move  lower_price  upper_price  \\\n",
       "t                                                                            \n",
       "2023-05-02        4153.26      -1         0.0030      4140.80      4165.72   \n",
       "2023-05-03        4125.70      -1         0.0060      4100.95      4150.45   \n",
       "2023-05-04        4081.20      -1         0.0047      4062.02      4100.38   \n",
       "2023-05-05        4104.23       1         0.0041      4087.40      4121.06   \n",
       "2023-05-08        4137.65       1         0.0032      4124.41      4150.89   \n",
       "...                   ...     ...            ...          ...          ...   \n",
       "2024-06-26        5457.73       1         0.0024      5444.63      5470.83   \n",
       "2024-06-27        5483.08       1         0.0024      5469.92      5496.24   \n",
       "2024-06-28        5496.61       1         0.0028      5481.22      5512.00   \n",
       "2024-07-01        5475.76       1         0.0025      5462.07      5489.45   \n",
       "2024-07-02        5465.69       1         0.0025      5452.03      5479.35   \n",
       "\n",
       "            actual_change  expected_change_size  \n",
       "t                                                \n",
       "2023-05-02         -33.68                 24.92  \n",
       "2023-05-03         -34.95                 49.50  \n",
       "2023-05-04         -19.98                 38.36  \n",
       "2023-05-05          32.02                 33.66  \n",
       "2023-05-08           0.47                 26.48  \n",
       "...                   ...                   ...  \n",
       "2024-06-26          20.17                 26.20  \n",
       "2024-06-27          -0.21                 26.32  \n",
       "2024-06-28         -36.13                 30.78  \n",
       "2024-07-01          -0.67                 27.38  \n",
       "2024-07-02          43.32                 27.32  \n",
       "\n",
       "[293 rows x 7 columns]"
      ]
     },
     "execution_count": 721,
     "metadata": {},
     "output_type": "execute_result"
    }
   ],
   "source": [
    "df_spx_daily_expectation_actual"
   ]
  },
  {
   "cell_type": "code",
   "execution_count": null,
   "id": "b39fbd20-3395-445c-b758-fd7d266db68c",
   "metadata": {},
   "outputs": [],
   "source": []
  },
  {
   "cell_type": "code",
   "execution_count": 723,
   "id": "73e5f419-3773-4434-bb6b-233e40067303",
   "metadata": {
    "tags": []
   },
   "outputs": [
    {
     "name": "stderr",
     "output_type": "stream",
     "text": [
      "/var/folders/hh/x43xkncs2k7dm7t4vg3lt2cm0000gn/T/ipykernel_96764/3319082594.py:3: UserWarning: color is redundantly defined by the 'color' keyword argument and the fmt string \"k-\" (-> color='k'). The keyword argument will take precedence.\n",
      "  plt.plot([0, 50], [0, 50], 'k-', color = 'r')\n"
     ]
    },
    {
     "data": {
      "text/plain": [
       "[<matplotlib.lines.Line2D at 0x7fdf9ddd22b0>]"
      ]
     },
     "execution_count": 723,
     "metadata": {},
     "output_type": "execute_result"
    },
    {
     "data": {
      "image/png": "[encoded data removed]",
      "text/plain": [
       "<Figure size 640x480 with 1 Axes>"
      ]
     },
     "metadata": {},
     "output_type": "display_data"
    }
   ],
   "source": [
    "plt.figure()\n",
    "plt.scatter(df_spx_daily_expectation_actual[[\"expected_change_size\"]], df_spx_daily_expectation_actual[[\"actual_change\"]].abs())\n",
    "plt.plot([0, 50], [0, 50], 'k-', color = 'r')"
   ]
  },
  {
   "cell_type": "code",
   "execution_count": null,
   "id": "5218c95d-f8c8-46bc-a62c-5f2db0449710",
   "metadata": {},
   "outputs": [],
   "source": []
  },
  {
   "cell_type": "code",
   "execution_count": 788,
   "id": "eef19299-7086-40ef-ad54-34789bb7e0af",
   "metadata": {},
   "outputs": [
    {
     "name": "stderr",
     "output_type": "stream",
     "text": [
      "/var/folders/hh/x43xkncs2k7dm7t4vg3lt2cm0000gn/T/ipykernel_96764/3531173125.py:2: UserWarning: color is redundantly defined by the 'color' keyword argument and the fmt string \"k-\" (-> color='k'). The keyword argument will take precedence.\n",
      "  plt.plot([-50, 50], [-50, 50], 'k-', color = 'r')\n"
     ]
    },
    {
     "data": {
      "text/plain": [
       "[<matplotlib.lines.Line2D at 0x7fdf8d761790>]"
      ]
     },
     "execution_count": 788,
     "metadata": {},
     "output_type": "execute_result"
    },
    {
     "data": {
      "image/png": "[encoded data removed]",
      "text/plain": [
       "<Figure size 640x480 with 1 Axes>"
      ]
     },
     "metadata": {},
     "output_type": "display_data"
    }
   ],
   "source": [
    "plt.scatter(df_spx_daily_expectation_actual[\"regime\"] * df_spx_daily_expectation_actual[\"expected_change_size\"], df_spx_daily_expectation_actual[[\"actual_change\"]])\n",
    "plt.plot([-50, 50], [-50, 50], 'k-', color = 'r')"
   ]
  },
  {
   "cell_type": "code",
   "execution_count": null,
   "id": "500636fc-a388-4ceb-a108-dcefa41f818c",
   "metadata": {},
   "outputs": [],
   "source": []
  },
  {
   "cell_type": "markdown",
   "id": "6fcbfa72-9025-4fd2-846f-cfa3e1b01953",
   "metadata": {
    "jp-MarkdownHeadingCollapsed": true,
    "tags": []
   },
   "source": [
    "## goog logic"
   ]
  },
  {
   "cell_type": "code",
   "execution_count": 40,
   "id": "c8fa317a-504d-4d3d-8555-87103b9c60c4",
   "metadata": {
    "execution": {
     "iopub.execute_input": "2024-07-17T02:05:02.335775Z",
     "iopub.status.busy": "2024-07-17T02:05:02.334924Z",
     "iopub.status.idle": "2024-07-17T02:05:02.364210Z",
     "shell.execute_reply": "2024-07-17T02:05:02.363393Z",
     "shell.execute_reply.started": "2024-07-17T02:05:02.335713Z"
    }
   },
   "outputs": [],
   "source": [
    "df_goog = df_goog_daily_history[[\"c\"]].copy()\n",
    "df_goog[\"1_mo_avg\"] = df_goog[\"c\"].rolling(window=20).mean()\n",
    "df_goog[\"3_mo_avg\"] = df_goog[\"c\"].rolling(window=60).mean()\n",
    "df_goog['regime'] = df_goog.apply(lambda row: 1 if (row['c'] > row['1_mo_avg']) else -1, axis=1)"
   ]
  },
  {
   "cell_type": "code",
   "execution_count": 45,
   "id": "95b7c0f0-46c2-4d7d-8a95-194133ca15e3",
   "metadata": {
    "execution": {
     "iopub.execute_input": "2024-07-17T02:06:21.560313Z",
     "iopub.status.busy": "2024-07-17T02:06:21.560062Z",
     "iopub.status.idle": "2024-07-17T02:06:33.658753Z",
     "shell.execute_reply": "2024-07-17T02:06:33.657902Z",
     "shell.execute_reply.started": "2024-07-17T02:06:21.560296Z"
    }
   },
   "outputs": [],
   "source": [
    "df_goog_market_open_history = data.daily.get_df_market_open_or_close_history_from_intraday_history(df_goog_intraday_history, \"open\")\n",
    "df_goog_market_close_history = data.daily.get_df_market_open_or_close_history_from_intraday_history(df_goog_intraday_history, \"close\")\n",
    "df_goog_market_open_close_history = df_goog_market_open_history.join(df_goog_market_close_history, lsuffix=\"_open\", rsuffix=\"_close\")\n",
    "df_goog_market_open_close_history[\"actual_change\"] = df_goog_market_open_close_history.c_close - df_goog_market_open_close_history.c_open"
   ]
  },
  {
   "cell_type": "code",
   "execution_count": null,
   "id": "2d98569e-7c1a-4752-8ffd-aec95985d672",
   "metadata": {},
   "outputs": [],
   "source": []
  },
  {
   "cell_type": "code",
   "execution_count": 1273,
   "id": "73ea28ce-0bc2-48da-ac17-759d38114daa",
   "metadata": {
    "tags": []
   },
   "outputs": [],
   "source": [
    "df_goog_daily_expectation = algo.expectation.get_df_daily_expectation(\n",
    "    df_goog_market_open_history, df_goog.regime, \n",
    "    (df_goog_atm_vol_history.atm_call_vol + df_goog_atm_vol_history.atm_put_vol) / 2, \n",
    "    1.)"
   ]
  },
  {
   "cell_type": "code",
   "execution_count": 1274,
   "id": "4680cb21-4791-4a73-bbb3-ef4559880d20",
   "metadata": {
    "tags": []
   },
   "outputs": [],
   "source": [
    "df_goog_daily_expectation_actual = df_goog_daily_expectation.join(df_goog_market_open_close_history[\"actual_change\"])\n",
    "df_goog_daily_expectation_actual[\"expected_change_size\"] = (df_goog_daily_expectation_actual.upper_price - df_goog_daily_expectation_actual.lower_price) / 2."
   ]
  },
  {
   "cell_type": "code",
   "execution_count": null,
   "id": "819b8a0c-90e2-4be5-abde-c30d27e5d71f",
   "metadata": {},
   "outputs": [],
   "source": []
  },
  {
   "cell_type": "code",
   "execution_count": 1275,
   "id": "7a58cbd0-2728-406a-8f56-1ea9d5a05bce",
   "metadata": {
    "tags": []
   },
   "outputs": [
    {
     "name": "stderr",
     "output_type": "stream",
     "text": [
      "/var/folders/hh/x43xkncs2k7dm7t4vg3lt2cm0000gn/T/ipykernel_96764/998933240.py:2: UserWarning: color is redundantly defined by the 'color' keyword argument and the fmt string \"k-\" (-> color='k'). The keyword argument will take precedence.\n",
      "  plt.plot([0, 10], [0, 10], 'k-', color = 'r')\n"
     ]
    },
    {
     "data": {
      "text/plain": [
       "[<matplotlib.lines.Line2D at 0x7fdf2e0c5130>]"
      ]
     },
     "execution_count": 1275,
     "metadata": {},
     "output_type": "execute_result"
    },
    {
     "data": {
      "image/png": "[encoded data removed]",
      "text/plain": [
       "<Figure size 640x480 with 1 Axes>"
      ]
     },
     "metadata": {},
     "output_type": "display_data"
    }
   ],
   "source": [
    "plt.scatter(df_goog_daily_expectation_actual[[\"expected_change_size\"]], df_goog_daily_expectation_actual[[\"actual_change\"]].abs())\n",
    "plt.plot([0, 10], [0, 10], 'k-', color = 'r')"
   ]
  },
  {
   "cell_type": "code",
   "execution_count": null,
   "id": "5374723a-1385-4430-a367-6bf9d64a1c7c",
   "metadata": {},
   "outputs": [],
   "source": []
  },
  {
   "cell_type": "code",
   "execution_count": 1249,
   "id": "c9fb8085-e5a7-49b7-b6b9-0f93e12d122d",
   "metadata": {},
   "outputs": [
    {
     "name": "stderr",
     "output_type": "stream",
     "text": [
      "/var/folders/hh/x43xkncs2k7dm7t4vg3lt2cm0000gn/T/ipykernel_96764/2614324189.py:2: UserWarning: color is redundantly defined by the 'color' keyword argument and the fmt string \"k-\" (-> color='k'). The keyword argument will take precedence.\n",
      "  plt.plot([-10, 10], [-10, 10], 'k-', color = 'r')\n"
     ]
    },
    {
     "data": {
      "text/plain": [
       "[<matplotlib.lines.Line2D at 0x7fdf2e2521c0>]"
      ]
     },
     "execution_count": 1249,
     "metadata": {},
     "output_type": "execute_result"
    },
    {
     "data": {
      "image/png": "[encoded data removed]",
      "text/plain": [
       "<Figure size 640x480 with 1 Axes>"
      ]
     },
     "metadata": {},
     "output_type": "display_data"
    }
   ],
   "source": [
    "plt.scatter(df_goog_daily_expectation_actual[\"regime\"] * df_goog_daily_expectation_actual[\"expected_change_size\"], df_goog_daily_expectation_actual[[\"actual_change\"]])\n",
    "plt.plot([-10, 10], [-10, 10], 'k-', color = 'r')"
   ]
  },
  {
   "cell_type": "code",
   "execution_count": null,
   "id": "38c1309f-f05f-4c74-861b-2db6ace2352d",
   "metadata": {},
   "outputs": [],
   "source": []
  },
  {
   "cell_type": "code",
   "execution_count": 1250,
   "id": "e6ef7e27-076f-4b88-aa67-c232b63072e5",
   "metadata": {},
   "outputs": [
    {
     "name": "stderr",
     "output_type": "stream",
     "text": [
      "/var/folders/hh/x43xkncs2k7dm7t4vg3lt2cm0000gn/T/ipykernel_96764/2087232855.py:3: UserWarning: color is redundantly defined by the 'color' keyword argument and the fmt string \"k-\" (-> color='k'). The keyword argument will take precedence.\n",
      "  plt.plot([-10, 10], [-10, 10], 'k-', color = 'r')\n",
      "/var/folders/hh/x43xkncs2k7dm7t4vg3lt2cm0000gn/T/ipykernel_96764/2087232855.py:4: UserWarning: color is redundantly defined by the 'color' keyword argument and the fmt string \"k-\" (-> color='k'). The keyword argument will take precedence.\n",
      "  plt.plot([-10, 10], [10, -10], 'k-', color = 'r')\n"
     ]
    },
    {
     "data": {
      "text/plain": [
       "[<matplotlib.lines.Line2D at 0x7fdf39d8e5b0>]"
      ]
     },
     "execution_count": 1250,
     "metadata": {},
     "output_type": "execute_result"
    },
    {
     "data": {
      "image/png": "[encoded data removed]",
      "text/plain": [
       "<Figure size 640x480 with 1 Axes>"
      ]
     },
     "metadata": {},
     "output_type": "display_data"
    }
   ],
   "source": [
    "df_goog_daily_expectation_actual_regime_1 = df_goog_daily_expectation_actual[df_goog_daily_expectation_actual.regime > 0]\n",
    "plt.scatter(df_goog_daily_expectation_actual_regime_1[\"regime\"] * df_goog_daily_expectation_actual_regime_1[\"expected_change_size\"], df_goog_daily_expectation_actual_regime_1[[\"actual_change\"]])\n",
    "plt.plot([-10, 10], [-10, 10], 'k-', color = 'r')\n",
    "plt.plot([-10, 10], [10, -10], 'k-', color = 'r')"
   ]
  },
  {
   "cell_type": "code",
   "execution_count": null,
   "id": "d89b220b-720a-418d-ab25-33f962fb870a",
   "metadata": {},
   "outputs": [],
   "source": []
  },
  {
   "cell_type": "code",
   "execution_count": null,
   "id": "e073bf0a-92d2-4ea2-848e-8c3288c8753b",
   "metadata": {},
   "outputs": [],
   "source": []
  },
  {
   "cell_type": "markdown",
   "id": "1e910ec4-4681-4bb1-8bfd-864a78a2122a",
   "metadata": {
    "jp-MarkdownHeadingCollapsed": true,
    "tags": []
   },
   "source": [
    "## min max level logic"
   ]
  },
  {
   "cell_type": "markdown",
   "id": "bf983990-4fbf-42dc-b0fc-8d5a1fd761de",
   "metadata": {},
   "source": [
    "### goog"
   ]
  },
  {
   "cell_type": "code",
   "execution_count": 24,
   "id": "39b7060d-3d74-4783-a5d6-8d5068532267",
   "metadata": {
    "execution": {
     "iopub.execute_input": "2024-07-17T02:01:18.345118Z",
     "iopub.status.busy": "2024-07-17T02:01:18.343913Z",
     "iopub.status.idle": "2024-07-17T02:01:18.354786Z",
     "shell.execute_reply": "2024-07-17T02:01:18.353520Z",
     "shell.execute_reply.started": "2024-07-17T02:01:18.345039Z"
    }
   },
   "outputs": [],
   "source": [
    "df_goog_atm_vol_history['atm_vol'] = (df_goog_atm_vol_history['atm_call_vol'] + df_goog_atm_vol_history['atm_put_vol']) / 2.0"
   ]
  },
  {
   "cell_type": "code",
   "execution_count": null,
   "id": "f2c1c702-c527-462e-b2b8-3ea69d3b3e7a",
   "metadata": {},
   "outputs": [],
   "source": []
  },
  {
   "cell_type": "code",
   "execution_count": 219,
   "id": "7a9103d6-1762-4b36-b33f-a0fc56a66c19",
   "metadata": {
    "execution": {
     "iopub.execute_input": "2024-07-15T20:33:37.226988Z",
     "iopub.status.busy": "2024-07-15T20:33:37.226598Z",
     "iopub.status.idle": "2024-07-15T20:33:37.347977Z",
     "shell.execute_reply": "2024-07-15T20:33:37.347449Z",
     "shell.execute_reply.started": "2024-07-15T20:33:37.226961Z"
    }
   },
   "outputs": [
    {
     "data": {
      "text/plain": [
       "<matplotlib.collections.PathCollection at 0x78701b0ada20>"
      ]
     },
     "execution_count": 219,
     "metadata": {},
     "output_type": "execute_result"
    },
    {
     "data": {
      "image/png": "[encoded data removed]",
      "text/plain": [
       "<Figure size 640x480 with 1 Axes>"
      ]
     },
     "metadata": {},
     "output_type": "display_data"
    }
   ],
   "source": [
    "df_goog_atm_call_vol_actual_change = df_goog_atm_vol_history[['atm_call_vol']].join(df_goog_market_open_close_history[['actual_change']])\n",
    "plt.scatter(df_goog_atm_call_vol_actual_change[[\"atm_call_vol\"]], df_goog_atm_call_vol_actual_change[[\"actual_change\"]])\n",
    "#plt.plot([-1, 1], [-1, 1], 'k-', color = 'r')"
   ]
  },
  {
   "cell_type": "code",
   "execution_count": 220,
   "id": "6ae01261-7c27-4eb5-bae1-149795095cf6",
   "metadata": {
    "execution": {
     "iopub.execute_input": "2024-07-15T20:33:55.889747Z",
     "iopub.status.busy": "2024-07-15T20:33:55.888780Z",
     "iopub.status.idle": "2024-07-15T20:33:56.035821Z",
     "shell.execute_reply": "2024-07-15T20:33:56.035061Z",
     "shell.execute_reply.started": "2024-07-15T20:33:55.889694Z"
    }
   },
   "outputs": [
    {
     "data": {
      "text/plain": [
       "<matplotlib.collections.PathCollection at 0x78701b100550>"
      ]
     },
     "execution_count": 220,
     "metadata": {},
     "output_type": "execute_result"
    },
    {
     "data": {
      "image/png": "[encoded data removed]",
      "text/plain": [
       "<Figure size 640x480 with 1 Axes>"
      ]
     },
     "metadata": {},
     "output_type": "display_data"
    }
   ],
   "source": [
    "df_goog_atm_put_vol_actual_change = df_goog_atm_vol_history[['atm_put_vol']].join(df_goog_market_open_close_history[['actual_change']])\n",
    "plt.scatter(df_goog_atm_put_vol_actual_change[[\"atm_put_vol\"]], df_goog_atm_put_vol_actual_change[[\"actual_change\"]])\n",
    "#plt.plot([-1, 1], [-1, 1], 'k-', color = 'r')"
   ]
  },
  {
   "cell_type": "code",
   "execution_count": 223,
   "id": "2678c9bd-2726-412a-b117-17c6b9ff9221",
   "metadata": {
    "execution": {
     "iopub.execute_input": "2024-07-15T20:34:32.687471Z",
     "iopub.status.busy": "2024-07-15T20:34:32.686930Z",
     "iopub.status.idle": "2024-07-15T20:34:32.826147Z",
     "shell.execute_reply": "2024-07-15T20:34:32.825425Z",
     "shell.execute_reply.started": "2024-07-15T20:34:32.687426Z"
    }
   },
   "outputs": [
    {
     "data": {
      "text/plain": [
       "<matplotlib.collections.PathCollection at 0x787019a21b40>"
      ]
     },
     "execution_count": 223,
     "metadata": {},
     "output_type": "execute_result"
    },
    {
     "data": {
      "image/png": "[encoded data removed]",
      "text/plain": [
       "<Figure size 640x480 with 1 Axes>"
      ]
     },
     "metadata": {},
     "output_type": "display_data"
    }
   ],
   "source": [
    "plt.scatter(df_goog_atm_vol_history[[\"atm_call_vol\"]], df_goog_atm_vol_history[[\"atm_put_vol\"]])"
   ]
  },
  {
   "cell_type": "code",
   "execution_count": 252,
   "id": "765511d1-0ffb-4cc7-ac34-831f80ab345b",
   "metadata": {
    "execution": {
     "iopub.execute_input": "2024-07-15T20:59:24.575491Z",
     "iopub.status.busy": "2024-07-15T20:59:24.574456Z",
     "iopub.status.idle": "2024-07-15T20:59:24.820090Z",
     "shell.execute_reply": "2024-07-15T20:59:24.819595Z",
     "shell.execute_reply.started": "2024-07-15T20:59:24.575398Z"
    }
   },
   "outputs": [
    {
     "data": {
      "text/plain": [
       "<matplotlib.collections.PathCollection at 0x787019bcca60>"
      ]
     },
     "execution_count": 252,
     "metadata": {},
     "output_type": "execute_result"
    },
    {
     "data": {
      "image/png": "[encoded data removed]",
      "text/plain": [
       "<Figure size 640x480 with 1 Axes>"
      ]
     },
     "metadata": {},
     "output_type": "display_data"
    }
   ],
   "source": [
    "large_vol_threshold = 0.3\n",
    "df_goog_large_atm_call_vol_history = df_goog_atm_vol_history[\n",
    "    (df_goog_atm_vol_history.atm_call_vol > large_vol_threshold) &\n",
    "    (df_goog_atm_vol_history.atm_put_vol < large_vol_threshold)\n",
    "]\n",
    "df_goog_large_atm_call_vol_atm_actual_change = df_goog_large_atm_call_vol_history[['atm_call_vol']].join(df_goog_market_open_close_history[['actual_change']])\n",
    "plt.scatter(df_goog_large_atm_call_vol_atm_actual_change[[\"atm_call_vol\"]], df_goog_large_atm_call_vol_atm_actual_change[[\"actual_change\"]])"
   ]
  },
  {
   "cell_type": "code",
   "execution_count": 253,
   "id": "c0bf39aa-e728-419d-a1ff-65d6cdd82c81",
   "metadata": {
    "execution": {
     "iopub.execute_input": "2024-07-15T20:59:54.047298Z",
     "iopub.status.busy": "2024-07-15T20:59:54.047040Z",
     "iopub.status.idle": "2024-07-15T20:59:54.171595Z",
     "shell.execute_reply": "2024-07-15T20:59:54.171008Z",
     "shell.execute_reply.started": "2024-07-15T20:59:54.047281Z"
    }
   },
   "outputs": [
    {
     "data": {
      "text/plain": [
       "<matplotlib.collections.PathCollection at 0x78701a950130>"
      ]
     },
     "execution_count": 253,
     "metadata": {},
     "output_type": "execute_result"
    },
    {
     "data": {
      "image/png": "[encoded data removed]",
      "text/plain": [
       "<Figure size 640x480 with 1 Axes>"
      ]
     },
     "metadata": {},
     "output_type": "display_data"
    }
   ],
   "source": [
    "large_vol_threshold = 0.3\n",
    "df_goog_large_atm_put_vol_history = df_goog_atm_vol_history[\n",
    "    (df_goog_atm_vol_history.atm_call_vol < large_vol_threshold) &\n",
    "    (df_goog_atm_vol_history.atm_put_vol > large_vol_threshold)\n",
    "]\n",
    "df_goog_large_atm_put_vol_atm_actual_change = df_goog_large_atm_put_vol_history[['atm_put_vol']].join(df_goog_market_open_close_history[['actual_change']])\n",
    "plt.scatter(df_goog_large_atm_put_vol_atm_actual_change[[\"atm_put_vol\"]], df_goog_large_atm_put_vol_atm_actual_change[[\"actual_change\"]])"
   ]
  },
  {
   "cell_type": "code",
   "execution_count": null,
   "id": "5ec1a592-56e1-4c85-89d0-c6ddc3a0f7bf",
   "metadata": {},
   "outputs": [],
   "source": []
  },
  {
   "cell_type": "code",
   "execution_count": null,
   "id": "2d622a2f-145b-4396-b115-444b6a413c47",
   "metadata": {},
   "outputs": [],
   "source": []
  },
  {
   "cell_type": "code",
   "execution_count": null,
   "id": "02bea193-ba8b-4379-a5f2-8d381bbfe5fd",
   "metadata": {},
   "outputs": [],
   "source": []
  },
  {
   "cell_type": "code",
   "execution_count": null,
   "id": "d34a28a5-4be8-4be4-96ad-e9eef6d02c1f",
   "metadata": {},
   "outputs": [],
   "source": []
  },
  {
   "cell_type": "code",
   "execution_count": 233,
   "id": "ed9f8b57-cdc9-401a-a325-85a0c2f036b3",
   "metadata": {
    "execution": {
     "iopub.execute_input": "2024-07-15T20:53:46.648489Z",
     "iopub.status.busy": "2024-07-15T20:53:46.648186Z",
     "iopub.status.idle": "2024-07-15T20:53:46.825555Z",
     "shell.execute_reply": "2024-07-15T20:53:46.824943Z",
     "shell.execute_reply.started": "2024-07-15T20:53:46.648465Z"
    }
   },
   "outputs": [
    {
     "name": "stderr",
     "output_type": "stream",
     "text": [
      "/tmp/ipykernel_9519/2116876228.py:12: UserWarning: color is redundantly defined by the 'color' keyword argument and the fmt string \"k-\" (-> color='k'). The keyword argument will take precedence.\n",
      "  plt.plot([-1, 1], [-1, 1], 'k-', color = 'r')\n"
     ]
    },
    {
     "data": {
      "text/plain": [
       "[<matplotlib.lines.Line2D at 0x787019fdd330>]"
      ]
     },
     "execution_count": 233,
     "metadata": {},
     "output_type": "execute_result"
    },
    {
     "data": {
      "image/png": "[encoded data removed]",
      "text/plain": [
       "<Figure size 640x480 with 1 Axes>"
      ]
     },
     "metadata": {},
     "output_type": "display_data"
    }
   ],
   "source": [
    "rolling_size = 90\n",
    "df_goog_atm_vol_min_max_history = df_goog_atm_vol_history.join(df_goog_atm_vol_history[['atm_vol']].rolling(rolling_size).min().join(df_goog_atm_vol_history[['atm_vol']].rolling(rolling_size).max(), lsuffix=\"_min\", rsuffix=\"_max\"))\n",
    "df_goog_atm_vol_min_max_history['atm_vol_level'] = (df_goog_atm_vol_min_max_history.atm_vol - df_goog_atm_vol_min_max_history.atm_vol_min) / (df_goog_atm_vol_min_max_history.atm_vol_max - df_goog_atm_vol_min_max_history.atm_vol_min)\n",
    "df_vix1d_market_open_min_max_history = df_vix1d_market_open_history.join(df_vix1d_market_open_history.rolling(rolling_size).min().join(df_vix1d_market_open_history.rolling(rolling_size).max(), lsuffix=\"_min\", rsuffix=\"_max\"))\n",
    "df_vix1d_market_open_min_max_history['vix_level'] = (df_vix1d_market_open_min_max_history.c - df_vix1d_market_open_min_max_history.c_min) / (df_vix1d_market_open_min_max_history.c_max - df_vix1d_market_open_min_max_history.c_min)\n",
    "\n",
    "df_vix1d_goog_vol_min_max_history = df_goog_atm_vol_min_max_history[['atm_vol_level']].join(df_vix1d_market_open_min_max_history[['vix_level']])\n",
    "df_vix1d_goog_vol_min_max_history['atm_minus_vix_level'] = df_vix1d_goog_vol_min_max_history.atm_vol_level - df_vix1d_goog_vol_min_max_history.vix_level\n",
    "df_vix1d_goog_vol_min_max_actual_history = df_vix1d_goog_vol_min_max_history.join(df_goog_market_open_close_history[\"actual_change\"])\n",
    "\n",
    "plt.scatter(df_vix1d_goog_vol_min_max_actual_history[[\"atm_minus_vix_level\"]], df_vix1d_goog_vol_min_max_actual_history[[\"actual_change\"]])\n",
    "plt.plot([-1, 1], [-1, 1], 'k-', color = 'r')"
   ]
  },
  {
   "cell_type": "code",
   "execution_count": 234,
   "id": "b2ff6d1b-5c4a-44f7-a562-71000e776e6d",
   "metadata": {
    "execution": {
     "iopub.execute_input": "2024-07-15T20:53:51.014476Z",
     "iopub.status.busy": "2024-07-15T20:53:51.014179Z",
     "iopub.status.idle": "2024-07-15T20:53:51.106655Z",
     "shell.execute_reply": "2024-07-15T20:53:51.106072Z",
     "shell.execute_reply.started": "2024-07-15T20:53:51.014453Z"
    }
   },
   "outputs": [
    {
     "data": {
      "text/plain": [
       "<matplotlib.collections.PathCollection at 0x78701a92f820>"
      ]
     },
     "execution_count": 234,
     "metadata": {},
     "output_type": "execute_result"
    },
    {
     "data": {
      "image/png": "[encoded data removed]",
      "text/plain": [
       "<Figure size 640x480 with 1 Axes>"
      ]
     },
     "metadata": {},
     "output_type": "display_data"
    }
   ],
   "source": [
    "df_goog_atm_vol_level_actual_change = df_goog_atm_vol_min_max_history[['atm_vol_level']].join(df_goog_market_open_close_history[['actual_change']])\n",
    "plt.scatter(df_goog_atm_vol_level_actual_change[[\"atm_vol_level\"]], df_goog_atm_vol_level_actual_change[[\"actual_change\"]].abs())\n",
    "#plt.plot([-1, 1], [-1, 1], 'k-', color = 'r')"
   ]
  },
  {
   "cell_type": "code",
   "execution_count": null,
   "id": "cc1af4b1-cbd6-4cf3-9002-f8c73b3e4d8a",
   "metadata": {},
   "outputs": [],
   "source": []
  },
  {
   "cell_type": "markdown",
   "id": "aa7a0d1d-76cf-47df-972c-4bb54a875299",
   "metadata": {
    "jp-MarkdownHeadingCollapsed": true
   },
   "source": [
    "### sbux"
   ]
  },
  {
   "cell_type": "code",
   "execution_count": 224,
   "id": "2e38d9b4-747d-4e6c-8147-9426c99e4dfe",
   "metadata": {
    "execution": {
     "iopub.execute_input": "2024-07-15T20:41:06.066200Z",
     "iopub.status.busy": "2024-07-15T20:41:06.064998Z",
     "iopub.status.idle": "2024-07-15T20:41:06.220518Z",
     "shell.execute_reply": "2024-07-15T20:41:06.219832Z",
     "shell.execute_reply.started": "2024-07-15T20:41:06.066123Z"
    }
   },
   "outputs": [
    {
     "data": {
      "text/plain": [
       "<matplotlib.collections.PathCollection at 0x786ff71bf460>"
      ]
     },
     "execution_count": 224,
     "metadata": {},
     "output_type": "execute_result"
    },
    {
     "data": {
      "image/png": "[encoded data removed]",
      "text/plain": [
       "<Figure size 640x480 with 1 Axes>"
      ]
     },
     "metadata": {},
     "output_type": "display_data"
    }
   ],
   "source": [
    "df_sbux_atm_call_vol_actual_change = df_sbux_atm_vol_history[['atm_call_vol']].join(df_sbux_market_open_close_history[['actual_change']])\n",
    "plt.scatter(df_sbux_atm_call_vol_actual_change[[\"atm_call_vol\"]], df_sbux_atm_call_vol_actual_change[[\"actual_change\"]])\n",
    "#plt.plot([-1, 1], [-1, 1], 'k-', color = 'r')"
   ]
  },
  {
   "cell_type": "code",
   "execution_count": 225,
   "id": "adacdb03-467b-41da-9923-f44023318cbb",
   "metadata": {
    "execution": {
     "iopub.execute_input": "2024-07-15T20:41:07.528334Z",
     "iopub.status.busy": "2024-07-15T20:41:07.527728Z",
     "iopub.status.idle": "2024-07-15T20:41:07.639147Z",
     "shell.execute_reply": "2024-07-15T20:41:07.638390Z",
     "shell.execute_reply.started": "2024-07-15T20:41:07.528313Z"
    }
   },
   "outputs": [
    {
     "data": {
      "text/plain": [
       "<matplotlib.collections.PathCollection at 0x78701a423f10>"
      ]
     },
     "execution_count": 225,
     "metadata": {},
     "output_type": "execute_result"
    },
    {
     "data": {
      "image/png": "[encoded data removed]",
      "text/plain": [
       "<Figure size 640x480 with 1 Axes>"
      ]
     },
     "metadata": {},
     "output_type": "display_data"
    }
   ],
   "source": [
    "df_sbux_atm_put_vol_actual_change = df_sbux_atm_vol_history[['atm_put_vol']].join(df_sbux_market_open_close_history[['actual_change']])\n",
    "plt.scatter(df_sbux_atm_put_vol_actual_change[[\"atm_put_vol\"]], df_sbux_atm_put_vol_actual_change[[\"actual_change\"]])\n",
    "#plt.plot([-1, 1], [-1, 1], 'k-', color = 'r')"
   ]
  },
  {
   "cell_type": "code",
   "execution_count": 226,
   "id": "e640b0e1-e169-4a3b-ad26-2d5823e456b4",
   "metadata": {
    "execution": {
     "iopub.execute_input": "2024-07-15T20:41:21.138987Z",
     "iopub.status.busy": "2024-07-15T20:41:21.138199Z",
     "iopub.status.idle": "2024-07-15T20:41:21.235401Z",
     "shell.execute_reply": "2024-07-15T20:41:21.234907Z",
     "shell.execute_reply.started": "2024-07-15T20:41:21.138930Z"
    }
   },
   "outputs": [
    {
     "data": {
      "text/plain": [
       "<matplotlib.collections.PathCollection at 0x78701a465d50>"
      ]
     },
     "execution_count": 226,
     "metadata": {},
     "output_type": "execute_result"
    },
    {
     "data": {
      "image/png": "[encoded data removed]",
      "text/plain": [
       "<Figure size 640x480 with 1 Axes>"
      ]
     },
     "metadata": {},
     "output_type": "display_data"
    }
   ],
   "source": [
    "plt.scatter(df_sbux_atm_vol_history[[\"atm_call_vol\"]], df_sbux_atm_vol_history[[\"atm_put_vol\"]])"
   ]
  },
  {
   "cell_type": "code",
   "execution_count": 891,
   "id": "a591d7a5-ef0b-4681-a82e-07d0d1ca2e1a",
   "metadata": {},
   "outputs": [
    {
     "data": {
      "text/plain": [
       "<matplotlib.collections.PathCollection at 0x7fdfae672ca0>"
      ]
     },
     "execution_count": 891,
     "metadata": {},
     "output_type": "execute_result"
    },
    {
     "data": {
      "image/png": "[encoded data removed]",
      "text/plain": [
       "<Figure size 640x480 with 1 Axes>"
      ]
     },
     "metadata": {},
     "output_type": "display_data"
    }
   ],
   "source": [
    "large_vol_threshold = 0.3\n",
    "df_sbux_large_atm_call_vol_history = df_sbux_atm_vol_history[\n",
    "    (df_sbux_atm_vol_history.atm_call_vol > large_vol_threshold) &\n",
    "    (df_sbux_atm_vol_history.atm_put_vol < large_vol_threshold)\n",
    "]\n",
    "df_sbux_large_atm_call_vol_atm_actual_change = df_sbux_large_atm_call_vol_history[['atm_call_vol']].join(df_sbux_market_open_close_history[['actual_change']])\n",
    "plt.scatter(df_sbux_large_atm_call_vol_atm_actual_change[[\"atm_call_vol\"]], df_sbux_large_atm_call_vol_atm_actual_change[[\"actual_change\"]])"
   ]
  },
  {
   "cell_type": "code",
   "execution_count": 895,
   "id": "d1f13300-5bd2-4d6f-8985-4953102b2649",
   "metadata": {},
   "outputs": [
    {
     "data": {
      "text/plain": [
       "<matplotlib.collections.PathCollection at 0x7fdf64f1dd00>"
      ]
     },
     "execution_count": 895,
     "metadata": {},
     "output_type": "execute_result"
    },
    {
     "data": {
      "image/png": "[encoded data removed]",
      "text/plain": [
       "<Figure size 640x480 with 1 Axes>"
      ]
     },
     "metadata": {},
     "output_type": "display_data"
    }
   ],
   "source": [
    "large_vol_threshold = 0.3\n",
    "df_sbux_large_atm_put_vol_history = df_sbux_atm_vol_history[\n",
    "    (df_sbux_atm_vol_history.atm_call_vol < large_vol_threshold) &\n",
    "    (df_sbux_atm_vol_history.atm_put_vol > large_vol_threshold)\n",
    "]\n",
    "df_sbux_large_atm_put_vol_atm_actual_change = df_sbux_large_atm_put_vol_history[['atm_put_vol']].join(df_sbux_market_open_close_history[['actual_change']])\n",
    "plt.scatter(df_sbux_large_atm_put_vol_atm_actual_change[[\"atm_put_vol\"]], df_sbux_large_atm_put_vol_atm_actual_change[[\"actual_change\"]])"
   ]
  },
  {
   "cell_type": "code",
   "execution_count": null,
   "id": "0738ecb8-3a53-4f08-a9e7-7133507c6a02",
   "metadata": {},
   "outputs": [],
   "source": []
  },
  {
   "cell_type": "code",
   "execution_count": null,
   "id": "bfb2de67-8f69-4631-a753-bda0adc84d5b",
   "metadata": {},
   "outputs": [],
   "source": []
  },
  {
   "cell_type": "code",
   "execution_count": null,
   "id": "92e1445f-e590-4cab-a91a-54d0315b94b7",
   "metadata": {},
   "outputs": [],
   "source": []
  },
  {
   "cell_type": "code",
   "execution_count": 869,
   "id": "0028cd82-d7c0-4e38-ab4b-d29d0237091a",
   "metadata": {},
   "outputs": [
    {
     "name": "stderr",
     "output_type": "stream",
     "text": [
      "/var/folders/hh/x43xkncs2k7dm7t4vg3lt2cm0000gn/T/ipykernel_96764/870103466.py:13: UserWarning: color is redundantly defined by the 'color' keyword argument and the fmt string \"k-\" (-> color='k'). The keyword argument will take precedence.\n",
      "  plt.plot([-1, 1], [-1, 1], 'k-', color = 'r')\n"
     ]
    },
    {
     "data": {
      "text/plain": [
       "[<matplotlib.lines.Line2D at 0x7fdf9c556dc0>]"
      ]
     },
     "execution_count": 869,
     "metadata": {},
     "output_type": "execute_result"
    },
    {
     "data": {
      "image/png": "[encoded data removed]",
      "text/plain": [
       "<Figure size 640x480 with 1 Axes>"
      ]
     },
     "metadata": {},
     "output_type": "display_data"
    }
   ],
   "source": [
    "rolling_size = 90\n",
    "df_sbux_atm_vol_history['atm_vol'] = (df_sbux_atm_vol_history.atm_call_vol + df_sbux_atm_vol_history.atm_put_vol) / 2.0\n",
    "df_sbux_atm_vol_min_max_history = df_sbux_atm_vol_history.join(df_sbux_atm_vol_history[['atm_vol']].rolling(rolling_size).min().join(df_sbux_atm_vol_history[['atm_vol']].rolling(rolling_size).max(), lsuffix=\"_min\", rsuffix=\"_max\"))\n",
    "df_sbux_atm_vol_min_max_history['atm_vol_level'] = (df_sbux_atm_vol_min_max_history.atm_vol - df_sbux_atm_vol_min_max_history.atm_vol_min) / (df_sbux_atm_vol_min_max_history.atm_vol_max - df_sbux_atm_vol_min_max_history.atm_vol_min)\n",
    "df_vix1d_market_open_min_max_history = df_vix1d_market_open_history.join(df_vix1d_market_open_history.rolling(rolling_size).min().join(df_vix1d_market_open_history.rolling(rolling_size).max(), lsuffix=\"_min\", rsuffix=\"_max\"))\n",
    "df_vix1d_market_open_min_max_history['vix_level'] = (df_vix1d_market_open_min_max_history.c - df_vix1d_market_open_min_max_history.c_min) / (df_vix1d_market_open_min_max_history.c_max - df_vix1d_market_open_min_max_history.c_min)\n",
    "\n",
    "df_vix1d_sbux_vol_min_max_history = df_sbux_atm_vol_min_max_history[['atm_vol_level']].join(df_vix1d_market_open_min_max_history[['vix_level']])\n",
    "df_vix1d_sbux_vol_min_max_history['atm_minus_vix_level'] = df_vix1d_sbux_vol_min_max_history.atm_vol_level - df_vix1d_sbux_vol_min_max_history.vix_level\n",
    "df_vix1d_sbux_vol_min_max_actual_history = df_vix1d_sbux_vol_min_max_history.join(df_sbux_market_open_close_history[\"actual_change\"])\n",
    "\n",
    "plt.scatter(df_vix1d_sbux_vol_min_max_actual_history[[\"atm_minus_vix_level\"]], df_vix1d_sbux_vol_min_max_actual_history[[\"actual_change\"]])\n",
    "plt.plot([-1, 1], [-1, 1], 'k-', color = 'r')"
   ]
  },
  {
   "cell_type": "code",
   "execution_count": null,
   "id": "b0ef146d-2d36-47eb-8e4a-ff8b1a8ff8f3",
   "metadata": {},
   "outputs": [],
   "source": []
  },
  {
   "cell_type": "code",
   "execution_count": null,
   "id": "2a545147-96bd-4500-88c5-4962f7334897",
   "metadata": {},
   "outputs": [],
   "source": []
  },
  {
   "cell_type": "markdown",
   "id": "d1a39f7c-640a-4f4c-ae87-c7f9fdb8748a",
   "metadata": {
    "jp-MarkdownHeadingCollapsed": true,
    "tags": []
   },
   "source": [
    "## sbux logic"
   ]
  },
  {
   "cell_type": "code",
   "execution_count": 798,
   "id": "54713278-1295-4532-a3d1-5a2eafe6c86b",
   "metadata": {},
   "outputs": [],
   "source": [
    "df_sbux = df_sbux_daily_history[[\"c\"]].copy()\n",
    "df_sbux[\"1_mo_avg\"] = df_sbux[\"c\"].rolling(window=20).mean()\n",
    "df_sbux[\"3_mo_avg\"] = df_sbux[\"c\"].rolling(window=60).mean()\n",
    "df_sbux['regime'] = df_sbux.apply(lambda row: 1 if (row['c'] > row['1_mo_avg']) else -1, axis=1)"
   ]
  },
  {
   "cell_type": "code",
   "execution_count": 799,
   "id": "7e7bb40b-ea69-4375-8b5e-1b6eaae29074",
   "metadata": {},
   "outputs": [],
   "source": [
    "df_sbux_market_close_history = get_df_market_open_or_close_history_from_intraday_history(df_sbux_intraday_history, \"close\")\n",
    "df_sbux_market_open_close_history = df_sbux_market_open_history.join(df_sbux_market_close_history, lsuffix=\"_open\", rsuffix=\"_close\")\n",
    "df_sbux_market_open_close_history[\"actual_change\"] = df_sbux_market_open_close_history.c_close - df_sbux_market_open_close_history.c_open"
   ]
  },
  {
   "cell_type": "code",
   "execution_count": null,
   "id": "4a7d7c7b-04d9-4151-b65c-df3e8c3cf38a",
   "metadata": {},
   "outputs": [],
   "source": []
  },
  {
   "cell_type": "code",
   "execution_count": 1254,
   "id": "8605dba1-d9f7-4665-8d12-8d3c109c2424",
   "metadata": {},
   "outputs": [],
   "source": [
    "df_sbux_daily_expectation = algo.expectation.get_df_daily_expectation(\n",
    "    df_sbux_market_open_history, df_sbux.regime, \n",
    "    (df_sbux_atm_vol_history.atm_call_vol + df_sbux_atm_vol_history.atm_put_vol) / 2, \n",
    "    1.0)"
   ]
  },
  {
   "cell_type": "code",
   "execution_count": 1255,
   "id": "c5a28614-a577-432f-ac38-9a7ddf8c7725",
   "metadata": {},
   "outputs": [
    {
     "data": {
      "text/html": [
       "<div>\n",
       "<style scoped>\n",
       "    .dataframe tbody tr th:only-of-type {\n",
       "        vertical-align: middle;\n",
       "    }\n",
       "\n",
       "    .dataframe tbody tr th {\n",
       "        vertical-align: top;\n",
       "    }\n",
       "\n",
       "    .dataframe thead th {\n",
       "        text-align: right;\n",
       "    }\n",
       "</style>\n",
       "<table border=\"1\" class=\"dataframe\">\n",
       "  <thead>\n",
       "    <tr style=\"text-align: right;\">\n",
       "      <th></th>\n",
       "      <th>c_market_open</th>\n",
       "      <th>regime</th>\n",
       "      <th>expected_move</th>\n",
       "      <th>lower_price</th>\n",
       "      <th>upper_price</th>\n",
       "    </tr>\n",
       "    <tr>\n",
       "      <th>t</th>\n",
       "      <th></th>\n",
       "      <th></th>\n",
       "      <th></th>\n",
       "      <th></th>\n",
       "      <th></th>\n",
       "    </tr>\n",
       "  </thead>\n",
       "  <tbody>\n",
       "    <tr>\n",
       "      <th>2023-05-02</th>\n",
       "      <td>113.3832</td>\n",
       "      <td>1</td>\n",
       "      <td>0.0374</td>\n",
       "      <td>109.14</td>\n",
       "      <td>117.62</td>\n",
       "    </tr>\n",
       "    <tr>\n",
       "      <th>2023-05-03</th>\n",
       "      <td>107.6863</td>\n",
       "      <td>-1</td>\n",
       "      <td>0.0341</td>\n",
       "      <td>104.01</td>\n",
       "      <td>111.36</td>\n",
       "    </tr>\n",
       "    <tr>\n",
       "      <th>2023-05-04</th>\n",
       "      <td>104.3100</td>\n",
       "      <td>-1</td>\n",
       "      <td>0.0162</td>\n",
       "      <td>102.62</td>\n",
       "      <td>106.00</td>\n",
       "    </tr>\n",
       "    <tr>\n",
       "      <th>2023-05-05</th>\n",
       "      <td>105.4826</td>\n",
       "      <td>-1</td>\n",
       "      <td>NaN</td>\n",
       "      <td>NaN</td>\n",
       "      <td>NaN</td>\n",
       "    </tr>\n",
       "    <tr>\n",
       "      <th>2023-05-08</th>\n",
       "      <td>108.0200</td>\n",
       "      <td>-1</td>\n",
       "      <td>0.0123</td>\n",
       "      <td>106.69</td>\n",
       "      <td>109.35</td>\n",
       "    </tr>\n",
       "    <tr>\n",
       "      <th>...</th>\n",
       "      <td>...</td>\n",
       "      <td>...</td>\n",
       "      <td>...</td>\n",
       "      <td>...</td>\n",
       "      <td>...</td>\n",
       "    </tr>\n",
       "    <tr>\n",
       "      <th>2024-06-26</th>\n",
       "      <td>79.0200</td>\n",
       "      <td>-1</td>\n",
       "      <td>0.0133</td>\n",
       "      <td>77.97</td>\n",
       "      <td>80.07</td>\n",
       "    </tr>\n",
       "    <tr>\n",
       "      <th>2024-06-27</th>\n",
       "      <td>78.8800</td>\n",
       "      <td>-1</td>\n",
       "      <td>0.0141</td>\n",
       "      <td>77.77</td>\n",
       "      <td>79.99</td>\n",
       "    </tr>\n",
       "    <tr>\n",
       "      <th>2024-06-28</th>\n",
       "      <td>78.5997</td>\n",
       "      <td>-1</td>\n",
       "      <td>NaN</td>\n",
       "      <td>NaN</td>\n",
       "      <td>NaN</td>\n",
       "    </tr>\n",
       "    <tr>\n",
       "      <th>2024-07-01</th>\n",
       "      <td>78.0500</td>\n",
       "      <td>-1</td>\n",
       "      <td>0.0123</td>\n",
       "      <td>77.09</td>\n",
       "      <td>79.01</td>\n",
       "    </tr>\n",
       "    <tr>\n",
       "      <th>2024-07-02</th>\n",
       "      <td>77.0050</td>\n",
       "      <td>-1</td>\n",
       "      <td>0.0088</td>\n",
       "      <td>76.33</td>\n",
       "      <td>77.68</td>\n",
       "    </tr>\n",
       "  </tbody>\n",
       "</table>\n",
       "<p>293 rows × 5 columns</p>\n",
       "</div>"
      ],
      "text/plain": [
       "            c_market_open  regime  expected_move  lower_price  upper_price\n",
       "t                                                                         \n",
       "2023-05-02       113.3832       1         0.0374       109.14       117.62\n",
       "2023-05-03       107.6863      -1         0.0341       104.01       111.36\n",
       "2023-05-04       104.3100      -1         0.0162       102.62       106.00\n",
       "2023-05-05       105.4826      -1            NaN          NaN          NaN\n",
       "2023-05-08       108.0200      -1         0.0123       106.69       109.35\n",
       "...                   ...     ...            ...          ...          ...\n",
       "2024-06-26        79.0200      -1         0.0133        77.97        80.07\n",
       "2024-06-27        78.8800      -1         0.0141        77.77        79.99\n",
       "2024-06-28        78.5997      -1            NaN          NaN          NaN\n",
       "2024-07-01        78.0500      -1         0.0123        77.09        79.01\n",
       "2024-07-02        77.0050      -1         0.0088        76.33        77.68\n",
       "\n",
       "[293 rows x 5 columns]"
      ]
     },
     "execution_count": 1255,
     "metadata": {},
     "output_type": "execute_result"
    }
   ],
   "source": [
    "df_sbux_daily_expectation"
   ]
  },
  {
   "cell_type": "code",
   "execution_count": null,
   "id": "683a125a-d04b-4cba-98e9-fe1f2d2f6b5b",
   "metadata": {},
   "outputs": [],
   "source": []
  },
  {
   "cell_type": "code",
   "execution_count": null,
   "id": "542ef706-0d63-4484-a837-cd5b352ec79a",
   "metadata": {},
   "outputs": [],
   "source": []
  },
  {
   "cell_type": "code",
   "execution_count": 1256,
   "id": "9e9274bd-daf3-4b34-a006-98ed9b8e9dc0",
   "metadata": {},
   "outputs": [],
   "source": [
    "df_sbux_daily_expectation_actual = df_sbux_daily_expectation.join(df_sbux_market_open_close_history[\"actual_change\"])\n",
    "df_sbux_daily_expectation_actual[\"expected_change_size\"] = (df_sbux_daily_expectation_actual.upper_price - df_sbux_daily_expectation_actual.lower_price) / 2."
   ]
  },
  {
   "cell_type": "code",
   "execution_count": 1257,
   "id": "c09f4b9e-a6cf-44d9-8b43-359d08dc3285",
   "metadata": {},
   "outputs": [
    {
     "name": "stderr",
     "output_type": "stream",
     "text": [
      "/var/folders/hh/x43xkncs2k7dm7t4vg3lt2cm0000gn/T/ipykernel_96764/25140229.py:2: UserWarning: color is redundantly defined by the 'color' keyword argument and the fmt string \"k-\" (-> color='k'). The keyword argument will take precedence.\n",
      "  plt.plot([-1, 6], [-1, 6], 'k-', color = 'r')\n"
     ]
    },
    {
     "data": {
      "text/plain": [
       "[<matplotlib.lines.Line2D at 0x7fdf6ece7f10>]"
      ]
     },
     "execution_count": 1257,
     "metadata": {},
     "output_type": "execute_result"
    },
    {
     "data": {
      "image/png": "[encoded data removed]",
      "text/plain": [
       "<Figure size 640x480 with 1 Axes>"
      ]
     },
     "metadata": {},
     "output_type": "display_data"
    }
   ],
   "source": [
    "plt.scatter(df_sbux_daily_expectation_actual[[\"expected_change_size\"]], df_sbux_daily_expectation_actual[[\"actual_change\"]].abs())\n",
    "plt.plot([-1, 6], [-1, 6], 'k-', color = 'r')"
   ]
  },
  {
   "cell_type": "code",
   "execution_count": null,
   "id": "a19fc7ec-5633-46e9-86df-74340f77b4e5",
   "metadata": {},
   "outputs": [],
   "source": []
  },
  {
   "cell_type": "code",
   "execution_count": 1258,
   "id": "917f711a-aa2e-483d-8af3-b1f0d9557a97",
   "metadata": {},
   "outputs": [
    {
     "name": "stderr",
     "output_type": "stream",
     "text": [
      "/var/folders/hh/x43xkncs2k7dm7t4vg3lt2cm0000gn/T/ipykernel_96764/2474148535.py:2: UserWarning: color is redundantly defined by the 'color' keyword argument and the fmt string \"k-\" (-> color='k'). The keyword argument will take precedence.\n",
      "  plt.plot([-10, 10], [-10, 10], 'k-', color = 'r')\n"
     ]
    },
    {
     "data": {
      "text/plain": [
       "[<matplotlib.lines.Line2D at 0x7fdf2e0b6700>]"
      ]
     },
     "execution_count": 1258,
     "metadata": {},
     "output_type": "execute_result"
    },
    {
     "data": {
      "image/png": "[encoded data removed]",
      "text/plain": [
       "<Figure size 640x480 with 1 Axes>"
      ]
     },
     "metadata": {},
     "output_type": "display_data"
    }
   ],
   "source": [
    "plt.scatter(df_sbux_daily_expectation_actual[\"regime\"] * df_sbux_daily_expectation_actual[\"expected_change_size\"], df_sbux_daily_expectation_actual[[\"actual_change\"]])\n",
    "plt.plot([-10, 10], [-10, 10], 'k-', color = 'r')"
   ]
  },
  {
   "cell_type": "code",
   "execution_count": null,
   "id": "d429395e-f86b-467d-9420-e9bb9e6b99c9",
   "metadata": {},
   "outputs": [],
   "source": []
  },
  {
   "cell_type": "markdown",
   "id": "e977f34f-dc15-442a-9d40-04575191a381",
   "metadata": {
    "jp-MarkdownHeadingCollapsed": true,
    "tags": []
   },
   "source": [
    "## logic with options data"
   ]
  },
  {
   "cell_type": "code",
   "execution_count": 154,
   "id": "efe55471-5e5f-4e65-9810-77486e85ebea",
   "metadata": {},
   "outputs": [],
   "source": [
    "df_spx_algo = df_spx_daily_expectation.join(df_spx_otm_call_options_spread_history[[\"pnl\"]].add_suffix(\"_call\")).join(\n",
    "    df_spx_otm_put_options_spread_history[[\"pnl\"]].add_suffix(\"_put\")\n",
    ")\n",
    "df_spx_algo['pnl_c_n_reg'] = np.where(df_spx_algo.regime < 0, df_spx_algo.pnl_call, 0)\n",
    "df_spx_algo['pnl_p_p_reg'] = np.where(df_spx_algo.regime > 0, df_spx_algo.pnl_put, 0)"
   ]
  },
  {
   "cell_type": "code",
   "execution_count": 392,
   "id": "eb461120-840c-418c-bb63-4cbdda7d6b62",
   "metadata": {},
   "outputs": [
    {
     "data": {
      "text/html": [
       "<div>\n",
       "<style scoped>\n",
       "    .dataframe tbody tr th:only-of-type {\n",
       "        vertical-align: middle;\n",
       "    }\n",
       "\n",
       "    .dataframe tbody tr th {\n",
       "        vertical-align: top;\n",
       "    }\n",
       "\n",
       "    .dataframe thead th {\n",
       "        text-align: right;\n",
       "    }\n",
       "</style>\n",
       "<table border=\"1\" class=\"dataframe\">\n",
       "  <thead>\n",
       "    <tr style=\"text-align: right;\">\n",
       "      <th></th>\n",
       "      <th>c_market_open</th>\n",
       "      <th>regime</th>\n",
       "      <th>expected_move</th>\n",
       "      <th>lower_price</th>\n",
       "      <th>upper_price</th>\n",
       "      <th>pnl_call</th>\n",
       "      <th>pnl_put</th>\n",
       "      <th>pnl_c_n_reg</th>\n",
       "      <th>pnl_p_p_reg</th>\n",
       "    </tr>\n",
       "    <tr>\n",
       "      <th>t</th>\n",
       "      <th></th>\n",
       "      <th></th>\n",
       "      <th></th>\n",
       "      <th></th>\n",
       "      <th></th>\n",
       "      <th></th>\n",
       "      <th></th>\n",
       "      <th></th>\n",
       "      <th></th>\n",
       "    </tr>\n",
       "  </thead>\n",
       "  <tbody>\n",
       "    <tr>\n",
       "      <th>2023-05-02</th>\n",
       "      <td>4153.26</td>\n",
       "      <td>-1</td>\n",
       "      <td>0.00300</td>\n",
       "      <td>4140.80</td>\n",
       "      <td>4165.72</td>\n",
       "      <td>0.90</td>\n",
       "      <td>-2.16</td>\n",
       "      <td>0.90</td>\n",
       "      <td>0.00</td>\n",
       "    </tr>\n",
       "    <tr>\n",
       "      <th>2023-05-03</th>\n",
       "      <td>4125.70</td>\n",
       "      <td>-1</td>\n",
       "      <td>0.00600</td>\n",
       "      <td>4100.95</td>\n",
       "      <td>4150.45</td>\n",
       "      <td>1.31</td>\n",
       "      <td>-3.62</td>\n",
       "      <td>1.31</td>\n",
       "      <td>0.00</td>\n",
       "    </tr>\n",
       "    <tr>\n",
       "      <th>2023-05-04</th>\n",
       "      <td>4081.20</td>\n",
       "      <td>-1</td>\n",
       "      <td>0.00465</td>\n",
       "      <td>4062.22</td>\n",
       "      <td>4100.18</td>\n",
       "      <td>1.10</td>\n",
       "      <td>1.08</td>\n",
       "      <td>1.10</td>\n",
       "      <td>0.00</td>\n",
       "    </tr>\n",
       "    <tr>\n",
       "      <th>2023-05-05</th>\n",
       "      <td>4104.23</td>\n",
       "      <td>1</td>\n",
       "      <td>0.00410</td>\n",
       "      <td>4087.40</td>\n",
       "      <td>4121.06</td>\n",
       "      <td>-5.85</td>\n",
       "      <td>1.10</td>\n",
       "      <td>0.00</td>\n",
       "      <td>1.10</td>\n",
       "    </tr>\n",
       "    <tr>\n",
       "      <th>2023-05-08</th>\n",
       "      <td>4137.65</td>\n",
       "      <td>1</td>\n",
       "      <td>0.00320</td>\n",
       "      <td>4124.41</td>\n",
       "      <td>4150.89</td>\n",
       "      <td>0.83</td>\n",
       "      <td>0.85</td>\n",
       "      <td>0.00</td>\n",
       "      <td>0.85</td>\n",
       "    </tr>\n",
       "    <tr>\n",
       "      <th>...</th>\n",
       "      <td>...</td>\n",
       "      <td>...</td>\n",
       "      <td>...</td>\n",
       "      <td>...</td>\n",
       "      <td>...</td>\n",
       "      <td>...</td>\n",
       "      <td>...</td>\n",
       "      <td>...</td>\n",
       "      <td>...</td>\n",
       "    </tr>\n",
       "    <tr>\n",
       "      <th>2024-06-26</th>\n",
       "      <td>5457.73</td>\n",
       "      <td>1</td>\n",
       "      <td>0.00235</td>\n",
       "      <td>5444.90</td>\n",
       "      <td>5470.56</td>\n",
       "      <td>-2.13</td>\n",
       "      <td>0.90</td>\n",
       "      <td>0.00</td>\n",
       "      <td>0.90</td>\n",
       "    </tr>\n",
       "    <tr>\n",
       "      <th>2024-06-27</th>\n",
       "      <td>5483.08</td>\n",
       "      <td>1</td>\n",
       "      <td>0.00240</td>\n",
       "      <td>5469.92</td>\n",
       "      <td>5496.24</td>\n",
       "      <td>1.10</td>\n",
       "      <td>0.84</td>\n",
       "      <td>0.00</td>\n",
       "      <td>0.84</td>\n",
       "    </tr>\n",
       "    <tr>\n",
       "      <th>2024-06-28</th>\n",
       "      <td>5496.61</td>\n",
       "      <td>1</td>\n",
       "      <td>0.00280</td>\n",
       "      <td>5481.22</td>\n",
       "      <td>5512.00</td>\n",
       "      <td>1.25</td>\n",
       "      <td>-3.76</td>\n",
       "      <td>0.00</td>\n",
       "      <td>-3.76</td>\n",
       "    </tr>\n",
       "    <tr>\n",
       "      <th>2024-07-01</th>\n",
       "      <td>5475.76</td>\n",
       "      <td>1</td>\n",
       "      <td>0.00255</td>\n",
       "      <td>5461.80</td>\n",
       "      <td>5489.72</td>\n",
       "      <td>1.23</td>\n",
       "      <td>0.85</td>\n",
       "      <td>0.00</td>\n",
       "      <td>0.85</td>\n",
       "    </tr>\n",
       "    <tr>\n",
       "      <th>2024-07-02</th>\n",
       "      <td>5465.69</td>\n",
       "      <td>1</td>\n",
       "      <td>0.00250</td>\n",
       "      <td>5452.03</td>\n",
       "      <td>5479.35</td>\n",
       "      <td>-1.80</td>\n",
       "      <td>1.29</td>\n",
       "      <td>0.00</td>\n",
       "      <td>1.29</td>\n",
       "    </tr>\n",
       "  </tbody>\n",
       "</table>\n",
       "<p>293 rows × 9 columns</p>\n",
       "</div>"
      ],
      "text/plain": [
       "            c_market_open  regime  expected_move  lower_price  upper_price  \\\n",
       "t                                                                            \n",
       "2023-05-02        4153.26      -1        0.00300      4140.80      4165.72   \n",
       "2023-05-03        4125.70      -1        0.00600      4100.95      4150.45   \n",
       "2023-05-04        4081.20      -1        0.00465      4062.22      4100.18   \n",
       "2023-05-05        4104.23       1        0.00410      4087.40      4121.06   \n",
       "2023-05-08        4137.65       1        0.00320      4124.41      4150.89   \n",
       "...                   ...     ...            ...          ...          ...   \n",
       "2024-06-26        5457.73       1        0.00235      5444.90      5470.56   \n",
       "2024-06-27        5483.08       1        0.00240      5469.92      5496.24   \n",
       "2024-06-28        5496.61       1        0.00280      5481.22      5512.00   \n",
       "2024-07-01        5475.76       1        0.00255      5461.80      5489.72   \n",
       "2024-07-02        5465.69       1        0.00250      5452.03      5479.35   \n",
       "\n",
       "            pnl_call  pnl_put  pnl_c_n_reg  pnl_p_p_reg  \n",
       "t                                                        \n",
       "2023-05-02      0.90    -2.16         0.90         0.00  \n",
       "2023-05-03      1.31    -3.62         1.31         0.00  \n",
       "2023-05-04      1.10     1.08         1.10         0.00  \n",
       "2023-05-05     -5.85     1.10         0.00         1.10  \n",
       "2023-05-08      0.83     0.85         0.00         0.85  \n",
       "...              ...      ...          ...          ...  \n",
       "2024-06-26     -2.13     0.90         0.00         0.90  \n",
       "2024-06-27      1.10     0.84         0.00         0.84  \n",
       "2024-06-28      1.25    -3.76         0.00        -3.76  \n",
       "2024-07-01      1.23     0.85         0.00         0.85  \n",
       "2024-07-02     -1.80     1.29         0.00         1.29  \n",
       "\n",
       "[293 rows x 9 columns]"
      ]
     },
     "execution_count": 392,
     "metadata": {},
     "output_type": "execute_result"
    }
   ],
   "source": [
    "df_spx_algo"
   ]
  },
  {
   "cell_type": "code",
   "execution_count": 390,
   "id": "3d3d5429-3c4b-47a9-be3f-b95fddb3f4ec",
   "metadata": {},
   "outputs": [
    {
     "data": {
      "text/plain": [
       "<AxesSubplot:xlabel='t'>"
      ]
     },
     "execution_count": 390,
     "metadata": {},
     "output_type": "execute_result"
    },
    {
     "data": {
      "image/png": "[encoded data removed]",
      "text/plain": [
       "<Figure size 800x200 with 1 Axes>"
      ]
     },
     "metadata": {},
     "output_type": "display_data"
    }
   ],
   "source": [
    "df_spx_algo[[\"pnl_c_n_reg\", \"pnl_p_p_reg\"]].cumsum().plot(figsize=(8,2))"
   ]
  },
  {
   "cell_type": "code",
   "execution_count": null,
   "id": "3c458e82-0df9-4eb0-aca1-0b0eef5de09a",
   "metadata": {},
   "outputs": [],
   "source": []
  },
  {
   "cell_type": "code",
   "execution_count": 388,
   "id": "8e2dfa7d-9b9d-40c8-a080-f3c07763d9ab",
   "metadata": {},
   "outputs": [
    {
     "data": {
      "text/html": [
       "<div>\n",
       "<style scoped>\n",
       "    .dataframe tbody tr th:only-of-type {\n",
       "        vertical-align: middle;\n",
       "    }\n",
       "\n",
       "    .dataframe tbody tr th {\n",
       "        vertical-align: top;\n",
       "    }\n",
       "\n",
       "    .dataframe thead th {\n",
       "        text-align: right;\n",
       "    }\n",
       "</style>\n",
       "<table border=\"1\" class=\"dataframe\">\n",
       "  <thead>\n",
       "    <tr style=\"text-align: right;\">\n",
       "      <th></th>\n",
       "      <th>pnl_call</th>\n",
       "      <th>pnl_put</th>\n",
       "    </tr>\n",
       "    <tr>\n",
       "      <th>regime</th>\n",
       "      <th></th>\n",
       "      <th></th>\n",
       "    </tr>\n",
       "  </thead>\n",
       "  <tbody>\n",
       "    <tr>\n",
       "      <th>-1</th>\n",
       "      <td>33.14</td>\n",
       "      <td>-74.90</td>\n",
       "    </tr>\n",
       "    <tr>\n",
       "      <th>1</th>\n",
       "      <td>-54.36</td>\n",
       "      <td>100.26</td>\n",
       "    </tr>\n",
       "  </tbody>\n",
       "</table>\n",
       "</div>"
      ],
      "text/plain": [
       "        pnl_call  pnl_put\n",
       "regime                   \n",
       "-1         33.14   -74.90\n",
       " 1        -54.36   100.26"
      ]
     },
     "execution_count": 388,
     "metadata": {},
     "output_type": "execute_result"
    }
   ],
   "source": [
    "df_spx_algo.groupby(\"regime\")[[\"pnl_call\", \"pnl_put\"]].sum()"
   ]
  },
  {
   "cell_type": "code",
   "execution_count": null,
   "id": "0929da42-bf4f-4838-b131-cd51729b5af0",
   "metadata": {},
   "outputs": [],
   "source": []
  },
  {
   "cell_type": "code",
   "execution_count": 157,
   "id": "f46d8533-811c-4f5f-98ce-29c12207fcbb",
   "metadata": {},
   "outputs": [
    {
     "name": "stderr",
     "output_type": "stream",
     "text": [
      "/var/folders/hh/x43xkncs2k7dm7t4vg3lt2cm0000gn/T/ipykernel_96764/2214457600.py:1: UserWarning: Boolean Series key will be reindexed to match DataFrame index.\n",
      "  df_spx_otm_call_options_spread_history[\n"
     ]
    },
    {
     "data": {
      "text/plain": [
       "c_market_o_s_call    323.67\n",
       "c_market_o_l_call    239.52\n",
       "market_o_spread       84.15\n",
       "c_market_c_s_call    196.58\n",
       "c_market_c_l_call    145.57\n",
       "market_c_spread       51.01\n",
       "pnl                   33.14\n",
       "dtype: float64"
      ]
     },
     "execution_count": 157,
     "metadata": {},
     "output_type": "execute_result"
    }
   ],
   "source": [
    "df_spx_otm_call_options_spread_history[\n",
    "    df_spx_algo[\"regime\"] < 0\n",
    "].sum()"
   ]
  },
  {
   "cell_type": "code",
   "execution_count": 158,
   "id": "204063f9-b7cd-4c83-b43c-51dd333272c0",
   "metadata": {},
   "outputs": [
    {
     "data": {
      "text/plain": [
       "c_market_o_s_call    1047.16\n",
       "c_market_o_l_call     732.10\n",
       "market_o_spread       315.06\n",
       "c_market_c_s_call    1132.63\n",
       "c_market_c_l_call     796.35\n",
       "market_c_spread       336.28\n",
       "pnl                   -21.22\n",
       "dtype: float64"
      ]
     },
     "execution_count": 158,
     "metadata": {},
     "output_type": "execute_result"
    }
   ],
   "source": [
    "df_spx_otm_call_options_spread_history.sum()"
   ]
  },
  {
   "cell_type": "code",
   "execution_count": null,
   "id": "1ce69efb-a545-4913-8283-ac54585d1ff0",
   "metadata": {},
   "outputs": [],
   "source": []
  },
  {
   "cell_type": "code",
   "execution_count": 159,
   "id": "bbaa8a37-4937-4f68-93b1-da349b156e65",
   "metadata": {},
   "outputs": [
    {
     "name": "stderr",
     "output_type": "stream",
     "text": [
      "/var/folders/hh/x43xkncs2k7dm7t4vg3lt2cm0000gn/T/ipykernel_96764/465159656.py:1: UserWarning: Boolean Series key will be reindexed to match DataFrame index.\n",
      "  df_spx_otm_put_options_spread_history[\n"
     ]
    },
    {
     "data": {
      "text/plain": [
       "c_market_o_s_put    896.91\n",
       "c_market_o_l_put    668.93\n",
       "market_o_spread     227.98\n",
       "c_market_c_s_put    478.88\n",
       "c_market_c_l_put    351.16\n",
       "market_c_spread     127.72\n",
       "pnl                 100.26\n",
       "dtype: float64"
      ]
     },
     "execution_count": 159,
     "metadata": {},
     "output_type": "execute_result"
    }
   ],
   "source": [
    "df_spx_otm_put_options_spread_history[\n",
    "    df_spx_algo[\"regime\"] > 0\n",
    "].sum()"
   ]
  },
  {
   "cell_type": "code",
   "execution_count": 160,
   "id": "2b8eb198-48cd-4638-a03e-a17aae3a5884",
   "metadata": {},
   "outputs": [
    {
     "data": {
      "text/plain": [
       "c_market_o_s_put    1306.32\n",
       "c_market_o_l_put     997.03\n",
       "market_o_spread      309.29\n",
       "c_market_c_s_put    1205.80\n",
       "c_market_c_l_put     921.87\n",
       "market_c_spread      283.93\n",
       "pnl                   25.36\n",
       "dtype: float64"
      ]
     },
     "execution_count": 160,
     "metadata": {},
     "output_type": "execute_result"
    }
   ],
   "source": [
    "df_spx_otm_put_options_spread_history.sum()"
   ]
  },
  {
   "cell_type": "code",
   "execution_count": null,
   "id": "f42ce38f-76b0-46f6-ada4-b016937631cc",
   "metadata": {},
   "outputs": [],
   "source": []
  },
  {
   "cell_type": "code",
   "execution_count": null,
   "id": "6348013f-c268-4c87-8706-b22ce922cdfa",
   "metadata": {},
   "outputs": [],
   "source": []
  },
  {
   "cell_type": "markdown",
   "id": "39143deb-1c5a-4a4c-b385-7756a599dfe9",
   "metadata": {
    "tags": []
   },
   "source": [
    "## goog logic with options data"
   ]
  },
  {
   "cell_type": "code",
   "execution_count": 1266,
   "id": "730f9bc9-8062-4d33-ab59-41fa5889dece",
   "metadata": {
    "tags": []
   },
   "outputs": [],
   "source": [
    "df_goog_algo = df_goog_daily_expectation.join(df_goog_otm_call_options_spread_history[[\"pnl\"]].add_suffix(\"_call\")).join(\n",
    "    df_goog_otm_put_options_spread_history[[\"pnl\"]].add_suffix(\"_put\")\n",
    ")\n",
    "df_goog_algo['pnl_c'] = df_goog_algo.pnl_call\n",
    "df_goog_algo['pnl_p'] = df_goog_algo.pnl_put\n",
    "df_goog_algo['pnl_c_n_reg'] = np.where(df_goog_algo.regime < 0, df_goog_algo.pnl_call, 0)\n",
    "df_goog_algo['pnl_p_p_reg'] = np.where(df_goog_algo.regime > 0, df_goog_algo.pnl_put, 0)"
   ]
  },
  {
   "cell_type": "code",
   "execution_count": 1267,
   "id": "7fbfcc4d-0a2d-4ec5-b554-982ff0d2d05e",
   "metadata": {
    "tags": []
   },
   "outputs": [
    {
     "data": {
      "text/plain": [
       "<AxesSubplot:xlabel='t'>"
      ]
     },
     "execution_count": 1267,
     "metadata": {},
     "output_type": "execute_result"
    },
    {
     "data": {
      "image/png": "[encoded data removed]",
      "text/plain": [
       "<Figure size 800x200 with 1 Axes>"
      ]
     },
     "metadata": {},
     "output_type": "display_data"
    }
   ],
   "source": [
    "df_goog_algo[[\"pnl_c\", \"pnl_p\", \"pnl_c_n_reg\", \"pnl_p_p_reg\"]].cumsum().plot(figsize=(8,2))"
   ]
  },
  {
   "cell_type": "code",
   "execution_count": 1268,
   "id": "2fdba66c-eb7b-4064-925d-1bbafc63faa7",
   "metadata": {
    "tags": []
   },
   "outputs": [
    {
     "data": {
      "text/plain": [
       "<AxesSubplot:xlabel='t'>"
      ]
     },
     "execution_count": 1268,
     "metadata": {},
     "output_type": "execute_result"
    },
    {
     "data": {
      "image/png": "[encoded data removed]",
      "text/plain": [
       "<Figure size 800x200 with 1 Axes>"
      ]
     },
     "metadata": {},
     "output_type": "display_data"
    }
   ],
   "source": [
    "df_goog_algo[[\"pnl_c_n_reg\", \"pnl_p_p_reg\"]].cumsum().plot(figsize=(8,2))"
   ]
  },
  {
   "cell_type": "code",
   "execution_count": 795,
   "id": "2a45631e-d4f5-4344-92be-33e4b385168a",
   "metadata": {},
   "outputs": [
    {
     "data": {
      "text/plain": [
       "<AxesSubplot:xlabel='t'>"
      ]
     },
     "execution_count": 795,
     "metadata": {},
     "output_type": "execute_result"
    },
    {
     "data": {
      "image/png": "[encoded data removed]",
      "text/plain": [
       "<Figure size 800x200 with 1 Axes>"
      ]
     },
     "metadata": {},
     "output_type": "display_data"
    }
   ],
   "source": [
    "df_goog_algo[[\"pnl_c_n_reg\", \"pnl_p_p_reg\"]].cumsum().plot(figsize=(8,2))"
   ]
  },
  {
   "cell_type": "code",
   "execution_count": 78,
   "id": "40ffea59-65ee-4650-bb96-e67413427dc9",
   "metadata": {
    "execution": {
     "iopub.execute_input": "2024-07-17T02:19:49.263033Z",
     "iopub.status.busy": "2024-07-17T02:19:49.261975Z",
     "iopub.status.idle": "2024-07-17T02:19:49.289845Z",
     "shell.execute_reply": "2024-07-17T02:19:49.288886Z",
     "shell.execute_reply.started": "2024-07-17T02:19:49.262937Z"
    }
   },
   "outputs": [
    {
     "data": {
      "text/html": [
       "<div>\n",
       "<style scoped>\n",
       "    .dataframe tbody tr th:only-of-type {\n",
       "        vertical-align: middle;\n",
       "    }\n",
       "\n",
       "    .dataframe tbody tr th {\n",
       "        vertical-align: top;\n",
       "    }\n",
       "\n",
       "    .dataframe thead th {\n",
       "        text-align: right;\n",
       "    }\n",
       "</style>\n",
       "<table border=\"1\" class=\"dataframe\">\n",
       "  <thead>\n",
       "    <tr style=\"text-align: right;\">\n",
       "      <th></th>\n",
       "      <th>pnl_call</th>\n",
       "      <th>pnl_put</th>\n",
       "    </tr>\n",
       "    <tr>\n",
       "      <th>regime</th>\n",
       "      <th></th>\n",
       "      <th></th>\n",
       "    </tr>\n",
       "  </thead>\n",
       "  <tbody>\n",
       "    <tr>\n",
       "      <th>-1</th>\n",
       "      <td>1.56</td>\n",
       "      <td>-4.85</td>\n",
       "    </tr>\n",
       "    <tr>\n",
       "      <th>1</th>\n",
       "      <td>-1.72</td>\n",
       "      <td>-3.05</td>\n",
       "    </tr>\n",
       "  </tbody>\n",
       "</table>\n",
       "</div>"
      ],
      "text/plain": [
       "        pnl_call  pnl_put\n",
       "regime                   \n",
       "-1          1.56    -4.85\n",
       " 1         -1.72    -3.05"
      ]
     },
     "execution_count": 78,
     "metadata": {},
     "output_type": "execute_result"
    }
   ],
   "source": [
    "df_goog_algo.groupby(\"regime\")[[\"pnl_call\", \"pnl_put\"]].sum()"
   ]
  },
  {
   "cell_type": "code",
   "execution_count": 796,
   "id": "6367d8ed-8591-4ca0-b5e8-980936bc8be3",
   "metadata": {},
   "outputs": [
    {
     "data": {
      "text/html": [
       "<div>\n",
       "<style scoped>\n",
       "    .dataframe tbody tr th:only-of-type {\n",
       "        vertical-align: middle;\n",
       "    }\n",
       "\n",
       "    .dataframe tbody tr th {\n",
       "        vertical-align: top;\n",
       "    }\n",
       "\n",
       "    .dataframe thead th {\n",
       "        text-align: right;\n",
       "    }\n",
       "</style>\n",
       "<table border=\"1\" class=\"dataframe\">\n",
       "  <thead>\n",
       "    <tr style=\"text-align: right;\">\n",
       "      <th></th>\n",
       "      <th>pnl_call</th>\n",
       "      <th>pnl_put</th>\n",
       "    </tr>\n",
       "    <tr>\n",
       "      <th>regime</th>\n",
       "      <th></th>\n",
       "      <th></th>\n",
       "    </tr>\n",
       "  </thead>\n",
       "  <tbody>\n",
       "    <tr>\n",
       "      <th>-1</th>\n",
       "      <td>2.23</td>\n",
       "      <td>2.45</td>\n",
       "    </tr>\n",
       "    <tr>\n",
       "      <th>1</th>\n",
       "      <td>2.73</td>\n",
       "      <td>1.80</td>\n",
       "    </tr>\n",
       "  </tbody>\n",
       "</table>\n",
       "</div>"
      ],
      "text/plain": [
       "        pnl_call  pnl_put\n",
       "regime                   \n",
       "-1          2.23     2.45\n",
       " 1          2.73     1.80"
      ]
     },
     "execution_count": 796,
     "metadata": {},
     "output_type": "execute_result"
    }
   ],
   "source": [
    "df_goog_algo.groupby(\"regime\")[[\"pnl_call\", \"pnl_put\"]].sum()"
   ]
  },
  {
   "cell_type": "code",
   "execution_count": null,
   "id": "668c3f01-6ba6-4fb0-98d2-60301e39d99b",
   "metadata": {},
   "outputs": [],
   "source": []
  },
  {
   "cell_type": "markdown",
   "id": "f51264ee-3d2b-4442-a896-07069ffc7589",
   "metadata": {
    "jp-MarkdownHeadingCollapsed": true,
    "tags": []
   },
   "source": [
    "## sbux logic with options data"
   ]
  },
  {
   "cell_type": "code",
   "execution_count": 396,
   "id": "15b5e016-3978-485f-a4d8-5ca3c6d9a305",
   "metadata": {},
   "outputs": [],
   "source": [
    "df_sbux_algo = df_sbux_daily_expectation.join(df_sbux_otm_call_options_spread_history[[\"pnl\"]].add_suffix(\"_call\")).join(\n",
    "    df_sbux_otm_put_options_spread_history[[\"pnl\"]].add_suffix(\"_put\")\n",
    ")\n",
    "df_sbux_algo['pnl_c_n_reg'] = np.where(df_sbux_algo.regime < 0, df_sbux_algo.pnl_call, 0)\n",
    "df_sbux_algo['pnl_p_p_reg'] = np.where(df_sbux_algo.regime > 0, df_sbux_algo.pnl_put, 0)"
   ]
  },
  {
   "cell_type": "code",
   "execution_count": 397,
   "id": "a2031dd6-8dac-495e-ae55-1b0327ec8092",
   "metadata": {},
   "outputs": [
    {
     "data": {
      "text/plain": [
       "<AxesSubplot:xlabel='t'>"
      ]
     },
     "execution_count": 397,
     "metadata": {},
     "output_type": "execute_result"
    },
    {
     "data": {
      "image/png": "[encoded data removed]",
      "text/plain": [
       "<Figure size 800x200 with 1 Axes>"
      ]
     },
     "metadata": {},
     "output_type": "display_data"
    }
   ],
   "source": [
    "df_sbux_algo[[\"pnl_c_n_reg\", \"pnl_p_p_reg\"]].cumsum().plot(figsize=(8,2))"
   ]
  },
  {
   "cell_type": "code",
   "execution_count": 264,
   "id": "7a5f9d80-0428-490c-9cfc-ecbf57277412",
   "metadata": {},
   "outputs": [
    {
     "data": {
      "text/html": [
       "<div>\n",
       "<style scoped>\n",
       "    .dataframe tbody tr th:only-of-type {\n",
       "        vertical-align: middle;\n",
       "    }\n",
       "\n",
       "    .dataframe tbody tr th {\n",
       "        vertical-align: top;\n",
       "    }\n",
       "\n",
       "    .dataframe thead th {\n",
       "        text-align: right;\n",
       "    }\n",
       "</style>\n",
       "<table border=\"1\" class=\"dataframe\">\n",
       "  <thead>\n",
       "    <tr style=\"text-align: right;\">\n",
       "      <th></th>\n",
       "      <th>pnl_call</th>\n",
       "      <th>pnl_put</th>\n",
       "    </tr>\n",
       "    <tr>\n",
       "      <th>regime</th>\n",
       "      <th></th>\n",
       "      <th></th>\n",
       "    </tr>\n",
       "  </thead>\n",
       "  <tbody>\n",
       "    <tr>\n",
       "      <th>-1</th>\n",
       "      <td>0.90</td>\n",
       "      <td>-0.54</td>\n",
       "    </tr>\n",
       "    <tr>\n",
       "      <th>1</th>\n",
       "      <td>-0.14</td>\n",
       "      <td>-0.66</td>\n",
       "    </tr>\n",
       "  </tbody>\n",
       "</table>\n",
       "</div>"
      ],
      "text/plain": [
       "        pnl_call  pnl_put\n",
       "regime                   \n",
       "-1          0.90    -0.54\n",
       " 1         -0.14    -0.66"
      ]
     },
     "execution_count": 264,
     "metadata": {},
     "output_type": "execute_result"
    }
   ],
   "source": [
    "df_sbux_algo.groupby(\"regime\")[[\"pnl_call\", \"pnl_put\"]].sum()"
   ]
  },
  {
   "cell_type": "code",
   "execution_count": null,
   "id": "48bc3bd7-203d-47b4-afde-6eb75d9ad23a",
   "metadata": {},
   "outputs": [],
   "source": []
  },
  {
   "cell_type": "markdown",
   "id": "3a159fef-0888-46da-959a-7a37258e2e39",
   "metadata": {
    "jp-MarkdownHeadingCollapsed": true,
    "tags": []
   },
   "source": [
    "## volatility calc"
   ]
  },
  {
   "cell_type": "code",
   "execution_count": 128,
   "id": "b9032cb0-8458-491e-9575-85a6f38d098a",
   "metadata": {
    "execution": {
     "iopub.execute_input": "2024-07-10T19:57:53.987686Z",
     "iopub.status.busy": "2024-07-10T19:57:53.986495Z",
     "iopub.status.idle": "2024-07-10T19:57:53.994446Z",
     "shell.execute_reply": "2024-07-10T19:57:53.994019Z",
     "shell.execute_reply.started": "2024-07-10T19:57:53.987626Z"
    }
   },
   "outputs": [],
   "source": [
    "df_goog_atm_vol_history[\"expected_move\"] = ((df_goog_atm_vol_history.atm_call_vol + df_goog_atm_vol_history.atm_put_vol) / 2 / np.sqrt(252))"
   ]
  },
  {
   "cell_type": "code",
   "execution_count": 149,
   "id": "761f4d4c-8e0c-4965-b4fc-2f381d1388b6",
   "metadata": {
    "execution": {
     "iopub.execute_input": "2024-07-10T20:11:42.510381Z",
     "iopub.status.busy": "2024-07-10T20:11:42.509651Z",
     "iopub.status.idle": "2024-07-10T20:11:42.515202Z",
     "shell.execute_reply": "2024-07-10T20:11:42.514392Z",
     "shell.execute_reply.started": "2024-07-10T20:11:42.510332Z"
    }
   },
   "outputs": [],
   "source": [
    "df_sbux_atm_vol_history[\"expected_move\"] = ((df_sbux_atm_vol_history.atm_call_vol + df_sbux_atm_vol_history.atm_put_vol) / 2 / np.sqrt(252))"
   ]
  },
  {
   "cell_type": "code",
   "execution_count": null,
   "id": "41244d29-403c-4897-a7c0-9b4182229abf",
   "metadata": {},
   "outputs": [],
   "source": []
  },
  {
   "cell_type": "code",
   "execution_count": 732,
   "id": "6aa199f0-8b37-4bc4-bd7d-d772516eb8f4",
   "metadata": {},
   "outputs": [
    {
     "data": {
      "text/plain": [
       "date\n",
       "2023-05-02    0.297181\n",
       "2023-05-03    0.261481\n",
       "2023-05-04    0.262665\n",
       "2023-05-08    0.319597\n",
       "2023-05-09    0.359917\n",
       "                ...   \n",
       "2024-06-25    0.256182\n",
       "2024-06-26    0.178506\n",
       "2024-06-27    0.180017\n",
       "2024-07-01    0.145797\n",
       "2024-07-02    0.286338\n",
       "Length: 229, dtype: float64"
      ]
     },
     "execution_count": 732,
     "metadata": {},
     "output_type": "execute_result"
    }
   ],
   "source": [
    "(df_goog_atm_vol_history.atm_call_vol + df_goog_atm_vol_history.atm_put_vol) / 2"
   ]
  },
  {
   "cell_type": "code",
   "execution_count": null,
   "id": "847413fa-ee89-4e33-aa76-732750d16451",
   "metadata": {},
   "outputs": [],
   "source": []
  },
  {
   "cell_type": "markdown",
   "id": "ce424b7e-dbd4-49bb-950d-51a259ae8d93",
   "metadata": {
    "jp-MarkdownHeadingCollapsed": true
   },
   "source": [
    "## debug"
   ]
  },
  {
   "cell_type": "code",
   "execution_count": 328,
   "id": "4e30ae03-51b5-4d3c-adc1-b362d761ce9b",
   "metadata": {},
   "outputs": [],
   "source": [
    "ticker = \"GOOG\"\n",
    "date = \"2024-06-11\"\n",
    "quote_timestamp = (pd.to_datetime(date).tz_localize(\"America/New_York\") + timedelta(hours = 15, minutes = 55)).value\n",
    "close_timestamp = (pd.to_datetime(date).tz_localize(\"America/New_York\") + timedelta(hours = 16, minutes = 0)).value"
   ]
  },
  {
   "cell_type": "code",
   "execution_count": 347,
   "id": "f905d9f1-1085-47e9-86df-cb6394e0bf3d",
   "metadata": {},
   "outputs": [],
   "source": [
    "price = df_goog_market_open_history.loc[date].c"
   ]
  },
  {
   "cell_type": "code",
   "execution_count": 423,
   "id": "e5b206db-656c-43e0-ba35-4f7bc732eaed",
   "metadata": {},
   "outputs": [],
   "source": [
    "calls = pd.json_normalize(requests.get(f\"https://api.polygon.io/v3/reference/options/contracts?underlying_ticker={ticker}&contract_type=call&as_of={date}&limit=1000&apiKey={polygon_api_key}\").json()[\"results\"])"
   ]
  },
  {
   "cell_type": "code",
   "execution_count": 424,
   "id": "8e440365-6212-483f-9b66-646ca21e017a",
   "metadata": {},
   "outputs": [],
   "source": [
    "calls[\"days_to_exp\"] = (pd.to_datetime(calls[\"expiration_date\"]) - pd.to_datetime(date)).dt.days\n",
    "#calls = calls[calls[\"days_to_exp\"] >= 5].copy()\n",
    "nearest_exp_date = calls[\"expiration_date\"].iloc[0]\n",
    "calls = calls[calls[\"expiration_date\"] == nearest_exp_date].copy()"
   ]
  },
  {
   "cell_type": "code",
   "execution_count": 425,
   "id": "e25e69af-e130-402f-9fb6-e6a75d9b788e",
   "metadata": {},
   "outputs": [
    {
     "data": {
      "text/plain": [
       "'2024-06-14'"
      ]
     },
     "execution_count": 425,
     "metadata": {},
     "output_type": "execute_result"
    }
   ],
   "source": [
    "nearest_exp_date"
   ]
  },
  {
   "cell_type": "code",
   "execution_count": 426,
   "id": "1d004cd0-3883-41ef-b8b5-65d29edda597",
   "metadata": {},
   "outputs": [],
   "source": [
    "calls[\"distance_from_price\"] = abs(round(((calls[\"strike_price\"] - price) / price)*100, 2))"
   ]
  },
  {
   "cell_type": "code",
   "execution_count": 444,
   "id": "7af8cccf-0ce6-4dba-b921-75226e4d18ed",
   "metadata": {},
   "outputs": [
    {
     "data": {
      "text/html": [
       "<div>\n",
       "<style scoped>\n",
       "    .dataframe tbody tr th:only-of-type {\n",
       "        vertical-align: middle;\n",
       "    }\n",
       "\n",
       "    .dataframe tbody tr th {\n",
       "        vertical-align: top;\n",
       "    }\n",
       "\n",
       "    .dataframe thead th {\n",
       "        text-align: right;\n",
       "    }\n",
       "</style>\n",
       "<table border=\"1\" class=\"dataframe\">\n",
       "  <thead>\n",
       "    <tr style=\"text-align: right;\">\n",
       "      <th></th>\n",
       "      <th>cfi</th>\n",
       "      <th>contract_type</th>\n",
       "      <th>exercise_style</th>\n",
       "      <th>expiration_date</th>\n",
       "      <th>primary_exchange</th>\n",
       "      <th>shares_per_contract</th>\n",
       "      <th>strike_price</th>\n",
       "      <th>ticker</th>\n",
       "      <th>underlying_ticker</th>\n",
       "      <th>days_to_exp</th>\n",
       "      <th>distance_from_price</th>\n",
       "    </tr>\n",
       "  </thead>\n",
       "  <tbody>\n",
       "    <tr>\n",
       "      <th>0</th>\n",
       "      <td>OCASPS</td>\n",
       "      <td>call</td>\n",
       "      <td>american</td>\n",
       "      <td>2024-06-14</td>\n",
       "      <td>BATO</td>\n",
       "      <td>100</td>\n",
       "      <td>85.0</td>\n",
       "      <td>O:GOOG240614C00085000</td>\n",
       "      <td>GOOG</td>\n",
       "      <td>3</td>\n",
       "      <td>52.15</td>\n",
       "    </tr>\n",
       "    <tr>\n",
       "      <th>1</th>\n",
       "      <td>OCASPS</td>\n",
       "      <td>call</td>\n",
       "      <td>american</td>\n",
       "      <td>2024-06-14</td>\n",
       "      <td>BATO</td>\n",
       "      <td>100</td>\n",
       "      <td>90.0</td>\n",
       "      <td>O:GOOG240614C00090000</td>\n",
       "      <td>GOOG</td>\n",
       "      <td>3</td>\n",
       "      <td>49.34</td>\n",
       "    </tr>\n",
       "    <tr>\n",
       "      <th>2</th>\n",
       "      <td>OCASPS</td>\n",
       "      <td>call</td>\n",
       "      <td>american</td>\n",
       "      <td>2024-06-14</td>\n",
       "      <td>BATO</td>\n",
       "      <td>100</td>\n",
       "      <td>95.0</td>\n",
       "      <td>O:GOOG240614C00095000</td>\n",
       "      <td>GOOG</td>\n",
       "      <td>3</td>\n",
       "      <td>46.52</td>\n",
       "    </tr>\n",
       "    <tr>\n",
       "      <th>3</th>\n",
       "      <td>OCASPS</td>\n",
       "      <td>call</td>\n",
       "      <td>american</td>\n",
       "      <td>2024-06-14</td>\n",
       "      <td>BATO</td>\n",
       "      <td>100</td>\n",
       "      <td>100.0</td>\n",
       "      <td>O:GOOG240614C00100000</td>\n",
       "      <td>GOOG</td>\n",
       "      <td>3</td>\n",
       "      <td>43.71</td>\n",
       "    </tr>\n",
       "    <tr>\n",
       "      <th>4</th>\n",
       "      <td>OCASPS</td>\n",
       "      <td>call</td>\n",
       "      <td>american</td>\n",
       "      <td>2024-06-14</td>\n",
       "      <td>BATO</td>\n",
       "      <td>100</td>\n",
       "      <td>105.0</td>\n",
       "      <td>O:GOOG240614C00105000</td>\n",
       "      <td>GOOG</td>\n",
       "      <td>3</td>\n",
       "      <td>40.89</td>\n",
       "    </tr>\n",
       "  </tbody>\n",
       "</table>\n",
       "</div>"
      ],
      "text/plain": [
       "      cfi contract_type exercise_style expiration_date primary_exchange  \\\n",
       "0  OCASPS          call       american      2024-06-14             BATO   \n",
       "1  OCASPS          call       american      2024-06-14             BATO   \n",
       "2  OCASPS          call       american      2024-06-14             BATO   \n",
       "3  OCASPS          call       american      2024-06-14             BATO   \n",
       "4  OCASPS          call       american      2024-06-14             BATO   \n",
       "\n",
       "   shares_per_contract  strike_price                 ticker underlying_ticker  \\\n",
       "0                  100          85.0  O:GOOG240614C00085000              GOOG   \n",
       "1                  100          90.0  O:GOOG240614C00090000              GOOG   \n",
       "2                  100          95.0  O:GOOG240614C00095000              GOOG   \n",
       "3                  100         100.0  O:GOOG240614C00100000              GOOG   \n",
       "4                  100         105.0  O:GOOG240614C00105000              GOOG   \n",
       "\n",
       "   days_to_exp  distance_from_price  \n",
       "0            3                52.15  \n",
       "1            3                49.34  \n",
       "2            3                46.52  \n",
       "3            3                43.71  \n",
       "4            3                40.89  "
      ]
     },
     "execution_count": 444,
     "metadata": {},
     "output_type": "execute_result"
    }
   ],
   "source": [
    "calls.head()"
   ]
  },
  {
   "cell_type": "code",
   "execution_count": 428,
   "id": "84f1375d-8704-41c3-a5e1-1f55f5947e45",
   "metadata": {},
   "outputs": [],
   "source": [
    "atm_call = calls.nsmallest(1, \"distance_from_price\")"
   ]
  },
  {
   "cell_type": "code",
   "execution_count": 429,
   "id": "d729c0fc-f1d2-4b53-83ff-35976be69c86",
   "metadata": {},
   "outputs": [
    {
     "data": {
      "text/html": [
       "<div>\n",
       "<style scoped>\n",
       "    .dataframe tbody tr th:only-of-type {\n",
       "        vertical-align: middle;\n",
       "    }\n",
       "\n",
       "    .dataframe tbody tr th {\n",
       "        vertical-align: top;\n",
       "    }\n",
       "\n",
       "    .dataframe thead th {\n",
       "        text-align: right;\n",
       "    }\n",
       "</style>\n",
       "<table border=\"1\" class=\"dataframe\">\n",
       "  <thead>\n",
       "    <tr style=\"text-align: right;\">\n",
       "      <th></th>\n",
       "      <th>cfi</th>\n",
       "      <th>contract_type</th>\n",
       "      <th>exercise_style</th>\n",
       "      <th>expiration_date</th>\n",
       "      <th>primary_exchange</th>\n",
       "      <th>shares_per_contract</th>\n",
       "      <th>strike_price</th>\n",
       "      <th>ticker</th>\n",
       "      <th>underlying_ticker</th>\n",
       "      <th>days_to_exp</th>\n",
       "      <th>distance_from_price</th>\n",
       "    </tr>\n",
       "  </thead>\n",
       "  <tbody>\n",
       "    <tr>\n",
       "      <th>27</th>\n",
       "      <td>OCASPS</td>\n",
       "      <td>call</td>\n",
       "      <td>american</td>\n",
       "      <td>2024-06-14</td>\n",
       "      <td>BATO</td>\n",
       "      <td>100</td>\n",
       "      <td>177.5</td>\n",
       "      <td>O:GOOG240614C00177500</td>\n",
       "      <td>GOOG</td>\n",
       "      <td>3</td>\n",
       "      <td>0.08</td>\n",
       "    </tr>\n",
       "  </tbody>\n",
       "</table>\n",
       "</div>"
      ],
      "text/plain": [
       "       cfi contract_type exercise_style expiration_date primary_exchange  \\\n",
       "27  OCASPS          call       american      2024-06-14             BATO   \n",
       "\n",
       "    shares_per_contract  strike_price                 ticker  \\\n",
       "27                  100         177.5  O:GOOG240614C00177500   \n",
       "\n",
       "   underlying_ticker  days_to_exp  distance_from_price  \n",
       "27              GOOG            3                 0.08  "
      ]
     },
     "execution_count": 429,
     "metadata": {},
     "output_type": "execute_result"
    }
   ],
   "source": [
    "atm_call"
   ]
  },
  {
   "cell_type": "code",
   "execution_count": 430,
   "id": "d83f8ccf-1930-4740-98ca-e52287161e48",
   "metadata": {},
   "outputs": [],
   "source": [
    "call_quotes = pd.json_normalize(requests.get(f\"https://api.polygon.io/v3/quotes/{atm_call['ticker'].iloc[0]}?timestamp.gte={quote_timestamp}&timestamp.lt={close_timestamp}&order=desc&limit=100&sort=timestamp&apiKey={polygon_api_key}\").json()[\"results\"]).set_index(\"sip_timestamp\")\n",
    "call_quotes.index = pd.to_datetime(call_quotes.index, unit = \"ns\", utc = True).tz_convert(\"America/New_York\")\n",
    "call_quotes[\"mid_price\"] = round((call_quotes[\"bid_price\"] + call_quotes[\"ask_price\"]) / 2, 2)"
   ]
  },
  {
   "cell_type": "code",
   "execution_count": 432,
   "id": "3af0809b-5578-4729-8d51-3e4a0684beaf",
   "metadata": {},
   "outputs": [],
   "source": [
    "time_to_expiration = atm_call.days_to_exp.values[0] / 252"
   ]
  },
  {
   "cell_type": "code",
   "execution_count": 433,
   "id": "233a8189-54b6-4276-9bfe-0d16f7192c44",
   "metadata": {},
   "outputs": [],
   "source": [
    "atm_call_vol = call_implied_vol(S=price, K=atm_call[\"strike_price\"].iloc[0], t=time_to_expiration, r=.045, option_price=call_quotes[\"mid_price\"].iloc[0])"
   ]
  },
  {
   "cell_type": "code",
   "execution_count": 434,
   "id": "f848cb71-fc46-4aee-a520-0d1af710dbd9",
   "metadata": {},
   "outputs": [
    {
     "data": {
      "text/plain": [
       "0.240868986287512"
      ]
     },
     "execution_count": 434,
     "metadata": {},
     "output_type": "execute_result"
    }
   ],
   "source": [
    "atm_call_vol"
   ]
  },
  {
   "cell_type": "code",
   "execution_count": null,
   "id": "fdd54e00-93ba-4923-a7e6-b25b0b7b9a35",
   "metadata": {},
   "outputs": [],
   "source": []
  },
  {
   "cell_type": "code",
   "execution_count": null,
   "id": "1bec91ed-e4c8-4481-b55f-373995ae25d4",
   "metadata": {},
   "outputs": [],
   "source": []
  },
  {
   "cell_type": "code",
   "execution_count": null,
   "id": "bb109466-7579-4a66-94fc-fa219f0e22db",
   "metadata": {},
   "outputs": [],
   "source": [
    "puts = pd.json_normalize(requests.get(f\"https://api.polygon.io/v3/reference/options/contracts?underlying_ticker={ticker}&contract_type=put&as_of={date}&limit=1000&apiKey={polygon_api_key}\").json()[\"results\"])\n",
    "puts[\"days_to_exp\"] = (pd.to_datetime(puts[\"expiration_date\"]) - pd.to_datetime(date)).dt.days\n",
    "puts = puts[puts[\"expiration_date\"] == nearest_exp_date].copy()\n",
    "puts[\"distance_from_price\"] = abs(round(((price - puts[\"strike_price\"]) / puts[\"strike_price\"])*100, 2))\n",
    "atm_put = puts.nsmallest(1, \"distance_from_price\")"
   ]
  },
  {
   "cell_type": "code",
   "execution_count": null,
   "id": "bdee9c5a-286f-44c0-93c9-11614fc3eb3c",
   "metadata": {},
   "outputs": [],
   "source": []
  },
  {
   "cell_type": "code",
   "execution_count": null,
   "id": "47473ff0-d430-4a3b-a3d0-38364c6121eb",
   "metadata": {},
   "outputs": [],
   "source": []
  },
  {
   "cell_type": "code",
   "execution_count": null,
   "id": "636bc768-8c7d-4a2c-a937-45acd8f90a69",
   "metadata": {},
   "outputs": [],
   "source": []
  },
  {
   "cell_type": "code",
   "execution_count": 435,
   "id": "ca0ebeb2-567a-4498-948f-d08cbb5384f2",
   "metadata": {},
   "outputs": [],
   "source": [
    "puts = pd.json_normalize(requests.get(f\"https://api.polygon.io/v3/reference/options/contracts?underlying_ticker={ticker}&contract_type=put&as_of={date}&limit=1000&apiKey={polygon_api_key}\").json()[\"results\"])"
   ]
  },
  {
   "cell_type": "code",
   "execution_count": 436,
   "id": "4a52c889-9f95-4b07-ba9e-0ddceba03ddf",
   "metadata": {},
   "outputs": [],
   "source": [
    "puts[\"days_to_exp\"] = (pd.to_datetime(puts[\"expiration_date\"]) - pd.to_datetime(date)).dt.days\n",
    "puts = puts[puts[\"expiration_date\"] == nearest_exp_date].copy()"
   ]
  },
  {
   "cell_type": "code",
   "execution_count": 437,
   "id": "a5e5f728-f421-4450-aef7-7c4448fd852a",
   "metadata": {},
   "outputs": [],
   "source": [
    "puts[\"distance_from_price\"] = abs(round(((price - puts[\"strike_price\"]) / puts[\"strike_price\"])*100, 2))"
   ]
  },
  {
   "cell_type": "code",
   "execution_count": 438,
   "id": "55113aab-1174-41a7-9a5b-3432f3f85980",
   "metadata": {},
   "outputs": [],
   "source": [
    "atm_put = puts.nsmallest(1, \"distance_from_price\")"
   ]
  },
  {
   "cell_type": "code",
   "execution_count": 439,
   "id": "4884f088-84e1-494c-85bf-d8c32edb5064",
   "metadata": {},
   "outputs": [
    {
     "data": {
      "text/html": [
       "<div>\n",
       "<style scoped>\n",
       "    .dataframe tbody tr th:only-of-type {\n",
       "        vertical-align: middle;\n",
       "    }\n",
       "\n",
       "    .dataframe tbody tr th {\n",
       "        vertical-align: top;\n",
       "    }\n",
       "\n",
       "    .dataframe thead th {\n",
       "        text-align: right;\n",
       "    }\n",
       "</style>\n",
       "<table border=\"1\" class=\"dataframe\">\n",
       "  <thead>\n",
       "    <tr style=\"text-align: right;\">\n",
       "      <th></th>\n",
       "      <th>cfi</th>\n",
       "      <th>contract_type</th>\n",
       "      <th>exercise_style</th>\n",
       "      <th>expiration_date</th>\n",
       "      <th>primary_exchange</th>\n",
       "      <th>shares_per_contract</th>\n",
       "      <th>strike_price</th>\n",
       "      <th>ticker</th>\n",
       "      <th>underlying_ticker</th>\n",
       "      <th>days_to_exp</th>\n",
       "      <th>distance_from_price</th>\n",
       "    </tr>\n",
       "  </thead>\n",
       "  <tbody>\n",
       "    <tr>\n",
       "      <th>27</th>\n",
       "      <td>OPASPS</td>\n",
       "      <td>put</td>\n",
       "      <td>american</td>\n",
       "      <td>2024-06-14</td>\n",
       "      <td>BATO</td>\n",
       "      <td>100</td>\n",
       "      <td>177.5</td>\n",
       "      <td>O:GOOG240614P00177500</td>\n",
       "      <td>GOOG</td>\n",
       "      <td>3</td>\n",
       "      <td>0.08</td>\n",
       "    </tr>\n",
       "  </tbody>\n",
       "</table>\n",
       "</div>"
      ],
      "text/plain": [
       "       cfi contract_type exercise_style expiration_date primary_exchange  \\\n",
       "27  OPASPS           put       american      2024-06-14             BATO   \n",
       "\n",
       "    shares_per_contract  strike_price                 ticker  \\\n",
       "27                  100         177.5  O:GOOG240614P00177500   \n",
       "\n",
       "   underlying_ticker  days_to_exp  distance_from_price  \n",
       "27              GOOG            3                 0.08  "
      ]
     },
     "execution_count": 439,
     "metadata": {},
     "output_type": "execute_result"
    }
   ],
   "source": [
    "atm_put"
   ]
  },
  {
   "cell_type": "code",
   "execution_count": 440,
   "id": "63eed408-038a-4064-a9f1-8b5bc0e4cc56",
   "metadata": {},
   "outputs": [],
   "source": [
    "put_quotes = pd.json_normalize(requests.get(f\"https://api.polygon.io/v3/quotes/{atm_put['ticker'].iloc[0]}?timestamp.gte={quote_timestamp}&timestamp.lt={close_timestamp}&order=desc&limit=100&sort=timestamp&apiKey={polygon_api_key}\").json()[\"results\"]).set_index(\"sip_timestamp\")\n",
    "put_quotes.index = pd.to_datetime(put_quotes.index, unit = \"ns\", utc = True).tz_convert(\"America/New_York\")\n",
    "put_quotes[\"mid_price\"] = round((put_quotes[\"bid_price\"] + put_quotes[\"ask_price\"]) / 2, 2)"
   ]
  },
  {
   "cell_type": "code",
   "execution_count": 441,
   "id": "4f8eb66d-bd35-4444-a5f5-d53593200419",
   "metadata": {},
   "outputs": [],
   "source": [
    "atm_put_vol = put_implied_vol(S=price, K=atm_put[\"strike_price\"].iloc[0], t=time_to_expiration, r=.045, option_price=put_quotes[\"mid_price\"].iloc[0])"
   ]
  },
  {
   "cell_type": "code",
   "execution_count": 442,
   "id": "591f11f3-ca34-431c-ba73-66000dcf272f",
   "metadata": {},
   "outputs": [
    {
     "data": {
      "text/plain": [
       "0.1921287338318709"
      ]
     },
     "execution_count": 442,
     "metadata": {},
     "output_type": "execute_result"
    }
   ],
   "source": [
    "atm_put_vol"
   ]
  },
  {
   "cell_type": "code",
   "execution_count": null,
   "id": "49c29a0e-2c2f-4b1a-92c3-c7afb0082b20",
   "metadata": {},
   "outputs": [],
   "source": []
  },
  {
   "cell_type": "code",
   "execution_count": 443,
   "id": "48261b07-03e9-4e91-9592-0e652b96120b",
   "metadata": {},
   "outputs": [],
   "source": [
    "atm_vol = round(((atm_call_vol + atm_put_vol) / 2)*100, 2)\n",
    "expected_move = (round((atm_vol / np.sqrt(252)), 2))"
   ]
  },
  {
   "cell_type": "code",
   "execution_count": null,
   "id": "b654e528-a498-4374-9e5b-f7e7dd7287fb",
   "metadata": {},
   "outputs": [],
   "source": []
  },
  {
   "cell_type": "code",
   "execution_count": null,
   "id": "9ef04eca-7e92-486f-acd1-6e9e6ae87524",
   "metadata": {},
   "outputs": [],
   "source": []
  },
  {
   "cell_type": "code",
   "execution_count": null,
   "id": "1ceed7bc-c7b3-47b9-8d90-93f5fc4f5811",
   "metadata": {},
   "outputs": [],
   "source": []
  },
  {
   "cell_type": "code",
   "execution_count": null,
   "id": "b99f45d0-01d9-4036-8a1d-bf9943687104",
   "metadata": {},
   "outputs": [],
   "source": [
    "\n",
    "end_time = datetime.now()\n",
    "seconds_to_complete = (end_time - start_time).total_seconds()\n",
    "times.append(seconds_to_complete)\n",
    "iteration = round((np.where(trading_dates==date)[0][0]/len(trading_dates))*100,2)\n",
    "iterations_remaining = len(trading_dates) - np.where(trading_dates==date)[0][0]\n",
    "average_time_to_complete = np.mean(times)\n",
    "estimated_completion_time = (datetime.now() + timedelta(seconds = int(average_time_to_complete*iterations_remaining)))\n",
    "time_remaining = estimated_completion_time - datetime.now()\n",
    "print(f\"{iteration}% complete, {time_remaining} left, ETA: {estimated_completion_time}\")\n"
   ]
  },
  {
   "cell_type": "code",
   "execution_count": null,
   "id": "6af53915-7661-41e0-b93e-0e8632f7caa6",
   "metadata": {},
   "outputs": [],
   "source": []
  }
 ],
 "metadata": {
  "kernelspec": {
   "display_name": "Python 3 (ipykernel)",
   "language": "python",
   "name": "python3"
  },
  "language_info": {
   "codemirror_mode": {
    "name": "ipython",
    "version": 3
   },
   "file_extension": ".py",
   "mimetype": "text/x-python",
   "name": "python",
   "nbconvert_exporter": "python",
   "pygments_lexer": "ipython3",
   "version": "3.9.6"
  }
 },
 "nbformat": 4,
 "nbformat_minor": 5
}
