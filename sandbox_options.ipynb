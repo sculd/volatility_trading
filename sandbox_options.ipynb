{
 "cells": [
  {
   "cell_type": "markdown",
   "id": "4f5f6f05-6e44-4e2c-9085-f54bc6627c7b",
   "metadata": {
    "jp-MarkdownHeadingCollapsed": true,
    "tags": []
   },
   "source": [
    "## imports"
   ]
  },
  {
   "cell_type": "code",
   "execution_count": 59,
   "id": "5d69bd9e-5d73-4d07-af54-ac04cad5649e",
   "metadata": {},
   "outputs": [],
   "source": [
    "import requests\n",
    "import pandas as pd\n",
    "import numpy as np\n",
    "import mysql.connector\n",
    "import os\n",
    "\n",
    "import sqlalchemy\n",
    "import matplotlib.pyplot as plt\n",
    "\n",
    "from datetime import datetime, timedelta\n",
    "from pandas_market_calendars import get_calendar"
   ]
  },
  {
   "cell_type": "code",
   "execution_count": 60,
   "id": "398603e7-ad0b-4219-8442-0f3c4e1f3ab4",
   "metadata": {},
   "outputs": [],
   "source": [
    "import urllib.parse as urlparse\n",
    "from urllib.parse import urlencode"
   ]
  },
  {
   "cell_type": "code",
   "execution_count": 61,
   "id": "f2f09bae-5622-4903-8823-1a79744b42cc",
   "metadata": {},
   "outputs": [],
   "source": [
    "polygon_api_key = os.getenv(\"QUANT_GALORE_POLYGON_API_KEY\")\n",
    "_POLYGON_V2_BASE_URL = \"https://api.polygon.io/v2\"\n",
    "_POLYGON_V3_BASE_URL = \"https://api.polygon.io/v3\""
   ]
  },
  {
   "cell_type": "code",
   "execution_count": 64,
   "id": "cdce5599-e5c5-465d-a6f2-1a4ff135b77e",
   "metadata": {},
   "outputs": [
    {
     "name": "stderr",
     "output_type": "stream",
     "text": [
      "/var/folders/hh/x43xkncs2k7dm7t4vg3lt2cm0000gn/T/ipykernel_96764/1965267071.py:2: FutureWarning: DatetimeIndex.union_many is deprecated and will be removed in a future version. Use obj.union instead.\n",
      "  trading_dates = calendar.schedule(\n",
      "/var/folders/hh/x43xkncs2k7dm7t4vg3lt2cm0000gn/T/ipykernel_96764/1965267071.py:2: FutureWarning: DatetimeIndex.union_many is deprecated and will be removed in a future version. Use obj.union instead.\n",
      "  trading_dates = calendar.schedule(\n",
      "/var/folders/hh/x43xkncs2k7dm7t4vg3lt2cm0000gn/T/ipykernel_96764/1965267071.py:2: FutureWarning: DatetimeIndex.union_many is deprecated and will be removed in a future version. Use obj.union instead.\n",
      "  trading_dates = calendar.schedule(\n"
     ]
    }
   ],
   "source": [
    "calendar = get_calendar(\"NYSE\")\n",
    "trading_dates = calendar.schedule(\n",
    "    start_date = \"2023-05-01\", \n",
    "    end_date = \"2024-07-02\"\n",
    "    #end_date = (datetime.today()-timedelta(days = 1))\n",
    ").index.strftime(\"%Y-%m-%d\").values"
   ]
  },
  {
   "cell_type": "code",
   "execution_count": null,
   "id": "ca4d5840-726a-49b6-ac10-ca6ea49b3078",
   "metadata": {},
   "outputs": [],
   "source": []
  },
  {
   "cell_type": "code",
   "execution_count": 398,
   "id": "6f8815d6-fcfd-402a-b8e8-3c72216ce5bb",
   "metadata": {},
   "outputs": [],
   "source": [
    "def add_params_to_url(url, params):\n",
    "    url_parts = list(urlparse.urlparse(url))\n",
    "    query = dict(urlparse.parse_qsl(url_parts[4]))\n",
    "    query.update(params)\n",
    "    url_parts[4] = urlencode(query)\n",
    "    return urlparse.urlunparse(url_parts)\n",
    "\n",
    "def add_default_ticker_params_to_polygon_url(url, additional_params = None):\n",
    "    params = {\n",
    "        'adjusted': 'true',\n",
    "        'sort': 'asc',\n",
    "        'limit': '50000',\n",
    "        'apiKey': polygon_api_key,\n",
    "    }\n",
    "    if additional_params is not None:\n",
    "        params.update(additional_params)\n",
    "    return add_params_to_url(url, params)\n",
    "\n",
    "def add_default_options_params_to_polygon_url(url, additional_params = None):\n",
    "    params = {\n",
    "        'limit': '1000',\n",
    "        'apiKey': polygon_api_key,\n",
    "    }\n",
    "    if additional_params is not None:\n",
    "        params.update(additional_params)\n",
    "    return add_params_to_url(url, params)\n",
    "\n",
    "def get_polygon_range_query_url(ticker, date_str_begin, date_str_end):\n",
    "    return add_default_ticker_params_to_polygon_url(f\"{_POLYGON_V2_BASE_URL}/aggs/ticker/{ticker}/range/1/day/{date_str_begin}/{date_str_end}\")\n",
    "\n",
    "def get_polygon_intraday_query_url(ticker, date_str):\n",
    "    return add_default_ticker_params_to_polygon_url(f\"{_POLYGON_V2_BASE_URL}/aggs/ticker/{ticker}/range/1/minute/{date_str}/{date_str}\")\n",
    "\n",
    "def get_polygon_options_contracts_query_url(underlying_ticker, option_type, date_str, exp_date_str):\n",
    "    params = {\n",
    "        \"underlying_ticker\": underlying_ticker,\n",
    "        \"contract_type\": option_type,\n",
    "        \"as_of\": date_str,\n",
    "    }\n",
    "    if exp_date_str is not None:\n",
    "        params[\"expiration_date\"] = exp_date_str\n",
    "\n",
    "    return add_default_options_params_to_polygon_url(f\"{_POLYGON_V3_BASE_URL}/reference/options/contracts\", additional_params = params)\n",
    "\n",
    "def get_polygon_result_dict(url):\n",
    "    js = requests.get(url).json()\n",
    "    if \"results\" not in js:\n",
    "        return {}\n",
    "    return js[\"results\"]\n",
    "\n",
    "def polygon_result_to_dataframe(result):\n",
    "    df = pd.json_normalize(result)\n",
    "    if df.empty:\n",
    "        return df\n",
    "    if \"t\" in df.columns:\n",
    "        df = df.set_index(\"t\")\n",
    "        df.index = pd.to_datetime(df.index, unit=\"ms\", utc=True).tz_convert(\"America/New_York\")\n",
    "        #df['date'] = df.index.strftime('%Y-%m-%d')\n",
    "    return df\n",
    "\n",
    "def polygon_url_to_dataframe(url):\n",
    "    return polygon_result_to_dataframe(get_polygon_result_dict(url))    "
   ]
  },
  {
   "cell_type": "code",
   "execution_count": null,
   "id": "95220844-83ca-4572-ba35-f141cc414017",
   "metadata": {},
   "outputs": [],
   "source": []
  },
  {
   "cell_type": "code",
   "execution_count": null,
   "id": "3e9bd9dd-a0ea-4702-bb2b-50fb8ed6a379",
   "metadata": {},
   "outputs": [],
   "source": []
  },
  {
   "cell_type": "code",
   "execution_count": 66,
   "id": "f9b88c11-767f-48d5-92a4-d354cc41093a",
   "metadata": {},
   "outputs": [],
   "source": [
    "ticker_spy = \"SPY\"\n",
    "ticker_spx = \"I:SPX\"\n",
    "ticker_goog = \"GOOG\"\n",
    "ticker_sbux = \"SBUX\"\n",
    "ticker_vix1d = \"I:VIX1D\"\n",
    "options_ticker = \"SPX\"\n",
    "\n",
    "i = 2\n",
    "date = trading_dates[i]\n",
    "prior_day = trading_dates[i-1]\n",
    "\n",
    "trade_list = []\n",
    "times = []"
   ]
  },
  {
   "cell_type": "code",
   "execution_count": null,
   "id": "2ae10fbc-864c-4eb5-b8bd-c8135d2a091e",
   "metadata": {},
   "outputs": [],
   "source": []
  },
  {
   "cell_type": "code",
   "execution_count": null,
   "id": "81b7590e-70b0-4229-9185-08dd1ece29d2",
   "metadata": {},
   "outputs": [],
   "source": []
  },
  {
   "cell_type": "markdown",
   "id": "24f2f54f-ee5e-473c-a478-6bd1d7f85074",
   "metadata": {
    "jp-MarkdownHeadingCollapsed": true,
    "tags": []
   },
   "source": [
    "## cache history daily data"
   ]
  },
  {
   "cell_type": "markdown",
   "id": "56281cea-b32f-4724-b1c6-f5a627c48b88",
   "metadata": {},
   "source": [
    "### spy"
   ]
  },
  {
   "cell_type": "code",
   "execution_count": null,
   "id": "282be505-3036-4eda-8aab-cf47445d231e",
   "metadata": {},
   "outputs": [],
   "source": [
    "df_spy_daily_history = polygon_result_to_dataframe(get_polygon_result_dict(\n",
    "    get_polygon_range_query_url(ticker_spy, \"2020-01-01\", trading_dates[-1])))\n",
    "df_spy_daily_history.index = df_spy_daily_history.index.strftime(\"%Y-%m-%d\")"
   ]
  },
  {
   "cell_type": "code",
   "execution_count": null,
   "id": "194303f6-3283-4982-9441-ef0a0195a077",
   "metadata": {},
   "outputs": [],
   "source": [
    "df_spy_daily_history.to_pickle('market_data/df_spy_daily_history.pkl')"
   ]
  },
  {
   "cell_type": "code",
   "execution_count": null,
   "id": "f771e834-95d5-4fe1-a34e-f5f6038f0295",
   "metadata": {},
   "outputs": [],
   "source": []
  },
  {
   "cell_type": "markdown",
   "id": "7250d2fe-7936-4561-97ef-206039741838",
   "metadata": {},
   "source": [
    "### individual tickers"
   ]
  },
  {
   "cell_type": "code",
   "execution_count": 349,
   "id": "09d7d850-3a90-486c-9305-5e6395357d4b",
   "metadata": {},
   "outputs": [],
   "source": [
    "df_spx_daily_history = polygon_result_to_dataframe(get_polygon_result_dict(\n",
    "    get_polygon_range_query_url(ticker_spx, \"2020-01-01\", trading_dates[-1])))\n",
    "df_spx_daily_history.index = df_spx_daily_history.index.strftime(\"%Y-%m-%d\")"
   ]
  },
  {
   "cell_type": "code",
   "execution_count": 350,
   "id": "1c0fc3c8-be45-4f19-b685-385131b510c5",
   "metadata": {},
   "outputs": [],
   "source": [
    "df_spx_daily_history.to_pickle('market_data/df_spx_daily_history.pkl')"
   ]
  },
  {
   "cell_type": "code",
   "execution_count": null,
   "id": "0bd10eb9-023e-4004-bb9f-2b4a61c9dc3c",
   "metadata": {},
   "outputs": [],
   "source": []
  },
  {
   "cell_type": "code",
   "execution_count": 68,
   "id": "e040dde4-8cd9-421a-a1a3-bcd088f3c455",
   "metadata": {},
   "outputs": [],
   "source": [
    "df_goog_daily_history = polygon_result_to_dataframe(get_polygon_result_dict(\n",
    "    get_polygon_range_query_url(ticker_goog, \"2020-01-01\", trading_dates[-1])))\n",
    "df_goog_daily_history.index = df_goog_daily_history.index.strftime(\"%Y-%m-%d\")"
   ]
  },
  {
   "cell_type": "code",
   "execution_count": 69,
   "id": "407c0261-cd3c-45e1-9713-6dad1b76e347",
   "metadata": {},
   "outputs": [],
   "source": [
    "df_goog_daily_history.to_pickle('market_data/df_goog_daily_history.pkl')"
   ]
  },
  {
   "cell_type": "code",
   "execution_count": null,
   "id": "c710a819-3d4b-46b5-bb65-775c0342b7f3",
   "metadata": {},
   "outputs": [],
   "source": []
  },
  {
   "cell_type": "code",
   "execution_count": 70,
   "id": "31689349-6521-41cb-a68a-0ace9ff89001",
   "metadata": {},
   "outputs": [],
   "source": [
    "df_sbux_daily_history = polygon_result_to_dataframe(get_polygon_result_dict(\n",
    "    get_polygon_range_query_url(ticker_sbux, \"2020-01-01\", trading_dates[-1])))\n",
    "df_sbux_daily_history.index = df_sbux_daily_history.index.strftime(\"%Y-%m-%d\")"
   ]
  },
  {
   "cell_type": "code",
   "execution_count": 71,
   "id": "bc10ef25-cd03-4091-b71d-ec05734ee0e9",
   "metadata": {},
   "outputs": [],
   "source": [
    "df_sbux_daily_history.to_pickle('market_data/df_sbux_daily_history.pkl')"
   ]
  },
  {
   "cell_type": "code",
   "execution_count": null,
   "id": "9bc5a5ac-cd4b-4c0a-9c97-80a97db89e9a",
   "metadata": {},
   "outputs": [],
   "source": []
  },
  {
   "cell_type": "markdown",
   "id": "ccaa1616-6948-4f05-bb13-e4661cc8c1a6",
   "metadata": {
    "jp-MarkdownHeadingCollapsed": true,
    "tags": []
   },
   "source": [
    "## cache history intraday data"
   ]
  },
  {
   "cell_type": "code",
   "execution_count": 74,
   "id": "916c48d1-00a6-4b8f-a20b-6f2872964b00",
   "metadata": {},
   "outputs": [],
   "source": [
    "def get_df_intrady_history(ticker):\n",
    "    dfs = []\n",
    "    for date in trading_dates[1:]:\n",
    "        df_intraday = polygon_result_to_dataframe(get_polygon_result_dict(\n",
    "            get_polygon_intraday_query_url(ticker, date)))\n",
    "        dfs.append(df_intraday.reset_index())\n",
    "    df = pd.concat(dfs, ignore_index=True).set_index(\"t\")\n",
    "    return df"
   ]
  },
  {
   "cell_type": "code",
   "execution_count": null,
   "id": "c3993764-03b0-429f-91ea-94441af9aa0b",
   "metadata": {},
   "outputs": [],
   "source": []
  },
  {
   "cell_type": "markdown",
   "id": "e4555b5f-e735-4a60-aa78-abd30823e5cb",
   "metadata": {
    "tags": []
   },
   "source": [
    "### spy"
   ]
  },
  {
   "cell_type": "code",
   "execution_count": null,
   "id": "e6cbb61b-5846-4a92-b987-dae4f4f61d4c",
   "metadata": {},
   "outputs": [],
   "source": [
    "df_spy_intraday_history = get_df_intrady_history(ticker_spy)"
   ]
  },
  {
   "cell_type": "code",
   "execution_count": null,
   "id": "1588afb6-3d06-40ad-81af-7b970d9c200b",
   "metadata": {},
   "outputs": [],
   "source": [
    "df_spy_intraday_history = df_spy_intraday_history.drop(columns=[\"index\"])"
   ]
  },
  {
   "cell_type": "code",
   "execution_count": null,
   "id": "bcef8e04-4922-4856-9c5f-85176f05731f",
   "metadata": {},
   "outputs": [],
   "source": [
    "df_spy_intraday_history.to_pickle('market_data/df_spy_intraday_history.pkl')"
   ]
  },
  {
   "cell_type": "code",
   "execution_count": null,
   "id": "7eadbe6a-11c5-41ba-b423-6fd82078f320",
   "metadata": {},
   "outputs": [],
   "source": []
  },
  {
   "cell_type": "markdown",
   "id": "db38ed53-ee43-4859-ab9e-b98a47d61f01",
   "metadata": {
    "tags": []
   },
   "source": [
    "### vix"
   ]
  },
  {
   "cell_type": "code",
   "execution_count": null,
   "id": "1a8abf8d-3102-4eea-8c37-9f21d93da8fe",
   "metadata": {},
   "outputs": [],
   "source": [
    "df_vix1d_intraday_history = get_df_intrady_history(ticker_vix1d)"
   ]
  },
  {
   "cell_type": "code",
   "execution_count": null,
   "id": "13ce2980-1706-4af1-8d4a-4767488ba4a7",
   "metadata": {},
   "outputs": [],
   "source": [
    "df_vix1d_intraday_history = df_vix1d_intraday_history.drop(columns=[\"index\"])"
   ]
  },
  {
   "cell_type": "code",
   "execution_count": null,
   "id": "921347b8-d25b-43ff-adfd-4e14b3c61767",
   "metadata": {},
   "outputs": [],
   "source": [
    "df_vix1d_intraday_history.to_pickle('market_data/df_vix1d_intraday_history.pkl')"
   ]
  },
  {
   "cell_type": "code",
   "execution_count": null,
   "id": "038056f7-5a38-4338-a426-05f8ad2465d5",
   "metadata": {},
   "outputs": [],
   "source": []
  },
  {
   "cell_type": "markdown",
   "id": "971c553f-8dcc-4527-8bca-36bc19ada707",
   "metadata": {},
   "source": [
    "### individual tickers"
   ]
  },
  {
   "cell_type": "code",
   "execution_count": 272,
   "id": "7de748e9-ac62-4ae0-b355-b4bbf7ea7ea0",
   "metadata": {
    "collapsed": true,
    "jupyter": {
     "outputs_hidden": true
    },
    "tags": []
   },
   "outputs": [
    {
     "name": "stdout",
     "output_type": "stream",
     "text": [
      "date='2023-05-02'\n",
      "date='2023-05-03'\n",
      "date='2023-05-04'\n",
      "date='2023-05-05'\n",
      "date='2023-05-08'\n",
      "date='2023-05-09'\n",
      "date='2023-05-10'\n",
      "date='2023-05-11'\n",
      "date='2023-05-12'\n",
      "date='2023-05-15'\n",
      "date='2023-05-16'\n",
      "date='2023-05-17'\n",
      "date='2023-05-18'\n",
      "date='2023-05-19'\n",
      "date='2023-05-22'\n",
      "date='2023-05-23'\n",
      "date='2023-05-24'\n",
      "date='2023-05-25'\n",
      "date='2023-05-26'\n",
      "date='2023-05-30'\n",
      "date='2023-05-31'\n",
      "date='2023-06-01'\n",
      "date='2023-06-02'\n",
      "date='2023-06-05'\n",
      "date='2023-06-06'\n",
      "date='2023-06-07'\n",
      "date='2023-06-08'\n",
      "date='2023-06-09'\n",
      "date='2023-06-12'\n",
      "date='2023-06-13'\n",
      "date='2023-06-14'\n",
      "date='2023-06-15'\n",
      "date='2023-06-16'\n",
      "date='2023-06-19'\n",
      "date='2023-06-20'\n",
      "date='2023-06-21'\n",
      "date='2023-06-22'\n",
      "date='2023-06-23'\n",
      "date='2023-06-26'\n",
      "date='2023-06-27'\n",
      "date='2023-06-28'\n",
      "date='2023-06-29'\n",
      "date='2023-06-30'\n",
      "date='2023-07-03'\n",
      "date='2023-07-05'\n",
      "date='2023-07-06'\n",
      "date='2023-07-07'\n",
      "date='2023-07-10'\n",
      "date='2023-07-11'\n",
      "date='2023-07-12'\n",
      "date='2023-07-13'\n",
      "date='2023-07-14'\n",
      "date='2023-07-17'\n",
      "date='2023-07-18'\n",
      "date='2023-07-19'\n",
      "date='2023-07-20'\n",
      "date='2023-07-21'\n",
      "date='2023-07-24'\n",
      "date='2023-07-25'\n",
      "date='2023-07-26'\n",
      "date='2023-07-27'\n",
      "date='2023-07-28'\n",
      "date='2023-07-31'\n",
      "date='2023-08-01'\n",
      "date='2023-08-02'\n",
      "date='2023-08-03'\n",
      "date='2023-08-04'\n",
      "date='2023-08-07'\n",
      "date='2023-08-08'\n",
      "date='2023-08-09'\n",
      "date='2023-08-10'\n",
      "date='2023-08-11'\n",
      "date='2023-08-14'\n",
      "date='2023-08-15'\n",
      "date='2023-08-16'\n",
      "date='2023-08-17'\n",
      "date='2023-08-18'\n",
      "date='2023-08-21'\n",
      "date='2023-08-22'\n",
      "date='2023-08-23'\n",
      "date='2023-08-24'\n",
      "date='2023-08-25'\n",
      "date='2023-08-28'\n",
      "date='2023-08-29'\n",
      "date='2023-08-30'\n",
      "date='2023-08-31'\n",
      "date='2023-09-01'\n",
      "date='2023-09-05'\n",
      "date='2023-09-06'\n",
      "date='2023-09-07'\n",
      "date='2023-09-08'\n",
      "date='2023-09-11'\n",
      "date='2023-09-12'\n",
      "date='2023-09-13'\n",
      "date='2023-09-14'\n",
      "date='2023-09-15'\n",
      "date='2023-09-18'\n",
      "date='2023-09-19'\n",
      "date='2023-09-20'\n",
      "date='2023-09-21'\n",
      "date='2023-09-22'\n",
      "date='2023-09-25'\n",
      "date='2023-09-26'\n",
      "date='2023-09-27'\n",
      "date='2023-09-28'\n",
      "date='2023-09-29'\n",
      "date='2023-10-02'\n",
      "date='2023-10-03'\n",
      "date='2023-10-04'\n",
      "date='2023-10-05'\n",
      "date='2023-10-06'\n",
      "date='2023-10-09'\n",
      "date='2023-10-10'\n",
      "date='2023-10-11'\n",
      "date='2023-10-12'\n",
      "date='2023-10-13'\n",
      "date='2023-10-16'\n",
      "date='2023-10-17'\n",
      "date='2023-10-18'\n",
      "date='2023-10-19'\n",
      "date='2023-10-20'\n",
      "date='2023-10-23'\n",
      "date='2023-10-24'\n",
      "date='2023-10-25'\n",
      "date='2023-10-26'\n",
      "date='2023-10-27'\n",
      "date='2023-10-30'\n",
      "date='2023-10-31'\n",
      "date='2023-11-01'\n",
      "date='2023-11-02'\n",
      "date='2023-11-03'\n",
      "date='2023-11-06'\n",
      "date='2023-11-07'\n",
      "date='2023-11-08'\n",
      "date='2023-11-09'\n",
      "date='2023-11-10'\n",
      "date='2023-11-13'\n",
      "date='2023-11-14'\n",
      "date='2023-11-15'\n",
      "date='2023-11-16'\n",
      "date='2023-11-17'\n",
      "date='2023-11-20'\n",
      "date='2023-11-21'\n",
      "date='2023-11-22'\n",
      "date='2023-11-24'\n",
      "date='2023-11-27'\n",
      "date='2023-11-28'\n",
      "date='2023-11-29'\n",
      "date='2023-11-30'\n",
      "date='2023-12-01'\n",
      "date='2023-12-04'\n",
      "date='2023-12-05'\n",
      "date='2023-12-06'\n",
      "date='2023-12-07'\n",
      "date='2023-12-08'\n",
      "date='2023-12-11'\n",
      "date='2023-12-12'\n",
      "date='2023-12-13'\n",
      "date='2023-12-14'\n",
      "date='2023-12-15'\n",
      "date='2023-12-18'\n",
      "date='2023-12-19'\n",
      "date='2023-12-20'\n",
      "date='2023-12-21'\n",
      "date='2023-12-22'\n",
      "date='2023-12-26'\n",
      "date='2023-12-27'\n",
      "date='2023-12-28'\n",
      "date='2023-12-29'\n",
      "date='2024-01-02'\n",
      "date='2024-01-03'\n",
      "date='2024-01-04'\n",
      "date='2024-01-05'\n",
      "date='2024-01-08'\n",
      "date='2024-01-09'\n",
      "date='2024-01-10'\n",
      "date='2024-01-11'\n",
      "date='2024-01-12'\n",
      "date='2024-01-16'\n",
      "date='2024-01-17'\n",
      "date='2024-01-18'\n",
      "date='2024-01-19'\n",
      "date='2024-01-22'\n",
      "date='2024-01-23'\n",
      "date='2024-01-24'\n",
      "date='2024-01-25'\n",
      "date='2024-01-26'\n",
      "date='2024-01-29'\n",
      "date='2024-01-30'\n",
      "date='2024-01-31'\n",
      "date='2024-02-01'\n",
      "date='2024-02-02'\n",
      "date='2024-02-05'\n",
      "date='2024-02-06'\n",
      "date='2024-02-07'\n",
      "date='2024-02-08'\n",
      "date='2024-02-09'\n",
      "date='2024-02-12'\n",
      "date='2024-02-13'\n",
      "date='2024-02-14'\n",
      "date='2024-02-15'\n",
      "date='2024-02-16'\n",
      "date='2024-02-20'\n",
      "date='2024-02-21'\n",
      "date='2024-02-22'\n",
      "date='2024-02-23'\n",
      "date='2024-02-26'\n",
      "date='2024-02-27'\n",
      "date='2024-02-28'\n",
      "date='2024-02-29'\n",
      "date='2024-03-01'\n",
      "date='2024-03-04'\n",
      "date='2024-03-05'\n",
      "date='2024-03-06'\n",
      "date='2024-03-07'\n",
      "date='2024-03-08'\n",
      "date='2024-03-11'\n",
      "date='2024-03-12'\n",
      "date='2024-03-13'\n",
      "date='2024-03-14'\n",
      "date='2024-03-15'\n",
      "date='2024-03-18'\n",
      "date='2024-03-19'\n",
      "date='2024-03-20'\n",
      "date='2024-03-21'\n",
      "date='2024-03-22'\n",
      "date='2024-03-25'\n",
      "date='2024-03-26'\n",
      "date='2024-03-27'\n",
      "date='2024-03-28'\n",
      "date='2024-04-01'\n",
      "date='2024-04-02'\n",
      "date='2024-04-03'\n",
      "date='2024-04-04'\n",
      "date='2024-04-05'\n",
      "date='2024-04-08'\n",
      "date='2024-04-09'\n",
      "date='2024-04-10'\n",
      "date='2024-04-11'\n",
      "date='2024-04-12'\n",
      "date='2024-04-15'\n",
      "date='2024-04-16'\n",
      "date='2024-04-17'\n",
      "date='2024-04-18'\n",
      "date='2024-04-19'\n",
      "date='2024-04-22'\n",
      "date='2024-04-23'\n",
      "date='2024-04-24'\n",
      "date='2024-04-25'\n",
      "date='2024-04-26'\n",
      "date='2024-04-29'\n",
      "date='2024-04-30'\n",
      "date='2024-05-01'\n",
      "date='2024-05-02'\n",
      "date='2024-05-03'\n",
      "date='2024-05-06'\n",
      "date='2024-05-07'\n",
      "date='2024-05-08'\n",
      "date='2024-05-09'\n",
      "date='2024-05-10'\n",
      "date='2024-05-13'\n",
      "date='2024-05-14'\n",
      "date='2024-05-15'\n",
      "date='2024-05-16'\n",
      "date='2024-05-17'\n",
      "date='2024-05-20'\n",
      "date='2024-05-21'\n",
      "date='2024-05-22'\n",
      "date='2024-05-23'\n",
      "date='2024-05-24'\n",
      "date='2024-05-28'\n",
      "date='2024-05-29'\n",
      "date='2024-05-30'\n",
      "date='2024-05-31'\n",
      "date='2024-06-03'\n",
      "date='2024-06-04'\n",
      "date='2024-06-05'\n",
      "date='2024-06-06'\n",
      "date='2024-06-07'\n",
      "date='2024-06-10'\n",
      "date='2024-06-11'\n",
      "date='2024-06-12'\n",
      "date='2024-06-13'\n",
      "date='2024-06-14'\n",
      "date='2024-06-17'\n",
      "date='2024-06-18'\n",
      "date='2024-06-19'\n",
      "date='2024-06-20'\n",
      "date='2024-06-21'\n",
      "date='2024-06-24'\n",
      "date='2024-06-25'\n",
      "date='2024-06-26'\n",
      "date='2024-06-27'\n",
      "date='2024-06-28'\n",
      "date='2024-07-01'\n",
      "date='2024-07-02'\n"
     ]
    }
   ],
   "source": [
    "df_spx_intraday_history = get_df_intrady_history(ticker_spx)"
   ]
  },
  {
   "cell_type": "code",
   "execution_count": 290,
   "id": "6d1dc50c-369f-4b48-89dd-b063c2212e83",
   "metadata": {},
   "outputs": [],
   "source": [
    "df_spx_intraday_history = df_spx_intraday_history.drop(columns=[\"index\"])\n",
    "df_spx_intraday_history.to_pickle('market_data/df_spx_intraday_history.pkl')"
   ]
  },
  {
   "cell_type": "code",
   "execution_count": null,
   "id": "1a674b99-7d5e-48fb-856a-73cc1d51e55f",
   "metadata": {},
   "outputs": [],
   "source": []
  },
  {
   "cell_type": "code",
   "execution_count": 75,
   "id": "f91a9d87-df7d-4762-bb87-4fae767a0b13",
   "metadata": {},
   "outputs": [],
   "source": [
    "df_goog_intraday_history = get_df_intrady_history(ticker_goog)"
   ]
  },
  {
   "cell_type": "code",
   "execution_count": 76,
   "id": "d9d92c58-e034-4445-82b9-4bef6ef83c8f",
   "metadata": {},
   "outputs": [],
   "source": [
    "df_goog_intraday_history = df_goog_intraday_history.drop(columns=[\"index\"])\n",
    "df_goog_intraday_history.to_pickle('market_data/df_goog_intraday_history.pkl')"
   ]
  },
  {
   "cell_type": "code",
   "execution_count": null,
   "id": "07c58fa3-b811-4937-a17d-87625da54ec4",
   "metadata": {},
   "outputs": [],
   "source": []
  },
  {
   "cell_type": "code",
   "execution_count": 77,
   "id": "6ecde4f9-24dc-484e-bd16-3e31daf66d2e",
   "metadata": {},
   "outputs": [],
   "source": [
    "df_sbux_intraday_history = get_df_intrady_history(ticker_sbux)"
   ]
  },
  {
   "cell_type": "code",
   "execution_count": 78,
   "id": "c550a9e5-815e-4bec-bc53-c33a86d9a31d",
   "metadata": {},
   "outputs": [],
   "source": [
    "df_sbux_intraday_history = df_sbux_intraday_history.drop(columns=[\"index\"])\n",
    "df_sbux_intraday_history.to_pickle('market_data/df_sbux_intraday_history.pkl')"
   ]
  },
  {
   "cell_type": "code",
   "execution_count": null,
   "id": "6b13e059-b302-4fa6-91b8-d6c169940159",
   "metadata": {},
   "outputs": [],
   "source": []
  },
  {
   "cell_type": "markdown",
   "id": "ca5eb500-0cc3-4c21-adea-41c4d780319d",
   "metadata": {
    "jp-MarkdownHeadingCollapsed": true,
    "tags": []
   },
   "source": [
    "## read cached data"
   ]
  },
  {
   "cell_type": "code",
   "execution_count": 571,
   "id": "af0c1013-abe3-461d-91af-bc44742c877e",
   "metadata": {},
   "outputs": [],
   "source": [
    "df_spy_daily_history = pd.read_pickle('market_data/df_spy_daily_history.pkl')\n",
    "\n",
    "df_spx_daily_history = pd.read_pickle('market_data/df_spx_daily_history.pkl')\n",
    "df_goog_daily_history = pd.read_pickle('market_data/df_goog_daily_history.pkl')\n",
    "df_sbux_daily_history = pd.read_pickle('market_data/df_sbux_daily_history.pkl')"
   ]
  },
  {
   "cell_type": "code",
   "execution_count": 572,
   "id": "689764dd-971c-4a8d-8b0d-882ed41e5deb",
   "metadata": {},
   "outputs": [],
   "source": [
    "df_spy_intraday_history = pd.read_pickle('market_data/df_spy_intraday_history.pkl')\n",
    "df_vix1d_intraday_history = pd.read_pickle('market_data/df_vix1d_intraday_history.pkl')\n",
    "\n",
    "df_spx_intraday_history = pd.read_pickle('market_data/df_spx_intraday_history.pkl')\n",
    "df_goog_intraday_history.to_pickle('market_data/df_goog_intraday_history.pkl')\n",
    "df_sbux_intraday_history.to_pickle('market_data/df_sbux_intraday_history.pkl')"
   ]
  },
  {
   "cell_type": "markdown",
   "id": "84ed1c52-c99d-4e68-a048-fc41daa37cc8",
   "metadata": {
    "tags": []
   },
   "source": [
    "## logic"
   ]
  },
  {
   "cell_type": "code",
   "execution_count": 573,
   "id": "c42c6ebf-76eb-4c98-b342-ba04f3914b23",
   "metadata": {},
   "outputs": [],
   "source": [
    "df_spy = df_spy_daily_history[[\"c\"]].copy()"
   ]
  },
  {
   "cell_type": "code",
   "execution_count": 574,
   "id": "aa3c93ef-1241-476f-bd55-67ac7700f9e3",
   "metadata": {},
   "outputs": [],
   "source": [
    "df_spy[\"1_mo_avg\"] = df_spy[\"c\"].rolling(window=20).mean()\n",
    "df_spy[\"3_mo_avg\"] = df_spy[\"c\"].rolling(window=60).mean()\n",
    "df_spy['regime'] = df_spy.apply(lambda row: 1 if (row['c'] > row['1_mo_avg']) else -1, axis=1)"
   ]
  },
  {
   "cell_type": "code",
   "execution_count": null,
   "id": "94e4eefd-0c46-448d-a50f-51a9635aea75",
   "metadata": {},
   "outputs": [],
   "source": []
  },
  {
   "cell_type": "code",
   "execution_count": 575,
   "id": "4a27867d-7144-4d1e-90b4-d425fad41a6e",
   "metadata": {},
   "outputs": [],
   "source": [
    "def get_df_market_open_from_intraday(df_intraday):\n",
    "    df_market_open = df_intraday[df_intraday.index.time >= pd.Timestamp(\"09:35\").time()].head(1)[[\"c\"]]\n",
    "    df_market_open.index = df_market_open.index.strftime(\"%Y-%m-%d\")     \n",
    "    return df_market_open\n",
    "\n",
    "def get_df_market_close_from_intraday(df_intraday):\n",
    "    df_market_close = df_intraday.tail(1)[[\"c\"]]\n",
    "    df_market_close.index = df_market_close.index.strftime(\"%Y-%m-%d\")\n",
    "    return df_market_close"
   ]
  },
  {
   "cell_type": "code",
   "execution_count": null,
   "id": "a3a067b6-cbd1-45f5-88f0-4b10b5be6236",
   "metadata": {},
   "outputs": [],
   "source": []
  },
  {
   "cell_type": "code",
   "execution_count": null,
   "id": "e800163e-79c4-470e-b885-2577ea0cf3bc",
   "metadata": {},
   "outputs": [],
   "source": [
    "def get_df_market_open_history_from_intraday_history(df_intraday_history):\n",
    "    \n",
    "    df_market_open = df_intraday[df_intraday.index.time >= pd.Timestamp(\"09:35\").time()].head(1)[[\"c\"]]\n",
    "    df_market_open.index = df_market_open.index.strftime(\"%Y-%m-%d\")     \n",
    "    return df_market_open\n",
    "\n",
    "def get_df_market_close_history_from_intraday_history(df_intraday_history):\n",
    "    df_market_close = df_intraday.tail(1)[[\"c\"]]\n",
    "    df_market_close.index = df_market_close.index.strftime(\"%Y-%m-%d\")\n",
    "    return df_market_close"
   ]
  },
  {
   "cell_type": "code",
   "execution_count": null,
   "id": "71e8257c-d6dd-4978-b62b-6c76f72915dd",
   "metadata": {},
   "outputs": [],
   "source": []
  },
  {
   "cell_type": "code",
   "execution_count": 576,
   "id": "91d2db04-b0e4-4551-a177-990b261255c3",
   "metadata": {},
   "outputs": [
    {
     "ename": "TypeError",
     "evalue": "'>=' not supported between instances of 'NaTType' and 'datetime.time'",
     "output_type": "error",
     "traceback": [
      "\u001b[0;31m---------------------------------------------------------------------------\u001b[0m",
      "\u001b[0;31mTypeError\u001b[0m                                 Traceback (most recent call last)",
      "Cell \u001b[0;32mIn [576], line 1\u001b[0m\n\u001b[0;32m----> 1\u001b[0m df_spy_market_open_history \u001b[38;5;241m=\u001b[39m \u001b[43mget_df_market_open_from_intraday\u001b[49m\u001b[43m(\u001b[49m\u001b[43mdf_spy_intraday_history\u001b[49m\u001b[43m)\u001b[49m\n\u001b[1;32m      2\u001b[0m df_vix1d_market_open_history \u001b[38;5;241m=\u001b[39m get_df_market_open_from_intraday(df_vix1d_intraday_history)\n\u001b[1;32m      3\u001b[0m df_spx_market_open_history \u001b[38;5;241m=\u001b[39m get_df_market_open_from_intraday(df_spx_intraday_history)\n",
      "Cell \u001b[0;32mIn [575], line 2\u001b[0m, in \u001b[0;36mget_df_market_open_from_intraday\u001b[0;34m(df_intraday)\u001b[0m\n\u001b[1;32m      1\u001b[0m \u001b[38;5;28;01mdef\u001b[39;00m \u001b[38;5;21mget_df_market_open_from_intraday\u001b[39m(df_intraday):\n\u001b[0;32m----> 2\u001b[0m     df_market_open \u001b[38;5;241m=\u001b[39m df_intraday[\u001b[43mdf_intraday\u001b[49m\u001b[38;5;241;43m.\u001b[39;49m\u001b[43mindex\u001b[49m\u001b[38;5;241;43m.\u001b[39;49m\u001b[43mtime\u001b[49m\u001b[43m \u001b[49m\u001b[38;5;241;43m>\u001b[39;49m\u001b[38;5;241;43m=\u001b[39;49m\u001b[43m \u001b[49m\u001b[43mpd\u001b[49m\u001b[38;5;241;43m.\u001b[39;49m\u001b[43mTimestamp\u001b[49m\u001b[43m(\u001b[49m\u001b[38;5;124;43m\"\u001b[39;49m\u001b[38;5;124;43m09:35\u001b[39;49m\u001b[38;5;124;43m\"\u001b[39;49m\u001b[43m)\u001b[49m\u001b[38;5;241;43m.\u001b[39;49m\u001b[43mtime\u001b[49m\u001b[43m(\u001b[49m\u001b[43m)\u001b[49m]\u001b[38;5;241m.\u001b[39mhead(\u001b[38;5;241m1\u001b[39m)[[\u001b[38;5;124m\"\u001b[39m\u001b[38;5;124mc\u001b[39m\u001b[38;5;124m\"\u001b[39m]]\n\u001b[1;32m      3\u001b[0m     df_market_open\u001b[38;5;241m.\u001b[39mindex \u001b[38;5;241m=\u001b[39m df_market_open\u001b[38;5;241m.\u001b[39mindex\u001b[38;5;241m.\u001b[39mstrftime(\u001b[38;5;124m\"\u001b[39m\u001b[38;5;124m%\u001b[39m\u001b[38;5;124mY-\u001b[39m\u001b[38;5;124m%\u001b[39m\u001b[38;5;124mm-\u001b[39m\u001b[38;5;132;01m%d\u001b[39;00m\u001b[38;5;124m\"\u001b[39m)     \n\u001b[1;32m      4\u001b[0m     \u001b[38;5;28;01mreturn\u001b[39;00m df_market_open\n",
      "\u001b[0;31mTypeError\u001b[0m: '>=' not supported between instances of 'NaTType' and 'datetime.time'"
     ]
    }
   ],
   "source": [
    "df_spy_market_open_history = get_df_market_open_from_intraday(df_spy_intraday_history)\n",
    "df_vix1d_market_open_history = get_df_market_open_from_intraday(df_vix1d_intraday_history)\n",
    "df_spx_market_open_history = get_df_market_open_from_intraday(df_spx_intraday_history)"
   ]
  },
  {
   "cell_type": "code",
   "execution_count": null,
   "id": "51bfea3d-7a58-4fce-b45a-7acef31824c1",
   "metadata": {},
   "outputs": [],
   "source": []
  },
  {
   "cell_type": "code",
   "execution_count": null,
   "id": "640f5a69-73c3-4d7f-b370-184a31938c34",
   "metadata": {},
   "outputs": [],
   "source": []
  },
  {
   "cell_type": "code",
   "execution_count": 567,
   "id": "72134a23-b64d-45a7-9c4f-5a8eb3521c9e",
   "metadata": {},
   "outputs": [
    {
     "ename": "TypeError",
     "evalue": "'>=' not supported between instances of 'NaTType' and 'datetime.time'",
     "output_type": "error",
     "traceback": [
      "\u001b[0;31m---------------------------------------------------------------------------\u001b[0m",
      "\u001b[0;31mTypeError\u001b[0m                                 Traceback (most recent call last)",
      "Cell \u001b[0;32mIn [567], line 1\u001b[0m\n\u001b[0;32m----> 1\u001b[0m \u001b[43mget_df_market_open_from_intraday\u001b[49m\u001b[43m(\u001b[49m\u001b[43mdf_spx_intraday_history\u001b[49m\u001b[43m)\u001b[49m\n",
      "Cell \u001b[0;32mIn [232], line 2\u001b[0m, in \u001b[0;36mget_df_market_open_from_intraday\u001b[0;34m(df_intraday)\u001b[0m\n\u001b[1;32m      1\u001b[0m \u001b[38;5;28;01mdef\u001b[39;00m \u001b[38;5;21mget_df_market_open_from_intraday\u001b[39m(df_intraday):\n\u001b[0;32m----> 2\u001b[0m     df_market_open \u001b[38;5;241m=\u001b[39m df_intraday[\u001b[43mdf_intraday\u001b[49m\u001b[38;5;241;43m.\u001b[39;49m\u001b[43mindex\u001b[49m\u001b[38;5;241;43m.\u001b[39;49m\u001b[43mtime\u001b[49m\u001b[43m \u001b[49m\u001b[38;5;241;43m>\u001b[39;49m\u001b[38;5;241;43m=\u001b[39;49m\u001b[43m \u001b[49m\u001b[43mpd\u001b[49m\u001b[38;5;241;43m.\u001b[39;49m\u001b[43mTimestamp\u001b[49m\u001b[43m(\u001b[49m\u001b[38;5;124;43m\"\u001b[39;49m\u001b[38;5;124;43m09:35\u001b[39;49m\u001b[38;5;124;43m\"\u001b[39;49m\u001b[43m)\u001b[49m\u001b[38;5;241;43m.\u001b[39;49m\u001b[43mtime\u001b[49m\u001b[43m(\u001b[49m\u001b[43m)\u001b[49m]\u001b[38;5;241m.\u001b[39mhead(\u001b[38;5;241m1\u001b[39m)[[\u001b[38;5;124m\"\u001b[39m\u001b[38;5;124mc\u001b[39m\u001b[38;5;124m\"\u001b[39m]]\n\u001b[1;32m      3\u001b[0m     df_market_open\u001b[38;5;241m.\u001b[39mindex \u001b[38;5;241m=\u001b[39m df_market_open\u001b[38;5;241m.\u001b[39mindex\u001b[38;5;241m.\u001b[39mstrftime(\u001b[38;5;124m\"\u001b[39m\u001b[38;5;124m%\u001b[39m\u001b[38;5;124mY-\u001b[39m\u001b[38;5;124m%\u001b[39m\u001b[38;5;124mm-\u001b[39m\u001b[38;5;132;01m%d\u001b[39;00m\u001b[38;5;124m\"\u001b[39m)     \n\u001b[1;32m      4\u001b[0m     \u001b[38;5;28;01mreturn\u001b[39;00m df_market_open\n",
      "\u001b[0;31mTypeError\u001b[0m: '>=' not supported between instances of 'NaTType' and 'datetime.time'"
     ]
    }
   ],
   "source": [
    "get_df_market_open_from_intraday(df_spx_intraday_history)"
   ]
  },
  {
   "cell_type": "code",
   "execution_count": 566,
   "id": "9af8fb39-75cb-4b1c-87dc-cc154a635c22",
   "metadata": {},
   "outputs": [],
   "source": [
    "df_spx_market_close_history = get_df_market_close_from_intraday(df_spx_intraday_history)"
   ]
  },
  {
   "cell_type": "code",
   "execution_count": 564,
   "id": "b211bd1d-f883-44a5-8643-a56c3562e189",
   "metadata": {},
   "outputs": [
    {
     "data": {
      "text/html": [
       "<div>\n",
       "<style scoped>\n",
       "    .dataframe tbody tr th:only-of-type {\n",
       "        vertical-align: middle;\n",
       "    }\n",
       "\n",
       "    .dataframe tbody tr th {\n",
       "        vertical-align: top;\n",
       "    }\n",
       "\n",
       "    .dataframe thead th {\n",
       "        text-align: right;\n",
       "    }\n",
       "</style>\n",
       "<table border=\"1\" class=\"dataframe\">\n",
       "  <thead>\n",
       "    <tr style=\"text-align: right;\">\n",
       "      <th></th>\n",
       "      <th>c</th>\n",
       "    </tr>\n",
       "    <tr>\n",
       "      <th>t</th>\n",
       "      <th></th>\n",
       "    </tr>\n",
       "  </thead>\n",
       "  <tbody>\n",
       "    <tr>\n",
       "      <th>2024-07-02</th>\n",
       "      <td>5509.01</td>\n",
       "    </tr>\n",
       "  </tbody>\n",
       "</table>\n",
       "</div>"
      ],
      "text/plain": [
       "                  c\n",
       "t                  \n",
       "2024-07-02  5509.01"
      ]
     },
     "execution_count": 564,
     "metadata": {},
     "output_type": "execute_result"
    }
   ],
   "source": [
    "df_spx_market_close_history"
   ]
  },
  {
   "cell_type": "code",
   "execution_count": 565,
   "id": "39058a9a-e530-4ffa-be04-832b050303a1",
   "metadata": {},
   "outputs": [
    {
     "data": {
      "text/html": [
       "<div>\n",
       "<style scoped>\n",
       "    .dataframe tbody tr th:only-of-type {\n",
       "        vertical-align: middle;\n",
       "    }\n",
       "\n",
       "    .dataframe tbody tr th {\n",
       "        vertical-align: top;\n",
       "    }\n",
       "\n",
       "    .dataframe thead th {\n",
       "        text-align: right;\n",
       "    }\n",
       "</style>\n",
       "<table border=\"1\" class=\"dataframe\">\n",
       "  <thead>\n",
       "    <tr style=\"text-align: right;\">\n",
       "      <th></th>\n",
       "      <th>o</th>\n",
       "      <th>c</th>\n",
       "      <th>h</th>\n",
       "      <th>l</th>\n",
       "    </tr>\n",
       "    <tr>\n",
       "      <th>t</th>\n",
       "      <th></th>\n",
       "      <th></th>\n",
       "      <th></th>\n",
       "      <th></th>\n",
       "    </tr>\n",
       "  </thead>\n",
       "  <tbody>\n",
       "    <tr>\n",
       "      <th>2023-05-02 09:30:00-04:00</th>\n",
       "      <td>4164.10</td>\n",
       "      <td>4155.45</td>\n",
       "      <td>4164.10</td>\n",
       "      <td>4155.45</td>\n",
       "    </tr>\n",
       "    <tr>\n",
       "      <th>2023-05-02 09:31:00-04:00</th>\n",
       "      <td>4155.33</td>\n",
       "      <td>4152.71</td>\n",
       "      <td>4155.33</td>\n",
       "      <td>4152.41</td>\n",
       "    </tr>\n",
       "    <tr>\n",
       "      <th>2023-05-02 09:32:00-04:00</th>\n",
       "      <td>4152.69</td>\n",
       "      <td>4152.45</td>\n",
       "      <td>4153.43</td>\n",
       "      <td>4152.11</td>\n",
       "    </tr>\n",
       "    <tr>\n",
       "      <th>2023-05-02 09:33:00-04:00</th>\n",
       "      <td>4152.33</td>\n",
       "      <td>4152.54</td>\n",
       "      <td>4153.54</td>\n",
       "      <td>4152.30</td>\n",
       "    </tr>\n",
       "    <tr>\n",
       "      <th>2023-05-02 09:34:00-04:00</th>\n",
       "      <td>4152.47</td>\n",
       "      <td>4153.63</td>\n",
       "      <td>4153.75</td>\n",
       "      <td>4151.44</td>\n",
       "    </tr>\n",
       "    <tr>\n",
       "      <th>...</th>\n",
       "      <td>...</td>\n",
       "      <td>...</td>\n",
       "      <td>...</td>\n",
       "      <td>...</td>\n",
       "    </tr>\n",
       "    <tr>\n",
       "      <th>2024-07-02 15:57:00-04:00</th>\n",
       "      <td>5506.88</td>\n",
       "      <td>5507.27</td>\n",
       "      <td>5507.27</td>\n",
       "      <td>5504.98</td>\n",
       "    </tr>\n",
       "    <tr>\n",
       "      <th>2024-07-02 15:58:00-04:00</th>\n",
       "      <td>5507.24</td>\n",
       "      <td>5508.89</td>\n",
       "      <td>5509.11</td>\n",
       "      <td>5507.24</td>\n",
       "    </tr>\n",
       "    <tr>\n",
       "      <th>2024-07-02 15:59:00-04:00</th>\n",
       "      <td>5508.92</td>\n",
       "      <td>5509.28</td>\n",
       "      <td>5509.56</td>\n",
       "      <td>5507.55</td>\n",
       "    </tr>\n",
       "    <tr>\n",
       "      <th>2024-07-02 16:00:00-04:00</th>\n",
       "      <td>5509.69</td>\n",
       "      <td>5509.04</td>\n",
       "      <td>5509.69</td>\n",
       "      <td>5509.04</td>\n",
       "    </tr>\n",
       "    <tr>\n",
       "      <th>2024-07-02 16:01:00-04:00</th>\n",
       "      <td>5509.01</td>\n",
       "      <td>5509.01</td>\n",
       "      <td>5509.01</td>\n",
       "      <td>5509.01</td>\n",
       "    </tr>\n",
       "  </tbody>\n",
       "</table>\n",
       "<p>117018 rows × 4 columns</p>\n",
       "</div>"
      ],
      "text/plain": [
       "                                 o        c        h        l\n",
       "t                                                            \n",
       "2023-05-02 09:30:00-04:00  4164.10  4155.45  4164.10  4155.45\n",
       "2023-05-02 09:31:00-04:00  4155.33  4152.71  4155.33  4152.41\n",
       "2023-05-02 09:32:00-04:00  4152.69  4152.45  4153.43  4152.11\n",
       "2023-05-02 09:33:00-04:00  4152.33  4152.54  4153.54  4152.30\n",
       "2023-05-02 09:34:00-04:00  4152.47  4153.63  4153.75  4151.44\n",
       "...                            ...      ...      ...      ...\n",
       "2024-07-02 15:57:00-04:00  5506.88  5507.27  5507.27  5504.98\n",
       "2024-07-02 15:58:00-04:00  5507.24  5508.89  5509.11  5507.24\n",
       "2024-07-02 15:59:00-04:00  5508.92  5509.28  5509.56  5507.55\n",
       "2024-07-02 16:00:00-04:00  5509.69  5509.04  5509.69  5509.04\n",
       "2024-07-02 16:01:00-04:00  5509.01  5509.01  5509.01  5509.01\n",
       "\n",
       "[117018 rows x 4 columns]"
      ]
     },
     "execution_count": 565,
     "metadata": {},
     "output_type": "execute_result"
    }
   ],
   "source": [
    "df_spx_intraday_history"
   ]
  },
  {
   "cell_type": "code",
   "execution_count": null,
   "id": "c0553a33-08c2-4189-b470-98958746b67f",
   "metadata": {},
   "outputs": [],
   "source": []
  },
  {
   "cell_type": "code",
   "execution_count": null,
   "id": "59e96eb2-8cef-43d8-b194-cd254cf0f2e6",
   "metadata": {},
   "outputs": [],
   "source": []
  },
  {
   "cell_type": "code",
   "execution_count": 164,
   "id": "d58b1e5e-f31a-4328-8246-d73cb4cf8238",
   "metadata": {},
   "outputs": [],
   "source": [
    "df_goog_market_open_history = get_df_market_open_from_intraday(df_goog_intraday_history)\n",
    "df_sbux_market_open_history = get_df_market_open_from_intraday(df_sbux_intraday_history)"
   ]
  },
  {
   "cell_type": "code",
   "execution_count": 20,
   "id": "6d24753f-85c1-49e6-a39b-4698f0b45481",
   "metadata": {},
   "outputs": [],
   "source": [
    "#df_algo = df_spx_daily_history[[\"c\"]].copy()\n",
    "#df_algo = df_algo.join(df_spx_market_open_history, lsuffix=\"_daily\", rsuffix=\"_market_open\")"
   ]
  },
  {
   "cell_type": "code",
   "execution_count": null,
   "id": "dc088f4b-9a29-4c3c-8abf-4ba54a881fe2",
   "metadata": {},
   "outputs": [],
   "source": []
  },
  {
   "cell_type": "code",
   "execution_count": 88,
   "id": "e570bd60-159c-4dca-8482-31df964dc596",
   "metadata": {},
   "outputs": [],
   "source": [
    "def get_df_daily_expectation(df_market_open_history):\n",
    "    df_algo = df_market_open_history.add_suffix(\"_market_open\").copy()\n",
    "    df_algo['regime'] = df_spy['regime']\n",
    "    df_algo[\"expected_move\"] = (round(df_vix1d_market_open_history / np.sqrt(252), 2) / 100) * 0.5\n",
    "    df_algo[\"lower_price\"] = round(df_algo['c_market_open'] * (1.0 - df_algo['expected_move']), 2)\n",
    "    df_algo[\"upper_price\"] = round(df_algo['c_market_open'] * (1.0 + df_algo['expected_move']), 2)\n",
    "    return df_algo"
   ]
  },
  {
   "cell_type": "code",
   "execution_count": 109,
   "id": "319cbae2-2a2b-41a5-8f95-0dc22adfc755",
   "metadata": {},
   "outputs": [],
   "source": [
    "df_spx_daily_expectation = get_df_daily_expectation(df_spx_market_open_history)"
   ]
  },
  {
   "cell_type": "code",
   "execution_count": 560,
   "id": "4ba1cb42-0490-45b0-94d2-63525f46f0c3",
   "metadata": {},
   "outputs": [
    {
     "data": {
      "text/html": [
       "<div>\n",
       "<style scoped>\n",
       "    .dataframe tbody tr th:only-of-type {\n",
       "        vertical-align: middle;\n",
       "    }\n",
       "\n",
       "    .dataframe tbody tr th {\n",
       "        vertical-align: top;\n",
       "    }\n",
       "\n",
       "    .dataframe thead th {\n",
       "        text-align: right;\n",
       "    }\n",
       "</style>\n",
       "<table border=\"1\" class=\"dataframe\">\n",
       "  <thead>\n",
       "    <tr style=\"text-align: right;\">\n",
       "      <th></th>\n",
       "      <th>c_market_open</th>\n",
       "      <th>regime</th>\n",
       "      <th>expected_move</th>\n",
       "      <th>lower_price</th>\n",
       "      <th>upper_price</th>\n",
       "    </tr>\n",
       "    <tr>\n",
       "      <th>t</th>\n",
       "      <th></th>\n",
       "      <th></th>\n",
       "      <th></th>\n",
       "      <th></th>\n",
       "      <th></th>\n",
       "    </tr>\n",
       "  </thead>\n",
       "  <tbody>\n",
       "    <tr>\n",
       "      <th>2023-05-02</th>\n",
       "      <td>4153.26</td>\n",
       "      <td>-1</td>\n",
       "      <td>0.00300</td>\n",
       "      <td>4140.80</td>\n",
       "      <td>4165.72</td>\n",
       "    </tr>\n",
       "    <tr>\n",
       "      <th>2023-05-03</th>\n",
       "      <td>4125.70</td>\n",
       "      <td>-1</td>\n",
       "      <td>0.00600</td>\n",
       "      <td>4100.95</td>\n",
       "      <td>4150.45</td>\n",
       "    </tr>\n",
       "    <tr>\n",
       "      <th>2023-05-04</th>\n",
       "      <td>4081.20</td>\n",
       "      <td>-1</td>\n",
       "      <td>0.00465</td>\n",
       "      <td>4062.22</td>\n",
       "      <td>4100.18</td>\n",
       "    </tr>\n",
       "    <tr>\n",
       "      <th>2023-05-05</th>\n",
       "      <td>4104.23</td>\n",
       "      <td>1</td>\n",
       "      <td>0.00410</td>\n",
       "      <td>4087.40</td>\n",
       "      <td>4121.06</td>\n",
       "    </tr>\n",
       "    <tr>\n",
       "      <th>2023-05-08</th>\n",
       "      <td>4137.65</td>\n",
       "      <td>1</td>\n",
       "      <td>0.00320</td>\n",
       "      <td>4124.41</td>\n",
       "      <td>4150.89</td>\n",
       "    </tr>\n",
       "    <tr>\n",
       "      <th>...</th>\n",
       "      <td>...</td>\n",
       "      <td>...</td>\n",
       "      <td>...</td>\n",
       "      <td>...</td>\n",
       "      <td>...</td>\n",
       "    </tr>\n",
       "    <tr>\n",
       "      <th>2024-06-26</th>\n",
       "      <td>5457.73</td>\n",
       "      <td>1</td>\n",
       "      <td>0.00235</td>\n",
       "      <td>5444.90</td>\n",
       "      <td>5470.56</td>\n",
       "    </tr>\n",
       "    <tr>\n",
       "      <th>2024-06-27</th>\n",
       "      <td>5483.08</td>\n",
       "      <td>1</td>\n",
       "      <td>0.00240</td>\n",
       "      <td>5469.92</td>\n",
       "      <td>5496.24</td>\n",
       "    </tr>\n",
       "    <tr>\n",
       "      <th>2024-06-28</th>\n",
       "      <td>5496.61</td>\n",
       "      <td>1</td>\n",
       "      <td>0.00280</td>\n",
       "      <td>5481.22</td>\n",
       "      <td>5512.00</td>\n",
       "    </tr>\n",
       "    <tr>\n",
       "      <th>2024-07-01</th>\n",
       "      <td>5475.76</td>\n",
       "      <td>1</td>\n",
       "      <td>0.00255</td>\n",
       "      <td>5461.80</td>\n",
       "      <td>5489.72</td>\n",
       "    </tr>\n",
       "    <tr>\n",
       "      <th>2024-07-02</th>\n",
       "      <td>5465.69</td>\n",
       "      <td>1</td>\n",
       "      <td>0.00250</td>\n",
       "      <td>5452.03</td>\n",
       "      <td>5479.35</td>\n",
       "    </tr>\n",
       "  </tbody>\n",
       "</table>\n",
       "<p>293 rows × 5 columns</p>\n",
       "</div>"
      ],
      "text/plain": [
       "            c_market_open  regime  expected_move  lower_price  upper_price\n",
       "t                                                                         \n",
       "2023-05-02        4153.26      -1        0.00300      4140.80      4165.72\n",
       "2023-05-03        4125.70      -1        0.00600      4100.95      4150.45\n",
       "2023-05-04        4081.20      -1        0.00465      4062.22      4100.18\n",
       "2023-05-05        4104.23       1        0.00410      4087.40      4121.06\n",
       "2023-05-08        4137.65       1        0.00320      4124.41      4150.89\n",
       "...                   ...     ...            ...          ...          ...\n",
       "2024-06-26        5457.73       1        0.00235      5444.90      5470.56\n",
       "2024-06-27        5483.08       1        0.00240      5469.92      5496.24\n",
       "2024-06-28        5496.61       1        0.00280      5481.22      5512.00\n",
       "2024-07-01        5475.76       1        0.00255      5461.80      5489.72\n",
       "2024-07-02        5465.69       1        0.00250      5452.03      5479.35\n",
       "\n",
       "[293 rows x 5 columns]"
      ]
     },
     "execution_count": 560,
     "metadata": {},
     "output_type": "execute_result"
    }
   ],
   "source": [
    "df_spx_daily_expectation"
   ]
  },
  {
   "cell_type": "code",
   "execution_count": null,
   "id": "d9f9be34-c7f5-42b7-aba7-502899213fe2",
   "metadata": {},
   "outputs": [],
   "source": []
  },
  {
   "cell_type": "code",
   "execution_count": null,
   "id": "f44a42e3-857b-45d9-9588-28a8cbcc579e",
   "metadata": {},
   "outputs": [],
   "source": [
    "df_spx_market_open_history"
   ]
  },
  {
   "cell_type": "code",
   "execution_count": null,
   "id": "9514ba55-ec9f-42a0-9f6c-0665fa5bbb3f",
   "metadata": {},
   "outputs": [],
   "source": []
  },
  {
   "cell_type": "code",
   "execution_count": null,
   "id": "99c88c36-acfa-45af-a72d-38fafc84dd86",
   "metadata": {},
   "outputs": [],
   "source": []
  },
  {
   "cell_type": "code",
   "execution_count": null,
   "id": "86aab3b0-9fe4-4211-82e7-2fa467220fdd",
   "metadata": {},
   "outputs": [],
   "source": []
  },
  {
   "cell_type": "code",
   "execution_count": null,
   "id": "73ea28ce-0bc2-48da-ac17-759d38114daa",
   "metadata": {},
   "outputs": [],
   "source": []
  },
  {
   "cell_type": "code",
   "execution_count": 165,
   "id": "71319b74-49b3-4111-a3f5-5d7905b50c00",
   "metadata": {},
   "outputs": [],
   "source": [
    "df_goog_daily_expectation = get_df_daily_expectation(df_goog_market_open_history)"
   ]
  },
  {
   "cell_type": "code",
   "execution_count": 199,
   "id": "75bc5f70-fa1a-41ca-ba53-43e1a9e53ee1",
   "metadata": {},
   "outputs": [
    {
     "data": {
      "text/html": [
       "<div>\n",
       "<style scoped>\n",
       "    .dataframe tbody tr th:only-of-type {\n",
       "        vertical-align: middle;\n",
       "    }\n",
       "\n",
       "    .dataframe tbody tr th {\n",
       "        vertical-align: top;\n",
       "    }\n",
       "\n",
       "    .dataframe thead th {\n",
       "        text-align: right;\n",
       "    }\n",
       "</style>\n",
       "<table border=\"1\" class=\"dataframe\">\n",
       "  <thead>\n",
       "    <tr style=\"text-align: right;\">\n",
       "      <th></th>\n",
       "      <th>c_market_open</th>\n",
       "      <th>regime</th>\n",
       "      <th>expected_move</th>\n",
       "      <th>lower_price</th>\n",
       "      <th>upper_price</th>\n",
       "    </tr>\n",
       "    <tr>\n",
       "      <th>t</th>\n",
       "      <th></th>\n",
       "      <th></th>\n",
       "      <th></th>\n",
       "      <th></th>\n",
       "      <th></th>\n",
       "    </tr>\n",
       "  </thead>\n",
       "  <tbody>\n",
       "    <tr>\n",
       "      <th>2023-05-02</th>\n",
       "      <td>107.590</td>\n",
       "      <td>-1</td>\n",
       "      <td>0.00300</td>\n",
       "      <td>107.27</td>\n",
       "      <td>107.91</td>\n",
       "    </tr>\n",
       "    <tr>\n",
       "      <th>2023-05-03</th>\n",
       "      <td>106.300</td>\n",
       "      <td>-1</td>\n",
       "      <td>0.00600</td>\n",
       "      <td>105.66</td>\n",
       "      <td>106.94</td>\n",
       "    </tr>\n",
       "    <tr>\n",
       "      <th>2023-05-04</th>\n",
       "      <td>105.555</td>\n",
       "      <td>-1</td>\n",
       "      <td>0.00465</td>\n",
       "      <td>105.06</td>\n",
       "      <td>106.05</td>\n",
       "    </tr>\n",
       "    <tr>\n",
       "      <th>2023-05-05</th>\n",
       "      <td>105.255</td>\n",
       "      <td>1</td>\n",
       "      <td>0.00410</td>\n",
       "      <td>104.82</td>\n",
       "      <td>105.69</td>\n",
       "    </tr>\n",
       "    <tr>\n",
       "      <th>2023-05-08</th>\n",
       "      <td>106.650</td>\n",
       "      <td>1</td>\n",
       "      <td>0.00320</td>\n",
       "      <td>106.31</td>\n",
       "      <td>106.99</td>\n",
       "    </tr>\n",
       "    <tr>\n",
       "      <th>...</th>\n",
       "      <td>...</td>\n",
       "      <td>...</td>\n",
       "      <td>...</td>\n",
       "      <td>...</td>\n",
       "      <td>...</td>\n",
       "    </tr>\n",
       "    <tr>\n",
       "      <th>2024-06-26</th>\n",
       "      <td>184.630</td>\n",
       "      <td>1</td>\n",
       "      <td>0.00235</td>\n",
       "      <td>184.20</td>\n",
       "      <td>185.06</td>\n",
       "    </tr>\n",
       "    <tr>\n",
       "      <th>2024-06-27</th>\n",
       "      <td>186.650</td>\n",
       "      <td>1</td>\n",
       "      <td>0.00240</td>\n",
       "      <td>186.20</td>\n",
       "      <td>187.10</td>\n",
       "    </tr>\n",
       "    <tr>\n",
       "      <th>2024-06-28</th>\n",
       "      <td>184.450</td>\n",
       "      <td>1</td>\n",
       "      <td>0.00280</td>\n",
       "      <td>183.93</td>\n",
       "      <td>184.97</td>\n",
       "    </tr>\n",
       "    <tr>\n",
       "      <th>2024-07-01</th>\n",
       "      <td>184.790</td>\n",
       "      <td>1</td>\n",
       "      <td>0.00255</td>\n",
       "      <td>184.32</td>\n",
       "      <td>185.26</td>\n",
       "    </tr>\n",
       "    <tr>\n",
       "      <th>2024-07-02</th>\n",
       "      <td>183.455</td>\n",
       "      <td>1</td>\n",
       "      <td>0.00250</td>\n",
       "      <td>183.00</td>\n",
       "      <td>183.91</td>\n",
       "    </tr>\n",
       "  </tbody>\n",
       "</table>\n",
       "<p>294 rows × 5 columns</p>\n",
       "</div>"
      ],
      "text/plain": [
       "            c_market_open  regime  expected_move  lower_price  upper_price\n",
       "t                                                                         \n",
       "2023-05-02        107.590      -1        0.00300       107.27       107.91\n",
       "2023-05-03        106.300      -1        0.00600       105.66       106.94\n",
       "2023-05-04        105.555      -1        0.00465       105.06       106.05\n",
       "2023-05-05        105.255       1        0.00410       104.82       105.69\n",
       "2023-05-08        106.650       1        0.00320       106.31       106.99\n",
       "...                   ...     ...            ...          ...          ...\n",
       "2024-06-26        184.630       1        0.00235       184.20       185.06\n",
       "2024-06-27        186.650       1        0.00240       186.20       187.10\n",
       "2024-06-28        184.450       1        0.00280       183.93       184.97\n",
       "2024-07-01        184.790       1        0.00255       184.32       185.26\n",
       "2024-07-02        183.455       1        0.00250       183.00       183.91\n",
       "\n",
       "[294 rows x 5 columns]"
      ]
     },
     "execution_count": 199,
     "metadata": {},
     "output_type": "execute_result"
    }
   ],
   "source": [
    "df_goog_daily_expectation"
   ]
  },
  {
   "cell_type": "code",
   "execution_count": null,
   "id": "42491c28-0145-4910-ae8b-ec0befcfc638",
   "metadata": {},
   "outputs": [],
   "source": []
  },
  {
   "cell_type": "code",
   "execution_count": 166,
   "id": "0b2947f5-e4d1-4f4b-b267-eaeb7ba4ee62",
   "metadata": {},
   "outputs": [],
   "source": [
    "df_sbux_daily_expectation = get_df_daily_expectation(df_sbux_market_open_history)"
   ]
  },
  {
   "cell_type": "code",
   "execution_count": null,
   "id": "91f08336-948c-4cd9-85aa-b8c1cc142014",
   "metadata": {},
   "outputs": [],
   "source": []
  },
  {
   "cell_type": "markdown",
   "id": "99715830-835b-4286-be26-0a3ac2b907cc",
   "metadata": {
    "jp-MarkdownHeadingCollapsed": true,
    "tags": []
   },
   "source": [
    "## cache options data"
   ]
  },
  {
   "cell_type": "code",
   "execution_count": 300,
   "id": "bb5b63a4-14f0-4ecf-b84b-2c675fbffa13",
   "metadata": {},
   "outputs": [],
   "source": [
    "def get_df_options_history(ticker, side):\n",
    "    dfs = []\n",
    "    for date in trading_dates[1:]:\n",
    "        df = polygon_url_to_dataframe(get_polygon_options_contracts_query_url(\n",
    "            ticker, side, date, date))\n",
    "        df['date'] = date\n",
    "        print(f\"{date}\\n{df.head(2)}\")\n",
    "        dfs.append(df)\n",
    "    df = pd.concat(dfs, ignore_index=True)\n",
    "    return df"
   ]
  },
  {
   "cell_type": "code",
   "execution_count": 14,
   "id": "6951421c-e405-4c2b-b778-4c2a8c8cb932",
   "metadata": {},
   "outputs": [],
   "source": [
    "df_spx_call_options_history = get_df_options_history(\"SPX\", \"call\")\n",
    "df_spx_put_options_history = get_df_options_history(\"SPX\", \"put\")\n",
    "df_spx_call_options_history.to_pickle('market_data/df_spx_call_options_history.pkl')\n",
    "df_spx_put_options_history.to_pickle('market_data/df_spx_put_options_history.pkl')"
   ]
  },
  {
   "cell_type": "code",
   "execution_count": null,
   "id": "73c909de-b6c6-44a5-b230-3f52b94eef44",
   "metadata": {},
   "outputs": [],
   "source": []
  },
  {
   "cell_type": "code",
   "execution_count": 82,
   "id": "f5ce9f18-714a-4e4f-bd55-44555eb6e1ea",
   "metadata": {},
   "outputs": [],
   "source": [
    "df_goog_call_options_history = get_df_options_history(ticker_goog, \"call\")\n",
    "df_goog_put_options_history = get_df_options_history(ticker_goog, \"put\")\n",
    "df_goog_call_options_history.to_pickle('market_data/df_goog_call_options_history.pkl')\n",
    "df_goog_put_options_history.to_pickle('market_data/df_goog_put_options_history.pkl')"
   ]
  },
  {
   "cell_type": "code",
   "execution_count": null,
   "id": "1aaf8d3f-d477-468e-9c91-0993b8d8da0c",
   "metadata": {},
   "outputs": [],
   "source": []
  },
  {
   "cell_type": "code",
   "execution_count": 83,
   "id": "509e3467-bad3-4e72-b5a8-921f3797746c",
   "metadata": {},
   "outputs": [],
   "source": [
    "df_sbux_call_options_history = get_df_options_history(ticker_sbux, \"call\")\n",
    "df_sbux_put_options_history = get_df_options_history(ticker_sbux, \"put\")\n",
    "df_sbux_call_options_history.to_pickle('market_data/df_sbux_call_options_history.pkl')\n",
    "df_sbux_put_options_history.to_pickle('market_data/df_sbux_put_options_history.pkl')"
   ]
  },
  {
   "cell_type": "code",
   "execution_count": null,
   "id": "b90edd4b-0d38-4630-a854-55e1eff70200",
   "metadata": {},
   "outputs": [],
   "source": []
  },
  {
   "cell_type": "code",
   "execution_count": null,
   "id": "aa7b07f0-2bd7-45f5-b9cd-1e6f7c81f227",
   "metadata": {},
   "outputs": [],
   "source": []
  },
  {
   "cell_type": "markdown",
   "id": "1239e5fa-e40a-4abf-8879-54aaa41777a0",
   "metadata": {
    "jp-MarkdownHeadingCollapsed": true,
    "tags": []
   },
   "source": [
    "## cache intraday options data"
   ]
  },
  {
   "cell_type": "code",
   "execution_count": 17,
   "id": "e3410b17-7e6b-419b-a214-cf1dbd4d25a1",
   "metadata": {},
   "outputs": [],
   "source": [
    "def concat_otm_short_long(df_otm_short, df_otm_long, o_or_c, option_type):\n",
    "    df_otm_options = pd.concat([\n",
    "        df_otm_short.add_suffix(f\"_market_{o_or_c}_s_{option_type}\"), \n",
    "        df_otm_long.add_suffix(f\"_market_{o_or_c}_l_{option_type}\")], axis = 1)\n",
    "    df_otm_options[f\"market_{o_or_c}_spread\"] = df_otm_options[f\"c_market_{o_or_c}_s_{option_type}\"] - \\\n",
    "        df_otm_options[f\"c_market_{o_or_c}_l_{option_type}\"]\n",
    "    return df_otm_options"
   ]
  },
  {
   "cell_type": "code",
   "execution_count": null,
   "id": "96ed0457-5c50-4e23-a2cd-c0a137ba41cd",
   "metadata": {},
   "outputs": [],
   "source": []
  },
  {
   "cell_type": "code",
   "execution_count": 318,
   "id": "ab907751-7ee5-4f1b-9ae0-117dadbdc0f1",
   "metadata": {},
   "outputs": [],
   "source": [
    "def get_df_otm_options_spread(date_str, df_otm_options_history, option_type):\n",
    "    df_otm_options_daily = df_otm_options_history[df_otm_options_history.expiration_date == date_str]\n",
    "    if df_otm_options_daily.empty:\n",
    "        return None\n",
    "\n",
    "    if option_type == \"call\":\n",
    "        otm_short_ticker = df_otm_options_daily.head(1).ticker.values[0]\n",
    "        otm_long_ticker = df_otm_options_daily.head(2).tail(1).ticker.values[0]\n",
    "    else:\n",
    "        otm_short_ticker = df_otm_options_daily.tail(1).ticker.values[0]\n",
    "        otm_long_ticker = df_otm_options_daily.tail(2).head(1).ticker.values[0]\n",
    "\n",
    "    df_otm_short_option_intraday = polygon_url_to_dataframe(get_polygon_intraday_query_url(otm_short_ticker, date_str))\n",
    "    df_otm_long_option_intraday = polygon_url_to_dataframe(get_polygon_intraday_query_url(otm_long_ticker, date_str))\n",
    "    if df_otm_short_option_intraday.empty or df_otm_long_option_intraday.empty:\n",
    "        return None\n",
    "    \n",
    "    df_otm_short_option_market_open = get_df_market_open_from_intraday(df_otm_short_option_intraday)\n",
    "    df_otm_long_option_market_open = get_df_market_open_from_intraday(df_otm_long_option_intraday)\n",
    "    df_otm_options_market_open = concat_otm_short_long(\n",
    "        df_otm_short_option_market_open, df_otm_long_option_market_open,\n",
    "        \"o\", option_type\n",
    "    )\n",
    "\n",
    "    df_otm_short_option_market_close = get_df_market_close_from_intraday(df_otm_short_option_intraday)\n",
    "    df_otm_long_option_market_close = get_df_market_close_from_intraday(df_otm_long_option_intraday)\n",
    "    df_otm_options_market_close = concat_otm_short_long(\n",
    "        df_otm_short_option_market_close, df_otm_long_option_market_close,\n",
    "        \"c\", option_type\n",
    "    )    \n",
    "    \n",
    "    df_otm_options = df_otm_options_market_open.join(df_otm_options_market_close)\n",
    "    df_otm_options[\"pnl\"] = df_otm_options[\"market_o_spread\"] - df_otm_options[\"market_c_spread\"]\n",
    "\n",
    "    return df_otm_options"
   ]
  },
  {
   "cell_type": "code",
   "execution_count": 281,
   "id": "845bd8b7-8fdb-4270-a38d-6da613813315",
   "metadata": {
    "tags": []
   },
   "outputs": [],
   "source": [
    "def get_df_otm_options_spread_history(df_daily_expectation, df_options_history, option_type):\n",
    "    df_otm_options_history = df_options_history.join(df_daily_expectation, on='expiration_date')\n",
    "    if option_type == \"call\":\n",
    "        df_otm_options_history = df_otm_options_history[\n",
    "            df_otm_options_history.strike_price > df_otm_options_history.upper_price\n",
    "        ]    \n",
    "    else:\n",
    "        df_otm_options_history = df_otm_options_history[\n",
    "            df_otm_options_history.strike_price < df_otm_options_history.lower_price\n",
    "        ]\n",
    "    \n",
    "    dfs = []\n",
    "    for date in trading_dates[1:]:\n",
    "        df_date = get_df_otm_options_spread(date, df_otm_options_history, option_type)\n",
    "        if df_date is None:\n",
    "            continue\n",
    "        dfs.append(df_date)\n",
    "    df = pd.concat(dfs, ignore_index=False)\n",
    "    return df"
   ]
  },
  {
   "cell_type": "code",
   "execution_count": null,
   "id": "9966826a-5afa-4dcd-bfa7-d6226f323e46",
   "metadata": {},
   "outputs": [],
   "source": []
  },
  {
   "cell_type": "code",
   "execution_count": null,
   "id": "171b1edd-890b-4123-804b-be93bd57c0de",
   "metadata": {},
   "outputs": [],
   "source": [
    "df_spx_otm_call_options_spread_history = get_df_otm_options_spread_history(df_spx_daily_expectation, df_spx_call_options_history, \"call\")"
   ]
  },
  {
   "cell_type": "code",
   "execution_count": 34,
   "id": "e0ad9006-0413-4438-9e21-f5345b811295",
   "metadata": {},
   "outputs": [],
   "source": [
    "df_spx_otm_call_options_spread_history.to_pickle('market_data/df_spx_otm_call_options_spread_history.pkl')"
   ]
  },
  {
   "cell_type": "code",
   "execution_count": 38,
   "id": "d2cfcf65-b7cb-45fe-a6ae-2fe6af13ebc2",
   "metadata": {},
   "outputs": [],
   "source": [
    "df_spx_otm_put_options_spread_history = get_df_otm_options_spread_history(df_spx_daily_expectation, df_spx_put_options_history, \"put\")"
   ]
  },
  {
   "cell_type": "code",
   "execution_count": 39,
   "id": "3c32c7c4-9dbe-4b51-9309-9a4d78ebe071",
   "metadata": {},
   "outputs": [],
   "source": [
    "df_spx_otm_put_options_spread_history.to_pickle('market_data/df_spx_otm_put_options_spread_history.pkl')"
   ]
  },
  {
   "cell_type": "code",
   "execution_count": null,
   "id": "703cf6f5-59a5-48e6-83bc-fd6d573e6886",
   "metadata": {},
   "outputs": [],
   "source": []
  },
  {
   "cell_type": "code",
   "execution_count": null,
   "id": "2f3a2230-520d-48c8-a5e0-1155b533e353",
   "metadata": {},
   "outputs": [],
   "source": []
  },
  {
   "cell_type": "code",
   "execution_count": null,
   "id": "6587f6be-30eb-4edf-b8ac-62e4a4e613b7",
   "metadata": {},
   "outputs": [],
   "source": []
  },
  {
   "cell_type": "code",
   "execution_count": 283,
   "id": "05165aa5-7ccd-4361-a320-d6b4fb11d7ba",
   "metadata": {},
   "outputs": [],
   "source": [
    "df_daily_expectation = df_goog_daily_expectation.copy()\n",
    "df_options_history = df_goog_call_options_history.copy()\n",
    "df_otm_options_history = df_options_history.join(df_daily_expectation, on='expiration_date')\n",
    "option_type = \"call\"\n",
    "if option_type == \"call\":\n",
    "    df_otm_options_history = df_otm_options_history[\n",
    "        df_otm_options_history.strike_price > df_otm_options_history.upper_price\n",
    "    ]    \n",
    "else:\n",
    "    df_otm_options_history = df_otm_options_history[\n",
    "        df_otm_options_history.strike_price < df_otm_options_history.lower_price\n",
    "    ]\n"
   ]
  },
  {
   "cell_type": "code",
   "execution_count": 319,
   "id": "a8809088-3c51-4122-90a7-c068acefad08",
   "metadata": {
    "collapsed": true,
    "jupyter": {
     "outputs_hidden": true
    },
    "tags": []
   },
   "outputs": [
    {
     "name": "stderr",
     "output_type": "stream",
     "text": [
      "\n",
      "KeyboardInterrupt\n",
      "\n"
     ]
    }
   ],
   "source": [
    "df_goog_otm_call_options_spread_history = get_df_otm_options_spread_history(df_goog_daily_expectation, df_goog_call_options_history, \"call\")"
   ]
  },
  {
   "cell_type": "code",
   "execution_count": 244,
   "id": "a5193062-16e3-41ad-be48-8dc604123641",
   "metadata": {},
   "outputs": [],
   "source": [
    "df_goog_otm_call_options_spread_history.to_pickle('market_data/df_goog_otm_call_options_spread_history.pkl')"
   ]
  },
  {
   "cell_type": "code",
   "execution_count": 245,
   "id": "ac491fed-4469-4f40-b9b5-4d20fe1437e0",
   "metadata": {},
   "outputs": [],
   "source": [
    "df_goog_otm_put_options_spread_history = get_df_otm_options_spread_history(df_goog_daily_expectation, df_goog_put_options_history, \"put\")"
   ]
  },
  {
   "cell_type": "code",
   "execution_count": 246,
   "id": "9d3d8ecb-378b-4f2e-9438-aefce32a2d0d",
   "metadata": {},
   "outputs": [],
   "source": [
    "df_goog_otm_put_options_spread_history.to_pickle('market_data/df_goog_otm_put_options_spread_history.pkl')"
   ]
  },
  {
   "cell_type": "code",
   "execution_count": null,
   "id": "060731e8-0bc9-4a29-a06d-edda36306616",
   "metadata": {},
   "outputs": [],
   "source": []
  },
  {
   "cell_type": "code",
   "execution_count": 247,
   "id": "6e74a054-9d98-4b17-940c-79e206f4cec9",
   "metadata": {},
   "outputs": [],
   "source": [
    "df_sbux_otm_call_options_spread_history = get_df_otm_options_spread_history(df_sbux_daily_expectation, df_sbux_call_options_history, \"call\")"
   ]
  },
  {
   "cell_type": "code",
   "execution_count": 248,
   "id": "8669523e-d1f5-46bf-a257-92d53af6c877",
   "metadata": {},
   "outputs": [],
   "source": [
    "df_sbux_otm_call_options_spread_history.to_pickle('market_data/df_sbux_otm_call_options_spread_history.pkl')"
   ]
  },
  {
   "cell_type": "code",
   "execution_count": 249,
   "id": "ff61652c-dbf4-4e0e-a11e-c6340a7c7c30",
   "metadata": {},
   "outputs": [],
   "source": [
    "df_sbux_otm_put_options_spread_history = get_df_otm_options_spread_history(df_sbux_daily_expectation, df_sbux_put_options_history, \"put\")"
   ]
  },
  {
   "cell_type": "code",
   "execution_count": 250,
   "id": "8362de68-4260-4df2-a69e-05d9766d36b2",
   "metadata": {},
   "outputs": [],
   "source": [
    "df_sbux_otm_put_options_spread_history.to_pickle('market_data/df_sbux_otm_put_options_spread_history.pkl')"
   ]
  },
  {
   "cell_type": "code",
   "execution_count": null,
   "id": "964fae58-b97b-4176-a504-d13fb5e621a5",
   "metadata": {},
   "outputs": [],
   "source": []
  },
  {
   "cell_type": "code",
   "execution_count": null,
   "id": "6c58c7de-4f39-43da-b4cc-168bbc18eeb8",
   "metadata": {},
   "outputs": [],
   "source": []
  },
  {
   "cell_type": "markdown",
   "id": "61ac84e9-ed5d-45da-a6ea-5c2e9e43e7ed",
   "metadata": {
    "jp-MarkdownHeadingCollapsed": true,
    "tags": []
   },
   "source": [
    "## read cached options data"
   ]
  },
  {
   "cell_type": "code",
   "execution_count": null,
   "id": "7613c989-e92e-491b-8372-cf1a9ccbb092",
   "metadata": {},
   "outputs": [],
   "source": [
    "df_spx_call_options_history = pd.read_pickle('market_data/df_spx_call_options_history.pkl')\n",
    "df_spx_put_options_history = pd.read_pickle('market_data/df_spx_put_options_history.pkl')"
   ]
  },
  {
   "cell_type": "code",
   "execution_count": null,
   "id": "5e4fd4c8-9bb6-47a3-9479-5c0bcdc36ebf",
   "metadata": {},
   "outputs": [],
   "source": [
    "df_spx_otm_call_options_spread_history = pd.read_pickle('market_data/df_spx_otm_call_options_spread_history.pkl')\n",
    "df_spx_otm_put_options_spread_history = pd.read_pickle('market_data/df_spx_otm_put_options_spread_history.pkl')"
   ]
  },
  {
   "cell_type": "code",
   "execution_count": null,
   "id": "21a5049e-212b-40b7-83ef-1f9972fd839e",
   "metadata": {},
   "outputs": [],
   "source": []
  },
  {
   "cell_type": "code",
   "execution_count": null,
   "id": "977a59f6-a628-4f43-a9dd-2835dace2c77",
   "metadata": {},
   "outputs": [],
   "source": [
    "df_goog_call_options_history = pd.read_pickle('market_data/df_goog_call_options_history.pkl')\n",
    "df_goog_put_options_history = pd.read_pickle('market_data/df_goog_put_options_history.pkl')"
   ]
  },
  {
   "cell_type": "code",
   "execution_count": null,
   "id": "4041108c-46c4-46dd-82cb-cda8dcd5afd0",
   "metadata": {},
   "outputs": [],
   "source": [
    "df_goog_otm_call_options_spread_history = pd.read_pickle('market_data/df_goog_otm_call_options_spread_history.pkl')\n",
    "df_goog_otm_put_options_spread_history = pd.read_pickle('market_data/df_goog_otm_put_options_spread_history.pkl')"
   ]
  },
  {
   "cell_type": "code",
   "execution_count": null,
   "id": "f1e71bdc-981f-41ab-9353-d802fcc56e58",
   "metadata": {},
   "outputs": [],
   "source": []
  },
  {
   "cell_type": "code",
   "execution_count": null,
   "id": "b338dcc6-ad3c-4914-ae2d-ce86ee092ed4",
   "metadata": {},
   "outputs": [],
   "source": [
    "df_sbux_call_options_history = pd.read_pickle('market_data/df_sbux_call_options_history.pkl')\n",
    "df_sbux_put_options_history = pd.read_pickle('market_data/df_sbux_put_options_history.pkl')"
   ]
  },
  {
   "cell_type": "code",
   "execution_count": null,
   "id": "2488dee1-38a9-4da0-ac5a-49e52025748a",
   "metadata": {},
   "outputs": [],
   "source": [
    "df_sbux_otm_call_options_spread_history = pd.read_pickle('market_data/df_sbux_otm_call_options_spread_history.pkl')\n",
    "df_sbux_otm_put_options_spread_history = pd.read_pickle('market_data/df_sbux_otm_put_options_spread_history.pkl')"
   ]
  },
  {
   "cell_type": "code",
   "execution_count": null,
   "id": "b42eddc4-9277-447c-b149-5a14db2a45c4",
   "metadata": {},
   "outputs": [],
   "source": []
  },
  {
   "cell_type": "markdown",
   "id": "e977f34f-dc15-442a-9d40-04575191a381",
   "metadata": {
    "jp-MarkdownHeadingCollapsed": true,
    "tags": []
   },
   "source": [
    "## logic with options data"
   ]
  },
  {
   "cell_type": "code",
   "execution_count": 154,
   "id": "efe55471-5e5f-4e65-9810-77486e85ebea",
   "metadata": {},
   "outputs": [],
   "source": [
    "df_spx_algo = df_spx_daily_expectation.join(df_spx_otm_call_options_spread_history[[\"pnl\"]].add_suffix(\"_call\")).join(\n",
    "    df_spx_otm_put_options_spread_history[[\"pnl\"]].add_suffix(\"_put\")\n",
    ")\n",
    "df_spx_algo['pnl_c_n_reg'] = np.where(df_spx_algo.regime < 0, df_spx_algo.pnl_call, 0)\n",
    "df_spx_algo['pnl_p_p_reg'] = np.where(df_spx_algo.regime > 0, df_spx_algo.pnl_put, 0)"
   ]
  },
  {
   "cell_type": "code",
   "execution_count": 392,
   "id": "eb461120-840c-418c-bb63-4cbdda7d6b62",
   "metadata": {},
   "outputs": [
    {
     "data": {
      "text/html": [
       "<div>\n",
       "<style scoped>\n",
       "    .dataframe tbody tr th:only-of-type {\n",
       "        vertical-align: middle;\n",
       "    }\n",
       "\n",
       "    .dataframe tbody tr th {\n",
       "        vertical-align: top;\n",
       "    }\n",
       "\n",
       "    .dataframe thead th {\n",
       "        text-align: right;\n",
       "    }\n",
       "</style>\n",
       "<table border=\"1\" class=\"dataframe\">\n",
       "  <thead>\n",
       "    <tr style=\"text-align: right;\">\n",
       "      <th></th>\n",
       "      <th>c_market_open</th>\n",
       "      <th>regime</th>\n",
       "      <th>expected_move</th>\n",
       "      <th>lower_price</th>\n",
       "      <th>upper_price</th>\n",
       "      <th>pnl_call</th>\n",
       "      <th>pnl_put</th>\n",
       "      <th>pnl_c_n_reg</th>\n",
       "      <th>pnl_p_p_reg</th>\n",
       "    </tr>\n",
       "    <tr>\n",
       "      <th>t</th>\n",
       "      <th></th>\n",
       "      <th></th>\n",
       "      <th></th>\n",
       "      <th></th>\n",
       "      <th></th>\n",
       "      <th></th>\n",
       "      <th></th>\n",
       "      <th></th>\n",
       "      <th></th>\n",
       "    </tr>\n",
       "  </thead>\n",
       "  <tbody>\n",
       "    <tr>\n",
       "      <th>2023-05-02</th>\n",
       "      <td>4153.26</td>\n",
       "      <td>-1</td>\n",
       "      <td>0.00300</td>\n",
       "      <td>4140.80</td>\n",
       "      <td>4165.72</td>\n",
       "      <td>0.90</td>\n",
       "      <td>-2.16</td>\n",
       "      <td>0.90</td>\n",
       "      <td>0.00</td>\n",
       "    </tr>\n",
       "    <tr>\n",
       "      <th>2023-05-03</th>\n",
       "      <td>4125.70</td>\n",
       "      <td>-1</td>\n",
       "      <td>0.00600</td>\n",
       "      <td>4100.95</td>\n",
       "      <td>4150.45</td>\n",
       "      <td>1.31</td>\n",
       "      <td>-3.62</td>\n",
       "      <td>1.31</td>\n",
       "      <td>0.00</td>\n",
       "    </tr>\n",
       "    <tr>\n",
       "      <th>2023-05-04</th>\n",
       "      <td>4081.20</td>\n",
       "      <td>-1</td>\n",
       "      <td>0.00465</td>\n",
       "      <td>4062.22</td>\n",
       "      <td>4100.18</td>\n",
       "      <td>1.10</td>\n",
       "      <td>1.08</td>\n",
       "      <td>1.10</td>\n",
       "      <td>0.00</td>\n",
       "    </tr>\n",
       "    <tr>\n",
       "      <th>2023-05-05</th>\n",
       "      <td>4104.23</td>\n",
       "      <td>1</td>\n",
       "      <td>0.00410</td>\n",
       "      <td>4087.40</td>\n",
       "      <td>4121.06</td>\n",
       "      <td>-5.85</td>\n",
       "      <td>1.10</td>\n",
       "      <td>0.00</td>\n",
       "      <td>1.10</td>\n",
       "    </tr>\n",
       "    <tr>\n",
       "      <th>2023-05-08</th>\n",
       "      <td>4137.65</td>\n",
       "      <td>1</td>\n",
       "      <td>0.00320</td>\n",
       "      <td>4124.41</td>\n",
       "      <td>4150.89</td>\n",
       "      <td>0.83</td>\n",
       "      <td>0.85</td>\n",
       "      <td>0.00</td>\n",
       "      <td>0.85</td>\n",
       "    </tr>\n",
       "    <tr>\n",
       "      <th>...</th>\n",
       "      <td>...</td>\n",
       "      <td>...</td>\n",
       "      <td>...</td>\n",
       "      <td>...</td>\n",
       "      <td>...</td>\n",
       "      <td>...</td>\n",
       "      <td>...</td>\n",
       "      <td>...</td>\n",
       "      <td>...</td>\n",
       "    </tr>\n",
       "    <tr>\n",
       "      <th>2024-06-26</th>\n",
       "      <td>5457.73</td>\n",
       "      <td>1</td>\n",
       "      <td>0.00235</td>\n",
       "      <td>5444.90</td>\n",
       "      <td>5470.56</td>\n",
       "      <td>-2.13</td>\n",
       "      <td>0.90</td>\n",
       "      <td>0.00</td>\n",
       "      <td>0.90</td>\n",
       "    </tr>\n",
       "    <tr>\n",
       "      <th>2024-06-27</th>\n",
       "      <td>5483.08</td>\n",
       "      <td>1</td>\n",
       "      <td>0.00240</td>\n",
       "      <td>5469.92</td>\n",
       "      <td>5496.24</td>\n",
       "      <td>1.10</td>\n",
       "      <td>0.84</td>\n",
       "      <td>0.00</td>\n",
       "      <td>0.84</td>\n",
       "    </tr>\n",
       "    <tr>\n",
       "      <th>2024-06-28</th>\n",
       "      <td>5496.61</td>\n",
       "      <td>1</td>\n",
       "      <td>0.00280</td>\n",
       "      <td>5481.22</td>\n",
       "      <td>5512.00</td>\n",
       "      <td>1.25</td>\n",
       "      <td>-3.76</td>\n",
       "      <td>0.00</td>\n",
       "      <td>-3.76</td>\n",
       "    </tr>\n",
       "    <tr>\n",
       "      <th>2024-07-01</th>\n",
       "      <td>5475.76</td>\n",
       "      <td>1</td>\n",
       "      <td>0.00255</td>\n",
       "      <td>5461.80</td>\n",
       "      <td>5489.72</td>\n",
       "      <td>1.23</td>\n",
       "      <td>0.85</td>\n",
       "      <td>0.00</td>\n",
       "      <td>0.85</td>\n",
       "    </tr>\n",
       "    <tr>\n",
       "      <th>2024-07-02</th>\n",
       "      <td>5465.69</td>\n",
       "      <td>1</td>\n",
       "      <td>0.00250</td>\n",
       "      <td>5452.03</td>\n",
       "      <td>5479.35</td>\n",
       "      <td>-1.80</td>\n",
       "      <td>1.29</td>\n",
       "      <td>0.00</td>\n",
       "      <td>1.29</td>\n",
       "    </tr>\n",
       "  </tbody>\n",
       "</table>\n",
       "<p>293 rows × 9 columns</p>\n",
       "</div>"
      ],
      "text/plain": [
       "            c_market_open  regime  expected_move  lower_price  upper_price  \\\n",
       "t                                                                            \n",
       "2023-05-02        4153.26      -1        0.00300      4140.80      4165.72   \n",
       "2023-05-03        4125.70      -1        0.00600      4100.95      4150.45   \n",
       "2023-05-04        4081.20      -1        0.00465      4062.22      4100.18   \n",
       "2023-05-05        4104.23       1        0.00410      4087.40      4121.06   \n",
       "2023-05-08        4137.65       1        0.00320      4124.41      4150.89   \n",
       "...                   ...     ...            ...          ...          ...   \n",
       "2024-06-26        5457.73       1        0.00235      5444.90      5470.56   \n",
       "2024-06-27        5483.08       1        0.00240      5469.92      5496.24   \n",
       "2024-06-28        5496.61       1        0.00280      5481.22      5512.00   \n",
       "2024-07-01        5475.76       1        0.00255      5461.80      5489.72   \n",
       "2024-07-02        5465.69       1        0.00250      5452.03      5479.35   \n",
       "\n",
       "            pnl_call  pnl_put  pnl_c_n_reg  pnl_p_p_reg  \n",
       "t                                                        \n",
       "2023-05-02      0.90    -2.16         0.90         0.00  \n",
       "2023-05-03      1.31    -3.62         1.31         0.00  \n",
       "2023-05-04      1.10     1.08         1.10         0.00  \n",
       "2023-05-05     -5.85     1.10         0.00         1.10  \n",
       "2023-05-08      0.83     0.85         0.00         0.85  \n",
       "...              ...      ...          ...          ...  \n",
       "2024-06-26     -2.13     0.90         0.00         0.90  \n",
       "2024-06-27      1.10     0.84         0.00         0.84  \n",
       "2024-06-28      1.25    -3.76         0.00        -3.76  \n",
       "2024-07-01      1.23     0.85         0.00         0.85  \n",
       "2024-07-02     -1.80     1.29         0.00         1.29  \n",
       "\n",
       "[293 rows x 9 columns]"
      ]
     },
     "execution_count": 392,
     "metadata": {},
     "output_type": "execute_result"
    }
   ],
   "source": [
    "df_spx_algo"
   ]
  },
  {
   "cell_type": "code",
   "execution_count": 390,
   "id": "3d3d5429-3c4b-47a9-be3f-b95fddb3f4ec",
   "metadata": {},
   "outputs": [
    {
     "data": {
      "text/plain": [
       "<AxesSubplot:xlabel='t'>"
      ]
     },
     "execution_count": 390,
     "metadata": {},
     "output_type": "execute_result"
    },
    {
     "data": {
      "image/png": "[encoded data removed]",
      "text/plain": [
       "<Figure size 800x200 with 1 Axes>"
      ]
     },
     "metadata": {},
     "output_type": "display_data"
    }
   ],
   "source": [
    "df_spx_algo[[\"pnl_c_n_reg\", \"pnl_p_p_reg\"]].cumsum().plot(figsize=(8,2))"
   ]
  },
  {
   "cell_type": "code",
   "execution_count": null,
   "id": "f33e57ef-a250-422d-aa07-4e40f6fde369",
   "metadata": {},
   "outputs": [],
   "source": []
  },
  {
   "cell_type": "code",
   "execution_count": null,
   "id": "3c458e82-0df9-4eb0-aca1-0b0eef5de09a",
   "metadata": {},
   "outputs": [],
   "source": []
  },
  {
   "cell_type": "code",
   "execution_count": 388,
   "id": "8e2dfa7d-9b9d-40c8-a080-f3c07763d9ab",
   "metadata": {},
   "outputs": [
    {
     "data": {
      "text/html": [
       "<div>\n",
       "<style scoped>\n",
       "    .dataframe tbody tr th:only-of-type {\n",
       "        vertical-align: middle;\n",
       "    }\n",
       "\n",
       "    .dataframe tbody tr th {\n",
       "        vertical-align: top;\n",
       "    }\n",
       "\n",
       "    .dataframe thead th {\n",
       "        text-align: right;\n",
       "    }\n",
       "</style>\n",
       "<table border=\"1\" class=\"dataframe\">\n",
       "  <thead>\n",
       "    <tr style=\"text-align: right;\">\n",
       "      <th></th>\n",
       "      <th>pnl_call</th>\n",
       "      <th>pnl_put</th>\n",
       "    </tr>\n",
       "    <tr>\n",
       "      <th>regime</th>\n",
       "      <th></th>\n",
       "      <th></th>\n",
       "    </tr>\n",
       "  </thead>\n",
       "  <tbody>\n",
       "    <tr>\n",
       "      <th>-1</th>\n",
       "      <td>33.14</td>\n",
       "      <td>-74.90</td>\n",
       "    </tr>\n",
       "    <tr>\n",
       "      <th>1</th>\n",
       "      <td>-54.36</td>\n",
       "      <td>100.26</td>\n",
       "    </tr>\n",
       "  </tbody>\n",
       "</table>\n",
       "</div>"
      ],
      "text/plain": [
       "        pnl_call  pnl_put\n",
       "regime                   \n",
       "-1         33.14   -74.90\n",
       " 1        -54.36   100.26"
      ]
     },
     "execution_count": 388,
     "metadata": {},
     "output_type": "execute_result"
    }
   ],
   "source": [
    "df_spx_algo.groupby(\"regime\")[[\"pnl_call\", \"pnl_put\"]].sum()"
   ]
  },
  {
   "cell_type": "code",
   "execution_count": null,
   "id": "0929da42-bf4f-4838-b131-cd51729b5af0",
   "metadata": {},
   "outputs": [],
   "source": []
  },
  {
   "cell_type": "code",
   "execution_count": 157,
   "id": "f46d8533-811c-4f5f-98ce-29c12207fcbb",
   "metadata": {},
   "outputs": [
    {
     "name": "stderr",
     "output_type": "stream",
     "text": [
      "/var/folders/hh/x43xkncs2k7dm7t4vg3lt2cm0000gn/T/ipykernel_96764/2214457600.py:1: UserWarning: Boolean Series key will be reindexed to match DataFrame index.\n",
      "  df_spx_otm_call_options_spread_history[\n"
     ]
    },
    {
     "data": {
      "text/plain": [
       "c_market_o_s_call    323.67\n",
       "c_market_o_l_call    239.52\n",
       "market_o_spread       84.15\n",
       "c_market_c_s_call    196.58\n",
       "c_market_c_l_call    145.57\n",
       "market_c_spread       51.01\n",
       "pnl                   33.14\n",
       "dtype: float64"
      ]
     },
     "execution_count": 157,
     "metadata": {},
     "output_type": "execute_result"
    }
   ],
   "source": [
    "df_spx_otm_call_options_spread_history[\n",
    "    df_spx_algo[\"regime\"] < 0\n",
    "].sum()"
   ]
  },
  {
   "cell_type": "code",
   "execution_count": 158,
   "id": "204063f9-b7cd-4c83-b43c-51dd333272c0",
   "metadata": {},
   "outputs": [
    {
     "data": {
      "text/plain": [
       "c_market_o_s_call    1047.16\n",
       "c_market_o_l_call     732.10\n",
       "market_o_spread       315.06\n",
       "c_market_c_s_call    1132.63\n",
       "c_market_c_l_call     796.35\n",
       "market_c_spread       336.28\n",
       "pnl                   -21.22\n",
       "dtype: float64"
      ]
     },
     "execution_count": 158,
     "metadata": {},
     "output_type": "execute_result"
    }
   ],
   "source": [
    "df_spx_otm_call_options_spread_history.sum()"
   ]
  },
  {
   "cell_type": "code",
   "execution_count": null,
   "id": "1ce69efb-a545-4913-8283-ac54585d1ff0",
   "metadata": {},
   "outputs": [],
   "source": []
  },
  {
   "cell_type": "code",
   "execution_count": 159,
   "id": "bbaa8a37-4937-4f68-93b1-da349b156e65",
   "metadata": {},
   "outputs": [
    {
     "name": "stderr",
     "output_type": "stream",
     "text": [
      "/var/folders/hh/x43xkncs2k7dm7t4vg3lt2cm0000gn/T/ipykernel_96764/465159656.py:1: UserWarning: Boolean Series key will be reindexed to match DataFrame index.\n",
      "  df_spx_otm_put_options_spread_history[\n"
     ]
    },
    {
     "data": {
      "text/plain": [
       "c_market_o_s_put    896.91\n",
       "c_market_o_l_put    668.93\n",
       "market_o_spread     227.98\n",
       "c_market_c_s_put    478.88\n",
       "c_market_c_l_put    351.16\n",
       "market_c_spread     127.72\n",
       "pnl                 100.26\n",
       "dtype: float64"
      ]
     },
     "execution_count": 159,
     "metadata": {},
     "output_type": "execute_result"
    }
   ],
   "source": [
    "df_spx_otm_put_options_spread_history[\n",
    "    df_spx_algo[\"regime\"] > 0\n",
    "].sum()"
   ]
  },
  {
   "cell_type": "code",
   "execution_count": 160,
   "id": "2b8eb198-48cd-4638-a03e-a17aae3a5884",
   "metadata": {},
   "outputs": [
    {
     "data": {
      "text/plain": [
       "c_market_o_s_put    1306.32\n",
       "c_market_o_l_put     997.03\n",
       "market_o_spread      309.29\n",
       "c_market_c_s_put    1205.80\n",
       "c_market_c_l_put     921.87\n",
       "market_c_spread      283.93\n",
       "pnl                   25.36\n",
       "dtype: float64"
      ]
     },
     "execution_count": 160,
     "metadata": {},
     "output_type": "execute_result"
    }
   ],
   "source": [
    "df_spx_otm_put_options_spread_history.sum()"
   ]
  },
  {
   "cell_type": "code",
   "execution_count": null,
   "id": "f42ce38f-76b0-46f6-ada4-b016937631cc",
   "metadata": {},
   "outputs": [],
   "source": []
  },
  {
   "cell_type": "code",
   "execution_count": null,
   "id": "6348013f-c268-4c87-8706-b22ce922cdfa",
   "metadata": {},
   "outputs": [],
   "source": []
  },
  {
   "cell_type": "code",
   "execution_count": 394,
   "id": "730f9bc9-8062-4d33-ab59-41fa5889dece",
   "metadata": {},
   "outputs": [],
   "source": [
    "df_goog_algo = df_goog_daily_expectation.join(df_goog_otm_call_options_spread_history[[\"pnl\"]].add_suffix(\"_call\")).join(\n",
    "    df_goog_otm_put_options_spread_history[[\"pnl\"]].add_suffix(\"_put\")\n",
    ")\n",
    "df_goog_algo['pnl_c_n_reg'] = np.where(df_goog_algo.regime < 0, df_goog_algo.pnl_call, 0)\n",
    "df_goog_algo['pnl_p_p_reg'] = np.where(df_goog_algo.regime > 0, df_goog_algo.pnl_put, 0)"
   ]
  },
  {
   "cell_type": "code",
   "execution_count": 395,
   "id": "2a45631e-d4f5-4344-92be-33e4b385168a",
   "metadata": {},
   "outputs": [
    {
     "data": {
      "text/plain": [
       "<AxesSubplot:xlabel='t'>"
      ]
     },
     "execution_count": 395,
     "metadata": {},
     "output_type": "execute_result"
    },
    {
     "data": {
      "image/png": "[encoded data removed]",
      "text/plain": [
       "<Figure size 800x200 with 1 Axes>"
      ]
     },
     "metadata": {},
     "output_type": "display_data"
    }
   ],
   "source": [
    "df_goog_algo[[\"pnl_c_n_reg\", \"pnl_p_p_reg\"]].cumsum().plot(figsize=(8,2))"
   ]
  },
  {
   "cell_type": "code",
   "execution_count": 259,
   "id": "6367d8ed-8591-4ca0-b5e8-980936bc8be3",
   "metadata": {},
   "outputs": [
    {
     "data": {
      "text/html": [
       "<div>\n",
       "<style scoped>\n",
       "    .dataframe tbody tr th:only-of-type {\n",
       "        vertical-align: middle;\n",
       "    }\n",
       "\n",
       "    .dataframe tbody tr th {\n",
       "        vertical-align: top;\n",
       "    }\n",
       "\n",
       "    .dataframe thead th {\n",
       "        text-align: right;\n",
       "    }\n",
       "</style>\n",
       "<table border=\"1\" class=\"dataframe\">\n",
       "  <thead>\n",
       "    <tr style=\"text-align: right;\">\n",
       "      <th></th>\n",
       "      <th>pnl_call</th>\n",
       "      <th>pnl_put</th>\n",
       "    </tr>\n",
       "    <tr>\n",
       "      <th>regime</th>\n",
       "      <th></th>\n",
       "      <th></th>\n",
       "    </tr>\n",
       "  </thead>\n",
       "  <tbody>\n",
       "    <tr>\n",
       "      <th>-1</th>\n",
       "      <td>2.33</td>\n",
       "      <td>0.86</td>\n",
       "    </tr>\n",
       "    <tr>\n",
       "      <th>1</th>\n",
       "      <td>2.63</td>\n",
       "      <td>3.39</td>\n",
       "    </tr>\n",
       "  </tbody>\n",
       "</table>\n",
       "</div>"
      ],
      "text/plain": [
       "        pnl_call  pnl_put\n",
       "regime                   \n",
       "-1          2.33     0.86\n",
       " 1          2.63     3.39"
      ]
     },
     "execution_count": 259,
     "metadata": {},
     "output_type": "execute_result"
    }
   ],
   "source": [
    "df_goog_algo.groupby(\"regime\")[[\"pnl_call\", \"pnl_put\"]].sum()"
   ]
  },
  {
   "cell_type": "code",
   "execution_count": null,
   "id": "668c3f01-6ba6-4fb0-98d2-60301e39d99b",
   "metadata": {},
   "outputs": [],
   "source": []
  },
  {
   "cell_type": "code",
   "execution_count": 396,
   "id": "15b5e016-3978-485f-a4d8-5ca3c6d9a305",
   "metadata": {},
   "outputs": [],
   "source": [
    "df_sbux_algo = df_sbux_daily_expectation.join(df_sbux_otm_call_options_spread_history[[\"pnl\"]].add_suffix(\"_call\")).join(\n",
    "    df_sbux_otm_put_options_spread_history[[\"pnl\"]].add_suffix(\"_put\")\n",
    ")\n",
    "df_sbux_algo['pnl_c_n_reg'] = np.where(df_sbux_algo.regime < 0, df_sbux_algo.pnl_call, 0)\n",
    "df_sbux_algo['pnl_p_p_reg'] = np.where(df_sbux_algo.regime > 0, df_sbux_algo.pnl_put, 0)"
   ]
  },
  {
   "cell_type": "code",
   "execution_count": 397,
   "id": "a2031dd6-8dac-495e-ae55-1b0327ec8092",
   "metadata": {},
   "outputs": [
    {
     "data": {
      "text/plain": [
       "<AxesSubplot:xlabel='t'>"
      ]
     },
     "execution_count": 397,
     "metadata": {},
     "output_type": "execute_result"
    },
    {
     "data": {
      "image/png": "[encoded data removed]",
      "text/plain": [
       "<Figure size 800x200 with 1 Axes>"
      ]
     },
     "metadata": {},
     "output_type": "display_data"
    }
   ],
   "source": [
    "df_sbux_algo[[\"pnl_c_n_reg\", \"pnl_p_p_reg\"]].cumsum().plot(figsize=(8,2))"
   ]
  },
  {
   "cell_type": "code",
   "execution_count": 264,
   "id": "7a5f9d80-0428-490c-9cfc-ecbf57277412",
   "metadata": {},
   "outputs": [
    {
     "data": {
      "text/html": [
       "<div>\n",
       "<style scoped>\n",
       "    .dataframe tbody tr th:only-of-type {\n",
       "        vertical-align: middle;\n",
       "    }\n",
       "\n",
       "    .dataframe tbody tr th {\n",
       "        vertical-align: top;\n",
       "    }\n",
       "\n",
       "    .dataframe thead th {\n",
       "        text-align: right;\n",
       "    }\n",
       "</style>\n",
       "<table border=\"1\" class=\"dataframe\">\n",
       "  <thead>\n",
       "    <tr style=\"text-align: right;\">\n",
       "      <th></th>\n",
       "      <th>pnl_call</th>\n",
       "      <th>pnl_put</th>\n",
       "    </tr>\n",
       "    <tr>\n",
       "      <th>regime</th>\n",
       "      <th></th>\n",
       "      <th></th>\n",
       "    </tr>\n",
       "  </thead>\n",
       "  <tbody>\n",
       "    <tr>\n",
       "      <th>-1</th>\n",
       "      <td>0.90</td>\n",
       "      <td>-0.54</td>\n",
       "    </tr>\n",
       "    <tr>\n",
       "      <th>1</th>\n",
       "      <td>-0.14</td>\n",
       "      <td>-0.66</td>\n",
       "    </tr>\n",
       "  </tbody>\n",
       "</table>\n",
       "</div>"
      ],
      "text/plain": [
       "        pnl_call  pnl_put\n",
       "regime                   \n",
       "-1          0.90    -0.54\n",
       " 1         -0.14    -0.66"
      ]
     },
     "execution_count": 264,
     "metadata": {},
     "output_type": "execute_result"
    }
   ],
   "source": [
    "df_sbux_algo.groupby(\"regime\")[[\"pnl_call\", \"pnl_put\"]].sum()"
   ]
  },
  {
   "cell_type": "code",
   "execution_count": null,
   "id": "48bc3bd7-203d-47b4-afde-6eb75d9ad23a",
   "metadata": {},
   "outputs": [],
   "source": []
  },
  {
   "cell_type": "markdown",
   "id": "3a159fef-0888-46da-959a-7a37258e2e39",
   "metadata": {
    "tags": []
   },
   "source": [
    "## volatility calc"
   ]
  },
  {
   "cell_type": "code",
   "execution_count": 324,
   "id": "61b57969-3fa5-4e47-b15a-f3c4759a6d83",
   "metadata": {},
   "outputs": [],
   "source": [
    "import scipy.optimize as optimize\n",
    "import math\n",
    "\n",
    "from scipy.stats import norm\n",
    "from datetime import datetime, timedelta"
   ]
  },
  {
   "cell_type": "code",
   "execution_count": 538,
   "id": "e6392c64-8851-4035-ae9d-8da4e4dc2351",
   "metadata": {},
   "outputs": [],
   "source": [
    "def black_scholes(option_type, S, K, t, r, q, sigma):\n",
    "    \"\"\"\n",
    "    Calculate the Black-Scholes option price.\n",
    "\n",
    "    :param option_type: 'call' for call option, 'put' for put option.\n",
    "    :param S: Current stock price.\n",
    "    :param K: Strike price.\n",
    "    :param t: Time to expiration (in years).\n",
    "    :param r: Risk-free interest rate (annualized).\n",
    "    :param q: Dividend yield (annualized).\n",
    "    :param sigma: Stock price volatility (annualized).\n",
    "\n",
    "    :return: Option price.\n",
    "    \"\"\"\n",
    "    d1 = (math.log(S / K) + (r - q + 0.5 * sigma ** 2) * t) / (sigma * math.sqrt(t))\n",
    "    d2 = d1 - sigma * math.sqrt(t)\n",
    "\n",
    "    if option_type == 'call':\n",
    "        return S * math.exp(-q * t) * norm.cdf(d1) - K * math.exp(-r * t) * norm.cdf(d2)\n",
    "    elif option_type == 'put':\n",
    "        return K * math.exp(-r * t) * norm.cdf(-d2) - S * math.exp(-q * t) * norm.cdf(-d1)\n",
    "    else:\n",
    "        raise ValueError(\"Option type must be either 'call' or 'put'.\")\n",
    "        \n",
    "def call_implied_vol(S, K, t, r, option_price):\n",
    "    q = 0.01\n",
    "    option_type = \"call\"\n",
    "\n",
    "    def f_call(sigma):\n",
    "        return black_scholes(option_type, S, K, t, r, q, sigma) - option_price\n",
    "\n",
    "    call_newton_vol = optimize.newton(f_call, x0=0.50, tol=0.05, maxiter=100)\n",
    "    return call_newton_vol\n",
    "\n",
    "def put_implied_vol(S, K, t, r, option_price):\n",
    "    q = 0.01\n",
    "    option_type = \"put\"\n",
    "\n",
    "    def f_put(sigma):\n",
    "        return black_scholes(option_type, S, K, t, r, q, sigma) - option_price\n",
    "\n",
    "    put_newton_vol = optimize.newton(f_put, x0=0.50, tol=0.05, maxiter=100)\n",
    "    return put_newton_vol\n",
    "\n"
   ]
  },
  {
   "cell_type": "code",
   "execution_count": null,
   "id": "b6abf993-16b8-4808-81c0-488ef76a43aa",
   "metadata": {},
   "outputs": [],
   "source": []
  },
  {
   "cell_type": "code",
   "execution_count": null,
   "id": "ada68aa4-edd9-410b-a506-bba184354937",
   "metadata": {},
   "outputs": [],
   "source": []
  },
  {
   "cell_type": "code",
   "execution_count": 551,
   "id": "276d2f7a-c138-42a2-a6b9-a4cb6eeb1a0d",
   "metadata": {},
   "outputs": [],
   "source": [
    "def get_atm_call_volatility(ticker, as_of_date):\n",
    "    quote_timestamp = (pd.to_datetime(as_of_date).tz_localize(\"America/New_York\") + timedelta(hours = 15, minutes = 55)).value\n",
    "    close_timestamp = (pd.to_datetime(as_of_date).tz_localize(\"America/New_York\") + timedelta(hours = 16, minutes = 0)).value    \n",
    "    \n",
    "    calls = pd.json_normalize(requests.get(f\"https://api.polygon.io/v3/reference/options/contracts?underlying_ticker={ticker}&contract_type=call&as_of={as_of_date}&limit=1000&apiKey={polygon_api_key}\").json()[\"results\"])\n",
    "    calls[\"days_to_exp\"] = (pd.to_datetime(calls[\"expiration_date\"]) - pd.to_datetime(as_of_date)).dt.days\n",
    "    #calls = calls[calls[\"days_to_exp\"] >= 5].copy()\n",
    "    nearest_exp_date = calls[\"expiration_date\"].iloc[0]\n",
    "    calls = calls[calls[\"expiration_date\"] == nearest_exp_date].copy()\n",
    "    \n",
    "    df_intraday = polygon_result_to_dataframe(get_polygon_result_dict(\n",
    "        get_polygon_intraday_query_url(ticker, as_of_date)))    \n",
    "    df_market_open_from_intraday = get_df_market_open_from_intraday(df_intraday)\n",
    "    price = df_market_open_from_intraday.loc[as_of_date].c\n",
    "    \n",
    "    calls[\"distance_from_price\"] = abs(round(((calls[\"strike_price\"] - price) / price)*100, 2))\n",
    "\n",
    "    atm_call = calls.nsmallest(1, \"distance_from_price\")\n",
    "    call_quotes = pd.json_normalize(requests.get(f\"https://api.polygon.io/v3/quotes/{atm_call['ticker'].iloc[0]}?timestamp.gte={quote_timestamp}&timestamp.lt={close_timestamp}&order=desc&limit=100&sort=timestamp&apiKey={polygon_api_key}\").json()[\"results\"])\n",
    "    call_quotes = call_quotes.set_index(\"sip_timestamp\")\n",
    "    call_quotes.index = pd.to_datetime(call_quotes.index, unit = \"ns\", utc = True).tz_convert(\"America/New_York\")\n",
    "    call_quotes[\"mid_price\"] = round((call_quotes[\"bid_price\"] + call_quotes[\"ask_price\"]) / 2, 2)    \n",
    "    \n",
    "    time_to_expiration = atm_call.days_to_exp.values[0] / 252\n",
    "    atm_call_vol = call_implied_vol(S=price, K=atm_call[\"strike_price\"].iloc[0], t=time_to_expiration, r=.045, option_price=call_quotes[\"mid_price\"].iloc[0])\n",
    "    \n",
    "    return atm_call_vol"
   ]
  },
  {
   "cell_type": "code",
   "execution_count": 552,
   "id": "c3ba6cb6-0628-4dad-8600-a90c80525c9d",
   "metadata": {},
   "outputs": [],
   "source": [
    "def get_atm_put_volatility(ticker, as_of_date):\n",
    "    quote_timestamp = (pd.to_datetime(as_of_date).tz_localize(\"America/New_York\") + timedelta(hours = 15, minutes = 55)).value\n",
    "    close_timestamp = (pd.to_datetime(as_of_date).tz_localize(\"America/New_York\") + timedelta(hours = 16, minutes = 0)).value    \n",
    "    \n",
    "    puts = pd.json_normalize(requests.get(f\"https://api.polygon.io/v3/reference/options/contracts?underlying_ticker={ticker}&contract_type=put&as_of={as_of_date}&limit=1000&apiKey={polygon_api_key}\").json()[\"results\"])\n",
    "    puts[\"days_to_exp\"] = (pd.to_datetime(puts[\"expiration_date\"]) - pd.to_datetime(as_of_date)).dt.days\n",
    "    nearest_exp_date = puts[\"expiration_date\"].iloc[0]\n",
    "    puts = puts[puts[\"expiration_date\"] == nearest_exp_date].copy()\n",
    "\n",
    "    df_intraday = polygon_result_to_dataframe(get_polygon_result_dict(\n",
    "        get_polygon_intraday_query_url(ticker, as_of_date)))    \n",
    "    df_market_open_from_intraday = get_df_market_open_from_intraday(df_intraday)\n",
    "    price = df_market_open_from_intraday.loc[as_of_date].c\n",
    "    \n",
    "    puts[\"distance_from_price\"] = abs(round(((price - puts[\"strike_price\"]) / puts[\"strike_price\"])*100, 2))\n",
    "    \n",
    "    atm_put = puts.nsmallest(1, \"distance_from_price\")\n",
    "\n",
    "    put_quotes = pd.json_normalize(requests.get(f\"https://api.polygon.io/v3/quotes/{atm_put['ticker'].iloc[0]}?timestamp.gte={quote_timestamp}&timestamp.lt={close_timestamp}&order=desc&limit=100&sort=timestamp&apiKey={polygon_api_key}\").json()[\"results\"]).set_index(\"sip_timestamp\")\n",
    "    put_quotes.index = pd.to_datetime(put_quotes.index, unit = \"ns\", utc = True).tz_convert(\"America/New_York\")\n",
    "    put_quotes[\"mid_price\"] = round((put_quotes[\"bid_price\"] + put_quotes[\"ask_price\"]) / 2, 2)    \n",
    "    \n",
    "    time_to_expiration = atm_call.days_to_exp.values[0] / 252\n",
    "    atm_put_vol = put_implied_vol(S=price, K=atm_put[\"strike_price\"].iloc[0], t=time_to_expiration, r=.045, option_price=put_quotes[\"mid_price\"].iloc[0])    \n",
    "    \n",
    "    return atm_put_vol"
   ]
  },
  {
   "cell_type": "code",
   "execution_count": 553,
   "id": "4903a1e2-1fb3-4e73-a18a-2b75cd59f1a2",
   "metadata": {},
   "outputs": [],
   "source": [
    "def get_atm_volatility(ticker, as_of_date):\n",
    "    atm_call_vol = get_atm_call_volatility(ticker, as_of_date)\n",
    "    atm_put_vol = get_atm_put_volatility(ticker, as_of_date)\n",
    "    atm_vol = round(((atm_call_vol + atm_put_vol) / 2)*100, 2)\n",
    "    return atm_vol"
   ]
  },
  {
   "cell_type": "code",
   "execution_count": null,
   "id": "1af56bd2-296d-4941-91d1-66c0d2a5a397",
   "metadata": {},
   "outputs": [],
   "source": []
  },
  {
   "cell_type": "code",
   "execution_count": 557,
   "id": "0c857d4a-b520-4679-95d4-995f0bea5a46",
   "metadata": {},
   "outputs": [],
   "source": [
    "def get_df_atm_vol_history(ticker):\n",
    "    atm_call_vols = []\n",
    "    dates = []\n",
    "    for date in trading_dates[1:5]:\n",
    "        try:\n",
    "            atm_call_vol = get_atm_call_volatility(ticker, date)\n",
    "        except Exception as ex:\n",
    "            continue\n",
    "        \n",
    "        atm_call_vols.append(atm_call_vol)\n",
    "        dates.append(date)\n",
    "    df = pd.DataFrame({\"atm_call_vol\": atm_call_vols, \"date\": dates}).set_index(\"date\")\n",
    "    return df"
   ]
  },
  {
   "cell_type": "code",
   "execution_count": null,
   "id": "f773b809-c9a2-4d38-a080-3f79215558c3",
   "metadata": {},
   "outputs": [],
   "source": []
  },
  {
   "cell_type": "code",
   "execution_count": 558,
   "id": "7e6a14f8-2925-4043-9d78-9d150a7d5c61",
   "metadata": {},
   "outputs": [
    {
     "data": {
      "text/html": [
       "<div>\n",
       "<style scoped>\n",
       "    .dataframe tbody tr th:only-of-type {\n",
       "        vertical-align: middle;\n",
       "    }\n",
       "\n",
       "    .dataframe tbody tr th {\n",
       "        vertical-align: top;\n",
       "    }\n",
       "\n",
       "    .dataframe thead th {\n",
       "        text-align: right;\n",
       "    }\n",
       "</style>\n",
       "<table border=\"1\" class=\"dataframe\">\n",
       "  <thead>\n",
       "    <tr style=\"text-align: right;\">\n",
       "      <th></th>\n",
       "      <th>ask_exchange</th>\n",
       "      <th>ask_price</th>\n",
       "      <th>ask_size</th>\n",
       "      <th>bid_exchange</th>\n",
       "      <th>bid_price</th>\n",
       "      <th>bid_size</th>\n",
       "      <th>sequence_number</th>\n",
       "      <th>sip_timestamp</th>\n",
       "    </tr>\n",
       "  </thead>\n",
       "  <tbody>\n",
       "    <tr>\n",
       "      <th>99</th>\n",
       "      <td>322</td>\n",
       "      <td>0.02</td>\n",
       "      <td>215</td>\n",
       "      <td>322</td>\n",
       "      <td>0.01</td>\n",
       "      <td>797</td>\n",
       "      <td>543169870</td>\n",
       "      <td>1683299709815101952</td>\n",
       "    </tr>\n",
       "    <tr>\n",
       "      <th>98</th>\n",
       "      <td>322</td>\n",
       "      <td>0.02</td>\n",
       "      <td>216</td>\n",
       "      <td>322</td>\n",
       "      <td>0.01</td>\n",
       "      <td>797</td>\n",
       "      <td>543172112</td>\n",
       "      <td>1683299709840332032</td>\n",
       "    </tr>\n",
       "    <tr>\n",
       "      <th>97</th>\n",
       "      <td>322</td>\n",
       "      <td>0.02</td>\n",
       "      <td>216</td>\n",
       "      <td>322</td>\n",
       "      <td>0.01</td>\n",
       "      <td>765</td>\n",
       "      <td>543194103</td>\n",
       "      <td>1683299710076660736</td>\n",
       "    </tr>\n",
       "    <tr>\n",
       "      <th>96</th>\n",
       "      <td>315</td>\n",
       "      <td>0.01</td>\n",
       "      <td>171</td>\n",
       "      <td>319</td>\n",
       "      <td>0.00</td>\n",
       "      <td>0</td>\n",
       "      <td>555865198</td>\n",
       "      <td>1683299940469775360</td>\n",
       "    </tr>\n",
       "    <tr>\n",
       "      <th>95</th>\n",
       "      <td>322</td>\n",
       "      <td>0.01</td>\n",
       "      <td>209</td>\n",
       "      <td>316</td>\n",
       "      <td>0.00</td>\n",
       "      <td>0</td>\n",
       "      <td>560792565</td>\n",
       "      <td>1683300015520428800</td>\n",
       "    </tr>\n",
       "    <tr>\n",
       "      <th>...</th>\n",
       "      <td>...</td>\n",
       "      <td>...</td>\n",
       "      <td>...</td>\n",
       "      <td>...</td>\n",
       "      <td>...</td>\n",
       "      <td>...</td>\n",
       "      <td>...</td>\n",
       "      <td>...</td>\n",
       "    </tr>\n",
       "    <tr>\n",
       "      <th>4</th>\n",
       "      <td>313</td>\n",
       "      <td>0.01</td>\n",
       "      <td>651</td>\n",
       "      <td>325</td>\n",
       "      <td>0.00</td>\n",
       "      <td>0</td>\n",
       "      <td>1386656538</td>\n",
       "      <td>1683316744345693440</td>\n",
       "    </tr>\n",
       "    <tr>\n",
       "      <th>3</th>\n",
       "      <td>313</td>\n",
       "      <td>0.01</td>\n",
       "      <td>651</td>\n",
       "      <td>319</td>\n",
       "      <td>0.00</td>\n",
       "      <td>0</td>\n",
       "      <td>1387492911</td>\n",
       "      <td>1683316754499890176</td>\n",
       "    </tr>\n",
       "    <tr>\n",
       "      <th>2</th>\n",
       "      <td>313</td>\n",
       "      <td>0.01</td>\n",
       "      <td>664</td>\n",
       "      <td>300</td>\n",
       "      <td>0.00</td>\n",
       "      <td>0</td>\n",
       "      <td>1389358650</td>\n",
       "      <td>1683316775188092160</td>\n",
       "    </tr>\n",
       "    <tr>\n",
       "      <th>1</th>\n",
       "      <td>313</td>\n",
       "      <td>0.01</td>\n",
       "      <td>589</td>\n",
       "      <td>301</td>\n",
       "      <td>0.00</td>\n",
       "      <td>0</td>\n",
       "      <td>1390834328</td>\n",
       "      <td>1683316789284304384</td>\n",
       "    </tr>\n",
       "    <tr>\n",
       "      <th>0</th>\n",
       "      <td>313</td>\n",
       "      <td>0.01</td>\n",
       "      <td>589</td>\n",
       "      <td>319</td>\n",
       "      <td>0.00</td>\n",
       "      <td>0</td>\n",
       "      <td>1391584952</td>\n",
       "      <td>1683316795755294976</td>\n",
       "    </tr>\n",
       "  </tbody>\n",
       "</table>\n",
       "<p>100 rows × 8 columns</p>\n",
       "</div>"
      ],
      "text/plain": [
       "    ask_exchange  ask_price  ask_size  bid_exchange  bid_price  bid_size  \\\n",
       "99           322       0.02       215           322       0.01       797   \n",
       "98           322       0.02       216           322       0.01       797   \n",
       "97           322       0.02       216           322       0.01       765   \n",
       "96           315       0.01       171           319       0.00         0   \n",
       "95           322       0.01       209           316       0.00         0   \n",
       "..           ...        ...       ...           ...        ...       ...   \n",
       "4            313       0.01       651           325       0.00         0   \n",
       "3            313       0.01       651           319       0.00         0   \n",
       "2            313       0.01       664           300       0.00         0   \n",
       "1            313       0.01       589           301       0.00         0   \n",
       "0            313       0.01       589           319       0.00         0   \n",
       "\n",
       "    sequence_number        sip_timestamp  \n",
       "99        543169870  1683299709815101952  \n",
       "98        543172112  1683299709840332032  \n",
       "97        543194103  1683299710076660736  \n",
       "96        555865198  1683299940469775360  \n",
       "95        560792565  1683300015520428800  \n",
       "..              ...                  ...  \n",
       "4        1386656538  1683316744345693440  \n",
       "3        1387492911  1683316754499890176  \n",
       "2        1389358650  1683316775188092160  \n",
       "1        1390834328  1683316789284304384  \n",
       "0        1391584952  1683316795755294976  \n",
       "\n",
       "[100 rows x 8 columns]"
      ]
     },
     "execution_count": 558,
     "metadata": {},
     "output_type": "execute_result"
    }
   ],
   "source": [
    "pd.json_normalize(requests.get(f\"https://api.polygon.io/v3/quotes/O:GOOG230505C00108000?timestamp.gte=1683057300000000000&order=desc&limit=100&sort=timestamp&apiKey={polygon_api_key}\").json()[\"results\"]).sort_values(\"sip_timestamp\")"
   ]
  },
  {
   "cell_type": "code",
   "execution_count": 559,
   "id": "2f234468-fcf8-4488-8850-c6f3131e5234",
   "metadata": {},
   "outputs": [
    {
     "name": "stderr",
     "output_type": "stream",
     "text": [
      "/var/folders/hh/x43xkncs2k7dm7t4vg3lt2cm0000gn/T/ipykernel_96764/247806508.py:15: RuntimeWarning: divide by zero encountered in double_scalars\n",
      "  d1 = (math.log(S / K) + (r - q + 0.5 * sigma ** 2) * t) / (sigma * math.sqrt(t))\n"
     ]
    },
    {
     "data": {
      "text/html": [
       "<div>\n",
       "<style scoped>\n",
       "    .dataframe tbody tr th:only-of-type {\n",
       "        vertical-align: middle;\n",
       "    }\n",
       "\n",
       "    .dataframe tbody tr th {\n",
       "        vertical-align: top;\n",
       "    }\n",
       "\n",
       "    .dataframe thead th {\n",
       "        text-align: right;\n",
       "    }\n",
       "</style>\n",
       "<table border=\"1\" class=\"dataframe\">\n",
       "  <thead>\n",
       "    <tr style=\"text-align: right;\">\n",
       "      <th></th>\n",
       "      <th>atm_call_vol</th>\n",
       "    </tr>\n",
       "    <tr>\n",
       "      <th>date</th>\n",
       "      <th></th>\n",
       "    </tr>\n",
       "  </thead>\n",
       "  <tbody>\n",
       "    <tr>\n",
       "      <th>2023-05-02</th>\n",
       "      <td>0.126841</td>\n",
       "    </tr>\n",
       "    <tr>\n",
       "      <th>2023-05-03</th>\n",
       "      <td>0.245509</td>\n",
       "    </tr>\n",
       "    <tr>\n",
       "      <th>2023-05-04</th>\n",
       "      <td>0.206451</td>\n",
       "    </tr>\n",
       "  </tbody>\n",
       "</table>\n",
       "</div>"
      ],
      "text/plain": [
       "            atm_call_vol\n",
       "date                    \n",
       "2023-05-02      0.126841\n",
       "2023-05-03      0.245509\n",
       "2023-05-04      0.206451"
      ]
     },
     "execution_count": 559,
     "metadata": {},
     "output_type": "execute_result"
    }
   ],
   "source": [
    "get_df_atm_vol_history(ticker)"
   ]
  },
  {
   "cell_type": "code",
   "execution_count": null,
   "id": "a75a87e8-4f5e-4ddb-ab49-87ee13a1b6d5",
   "metadata": {},
   "outputs": [],
   "source": []
  },
  {
   "cell_type": "code",
   "execution_count": null,
   "id": "ae10f241-df45-4963-a473-7c63a75b4d3a",
   "metadata": {},
   "outputs": [],
   "source": []
  },
  {
   "cell_type": "code",
   "execution_count": null,
   "id": "eac558e7-adbf-495b-8581-503e11622a9e",
   "metadata": {},
   "outputs": [],
   "source": []
  },
  {
   "cell_type": "code",
   "execution_count": null,
   "id": "57525c86-6010-44d8-8783-ebb8c50dc417",
   "metadata": {},
   "outputs": [],
   "source": []
  },
  {
   "cell_type": "code",
   "execution_count": 328,
   "id": "4e30ae03-51b5-4d3c-adc1-b362d761ce9b",
   "metadata": {},
   "outputs": [],
   "source": [
    "ticker = \"GOOG\"\n",
    "date = \"2024-06-11\"\n",
    "quote_timestamp = (pd.to_datetime(date).tz_localize(\"America/New_York\") + timedelta(hours = 15, minutes = 55)).value\n",
    "close_timestamp = (pd.to_datetime(date).tz_localize(\"America/New_York\") + timedelta(hours = 16, minutes = 0)).value"
   ]
  },
  {
   "cell_type": "code",
   "execution_count": 347,
   "id": "f905d9f1-1085-47e9-86df-cb6394e0bf3d",
   "metadata": {},
   "outputs": [],
   "source": [
    "price = df_goog_market_open_history.loc[date].c"
   ]
  },
  {
   "cell_type": "code",
   "execution_count": 423,
   "id": "e5b206db-656c-43e0-ba35-4f7bc732eaed",
   "metadata": {},
   "outputs": [],
   "source": [
    "calls = pd.json_normalize(requests.get(f\"https://api.polygon.io/v3/reference/options/contracts?underlying_ticker={ticker}&contract_type=call&as_of={date}&limit=1000&apiKey={polygon_api_key}\").json()[\"results\"])"
   ]
  },
  {
   "cell_type": "code",
   "execution_count": 424,
   "id": "8e440365-6212-483f-9b66-646ca21e017a",
   "metadata": {},
   "outputs": [],
   "source": [
    "calls[\"days_to_exp\"] = (pd.to_datetime(calls[\"expiration_date\"]) - pd.to_datetime(date)).dt.days\n",
    "#calls = calls[calls[\"days_to_exp\"] >= 5].copy()\n",
    "nearest_exp_date = calls[\"expiration_date\"].iloc[0]\n",
    "calls = calls[calls[\"expiration_date\"] == nearest_exp_date].copy()"
   ]
  },
  {
   "cell_type": "code",
   "execution_count": 425,
   "id": "e25e69af-e130-402f-9fb6-e6a75d9b788e",
   "metadata": {},
   "outputs": [
    {
     "data": {
      "text/plain": [
       "'2024-06-14'"
      ]
     },
     "execution_count": 425,
     "metadata": {},
     "output_type": "execute_result"
    }
   ],
   "source": [
    "nearest_exp_date"
   ]
  },
  {
   "cell_type": "code",
   "execution_count": 426,
   "id": "1d004cd0-3883-41ef-b8b5-65d29edda597",
   "metadata": {},
   "outputs": [],
   "source": [
    "calls[\"distance_from_price\"] = abs(round(((calls[\"strike_price\"] - price) / price)*100, 2))"
   ]
  },
  {
   "cell_type": "code",
   "execution_count": 444,
   "id": "7af8cccf-0ce6-4dba-b921-75226e4d18ed",
   "metadata": {},
   "outputs": [
    {
     "data": {
      "text/html": [
       "<div>\n",
       "<style scoped>\n",
       "    .dataframe tbody tr th:only-of-type {\n",
       "        vertical-align: middle;\n",
       "    }\n",
       "\n",
       "    .dataframe tbody tr th {\n",
       "        vertical-align: top;\n",
       "    }\n",
       "\n",
       "    .dataframe thead th {\n",
       "        text-align: right;\n",
       "    }\n",
       "</style>\n",
       "<table border=\"1\" class=\"dataframe\">\n",
       "  <thead>\n",
       "    <tr style=\"text-align: right;\">\n",
       "      <th></th>\n",
       "      <th>cfi</th>\n",
       "      <th>contract_type</th>\n",
       "      <th>exercise_style</th>\n",
       "      <th>expiration_date</th>\n",
       "      <th>primary_exchange</th>\n",
       "      <th>shares_per_contract</th>\n",
       "      <th>strike_price</th>\n",
       "      <th>ticker</th>\n",
       "      <th>underlying_ticker</th>\n",
       "      <th>days_to_exp</th>\n",
       "      <th>distance_from_price</th>\n",
       "    </tr>\n",
       "  </thead>\n",
       "  <tbody>\n",
       "    <tr>\n",
       "      <th>0</th>\n",
       "      <td>OCASPS</td>\n",
       "      <td>call</td>\n",
       "      <td>american</td>\n",
       "      <td>2024-06-14</td>\n",
       "      <td>BATO</td>\n",
       "      <td>100</td>\n",
       "      <td>85.0</td>\n",
       "      <td>O:GOOG240614C00085000</td>\n",
       "      <td>GOOG</td>\n",
       "      <td>3</td>\n",
       "      <td>52.15</td>\n",
       "    </tr>\n",
       "    <tr>\n",
       "      <th>1</th>\n",
       "      <td>OCASPS</td>\n",
       "      <td>call</td>\n",
       "      <td>american</td>\n",
       "      <td>2024-06-14</td>\n",
       "      <td>BATO</td>\n",
       "      <td>100</td>\n",
       "      <td>90.0</td>\n",
       "      <td>O:GOOG240614C00090000</td>\n",
       "      <td>GOOG</td>\n",
       "      <td>3</td>\n",
       "      <td>49.34</td>\n",
       "    </tr>\n",
       "    <tr>\n",
       "      <th>2</th>\n",
       "      <td>OCASPS</td>\n",
       "      <td>call</td>\n",
       "      <td>american</td>\n",
       "      <td>2024-06-14</td>\n",
       "      <td>BATO</td>\n",
       "      <td>100</td>\n",
       "      <td>95.0</td>\n",
       "      <td>O:GOOG240614C00095000</td>\n",
       "      <td>GOOG</td>\n",
       "      <td>3</td>\n",
       "      <td>46.52</td>\n",
       "    </tr>\n",
       "    <tr>\n",
       "      <th>3</th>\n",
       "      <td>OCASPS</td>\n",
       "      <td>call</td>\n",
       "      <td>american</td>\n",
       "      <td>2024-06-14</td>\n",
       "      <td>BATO</td>\n",
       "      <td>100</td>\n",
       "      <td>100.0</td>\n",
       "      <td>O:GOOG240614C00100000</td>\n",
       "      <td>GOOG</td>\n",
       "      <td>3</td>\n",
       "      <td>43.71</td>\n",
       "    </tr>\n",
       "    <tr>\n",
       "      <th>4</th>\n",
       "      <td>OCASPS</td>\n",
       "      <td>call</td>\n",
       "      <td>american</td>\n",
       "      <td>2024-06-14</td>\n",
       "      <td>BATO</td>\n",
       "      <td>100</td>\n",
       "      <td>105.0</td>\n",
       "      <td>O:GOOG240614C00105000</td>\n",
       "      <td>GOOG</td>\n",
       "      <td>3</td>\n",
       "      <td>40.89</td>\n",
       "    </tr>\n",
       "  </tbody>\n",
       "</table>\n",
       "</div>"
      ],
      "text/plain": [
       "      cfi contract_type exercise_style expiration_date primary_exchange  \\\n",
       "0  OCASPS          call       american      2024-06-14             BATO   \n",
       "1  OCASPS          call       american      2024-06-14             BATO   \n",
       "2  OCASPS          call       american      2024-06-14             BATO   \n",
       "3  OCASPS          call       american      2024-06-14             BATO   \n",
       "4  OCASPS          call       american      2024-06-14             BATO   \n",
       "\n",
       "   shares_per_contract  strike_price                 ticker underlying_ticker  \\\n",
       "0                  100          85.0  O:GOOG240614C00085000              GOOG   \n",
       "1                  100          90.0  O:GOOG240614C00090000              GOOG   \n",
       "2                  100          95.0  O:GOOG240614C00095000              GOOG   \n",
       "3                  100         100.0  O:GOOG240614C00100000              GOOG   \n",
       "4                  100         105.0  O:GOOG240614C00105000              GOOG   \n",
       "\n",
       "   days_to_exp  distance_from_price  \n",
       "0            3                52.15  \n",
       "1            3                49.34  \n",
       "2            3                46.52  \n",
       "3            3                43.71  \n",
       "4            3                40.89  "
      ]
     },
     "execution_count": 444,
     "metadata": {},
     "output_type": "execute_result"
    }
   ],
   "source": [
    "calls.head()"
   ]
  },
  {
   "cell_type": "code",
   "execution_count": 428,
   "id": "84f1375d-8704-41c3-a5e1-1f55f5947e45",
   "metadata": {},
   "outputs": [],
   "source": [
    "atm_call = calls.nsmallest(1, \"distance_from_price\")"
   ]
  },
  {
   "cell_type": "code",
   "execution_count": 429,
   "id": "d729c0fc-f1d2-4b53-83ff-35976be69c86",
   "metadata": {},
   "outputs": [
    {
     "data": {
      "text/html": [
       "<div>\n",
       "<style scoped>\n",
       "    .dataframe tbody tr th:only-of-type {\n",
       "        vertical-align: middle;\n",
       "    }\n",
       "\n",
       "    .dataframe tbody tr th {\n",
       "        vertical-align: top;\n",
       "    }\n",
       "\n",
       "    .dataframe thead th {\n",
       "        text-align: right;\n",
       "    }\n",
       "</style>\n",
       "<table border=\"1\" class=\"dataframe\">\n",
       "  <thead>\n",
       "    <tr style=\"text-align: right;\">\n",
       "      <th></th>\n",
       "      <th>cfi</th>\n",
       "      <th>contract_type</th>\n",
       "      <th>exercise_style</th>\n",
       "      <th>expiration_date</th>\n",
       "      <th>primary_exchange</th>\n",
       "      <th>shares_per_contract</th>\n",
       "      <th>strike_price</th>\n",
       "      <th>ticker</th>\n",
       "      <th>underlying_ticker</th>\n",
       "      <th>days_to_exp</th>\n",
       "      <th>distance_from_price</th>\n",
       "    </tr>\n",
       "  </thead>\n",
       "  <tbody>\n",
       "    <tr>\n",
       "      <th>27</th>\n",
       "      <td>OCASPS</td>\n",
       "      <td>call</td>\n",
       "      <td>american</td>\n",
       "      <td>2024-06-14</td>\n",
       "      <td>BATO</td>\n",
       "      <td>100</td>\n",
       "      <td>177.5</td>\n",
       "      <td>O:GOOG240614C00177500</td>\n",
       "      <td>GOOG</td>\n",
       "      <td>3</td>\n",
       "      <td>0.08</td>\n",
       "    </tr>\n",
       "  </tbody>\n",
       "</table>\n",
       "</div>"
      ],
      "text/plain": [
       "       cfi contract_type exercise_style expiration_date primary_exchange  \\\n",
       "27  OCASPS          call       american      2024-06-14             BATO   \n",
       "\n",
       "    shares_per_contract  strike_price                 ticker  \\\n",
       "27                  100         177.5  O:GOOG240614C00177500   \n",
       "\n",
       "   underlying_ticker  days_to_exp  distance_from_price  \n",
       "27              GOOG            3                 0.08  "
      ]
     },
     "execution_count": 429,
     "metadata": {},
     "output_type": "execute_result"
    }
   ],
   "source": [
    "atm_call"
   ]
  },
  {
   "cell_type": "code",
   "execution_count": 430,
   "id": "d83f8ccf-1930-4740-98ca-e52287161e48",
   "metadata": {},
   "outputs": [],
   "source": [
    "call_quotes = pd.json_normalize(requests.get(f\"https://api.polygon.io/v3/quotes/{atm_call['ticker'].iloc[0]}?timestamp.gte={quote_timestamp}&timestamp.lt={close_timestamp}&order=desc&limit=100&sort=timestamp&apiKey={polygon_api_key}\").json()[\"results\"]).set_index(\"sip_timestamp\")\n",
    "call_quotes.index = pd.to_datetime(call_quotes.index, unit = \"ns\", utc = True).tz_convert(\"America/New_York\")\n",
    "call_quotes[\"mid_price\"] = round((call_quotes[\"bid_price\"] + call_quotes[\"ask_price\"]) / 2, 2)"
   ]
  },
  {
   "cell_type": "code",
   "execution_count": 432,
   "id": "3af0809b-5578-4729-8d51-3e4a0684beaf",
   "metadata": {},
   "outputs": [],
   "source": [
    "time_to_expiration = atm_call.days_to_exp.values[0] / 252"
   ]
  },
  {
   "cell_type": "code",
   "execution_count": 433,
   "id": "233a8189-54b6-4276-9bfe-0d16f7192c44",
   "metadata": {},
   "outputs": [],
   "source": [
    "atm_call_vol = call_implied_vol(S=price, K=atm_call[\"strike_price\"].iloc[0], t=time_to_expiration, r=.045, option_price=call_quotes[\"mid_price\"].iloc[0])"
   ]
  },
  {
   "cell_type": "code",
   "execution_count": 434,
   "id": "f848cb71-fc46-4aee-a520-0d1af710dbd9",
   "metadata": {},
   "outputs": [
    {
     "data": {
      "text/plain": [
       "0.240868986287512"
      ]
     },
     "execution_count": 434,
     "metadata": {},
     "output_type": "execute_result"
    }
   ],
   "source": [
    "atm_call_vol"
   ]
  },
  {
   "cell_type": "code",
   "execution_count": null,
   "id": "fdd54e00-93ba-4923-a7e6-b25b0b7b9a35",
   "metadata": {},
   "outputs": [],
   "source": []
  },
  {
   "cell_type": "code",
   "execution_count": null,
   "id": "1bec91ed-e4c8-4481-b55f-373995ae25d4",
   "metadata": {},
   "outputs": [],
   "source": []
  },
  {
   "cell_type": "code",
   "execution_count": null,
   "id": "bb109466-7579-4a66-94fc-fa219f0e22db",
   "metadata": {},
   "outputs": [],
   "source": [
    "puts = pd.json_normalize(requests.get(f\"https://api.polygon.io/v3/reference/options/contracts?underlying_ticker={ticker}&contract_type=put&as_of={date}&limit=1000&apiKey={polygon_api_key}\").json()[\"results\"])\n",
    "puts[\"days_to_exp\"] = (pd.to_datetime(puts[\"expiration_date\"]) - pd.to_datetime(date)).dt.days\n",
    "puts = puts[puts[\"expiration_date\"] == nearest_exp_date].copy()\n",
    "puts[\"distance_from_price\"] = abs(round(((price - puts[\"strike_price\"]) / puts[\"strike_price\"])*100, 2))\n",
    "atm_put = puts.nsmallest(1, \"distance_from_price\")"
   ]
  },
  {
   "cell_type": "code",
   "execution_count": null,
   "id": "bdee9c5a-286f-44c0-93c9-11614fc3eb3c",
   "metadata": {},
   "outputs": [],
   "source": []
  },
  {
   "cell_type": "code",
   "execution_count": null,
   "id": "47473ff0-d430-4a3b-a3d0-38364c6121eb",
   "metadata": {},
   "outputs": [],
   "source": []
  },
  {
   "cell_type": "code",
   "execution_count": null,
   "id": "636bc768-8c7d-4a2c-a937-45acd8f90a69",
   "metadata": {},
   "outputs": [],
   "source": []
  },
  {
   "cell_type": "code",
   "execution_count": 435,
   "id": "ca0ebeb2-567a-4498-948f-d08cbb5384f2",
   "metadata": {},
   "outputs": [],
   "source": [
    "puts = pd.json_normalize(requests.get(f\"https://api.polygon.io/v3/reference/options/contracts?underlying_ticker={ticker}&contract_type=put&as_of={date}&limit=1000&apiKey={polygon_api_key}\").json()[\"results\"])"
   ]
  },
  {
   "cell_type": "code",
   "execution_count": 436,
   "id": "4a52c889-9f95-4b07-ba9e-0ddceba03ddf",
   "metadata": {},
   "outputs": [],
   "source": [
    "puts[\"days_to_exp\"] = (pd.to_datetime(puts[\"expiration_date\"]) - pd.to_datetime(date)).dt.days\n",
    "puts = puts[puts[\"expiration_date\"] == nearest_exp_date].copy()"
   ]
  },
  {
   "cell_type": "code",
   "execution_count": 437,
   "id": "a5e5f728-f421-4450-aef7-7c4448fd852a",
   "metadata": {},
   "outputs": [],
   "source": [
    "puts[\"distance_from_price\"] = abs(round(((price - puts[\"strike_price\"]) / puts[\"strike_price\"])*100, 2))"
   ]
  },
  {
   "cell_type": "code",
   "execution_count": 438,
   "id": "55113aab-1174-41a7-9a5b-3432f3f85980",
   "metadata": {},
   "outputs": [],
   "source": [
    "atm_put = puts.nsmallest(1, \"distance_from_price\")"
   ]
  },
  {
   "cell_type": "code",
   "execution_count": 439,
   "id": "4884f088-84e1-494c-85bf-d8c32edb5064",
   "metadata": {},
   "outputs": [
    {
     "data": {
      "text/html": [
       "<div>\n",
       "<style scoped>\n",
       "    .dataframe tbody tr th:only-of-type {\n",
       "        vertical-align: middle;\n",
       "    }\n",
       "\n",
       "    .dataframe tbody tr th {\n",
       "        vertical-align: top;\n",
       "    }\n",
       "\n",
       "    .dataframe thead th {\n",
       "        text-align: right;\n",
       "    }\n",
       "</style>\n",
       "<table border=\"1\" class=\"dataframe\">\n",
       "  <thead>\n",
       "    <tr style=\"text-align: right;\">\n",
       "      <th></th>\n",
       "      <th>cfi</th>\n",
       "      <th>contract_type</th>\n",
       "      <th>exercise_style</th>\n",
       "      <th>expiration_date</th>\n",
       "      <th>primary_exchange</th>\n",
       "      <th>shares_per_contract</th>\n",
       "      <th>strike_price</th>\n",
       "      <th>ticker</th>\n",
       "      <th>underlying_ticker</th>\n",
       "      <th>days_to_exp</th>\n",
       "      <th>distance_from_price</th>\n",
       "    </tr>\n",
       "  </thead>\n",
       "  <tbody>\n",
       "    <tr>\n",
       "      <th>27</th>\n",
       "      <td>OPASPS</td>\n",
       "      <td>put</td>\n",
       "      <td>american</td>\n",
       "      <td>2024-06-14</td>\n",
       "      <td>BATO</td>\n",
       "      <td>100</td>\n",
       "      <td>177.5</td>\n",
       "      <td>O:GOOG240614P00177500</td>\n",
       "      <td>GOOG</td>\n",
       "      <td>3</td>\n",
       "      <td>0.08</td>\n",
       "    </tr>\n",
       "  </tbody>\n",
       "</table>\n",
       "</div>"
      ],
      "text/plain": [
       "       cfi contract_type exercise_style expiration_date primary_exchange  \\\n",
       "27  OPASPS           put       american      2024-06-14             BATO   \n",
       "\n",
       "    shares_per_contract  strike_price                 ticker  \\\n",
       "27                  100         177.5  O:GOOG240614P00177500   \n",
       "\n",
       "   underlying_ticker  days_to_exp  distance_from_price  \n",
       "27              GOOG            3                 0.08  "
      ]
     },
     "execution_count": 439,
     "metadata": {},
     "output_type": "execute_result"
    }
   ],
   "source": [
    "atm_put"
   ]
  },
  {
   "cell_type": "code",
   "execution_count": 440,
   "id": "63eed408-038a-4064-a9f1-8b5bc0e4cc56",
   "metadata": {},
   "outputs": [],
   "source": [
    "put_quotes = pd.json_normalize(requests.get(f\"https://api.polygon.io/v3/quotes/{atm_put['ticker'].iloc[0]}?timestamp.gte={quote_timestamp}&timestamp.lt={close_timestamp}&order=desc&limit=100&sort=timestamp&apiKey={polygon_api_key}\").json()[\"results\"]).set_index(\"sip_timestamp\")\n",
    "put_quotes.index = pd.to_datetime(put_quotes.index, unit = \"ns\", utc = True).tz_convert(\"America/New_York\")\n",
    "put_quotes[\"mid_price\"] = round((put_quotes[\"bid_price\"] + put_quotes[\"ask_price\"]) / 2, 2)"
   ]
  },
  {
   "cell_type": "code",
   "execution_count": 441,
   "id": "4f8eb66d-bd35-4444-a5f5-d53593200419",
   "metadata": {},
   "outputs": [],
   "source": [
    "atm_put_vol = put_implied_vol(S=price, K=atm_put[\"strike_price\"].iloc[0], t=time_to_expiration, r=.045, option_price=put_quotes[\"mid_price\"].iloc[0])"
   ]
  },
  {
   "cell_type": "code",
   "execution_count": 442,
   "id": "591f11f3-ca34-431c-ba73-66000dcf272f",
   "metadata": {},
   "outputs": [
    {
     "data": {
      "text/plain": [
       "0.1921287338318709"
      ]
     },
     "execution_count": 442,
     "metadata": {},
     "output_type": "execute_result"
    }
   ],
   "source": [
    "atm_put_vol"
   ]
  },
  {
   "cell_type": "code",
   "execution_count": null,
   "id": "49c29a0e-2c2f-4b1a-92c3-c7afb0082b20",
   "metadata": {},
   "outputs": [],
   "source": []
  },
  {
   "cell_type": "code",
   "execution_count": 443,
   "id": "48261b07-03e9-4e91-9592-0e652b96120b",
   "metadata": {},
   "outputs": [],
   "source": [
    "atm_vol = round(((atm_call_vol + atm_put_vol) / 2)*100, 2)\n",
    "expected_move = (round((atm_vol / np.sqrt(252)), 2))"
   ]
  },
  {
   "cell_type": "code",
   "execution_count": null,
   "id": "b654e528-a498-4374-9e5b-f7e7dd7287fb",
   "metadata": {},
   "outputs": [],
   "source": []
  },
  {
   "cell_type": "code",
   "execution_count": null,
   "id": "9ef04eca-7e92-486f-acd1-6e9e6ae87524",
   "metadata": {},
   "outputs": [],
   "source": []
  },
  {
   "cell_type": "code",
   "execution_count": null,
   "id": "1ceed7bc-c7b3-47b9-8d90-93f5fc4f5811",
   "metadata": {},
   "outputs": [],
   "source": []
  },
  {
   "cell_type": "code",
   "execution_count": null,
   "id": "b99f45d0-01d9-4036-8a1d-bf9943687104",
   "metadata": {},
   "outputs": [],
   "source": [
    "\n",
    "end_time = datetime.now()\n",
    "seconds_to_complete = (end_time - start_time).total_seconds()\n",
    "times.append(seconds_to_complete)\n",
    "iteration = round((np.where(trading_dates==date)[0][0]/len(trading_dates))*100,2)\n",
    "iterations_remaining = len(trading_dates) - np.where(trading_dates==date)[0][0]\n",
    "average_time_to_complete = np.mean(times)\n",
    "estimated_completion_time = (datetime.now() + timedelta(seconds = int(average_time_to_complete*iterations_remaining)))\n",
    "time_remaining = estimated_completion_time - datetime.now()\n",
    "print(f\"{iteration}% complete, {time_remaining} left, ETA: {estimated_completion_time}\")\n"
   ]
  },
  {
   "cell_type": "code",
   "execution_count": null,
   "id": "6af53915-7661-41e0-b93e-0e8632f7caa6",
   "metadata": {},
   "outputs": [],
   "source": []
  }
 ],
 "metadata": {
  "kernelspec": {
   "display_name": "Python 3 (ipykernel)",
   "language": "python",
   "name": "python3"
  },
  "language_info": {
   "codemirror_mode": {
    "name": "ipython",
    "version": 3
   },
   "file_extension": ".py",
   "mimetype": "text/x-python",
   "name": "python",
   "nbconvert_exporter": "python",
   "pygments_lexer": "ipython3",
   "version": "3.9.6"
  }
 },
 "nbformat": 4,
 "nbformat_minor": 5
}
